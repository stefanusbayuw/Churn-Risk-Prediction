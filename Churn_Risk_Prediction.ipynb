{
  "nbformat": 4,
  "nbformat_minor": 0,
  "metadata": {
    "colab": {
      "provenance": [],
      "collapsed_sections": [
        "zHJ1ouh1hwbt"
      ],
      "toc_visible": true
    },
    "kernelspec": {
      "name": "python3",
      "display_name": "Python 3"
    },
    "language_info": {
      "name": "python"
    }
  },
  "cells": [
    {
      "cell_type": "markdown",
      "source": [
        "# PERKENALAN"
      ],
      "metadata": {
        "id": "eoq_Yta2SyI0"
      }
    },
    {
      "cell_type": "markdown",
      "source": [
        "> Dataset yang digunakan adalah dataset pada Google Big Query, dataset  `ml_datasets` dari database bernama `credit_card_default`.\n",
        "\n",
        "> Data yang digunakan merupakan data mengenai nasabah credit card yang berisi data mengenai nasabah atau pengguna credit card yang berupa limit transaksi, data pribadi nasabah, tagihan tunggakan credit card dan juga pembayaran tunggakan.\n",
        "\n",
        "> Problem statement yang dapat diambil mengenai pembayaran tunggakan pada bulan selanjutnya. Apakah masih terdapat tunggakan atau tidak."
      ],
      "metadata": {
        "id": "1UQHMJ2CS1Bk"
      }
    },
    {
      "cell_type": "markdown",
      "source": [
        "## Query SQL"
      ],
      "metadata": {
        "id": "2iG9urfaUllE"
      }
    },
    {
      "cell_type": "markdown",
      "source": [
        "```SELECT limit_balance, sex, education_level, marital_status, age, pay_0, pay_2, pay_3, pay_4, pay_5, pay_6, bill_amt_1, bill_amt_2, bill_amt_3, bill_amt_4, bill_amt_5, bill_amt_6, pay_amt_1, pay_amt_2, pay_amt_3, pay_amt_4, pay_amt_5, pay_amt_6, default_payment_next_month \n",
        "FROM bigquery-public-data.ml_datasets.credit_card_default```"
      ],
      "metadata": {
        "id": "Nj-DookKUowE"
      }
    },
    {
      "cell_type": "markdown",
      "source": [
        "> Query SQl digunakan untuk mengambil data dari Google Big Query sesuai dengan parameter data yang ditentukan pada perintah Milestone 1."
      ],
      "metadata": {
        "id": "PBGcAl_HUwX6"
      }
    },
    {
      "cell_type": "markdown",
      "source": [
        "# Import Libraries"
      ],
      "metadata": {
        "id": "uGJKaUTQVAj-"
      }
    },
    {
      "cell_type": "code",
      "execution_count": 144,
      "metadata": {
        "id": "e1fMTLqmShEo"
      },
      "outputs": [],
      "source": [
        "# Import Libraries\n",
        "\n",
        "import numpy as np\n",
        "import pandas as pd\n",
        "import seaborn as sns\n",
        "import matplotlib.pyplot as plt\n",
        "\n",
        "from sklearn.model_selection import train_test_split\n",
        "from sklearn.preprocessing import MinMaxScaler, StandardScaler\n",
        "from sklearn.ensemble import RandomForestClassifier\n",
        "from sklearn.svm import SVC\n",
        "from sklearn import linear_model\n",
        "from sklearn.linear_model import LogisticRegression\n",
        "from sklearn.tree import DecisionTreeClassifier\n",
        "from sklearn.naive_bayes import GaussianNB\n",
        "from sklearn.neighbors import KNeighborsClassifier\n",
        "from sklearn.metrics import confusion_matrix, classification_report, precision_score, recall_score, accuracy_score, f1_score, ConfusionMatrixDisplay\n",
        "from sklearn.model_selection import cross_val_score\n",
        "from sklearn.model_selection import GridSearchCV, RandomizedSearchCV\n",
        "\n",
        "import joblib\n",
        "import json"
      ]
    },
    {
      "cell_type": "markdown",
      "source": [
        "# Data Loading"
      ],
      "metadata": {
        "id": "ugpib2_MVnIm"
      }
    },
    {
      "cell_type": "code",
      "source": [
        "# Loading Data\n",
        "\n",
        "data = pd.read_csv('h8dsft_P1M1_STEFANUS_BAYU_W.csv')"
      ],
      "metadata": {
        "id": "ZvYYKSGCVsCX"
      },
      "execution_count": 2,
      "outputs": []
    },
    {
      "cell_type": "code",
      "source": [
        "data['pay_5'] = data['pay_5'].astype('float64')\n",
        "data['pay_6'] = data['pay_6'].astype('float64')"
      ],
      "metadata": {
        "id": "G9NIY0oHWAW9"
      },
      "execution_count": 3,
      "outputs": []
    },
    {
      "cell_type": "code",
      "source": [
        "# Tampilkan 10 data paling atas\n",
        "\n",
        "data.head(10)"
      ],
      "metadata": {
        "colab": {
          "base_uri": "https://localhost:8080/",
          "height": 456
        },
        "id": "I9fg9gxXWQk4",
        "outputId": "2ebe4345-bb2d-442e-ae53-eff21de16307"
      },
      "execution_count": 4,
      "outputs": [
        {
          "output_type": "execute_result",
          "data": {
            "text/plain": [
              "   limit_balance  sex  education_level  marital_status   age  pay_0  pay_2  \\\n",
              "0       200000.0    1                4               1  49.0    0.0    0.0   \n",
              "1       260000.0    2                4               2  33.0    0.0    0.0   \n",
              "2       150000.0    1                4               2  32.0    0.0    0.0   \n",
              "3       300000.0    2                4               2  32.0    0.0    0.0   \n",
              "4       130000.0    1                1               1  45.0    0.0    0.0   \n",
              "5       200000.0    1                1               1  58.0    0.0    0.0   \n",
              "6       500000.0    1                1               1  39.0    0.0    0.0   \n",
              "7       230000.0    1                1               1  48.0    0.0    0.0   \n",
              "8       460000.0    1                1               1  49.0    0.0    0.0   \n",
              "9       780000.0    1                1               1  48.0    0.0    0.0   \n",
              "\n",
              "   pay_3  pay_4  pay_5  ...  bill_amt_4  bill_amt_5  bill_amt_6  pay_amt_1  \\\n",
              "0    0.0    0.0    0.0  ...     50146.0     50235.0     48984.0     1689.0   \n",
              "1    0.0    0.0    0.0  ...     27821.0     30767.0     29890.0     5000.0   \n",
              "2    0.0   -1.0    0.0  ...    150464.0    143375.0    146411.0     4019.0   \n",
              "3    0.0    0.0    0.0  ...     65150.0      -450.0       700.0    15235.0   \n",
              "4    0.0    0.0    0.0  ...     62377.0     63832.0     65099.0     2886.0   \n",
              "5    0.0    0.0    0.0  ...    124647.0    126921.0    129167.0     7822.0   \n",
              "6    0.0    0.0    0.0  ...    174500.0    137406.0    204975.0    54209.0   \n",
              "7    0.0    0.0    0.0  ...    105508.0    108101.0    110094.0     7000.0   \n",
              "8    0.0    0.0    0.0  ...    291616.0    289529.0    289449.0    13200.0   \n",
              "9    0.0    0.0    0.0  ...    195124.0    184872.0    191090.0    10000.0   \n",
              "\n",
              "   pay_amt_2  pay_amt_3  pay_amt_4  pay_amt_5  pay_amt_6  \\\n",
              "0     2164.0     2500.0     3480.0     2500.0     3000.0   \n",
              "1     5000.0     1137.0     5000.0     1085.0     5000.0   \n",
              "2   146896.0   157436.0     4600.0     4709.0     5600.0   \n",
              "3     1491.0     1303.0        0.0     2000.0     1400.0   \n",
              "4     2908.0     2129.0     2354.0     2366.0     2291.0   \n",
              "5     4417.0     4446.0     4597.0     4677.0     4698.0   \n",
              "6     4607.0     4603.0     5224.0   207440.0     7509.0   \n",
              "7     6607.0     3773.0     4290.0     4164.0     2000.0   \n",
              "8    14000.0    11500.0    10500.0    10500.0    10000.0   \n",
              "9    15004.0    10000.0     8000.0    10028.0     7003.0   \n",
              "\n",
              "   default_payment_next_month  \n",
              "0                           0  \n",
              "1                           0  \n",
              "2                           0  \n",
              "3                           0  \n",
              "4                           0  \n",
              "5                           0  \n",
              "6                           0  \n",
              "7                           0  \n",
              "8                           0  \n",
              "9                           0  \n",
              "\n",
              "[10 rows x 24 columns]"
            ],
            "text/html": [
              "\n",
              "  <div id=\"df-75a439aa-eec7-4123-bae5-2b75f860e46b\">\n",
              "    <div class=\"colab-df-container\">\n",
              "      <div>\n",
              "<style scoped>\n",
              "    .dataframe tbody tr th:only-of-type {\n",
              "        vertical-align: middle;\n",
              "    }\n",
              "\n",
              "    .dataframe tbody tr th {\n",
              "        vertical-align: top;\n",
              "    }\n",
              "\n",
              "    .dataframe thead th {\n",
              "        text-align: right;\n",
              "    }\n",
              "</style>\n",
              "<table border=\"1\" class=\"dataframe\">\n",
              "  <thead>\n",
              "    <tr style=\"text-align: right;\">\n",
              "      <th></th>\n",
              "      <th>limit_balance</th>\n",
              "      <th>sex</th>\n",
              "      <th>education_level</th>\n",
              "      <th>marital_status</th>\n",
              "      <th>age</th>\n",
              "      <th>pay_0</th>\n",
              "      <th>pay_2</th>\n",
              "      <th>pay_3</th>\n",
              "      <th>pay_4</th>\n",
              "      <th>pay_5</th>\n",
              "      <th>...</th>\n",
              "      <th>bill_amt_4</th>\n",
              "      <th>bill_amt_5</th>\n",
              "      <th>bill_amt_6</th>\n",
              "      <th>pay_amt_1</th>\n",
              "      <th>pay_amt_2</th>\n",
              "      <th>pay_amt_3</th>\n",
              "      <th>pay_amt_4</th>\n",
              "      <th>pay_amt_5</th>\n",
              "      <th>pay_amt_6</th>\n",
              "      <th>default_payment_next_month</th>\n",
              "    </tr>\n",
              "  </thead>\n",
              "  <tbody>\n",
              "    <tr>\n",
              "      <th>0</th>\n",
              "      <td>200000.0</td>\n",
              "      <td>1</td>\n",
              "      <td>4</td>\n",
              "      <td>1</td>\n",
              "      <td>49.0</td>\n",
              "      <td>0.0</td>\n",
              "      <td>0.0</td>\n",
              "      <td>0.0</td>\n",
              "      <td>0.0</td>\n",
              "      <td>0.0</td>\n",
              "      <td>...</td>\n",
              "      <td>50146.0</td>\n",
              "      <td>50235.0</td>\n",
              "      <td>48984.0</td>\n",
              "      <td>1689.0</td>\n",
              "      <td>2164.0</td>\n",
              "      <td>2500.0</td>\n",
              "      <td>3480.0</td>\n",
              "      <td>2500.0</td>\n",
              "      <td>3000.0</td>\n",
              "      <td>0</td>\n",
              "    </tr>\n",
              "    <tr>\n",
              "      <th>1</th>\n",
              "      <td>260000.0</td>\n",
              "      <td>2</td>\n",
              "      <td>4</td>\n",
              "      <td>2</td>\n",
              "      <td>33.0</td>\n",
              "      <td>0.0</td>\n",
              "      <td>0.0</td>\n",
              "      <td>0.0</td>\n",
              "      <td>0.0</td>\n",
              "      <td>0.0</td>\n",
              "      <td>...</td>\n",
              "      <td>27821.0</td>\n",
              "      <td>30767.0</td>\n",
              "      <td>29890.0</td>\n",
              "      <td>5000.0</td>\n",
              "      <td>5000.0</td>\n",
              "      <td>1137.0</td>\n",
              "      <td>5000.0</td>\n",
              "      <td>1085.0</td>\n",
              "      <td>5000.0</td>\n",
              "      <td>0</td>\n",
              "    </tr>\n",
              "    <tr>\n",
              "      <th>2</th>\n",
              "      <td>150000.0</td>\n",
              "      <td>1</td>\n",
              "      <td>4</td>\n",
              "      <td>2</td>\n",
              "      <td>32.0</td>\n",
              "      <td>0.0</td>\n",
              "      <td>0.0</td>\n",
              "      <td>0.0</td>\n",
              "      <td>-1.0</td>\n",
              "      <td>0.0</td>\n",
              "      <td>...</td>\n",
              "      <td>150464.0</td>\n",
              "      <td>143375.0</td>\n",
              "      <td>146411.0</td>\n",
              "      <td>4019.0</td>\n",
              "      <td>146896.0</td>\n",
              "      <td>157436.0</td>\n",
              "      <td>4600.0</td>\n",
              "      <td>4709.0</td>\n",
              "      <td>5600.0</td>\n",
              "      <td>0</td>\n",
              "    </tr>\n",
              "    <tr>\n",
              "      <th>3</th>\n",
              "      <td>300000.0</td>\n",
              "      <td>2</td>\n",
              "      <td>4</td>\n",
              "      <td>2</td>\n",
              "      <td>32.0</td>\n",
              "      <td>0.0</td>\n",
              "      <td>0.0</td>\n",
              "      <td>0.0</td>\n",
              "      <td>0.0</td>\n",
              "      <td>0.0</td>\n",
              "      <td>...</td>\n",
              "      <td>65150.0</td>\n",
              "      <td>-450.0</td>\n",
              "      <td>700.0</td>\n",
              "      <td>15235.0</td>\n",
              "      <td>1491.0</td>\n",
              "      <td>1303.0</td>\n",
              "      <td>0.0</td>\n",
              "      <td>2000.0</td>\n",
              "      <td>1400.0</td>\n",
              "      <td>0</td>\n",
              "    </tr>\n",
              "    <tr>\n",
              "      <th>4</th>\n",
              "      <td>130000.0</td>\n",
              "      <td>1</td>\n",
              "      <td>1</td>\n",
              "      <td>1</td>\n",
              "      <td>45.0</td>\n",
              "      <td>0.0</td>\n",
              "      <td>0.0</td>\n",
              "      <td>0.0</td>\n",
              "      <td>0.0</td>\n",
              "      <td>0.0</td>\n",
              "      <td>...</td>\n",
              "      <td>62377.0</td>\n",
              "      <td>63832.0</td>\n",
              "      <td>65099.0</td>\n",
              "      <td>2886.0</td>\n",
              "      <td>2908.0</td>\n",
              "      <td>2129.0</td>\n",
              "      <td>2354.0</td>\n",
              "      <td>2366.0</td>\n",
              "      <td>2291.0</td>\n",
              "      <td>0</td>\n",
              "    </tr>\n",
              "    <tr>\n",
              "      <th>5</th>\n",
              "      <td>200000.0</td>\n",
              "      <td>1</td>\n",
              "      <td>1</td>\n",
              "      <td>1</td>\n",
              "      <td>58.0</td>\n",
              "      <td>0.0</td>\n",
              "      <td>0.0</td>\n",
              "      <td>0.0</td>\n",
              "      <td>0.0</td>\n",
              "      <td>0.0</td>\n",
              "      <td>...</td>\n",
              "      <td>124647.0</td>\n",
              "      <td>126921.0</td>\n",
              "      <td>129167.0</td>\n",
              "      <td>7822.0</td>\n",
              "      <td>4417.0</td>\n",
              "      <td>4446.0</td>\n",
              "      <td>4597.0</td>\n",
              "      <td>4677.0</td>\n",
              "      <td>4698.0</td>\n",
              "      <td>0</td>\n",
              "    </tr>\n",
              "    <tr>\n",
              "      <th>6</th>\n",
              "      <td>500000.0</td>\n",
              "      <td>1</td>\n",
              "      <td>1</td>\n",
              "      <td>1</td>\n",
              "      <td>39.0</td>\n",
              "      <td>0.0</td>\n",
              "      <td>0.0</td>\n",
              "      <td>0.0</td>\n",
              "      <td>0.0</td>\n",
              "      <td>0.0</td>\n",
              "      <td>...</td>\n",
              "      <td>174500.0</td>\n",
              "      <td>137406.0</td>\n",
              "      <td>204975.0</td>\n",
              "      <td>54209.0</td>\n",
              "      <td>4607.0</td>\n",
              "      <td>4603.0</td>\n",
              "      <td>5224.0</td>\n",
              "      <td>207440.0</td>\n",
              "      <td>7509.0</td>\n",
              "      <td>0</td>\n",
              "    </tr>\n",
              "    <tr>\n",
              "      <th>7</th>\n",
              "      <td>230000.0</td>\n",
              "      <td>1</td>\n",
              "      <td>1</td>\n",
              "      <td>1</td>\n",
              "      <td>48.0</td>\n",
              "      <td>0.0</td>\n",
              "      <td>0.0</td>\n",
              "      <td>0.0</td>\n",
              "      <td>0.0</td>\n",
              "      <td>0.0</td>\n",
              "      <td>...</td>\n",
              "      <td>105508.0</td>\n",
              "      <td>108101.0</td>\n",
              "      <td>110094.0</td>\n",
              "      <td>7000.0</td>\n",
              "      <td>6607.0</td>\n",
              "      <td>3773.0</td>\n",
              "      <td>4290.0</td>\n",
              "      <td>4164.0</td>\n",
              "      <td>2000.0</td>\n",
              "      <td>0</td>\n",
              "    </tr>\n",
              "    <tr>\n",
              "      <th>8</th>\n",
              "      <td>460000.0</td>\n",
              "      <td>1</td>\n",
              "      <td>1</td>\n",
              "      <td>1</td>\n",
              "      <td>49.0</td>\n",
              "      <td>0.0</td>\n",
              "      <td>0.0</td>\n",
              "      <td>0.0</td>\n",
              "      <td>0.0</td>\n",
              "      <td>0.0</td>\n",
              "      <td>...</td>\n",
              "      <td>291616.0</td>\n",
              "      <td>289529.0</td>\n",
              "      <td>289449.0</td>\n",
              "      <td>13200.0</td>\n",
              "      <td>14000.0</td>\n",
              "      <td>11500.0</td>\n",
              "      <td>10500.0</td>\n",
              "      <td>10500.0</td>\n",
              "      <td>10000.0</td>\n",
              "      <td>0</td>\n",
              "    </tr>\n",
              "    <tr>\n",
              "      <th>9</th>\n",
              "      <td>780000.0</td>\n",
              "      <td>1</td>\n",
              "      <td>1</td>\n",
              "      <td>1</td>\n",
              "      <td>48.0</td>\n",
              "      <td>0.0</td>\n",
              "      <td>0.0</td>\n",
              "      <td>0.0</td>\n",
              "      <td>0.0</td>\n",
              "      <td>0.0</td>\n",
              "      <td>...</td>\n",
              "      <td>195124.0</td>\n",
              "      <td>184872.0</td>\n",
              "      <td>191090.0</td>\n",
              "      <td>10000.0</td>\n",
              "      <td>15004.0</td>\n",
              "      <td>10000.0</td>\n",
              "      <td>8000.0</td>\n",
              "      <td>10028.0</td>\n",
              "      <td>7003.0</td>\n",
              "      <td>0</td>\n",
              "    </tr>\n",
              "  </tbody>\n",
              "</table>\n",
              "<p>10 rows × 24 columns</p>\n",
              "</div>\n",
              "      <button class=\"colab-df-convert\" onclick=\"convertToInteractive('df-75a439aa-eec7-4123-bae5-2b75f860e46b')\"\n",
              "              title=\"Convert this dataframe to an interactive table.\"\n",
              "              style=\"display:none;\">\n",
              "        \n",
              "  <svg xmlns=\"http://www.w3.org/2000/svg\" height=\"24px\"viewBox=\"0 0 24 24\"\n",
              "       width=\"24px\">\n",
              "    <path d=\"M0 0h24v24H0V0z\" fill=\"none\"/>\n",
              "    <path d=\"M18.56 5.44l.94 2.06.94-2.06 2.06-.94-2.06-.94-.94-2.06-.94 2.06-2.06.94zm-11 1L8.5 8.5l.94-2.06 2.06-.94-2.06-.94L8.5 2.5l-.94 2.06-2.06.94zm10 10l.94 2.06.94-2.06 2.06-.94-2.06-.94-.94-2.06-.94 2.06-2.06.94z\"/><path d=\"M17.41 7.96l-1.37-1.37c-.4-.4-.92-.59-1.43-.59-.52 0-1.04.2-1.43.59L10.3 9.45l-7.72 7.72c-.78.78-.78 2.05 0 2.83L4 21.41c.39.39.9.59 1.41.59.51 0 1.02-.2 1.41-.59l7.78-7.78 2.81-2.81c.8-.78.8-2.07 0-2.86zM5.41 20L4 18.59l7.72-7.72 1.47 1.35L5.41 20z\"/>\n",
              "  </svg>\n",
              "      </button>\n",
              "      \n",
              "  <style>\n",
              "    .colab-df-container {\n",
              "      display:flex;\n",
              "      flex-wrap:wrap;\n",
              "      gap: 12px;\n",
              "    }\n",
              "\n",
              "    .colab-df-convert {\n",
              "      background-color: #E8F0FE;\n",
              "      border: none;\n",
              "      border-radius: 50%;\n",
              "      cursor: pointer;\n",
              "      display: none;\n",
              "      fill: #1967D2;\n",
              "      height: 32px;\n",
              "      padding: 0 0 0 0;\n",
              "      width: 32px;\n",
              "    }\n",
              "\n",
              "    .colab-df-convert:hover {\n",
              "      background-color: #E2EBFA;\n",
              "      box-shadow: 0px 1px 2px rgba(60, 64, 67, 0.3), 0px 1px 3px 1px rgba(60, 64, 67, 0.15);\n",
              "      fill: #174EA6;\n",
              "    }\n",
              "\n",
              "    [theme=dark] .colab-df-convert {\n",
              "      background-color: #3B4455;\n",
              "      fill: #D2E3FC;\n",
              "    }\n",
              "\n",
              "    [theme=dark] .colab-df-convert:hover {\n",
              "      background-color: #434B5C;\n",
              "      box-shadow: 0px 1px 3px 1px rgba(0, 0, 0, 0.15);\n",
              "      filter: drop-shadow(0px 1px 2px rgba(0, 0, 0, 0.3));\n",
              "      fill: #FFFFFF;\n",
              "    }\n",
              "  </style>\n",
              "\n",
              "      <script>\n",
              "        const buttonEl =\n",
              "          document.querySelector('#df-75a439aa-eec7-4123-bae5-2b75f860e46b button.colab-df-convert');\n",
              "        buttonEl.style.display =\n",
              "          google.colab.kernel.accessAllowed ? 'block' : 'none';\n",
              "\n",
              "        async function convertToInteractive(key) {\n",
              "          const element = document.querySelector('#df-75a439aa-eec7-4123-bae5-2b75f860e46b');\n",
              "          const dataTable =\n",
              "            await google.colab.kernel.invokeFunction('convertToInteractive',\n",
              "                                                     [key], {});\n",
              "          if (!dataTable) return;\n",
              "\n",
              "          const docLinkHtml = 'Like what you see? Visit the ' +\n",
              "            '<a target=\"_blank\" href=https://colab.research.google.com/notebooks/data_table.ipynb>data table notebook</a>'\n",
              "            + ' to learn more about interactive tables.';\n",
              "          element.innerHTML = '';\n",
              "          dataTable['output_type'] = 'display_data';\n",
              "          await google.colab.output.renderOutput(dataTable, element);\n",
              "          const docLink = document.createElement('div');\n",
              "          docLink.innerHTML = docLinkHtml;\n",
              "          element.appendChild(docLink);\n",
              "        }\n",
              "      </script>\n",
              "    </div>\n",
              "  </div>\n",
              "  "
            ]
          },
          "metadata": {},
          "execution_count": 4
        }
      ]
    },
    {
      "cell_type": "code",
      "source": [
        "# Tampilkan 10 data paling bawah\n",
        "\n",
        "data.tail(10)"
      ],
      "metadata": {
        "colab": {
          "base_uri": "https://localhost:8080/",
          "height": 456
        },
        "id": "j4x0VX-JWYdW",
        "outputId": "3c4a499f-d250-478e-a853-4255395fbf0e"
      },
      "execution_count": 5,
      "outputs": [
        {
          "output_type": "execute_result",
          "data": {
            "text/plain": [
              "      limit_balance  sex  education_level  marital_status   age  pay_0  pay_2  \\\n",
              "2955        50000.0    2                2               2  38.0   -1.0   -1.0   \n",
              "2956       110000.0    1                3               1  57.0   -1.0   -1.0   \n",
              "2957       290000.0    2                2               1  39.0    1.0   -2.0   \n",
              "2958       300000.0    2                2               1  38.0    1.0   -2.0   \n",
              "2959        50000.0    1                3               2  30.0    0.0    0.0   \n",
              "2960       120000.0    1                2               2  41.0    1.0    2.0   \n",
              "2961       360000.0    1                1               1  38.0   -1.0   -1.0   \n",
              "2962        50000.0    1                2               1  61.0    2.0   -1.0   \n",
              "2963        50000.0    1                2               1  41.0   -1.0   -1.0   \n",
              "2964       450000.0    2                2               1  38.0   -2.0   -2.0   \n",
              "\n",
              "      pay_3  pay_4  pay_5  ...  bill_amt_4  bill_amt_5  bill_amt_6  pay_amt_1  \\\n",
              "2955   -1.0   -1.0   -1.0  ...       390.0       390.0       390.0      390.0   \n",
              "2956   -1.0   -1.0   -1.0  ...       390.0       390.0       390.0      390.0   \n",
              "2957   -2.0   -2.0   -2.0  ...      3184.0       390.0       390.0    10000.0   \n",
              "2958   -2.0   -1.0    0.0  ...      1000.0       890.0       390.0        0.0   \n",
              "2959    0.0    0.0   -1.0  ...      8039.0      4952.0       390.0     1147.0   \n",
              "2960    0.0    0.0   -1.0  ...     11990.0       390.0       390.0        0.0   \n",
              "2961   -1.0   -1.0   -1.0  ...       390.0       390.0       390.0        0.0   \n",
              "2962   -1.0   -1.0   -1.0  ...       390.0       390.0       390.0      390.0   \n",
              "2963   -1.0    0.0   -1.0  ...       390.0       390.0       390.0      390.0   \n",
              "2964   -2.0   -2.0   -2.0  ...       390.0       390.0       390.0      390.0   \n",
              "\n",
              "      pay_amt_2  pay_amt_3  pay_amt_4  pay_amt_5  pay_amt_6  \\\n",
              "2955      390.0      390.0      390.0      390.0      390.0   \n",
              "2956      390.0      390.0      390.0      390.0      390.0   \n",
              "2957      800.0     3184.0      390.0      390.0     6617.0   \n",
              "2958        0.0     1000.0      390.0      390.0      540.0   \n",
              "2959     1169.0     1000.0     4986.0      390.0      390.0   \n",
              "2960     1600.0     1000.0      390.0      390.0        0.0   \n",
              "2961      390.0      390.0      390.0      390.0      390.0   \n",
              "2962      390.0      390.0      390.0      390.0      390.0   \n",
              "2963      780.0        0.0      390.0      390.0     1170.0   \n",
              "2964      780.0      390.0      390.0      390.0      390.0   \n",
              "\n",
              "      default_payment_next_month  \n",
              "2955                           0  \n",
              "2956                           0  \n",
              "2957                           0  \n",
              "2958                           1  \n",
              "2959                           1  \n",
              "2960                           1  \n",
              "2961                           1  \n",
              "2962                           1  \n",
              "2963                           1  \n",
              "2964                           1  \n",
              "\n",
              "[10 rows x 24 columns]"
            ],
            "text/html": [
              "\n",
              "  <div id=\"df-ee607969-bcd8-46d8-8f2d-4482a2f750a3\">\n",
              "    <div class=\"colab-df-container\">\n",
              "      <div>\n",
              "<style scoped>\n",
              "    .dataframe tbody tr th:only-of-type {\n",
              "        vertical-align: middle;\n",
              "    }\n",
              "\n",
              "    .dataframe tbody tr th {\n",
              "        vertical-align: top;\n",
              "    }\n",
              "\n",
              "    .dataframe thead th {\n",
              "        text-align: right;\n",
              "    }\n",
              "</style>\n",
              "<table border=\"1\" class=\"dataframe\">\n",
              "  <thead>\n",
              "    <tr style=\"text-align: right;\">\n",
              "      <th></th>\n",
              "      <th>limit_balance</th>\n",
              "      <th>sex</th>\n",
              "      <th>education_level</th>\n",
              "      <th>marital_status</th>\n",
              "      <th>age</th>\n",
              "      <th>pay_0</th>\n",
              "      <th>pay_2</th>\n",
              "      <th>pay_3</th>\n",
              "      <th>pay_4</th>\n",
              "      <th>pay_5</th>\n",
              "      <th>...</th>\n",
              "      <th>bill_amt_4</th>\n",
              "      <th>bill_amt_5</th>\n",
              "      <th>bill_amt_6</th>\n",
              "      <th>pay_amt_1</th>\n",
              "      <th>pay_amt_2</th>\n",
              "      <th>pay_amt_3</th>\n",
              "      <th>pay_amt_4</th>\n",
              "      <th>pay_amt_5</th>\n",
              "      <th>pay_amt_6</th>\n",
              "      <th>default_payment_next_month</th>\n",
              "    </tr>\n",
              "  </thead>\n",
              "  <tbody>\n",
              "    <tr>\n",
              "      <th>2955</th>\n",
              "      <td>50000.0</td>\n",
              "      <td>2</td>\n",
              "      <td>2</td>\n",
              "      <td>2</td>\n",
              "      <td>38.0</td>\n",
              "      <td>-1.0</td>\n",
              "      <td>-1.0</td>\n",
              "      <td>-1.0</td>\n",
              "      <td>-1.0</td>\n",
              "      <td>-1.0</td>\n",
              "      <td>...</td>\n",
              "      <td>390.0</td>\n",
              "      <td>390.0</td>\n",
              "      <td>390.0</td>\n",
              "      <td>390.0</td>\n",
              "      <td>390.0</td>\n",
              "      <td>390.0</td>\n",
              "      <td>390.0</td>\n",
              "      <td>390.0</td>\n",
              "      <td>390.0</td>\n",
              "      <td>0</td>\n",
              "    </tr>\n",
              "    <tr>\n",
              "      <th>2956</th>\n",
              "      <td>110000.0</td>\n",
              "      <td>1</td>\n",
              "      <td>3</td>\n",
              "      <td>1</td>\n",
              "      <td>57.0</td>\n",
              "      <td>-1.0</td>\n",
              "      <td>-1.0</td>\n",
              "      <td>-1.0</td>\n",
              "      <td>-1.0</td>\n",
              "      <td>-1.0</td>\n",
              "      <td>...</td>\n",
              "      <td>390.0</td>\n",
              "      <td>390.0</td>\n",
              "      <td>390.0</td>\n",
              "      <td>390.0</td>\n",
              "      <td>390.0</td>\n",
              "      <td>390.0</td>\n",
              "      <td>390.0</td>\n",
              "      <td>390.0</td>\n",
              "      <td>390.0</td>\n",
              "      <td>0</td>\n",
              "    </tr>\n",
              "    <tr>\n",
              "      <th>2957</th>\n",
              "      <td>290000.0</td>\n",
              "      <td>2</td>\n",
              "      <td>2</td>\n",
              "      <td>1</td>\n",
              "      <td>39.0</td>\n",
              "      <td>1.0</td>\n",
              "      <td>-2.0</td>\n",
              "      <td>-2.0</td>\n",
              "      <td>-2.0</td>\n",
              "      <td>-2.0</td>\n",
              "      <td>...</td>\n",
              "      <td>3184.0</td>\n",
              "      <td>390.0</td>\n",
              "      <td>390.0</td>\n",
              "      <td>10000.0</td>\n",
              "      <td>800.0</td>\n",
              "      <td>3184.0</td>\n",
              "      <td>390.0</td>\n",
              "      <td>390.0</td>\n",
              "      <td>6617.0</td>\n",
              "      <td>0</td>\n",
              "    </tr>\n",
              "    <tr>\n",
              "      <th>2958</th>\n",
              "      <td>300000.0</td>\n",
              "      <td>2</td>\n",
              "      <td>2</td>\n",
              "      <td>1</td>\n",
              "      <td>38.0</td>\n",
              "      <td>1.0</td>\n",
              "      <td>-2.0</td>\n",
              "      <td>-2.0</td>\n",
              "      <td>-1.0</td>\n",
              "      <td>0.0</td>\n",
              "      <td>...</td>\n",
              "      <td>1000.0</td>\n",
              "      <td>890.0</td>\n",
              "      <td>390.0</td>\n",
              "      <td>0.0</td>\n",
              "      <td>0.0</td>\n",
              "      <td>1000.0</td>\n",
              "      <td>390.0</td>\n",
              "      <td>390.0</td>\n",
              "      <td>540.0</td>\n",
              "      <td>1</td>\n",
              "    </tr>\n",
              "    <tr>\n",
              "      <th>2959</th>\n",
              "      <td>50000.0</td>\n",
              "      <td>1</td>\n",
              "      <td>3</td>\n",
              "      <td>2</td>\n",
              "      <td>30.0</td>\n",
              "      <td>0.0</td>\n",
              "      <td>0.0</td>\n",
              "      <td>0.0</td>\n",
              "      <td>0.0</td>\n",
              "      <td>-1.0</td>\n",
              "      <td>...</td>\n",
              "      <td>8039.0</td>\n",
              "      <td>4952.0</td>\n",
              "      <td>390.0</td>\n",
              "      <td>1147.0</td>\n",
              "      <td>1169.0</td>\n",
              "      <td>1000.0</td>\n",
              "      <td>4986.0</td>\n",
              "      <td>390.0</td>\n",
              "      <td>390.0</td>\n",
              "      <td>1</td>\n",
              "    </tr>\n",
              "    <tr>\n",
              "      <th>2960</th>\n",
              "      <td>120000.0</td>\n",
              "      <td>1</td>\n",
              "      <td>2</td>\n",
              "      <td>2</td>\n",
              "      <td>41.0</td>\n",
              "      <td>1.0</td>\n",
              "      <td>2.0</td>\n",
              "      <td>0.0</td>\n",
              "      <td>0.0</td>\n",
              "      <td>-1.0</td>\n",
              "      <td>...</td>\n",
              "      <td>11990.0</td>\n",
              "      <td>390.0</td>\n",
              "      <td>390.0</td>\n",
              "      <td>0.0</td>\n",
              "      <td>1600.0</td>\n",
              "      <td>1000.0</td>\n",
              "      <td>390.0</td>\n",
              "      <td>390.0</td>\n",
              "      <td>0.0</td>\n",
              "      <td>1</td>\n",
              "    </tr>\n",
              "    <tr>\n",
              "      <th>2961</th>\n",
              "      <td>360000.0</td>\n",
              "      <td>1</td>\n",
              "      <td>1</td>\n",
              "      <td>1</td>\n",
              "      <td>38.0</td>\n",
              "      <td>-1.0</td>\n",
              "      <td>-1.0</td>\n",
              "      <td>-1.0</td>\n",
              "      <td>-1.0</td>\n",
              "      <td>-1.0</td>\n",
              "      <td>...</td>\n",
              "      <td>390.0</td>\n",
              "      <td>390.0</td>\n",
              "      <td>390.0</td>\n",
              "      <td>0.0</td>\n",
              "      <td>390.0</td>\n",
              "      <td>390.0</td>\n",
              "      <td>390.0</td>\n",
              "      <td>390.0</td>\n",
              "      <td>390.0</td>\n",
              "      <td>1</td>\n",
              "    </tr>\n",
              "    <tr>\n",
              "      <th>2962</th>\n",
              "      <td>50000.0</td>\n",
              "      <td>1</td>\n",
              "      <td>2</td>\n",
              "      <td>1</td>\n",
              "      <td>61.0</td>\n",
              "      <td>2.0</td>\n",
              "      <td>-1.0</td>\n",
              "      <td>-1.0</td>\n",
              "      <td>-1.0</td>\n",
              "      <td>-1.0</td>\n",
              "      <td>...</td>\n",
              "      <td>390.0</td>\n",
              "      <td>390.0</td>\n",
              "      <td>390.0</td>\n",
              "      <td>390.0</td>\n",
              "      <td>390.0</td>\n",
              "      <td>390.0</td>\n",
              "      <td>390.0</td>\n",
              "      <td>390.0</td>\n",
              "      <td>390.0</td>\n",
              "      <td>1</td>\n",
              "    </tr>\n",
              "    <tr>\n",
              "      <th>2963</th>\n",
              "      <td>50000.0</td>\n",
              "      <td>1</td>\n",
              "      <td>2</td>\n",
              "      <td>1</td>\n",
              "      <td>41.0</td>\n",
              "      <td>-1.0</td>\n",
              "      <td>-1.0</td>\n",
              "      <td>-1.0</td>\n",
              "      <td>0.0</td>\n",
              "      <td>-1.0</td>\n",
              "      <td>...</td>\n",
              "      <td>390.0</td>\n",
              "      <td>390.0</td>\n",
              "      <td>390.0</td>\n",
              "      <td>390.0</td>\n",
              "      <td>780.0</td>\n",
              "      <td>0.0</td>\n",
              "      <td>390.0</td>\n",
              "      <td>390.0</td>\n",
              "      <td>1170.0</td>\n",
              "      <td>1</td>\n",
              "    </tr>\n",
              "    <tr>\n",
              "      <th>2964</th>\n",
              "      <td>450000.0</td>\n",
              "      <td>2</td>\n",
              "      <td>2</td>\n",
              "      <td>1</td>\n",
              "      <td>38.0</td>\n",
              "      <td>-2.0</td>\n",
              "      <td>-2.0</td>\n",
              "      <td>-2.0</td>\n",
              "      <td>-2.0</td>\n",
              "      <td>-2.0</td>\n",
              "      <td>...</td>\n",
              "      <td>390.0</td>\n",
              "      <td>390.0</td>\n",
              "      <td>390.0</td>\n",
              "      <td>390.0</td>\n",
              "      <td>780.0</td>\n",
              "      <td>390.0</td>\n",
              "      <td>390.0</td>\n",
              "      <td>390.0</td>\n",
              "      <td>390.0</td>\n",
              "      <td>1</td>\n",
              "    </tr>\n",
              "  </tbody>\n",
              "</table>\n",
              "<p>10 rows × 24 columns</p>\n",
              "</div>\n",
              "      <button class=\"colab-df-convert\" onclick=\"convertToInteractive('df-ee607969-bcd8-46d8-8f2d-4482a2f750a3')\"\n",
              "              title=\"Convert this dataframe to an interactive table.\"\n",
              "              style=\"display:none;\">\n",
              "        \n",
              "  <svg xmlns=\"http://www.w3.org/2000/svg\" height=\"24px\"viewBox=\"0 0 24 24\"\n",
              "       width=\"24px\">\n",
              "    <path d=\"M0 0h24v24H0V0z\" fill=\"none\"/>\n",
              "    <path d=\"M18.56 5.44l.94 2.06.94-2.06 2.06-.94-2.06-.94-.94-2.06-.94 2.06-2.06.94zm-11 1L8.5 8.5l.94-2.06 2.06-.94-2.06-.94L8.5 2.5l-.94 2.06-2.06.94zm10 10l.94 2.06.94-2.06 2.06-.94-2.06-.94-.94-2.06-.94 2.06-2.06.94z\"/><path d=\"M17.41 7.96l-1.37-1.37c-.4-.4-.92-.59-1.43-.59-.52 0-1.04.2-1.43.59L10.3 9.45l-7.72 7.72c-.78.78-.78 2.05 0 2.83L4 21.41c.39.39.9.59 1.41.59.51 0 1.02-.2 1.41-.59l7.78-7.78 2.81-2.81c.8-.78.8-2.07 0-2.86zM5.41 20L4 18.59l7.72-7.72 1.47 1.35L5.41 20z\"/>\n",
              "  </svg>\n",
              "      </button>\n",
              "      \n",
              "  <style>\n",
              "    .colab-df-container {\n",
              "      display:flex;\n",
              "      flex-wrap:wrap;\n",
              "      gap: 12px;\n",
              "    }\n",
              "\n",
              "    .colab-df-convert {\n",
              "      background-color: #E8F0FE;\n",
              "      border: none;\n",
              "      border-radius: 50%;\n",
              "      cursor: pointer;\n",
              "      display: none;\n",
              "      fill: #1967D2;\n",
              "      height: 32px;\n",
              "      padding: 0 0 0 0;\n",
              "      width: 32px;\n",
              "    }\n",
              "\n",
              "    .colab-df-convert:hover {\n",
              "      background-color: #E2EBFA;\n",
              "      box-shadow: 0px 1px 2px rgba(60, 64, 67, 0.3), 0px 1px 3px 1px rgba(60, 64, 67, 0.15);\n",
              "      fill: #174EA6;\n",
              "    }\n",
              "\n",
              "    [theme=dark] .colab-df-convert {\n",
              "      background-color: #3B4455;\n",
              "      fill: #D2E3FC;\n",
              "    }\n",
              "\n",
              "    [theme=dark] .colab-df-convert:hover {\n",
              "      background-color: #434B5C;\n",
              "      box-shadow: 0px 1px 3px 1px rgba(0, 0, 0, 0.15);\n",
              "      filter: drop-shadow(0px 1px 2px rgba(0, 0, 0, 0.3));\n",
              "      fill: #FFFFFF;\n",
              "    }\n",
              "  </style>\n",
              "\n",
              "      <script>\n",
              "        const buttonEl =\n",
              "          document.querySelector('#df-ee607969-bcd8-46d8-8f2d-4482a2f750a3 button.colab-df-convert');\n",
              "        buttonEl.style.display =\n",
              "          google.colab.kernel.accessAllowed ? 'block' : 'none';\n",
              "\n",
              "        async function convertToInteractive(key) {\n",
              "          const element = document.querySelector('#df-ee607969-bcd8-46d8-8f2d-4482a2f750a3');\n",
              "          const dataTable =\n",
              "            await google.colab.kernel.invokeFunction('convertToInteractive',\n",
              "                                                     [key], {});\n",
              "          if (!dataTable) return;\n",
              "\n",
              "          const docLinkHtml = 'Like what you see? Visit the ' +\n",
              "            '<a target=\"_blank\" href=https://colab.research.google.com/notebooks/data_table.ipynb>data table notebook</a>'\n",
              "            + ' to learn more about interactive tables.';\n",
              "          element.innerHTML = '';\n",
              "          dataTable['output_type'] = 'display_data';\n",
              "          await google.colab.output.renderOutput(dataTable, element);\n",
              "          const docLink = document.createElement('div');\n",
              "          docLink.innerHTML = docLinkHtml;\n",
              "          element.appendChild(docLink);\n",
              "        }\n",
              "      </script>\n",
              "    </div>\n",
              "  </div>\n",
              "  "
            ]
          },
          "metadata": {},
          "execution_count": 5
        }
      ]
    },
    {
      "cell_type": "code",
      "source": [
        "# MEnampilkan informasi mengenai data\n",
        "\n",
        "data.info()"
      ],
      "metadata": {
        "colab": {
          "base_uri": "https://localhost:8080/"
        },
        "id": "UW7VaFT9Woh6",
        "outputId": "eec32e16-6cff-4fe6-dea1-98657ecf8f5a"
      },
      "execution_count": 6,
      "outputs": [
        {
          "output_type": "stream",
          "name": "stdout",
          "text": [
            "<class 'pandas.core.frame.DataFrame'>\n",
            "RangeIndex: 2965 entries, 0 to 2964\n",
            "Data columns (total 24 columns):\n",
            " #   Column                      Non-Null Count  Dtype  \n",
            "---  ------                      --------------  -----  \n",
            " 0   limit_balance               2965 non-null   float64\n",
            " 1   sex                         2965 non-null   int64  \n",
            " 2   education_level             2965 non-null   int64  \n",
            " 3   marital_status              2965 non-null   int64  \n",
            " 4   age                         2965 non-null   float64\n",
            " 5   pay_0                       2965 non-null   float64\n",
            " 6   pay_2                       2965 non-null   float64\n",
            " 7   pay_3                       2965 non-null   float64\n",
            " 8   pay_4                       2965 non-null   float64\n",
            " 9   pay_5                       2965 non-null   float64\n",
            " 10  pay_6                       2965 non-null   float64\n",
            " 11  bill_amt_1                  2965 non-null   float64\n",
            " 12  bill_amt_2                  2965 non-null   float64\n",
            " 13  bill_amt_3                  2965 non-null   float64\n",
            " 14  bill_amt_4                  2965 non-null   float64\n",
            " 15  bill_amt_5                  2965 non-null   float64\n",
            " 16  bill_amt_6                  2965 non-null   float64\n",
            " 17  pay_amt_1                   2965 non-null   float64\n",
            " 18  pay_amt_2                   2965 non-null   float64\n",
            " 19  pay_amt_3                   2965 non-null   float64\n",
            " 20  pay_amt_4                   2965 non-null   float64\n",
            " 21  pay_amt_5                   2965 non-null   float64\n",
            " 22  pay_amt_6                   2965 non-null   float64\n",
            " 23  default_payment_next_month  2965 non-null   int64  \n",
            "dtypes: float64(20), int64(4)\n",
            "memory usage: 556.1 KB\n"
          ]
        }
      ]
    },
    {
      "cell_type": "markdown",
      "source": [
        "> Data yang dimiliki terdiri dari 2965 baris data dan terdiri dari 24 kolom atau fitur data.\n",
        "\n",
        "> Data yang dimiliki sudah seuai dengan perintah pada Milestone.\n",
        "\n",
        "> Fitur yang ada pada data seluruh nya memiliki tipe data numerikal tidak ada yang memiliki tipe data kategorikal."
      ],
      "metadata": {
        "id": "b1Bv9pjVWvf6"
      }
    },
    {
      "cell_type": "markdown",
      "source": [
        "# Exploratory Data Analysis (EDA)"
      ],
      "metadata": {
        "id": "zHJ1ouh1hwbt"
      }
    },
    {
      "cell_type": "code",
      "source": [
        "# Menampilkan perbandingan jenis kelamin\n",
        "\n",
        "sex= data.groupby(['sex'], sort=True).size().reset_index(name='total')\n",
        "sex['percentage %'] = (((sex.total/data.shape[0]) * 100).round(1))\n",
        "sex"
      ],
      "metadata": {
        "colab": {
          "base_uri": "https://localhost:8080/",
          "height": 0
        },
        "id": "SbXywvlqh_um",
        "outputId": "dfd529ac-7680-4f32-a497-2fb987b91c69"
      },
      "execution_count": 7,
      "outputs": [
        {
          "output_type": "execute_result",
          "data": {
            "text/plain": [
              "   sex  total  percentage %\n",
              "0    1   1163          39.2\n",
              "1    2   1802          60.8"
            ],
            "text/html": [
              "\n",
              "  <div id=\"df-d38ba9fa-1208-42a1-b0b1-0a746a2c51f9\">\n",
              "    <div class=\"colab-df-container\">\n",
              "      <div>\n",
              "<style scoped>\n",
              "    .dataframe tbody tr th:only-of-type {\n",
              "        vertical-align: middle;\n",
              "    }\n",
              "\n",
              "    .dataframe tbody tr th {\n",
              "        vertical-align: top;\n",
              "    }\n",
              "\n",
              "    .dataframe thead th {\n",
              "        text-align: right;\n",
              "    }\n",
              "</style>\n",
              "<table border=\"1\" class=\"dataframe\">\n",
              "  <thead>\n",
              "    <tr style=\"text-align: right;\">\n",
              "      <th></th>\n",
              "      <th>sex</th>\n",
              "      <th>total</th>\n",
              "      <th>percentage %</th>\n",
              "    </tr>\n",
              "  </thead>\n",
              "  <tbody>\n",
              "    <tr>\n",
              "      <th>0</th>\n",
              "      <td>1</td>\n",
              "      <td>1163</td>\n",
              "      <td>39.2</td>\n",
              "    </tr>\n",
              "    <tr>\n",
              "      <th>1</th>\n",
              "      <td>2</td>\n",
              "      <td>1802</td>\n",
              "      <td>60.8</td>\n",
              "    </tr>\n",
              "  </tbody>\n",
              "</table>\n",
              "</div>\n",
              "      <button class=\"colab-df-convert\" onclick=\"convertToInteractive('df-d38ba9fa-1208-42a1-b0b1-0a746a2c51f9')\"\n",
              "              title=\"Convert this dataframe to an interactive table.\"\n",
              "              style=\"display:none;\">\n",
              "        \n",
              "  <svg xmlns=\"http://www.w3.org/2000/svg\" height=\"24px\"viewBox=\"0 0 24 24\"\n",
              "       width=\"24px\">\n",
              "    <path d=\"M0 0h24v24H0V0z\" fill=\"none\"/>\n",
              "    <path d=\"M18.56 5.44l.94 2.06.94-2.06 2.06-.94-2.06-.94-.94-2.06-.94 2.06-2.06.94zm-11 1L8.5 8.5l.94-2.06 2.06-.94-2.06-.94L8.5 2.5l-.94 2.06-2.06.94zm10 10l.94 2.06.94-2.06 2.06-.94-2.06-.94-.94-2.06-.94 2.06-2.06.94z\"/><path d=\"M17.41 7.96l-1.37-1.37c-.4-.4-.92-.59-1.43-.59-.52 0-1.04.2-1.43.59L10.3 9.45l-7.72 7.72c-.78.78-.78 2.05 0 2.83L4 21.41c.39.39.9.59 1.41.59.51 0 1.02-.2 1.41-.59l7.78-7.78 2.81-2.81c.8-.78.8-2.07 0-2.86zM5.41 20L4 18.59l7.72-7.72 1.47 1.35L5.41 20z\"/>\n",
              "  </svg>\n",
              "      </button>\n",
              "      \n",
              "  <style>\n",
              "    .colab-df-container {\n",
              "      display:flex;\n",
              "      flex-wrap:wrap;\n",
              "      gap: 12px;\n",
              "    }\n",
              "\n",
              "    .colab-df-convert {\n",
              "      background-color: #E8F0FE;\n",
              "      border: none;\n",
              "      border-radius: 50%;\n",
              "      cursor: pointer;\n",
              "      display: none;\n",
              "      fill: #1967D2;\n",
              "      height: 32px;\n",
              "      padding: 0 0 0 0;\n",
              "      width: 32px;\n",
              "    }\n",
              "\n",
              "    .colab-df-convert:hover {\n",
              "      background-color: #E2EBFA;\n",
              "      box-shadow: 0px 1px 2px rgba(60, 64, 67, 0.3), 0px 1px 3px 1px rgba(60, 64, 67, 0.15);\n",
              "      fill: #174EA6;\n",
              "    }\n",
              "\n",
              "    [theme=dark] .colab-df-convert {\n",
              "      background-color: #3B4455;\n",
              "      fill: #D2E3FC;\n",
              "    }\n",
              "\n",
              "    [theme=dark] .colab-df-convert:hover {\n",
              "      background-color: #434B5C;\n",
              "      box-shadow: 0px 1px 3px 1px rgba(0, 0, 0, 0.15);\n",
              "      filter: drop-shadow(0px 1px 2px rgba(0, 0, 0, 0.3));\n",
              "      fill: #FFFFFF;\n",
              "    }\n",
              "  </style>\n",
              "\n",
              "      <script>\n",
              "        const buttonEl =\n",
              "          document.querySelector('#df-d38ba9fa-1208-42a1-b0b1-0a746a2c51f9 button.colab-df-convert');\n",
              "        buttonEl.style.display =\n",
              "          google.colab.kernel.accessAllowed ? 'block' : 'none';\n",
              "\n",
              "        async function convertToInteractive(key) {\n",
              "          const element = document.querySelector('#df-d38ba9fa-1208-42a1-b0b1-0a746a2c51f9');\n",
              "          const dataTable =\n",
              "            await google.colab.kernel.invokeFunction('convertToInteractive',\n",
              "                                                     [key], {});\n",
              "          if (!dataTable) return;\n",
              "\n",
              "          const docLinkHtml = 'Like what you see? Visit the ' +\n",
              "            '<a target=\"_blank\" href=https://colab.research.google.com/notebooks/data_table.ipynb>data table notebook</a>'\n",
              "            + ' to learn more about interactive tables.';\n",
              "          element.innerHTML = '';\n",
              "          dataTable['output_type'] = 'display_data';\n",
              "          await google.colab.output.renderOutput(dataTable, element);\n",
              "          const docLink = document.createElement('div');\n",
              "          docLink.innerHTML = docLinkHtml;\n",
              "          element.appendChild(docLink);\n",
              "        }\n",
              "      </script>\n",
              "    </div>\n",
              "  </div>\n",
              "  "
            ]
          },
          "metadata": {},
          "execution_count": 7
        }
      ]
    },
    {
      "cell_type": "code",
      "source": [
        "# Plot Jenis Kelamin Nasabah Kartu Kredit\n",
        "\n",
        "data['sex'].value_counts().plot.pie(figsize=(6, 6), autopct='%1.1f%%', title='Perbandingan Jenis Kelamin')"
      ],
      "metadata": {
        "colab": {
          "base_uri": "https://localhost:8080/",
          "height": 0
        },
        "id": "y-5kp1hEjzMg",
        "outputId": "5ace53b9-4155-4272-ad5f-bee343357518"
      },
      "execution_count": 8,
      "outputs": [
        {
          "output_type": "execute_result",
          "data": {
            "text/plain": [
              "<AxesSubplot:title={'center':'Perbandingan Jenis Kelamin'}, ylabel='sex'>"
            ]
          },
          "metadata": {},
          "execution_count": 8
        },
        {
          "output_type": "display_data",
          "data": {
            "text/plain": [
              "<Figure size 432x432 with 1 Axes>"
            ],
            "image/png": "[encoded data removed]"
          },
          "metadata": {}
        }
      ]
    },
    {
      "cell_type": "markdown",
      "source": [
        "> Data ini memliki perbandingan jenis kelamin nasabah pengguna kartu kredit adalah Pria dilabelkan dengan 1 yang memiliki persentase 39.2%  berbanding  Wanita Dilabelkan dengan persentase sebesar 60.8%.\n",
        "\n",
        "> Dari informasi yang didapat bisa diamil kesimpulan bahwa nasabah pengguna katu kredit terbanyak merupakan nasabah dengan jenis kelamin Wanita dengan total 1802 nasabah."
      ],
      "metadata": {
        "id": "nZZnbWTZiUc9"
      }
    },
    {
      "cell_type": "code",
      "source": [
        "# Menmapilkan Usia Nasbah\n",
        "\n",
        "age= data.groupby(['age'], sort=True).size().reset_index(name='total')\n",
        "age['percentage %'] = (((age.total/data.shape[0]) * 100).round(1))\n",
        "age"
      ],
      "metadata": {
        "colab": {
          "base_uri": "https://localhost:8080/",
          "height": 0
        },
        "id": "lzkzZvVPpdfu",
        "outputId": "fad7f5f1-404f-4962-a12f-33f0311f7256"
      },
      "execution_count": 9,
      "outputs": [
        {
          "output_type": "execute_result",
          "data": {
            "text/plain": [
              "     age  total  percentage %\n",
              "0   21.0      7           0.2\n",
              "1   22.0     49           1.7\n",
              "2   23.0     95           3.2\n",
              "3   24.0    120           4.0\n",
              "4   25.0    119           4.0\n",
              "5   26.0    138           4.7\n",
              "6   27.0    146           4.9\n",
              "7   28.0    138           4.7\n",
              "8   29.0    149           5.0\n",
              "9   30.0    171           5.8\n",
              "10  31.0    122           4.1\n",
              "11  32.0    119           4.0\n",
              "12  33.0    104           3.5\n",
              "13  34.0    122           4.1\n",
              "14  35.0    104           3.5\n",
              "15  36.0    114           3.8\n",
              "16  37.0     99           3.3\n",
              "17  38.0     90           3.0\n",
              "18  39.0     90           3.0\n",
              "19  40.0     86           2.9\n",
              "20  41.0     99           3.3\n",
              "21  42.0     79           2.7\n",
              "22  43.0     68           2.3\n",
              "23  44.0     44           1.5\n",
              "24  45.0     55           1.9\n",
              "25  46.0     48           1.6\n",
              "26  47.0     54           1.8\n",
              "27  48.0     41           1.4\n",
              "28  49.0     41           1.4\n",
              "29  50.0     38           1.3\n",
              "30  51.0     25           0.8\n",
              "31  52.0     37           1.2\n",
              "32  53.0     30           1.0\n",
              "33  54.0     16           0.5\n",
              "34  55.0     30           1.0\n",
              "35  56.0     19           0.6\n",
              "36  57.0     10           0.3\n",
              "37  58.0      9           0.3\n",
              "38  59.0      4           0.1\n",
              "39  60.0      7           0.2\n",
              "40  61.0     10           0.3\n",
              "41  62.0      4           0.1\n",
              "42  63.0      4           0.1\n",
              "43  64.0      1           0.0\n",
              "44  65.0      3           0.1\n",
              "45  66.0      2           0.1\n",
              "46  67.0      2           0.1\n",
              "47  68.0      1           0.0\n",
              "48  69.0      2           0.1"
            ],
            "text/html": [
              "\n",
              "  <div id=\"df-b34fda9f-e61a-4e90-aff2-5b59e7effbee\">\n",
              "    <div class=\"colab-df-container\">\n",
              "      <div>\n",
              "<style scoped>\n",
              "    .dataframe tbody tr th:only-of-type {\n",
              "        vertical-align: middle;\n",
              "    }\n",
              "\n",
              "    .dataframe tbody tr th {\n",
              "        vertical-align: top;\n",
              "    }\n",
              "\n",
              "    .dataframe thead th {\n",
              "        text-align: right;\n",
              "    }\n",
              "</style>\n",
              "<table border=\"1\" class=\"dataframe\">\n",
              "  <thead>\n",
              "    <tr style=\"text-align: right;\">\n",
              "      <th></th>\n",
              "      <th>age</th>\n",
              "      <th>total</th>\n",
              "      <th>percentage %</th>\n",
              "    </tr>\n",
              "  </thead>\n",
              "  <tbody>\n",
              "    <tr>\n",
              "      <th>0</th>\n",
              "      <td>21.0</td>\n",
              "      <td>7</td>\n",
              "      <td>0.2</td>\n",
              "    </tr>\n",
              "    <tr>\n",
              "      <th>1</th>\n",
              "      <td>22.0</td>\n",
              "      <td>49</td>\n",
              "      <td>1.7</td>\n",
              "    </tr>\n",
              "    <tr>\n",
              "      <th>2</th>\n",
              "      <td>23.0</td>\n",
              "      <td>95</td>\n",
              "      <td>3.2</td>\n",
              "    </tr>\n",
              "    <tr>\n",
              "      <th>3</th>\n",
              "      <td>24.0</td>\n",
              "      <td>120</td>\n",
              "      <td>4.0</td>\n",
              "    </tr>\n",
              "    <tr>\n",
              "      <th>4</th>\n",
              "      <td>25.0</td>\n",
              "      <td>119</td>\n",
              "      <td>4.0</td>\n",
              "    </tr>\n",
              "    <tr>\n",
              "      <th>5</th>\n",
              "      <td>26.0</td>\n",
              "      <td>138</td>\n",
              "      <td>4.7</td>\n",
              "    </tr>\n",
              "    <tr>\n",
              "      <th>6</th>\n",
              "      <td>27.0</td>\n",
              "      <td>146</td>\n",
              "      <td>4.9</td>\n",
              "    </tr>\n",
              "    <tr>\n",
              "      <th>7</th>\n",
              "      <td>28.0</td>\n",
              "      <td>138</td>\n",
              "      <td>4.7</td>\n",
              "    </tr>\n",
              "    <tr>\n",
              "      <th>8</th>\n",
              "      <td>29.0</td>\n",
              "      <td>149</td>\n",
              "      <td>5.0</td>\n",
              "    </tr>\n",
              "    <tr>\n",
              "      <th>9</th>\n",
              "      <td>30.0</td>\n",
              "      <td>171</td>\n",
              "      <td>5.8</td>\n",
              "    </tr>\n",
              "    <tr>\n",
              "      <th>10</th>\n",
              "      <td>31.0</td>\n",
              "      <td>122</td>\n",
              "      <td>4.1</td>\n",
              "    </tr>\n",
              "    <tr>\n",
              "      <th>11</th>\n",
              "      <td>32.0</td>\n",
              "      <td>119</td>\n",
              "      <td>4.0</td>\n",
              "    </tr>\n",
              "    <tr>\n",
              "      <th>12</th>\n",
              "      <td>33.0</td>\n",
              "      <td>104</td>\n",
              "      <td>3.5</td>\n",
              "    </tr>\n",
              "    <tr>\n",
              "      <th>13</th>\n",
              "      <td>34.0</td>\n",
              "      <td>122</td>\n",
              "      <td>4.1</td>\n",
              "    </tr>\n",
              "    <tr>\n",
              "      <th>14</th>\n",
              "      <td>35.0</td>\n",
              "      <td>104</td>\n",
              "      <td>3.5</td>\n",
              "    </tr>\n",
              "    <tr>\n",
              "      <th>15</th>\n",
              "      <td>36.0</td>\n",
              "      <td>114</td>\n",
              "      <td>3.8</td>\n",
              "    </tr>\n",
              "    <tr>\n",
              "      <th>16</th>\n",
              "      <td>37.0</td>\n",
              "      <td>99</td>\n",
              "      <td>3.3</td>\n",
              "    </tr>\n",
              "    <tr>\n",
              "      <th>17</th>\n",
              "      <td>38.0</td>\n",
              "      <td>90</td>\n",
              "      <td>3.0</td>\n",
              "    </tr>\n",
              "    <tr>\n",
              "      <th>18</th>\n",
              "      <td>39.0</td>\n",
              "      <td>90</td>\n",
              "      <td>3.0</td>\n",
              "    </tr>\n",
              "    <tr>\n",
              "      <th>19</th>\n",
              "      <td>40.0</td>\n",
              "      <td>86</td>\n",
              "      <td>2.9</td>\n",
              "    </tr>\n",
              "    <tr>\n",
              "      <th>20</th>\n",
              "      <td>41.0</td>\n",
              "      <td>99</td>\n",
              "      <td>3.3</td>\n",
              "    </tr>\n",
              "    <tr>\n",
              "      <th>21</th>\n",
              "      <td>42.0</td>\n",
              "      <td>79</td>\n",
              "      <td>2.7</td>\n",
              "    </tr>\n",
              "    <tr>\n",
              "      <th>22</th>\n",
              "      <td>43.0</td>\n",
              "      <td>68</td>\n",
              "      <td>2.3</td>\n",
              "    </tr>\n",
              "    <tr>\n",
              "      <th>23</th>\n",
              "      <td>44.0</td>\n",
              "      <td>44</td>\n",
              "      <td>1.5</td>\n",
              "    </tr>\n",
              "    <tr>\n",
              "      <th>24</th>\n",
              "      <td>45.0</td>\n",
              "      <td>55</td>\n",
              "      <td>1.9</td>\n",
              "    </tr>\n",
              "    <tr>\n",
              "      <th>25</th>\n",
              "      <td>46.0</td>\n",
              "      <td>48</td>\n",
              "      <td>1.6</td>\n",
              "    </tr>\n",
              "    <tr>\n",
              "      <th>26</th>\n",
              "      <td>47.0</td>\n",
              "      <td>54</td>\n",
              "      <td>1.8</td>\n",
              "    </tr>\n",
              "    <tr>\n",
              "      <th>27</th>\n",
              "      <td>48.0</td>\n",
              "      <td>41</td>\n",
              "      <td>1.4</td>\n",
              "    </tr>\n",
              "    <tr>\n",
              "      <th>28</th>\n",
              "      <td>49.0</td>\n",
              "      <td>41</td>\n",
              "      <td>1.4</td>\n",
              "    </tr>\n",
              "    <tr>\n",
              "      <th>29</th>\n",
              "      <td>50.0</td>\n",
              "      <td>38</td>\n",
              "      <td>1.3</td>\n",
              "    </tr>\n",
              "    <tr>\n",
              "      <th>30</th>\n",
              "      <td>51.0</td>\n",
              "      <td>25</td>\n",
              "      <td>0.8</td>\n",
              "    </tr>\n",
              "    <tr>\n",
              "      <th>31</th>\n",
              "      <td>52.0</td>\n",
              "      <td>37</td>\n",
              "      <td>1.2</td>\n",
              "    </tr>\n",
              "    <tr>\n",
              "      <th>32</th>\n",
              "      <td>53.0</td>\n",
              "      <td>30</td>\n",
              "      <td>1.0</td>\n",
              "    </tr>\n",
              "    <tr>\n",
              "      <th>33</th>\n",
              "      <td>54.0</td>\n",
              "      <td>16</td>\n",
              "      <td>0.5</td>\n",
              "    </tr>\n",
              "    <tr>\n",
              "      <th>34</th>\n",
              "      <td>55.0</td>\n",
              "      <td>30</td>\n",
              "      <td>1.0</td>\n",
              "    </tr>\n",
              "    <tr>\n",
              "      <th>35</th>\n",
              "      <td>56.0</td>\n",
              "      <td>19</td>\n",
              "      <td>0.6</td>\n",
              "    </tr>\n",
              "    <tr>\n",
              "      <th>36</th>\n",
              "      <td>57.0</td>\n",
              "      <td>10</td>\n",
              "      <td>0.3</td>\n",
              "    </tr>\n",
              "    <tr>\n",
              "      <th>37</th>\n",
              "      <td>58.0</td>\n",
              "      <td>9</td>\n",
              "      <td>0.3</td>\n",
              "    </tr>\n",
              "    <tr>\n",
              "      <th>38</th>\n",
              "      <td>59.0</td>\n",
              "      <td>4</td>\n",
              "      <td>0.1</td>\n",
              "    </tr>\n",
              "    <tr>\n",
              "      <th>39</th>\n",
              "      <td>60.0</td>\n",
              "      <td>7</td>\n",
              "      <td>0.2</td>\n",
              "    </tr>\n",
              "    <tr>\n",
              "      <th>40</th>\n",
              "      <td>61.0</td>\n",
              "      <td>10</td>\n",
              "      <td>0.3</td>\n",
              "    </tr>\n",
              "    <tr>\n",
              "      <th>41</th>\n",
              "      <td>62.0</td>\n",
              "      <td>4</td>\n",
              "      <td>0.1</td>\n",
              "    </tr>\n",
              "    <tr>\n",
              "      <th>42</th>\n",
              "      <td>63.0</td>\n",
              "      <td>4</td>\n",
              "      <td>0.1</td>\n",
              "    </tr>\n",
              "    <tr>\n",
              "      <th>43</th>\n",
              "      <td>64.0</td>\n",
              "      <td>1</td>\n",
              "      <td>0.0</td>\n",
              "    </tr>\n",
              "    <tr>\n",
              "      <th>44</th>\n",
              "      <td>65.0</td>\n",
              "      <td>3</td>\n",
              "      <td>0.1</td>\n",
              "    </tr>\n",
              "    <tr>\n",
              "      <th>45</th>\n",
              "      <td>66.0</td>\n",
              "      <td>2</td>\n",
              "      <td>0.1</td>\n",
              "    </tr>\n",
              "    <tr>\n",
              "      <th>46</th>\n",
              "      <td>67.0</td>\n",
              "      <td>2</td>\n",
              "      <td>0.1</td>\n",
              "    </tr>\n",
              "    <tr>\n",
              "      <th>47</th>\n",
              "      <td>68.0</td>\n",
              "      <td>1</td>\n",
              "      <td>0.0</td>\n",
              "    </tr>\n",
              "    <tr>\n",
              "      <th>48</th>\n",
              "      <td>69.0</td>\n",
              "      <td>2</td>\n",
              "      <td>0.1</td>\n",
              "    </tr>\n",
              "  </tbody>\n",
              "</table>\n",
              "</div>\n",
              "      <button class=\"colab-df-convert\" onclick=\"convertToInteractive('df-b34fda9f-e61a-4e90-aff2-5b59e7effbee')\"\n",
              "              title=\"Convert this dataframe to an interactive table.\"\n",
              "              style=\"display:none;\">\n",
              "        \n",
              "  <svg xmlns=\"http://www.w3.org/2000/svg\" height=\"24px\"viewBox=\"0 0 24 24\"\n",
              "       width=\"24px\">\n",
              "    <path d=\"M0 0h24v24H0V0z\" fill=\"none\"/>\n",
              "    <path d=\"M18.56 5.44l.94 2.06.94-2.06 2.06-.94-2.06-.94-.94-2.06-.94 2.06-2.06.94zm-11 1L8.5 8.5l.94-2.06 2.06-.94-2.06-.94L8.5 2.5l-.94 2.06-2.06.94zm10 10l.94 2.06.94-2.06 2.06-.94-2.06-.94-.94-2.06-.94 2.06-2.06.94z\"/><path d=\"M17.41 7.96l-1.37-1.37c-.4-.4-.92-.59-1.43-.59-.52 0-1.04.2-1.43.59L10.3 9.45l-7.72 7.72c-.78.78-.78 2.05 0 2.83L4 21.41c.39.39.9.59 1.41.59.51 0 1.02-.2 1.41-.59l7.78-7.78 2.81-2.81c.8-.78.8-2.07 0-2.86zM5.41 20L4 18.59l7.72-7.72 1.47 1.35L5.41 20z\"/>\n",
              "  </svg>\n",
              "      </button>\n",
              "      \n",
              "  <style>\n",
              "    .colab-df-container {\n",
              "      display:flex;\n",
              "      flex-wrap:wrap;\n",
              "      gap: 12px;\n",
              "    }\n",
              "\n",
              "    .colab-df-convert {\n",
              "      background-color: #E8F0FE;\n",
              "      border: none;\n",
              "      border-radius: 50%;\n",
              "      cursor: pointer;\n",
              "      display: none;\n",
              "      fill: #1967D2;\n",
              "      height: 32px;\n",
              "      padding: 0 0 0 0;\n",
              "      width: 32px;\n",
              "    }\n",
              "\n",
              "    .colab-df-convert:hover {\n",
              "      background-color: #E2EBFA;\n",
              "      box-shadow: 0px 1px 2px rgba(60, 64, 67, 0.3), 0px 1px 3px 1px rgba(60, 64, 67, 0.15);\n",
              "      fill: #174EA6;\n",
              "    }\n",
              "\n",
              "    [theme=dark] .colab-df-convert {\n",
              "      background-color: #3B4455;\n",
              "      fill: #D2E3FC;\n",
              "    }\n",
              "\n",
              "    [theme=dark] .colab-df-convert:hover {\n",
              "      background-color: #434B5C;\n",
              "      box-shadow: 0px 1px 3px 1px rgba(0, 0, 0, 0.15);\n",
              "      filter: drop-shadow(0px 1px 2px rgba(0, 0, 0, 0.3));\n",
              "      fill: #FFFFFF;\n",
              "    }\n",
              "  </style>\n",
              "\n",
              "      <script>\n",
              "        const buttonEl =\n",
              "          document.querySelector('#df-b34fda9f-e61a-4e90-aff2-5b59e7effbee button.colab-df-convert');\n",
              "        buttonEl.style.display =\n",
              "          google.colab.kernel.accessAllowed ? 'block' : 'none';\n",
              "\n",
              "        async function convertToInteractive(key) {\n",
              "          const element = document.querySelector('#df-b34fda9f-e61a-4e90-aff2-5b59e7effbee');\n",
              "          const dataTable =\n",
              "            await google.colab.kernel.invokeFunction('convertToInteractive',\n",
              "                                                     [key], {});\n",
              "          if (!dataTable) return;\n",
              "\n",
              "          const docLinkHtml = 'Like what you see? Visit the ' +\n",
              "            '<a target=\"_blank\" href=https://colab.research.google.com/notebooks/data_table.ipynb>data table notebook</a>'\n",
              "            + ' to learn more about interactive tables.';\n",
              "          element.innerHTML = '';\n",
              "          dataTable['output_type'] = 'display_data';\n",
              "          await google.colab.output.renderOutput(dataTable, element);\n",
              "          const docLink = document.createElement('div');\n",
              "          docLink.innerHTML = docLinkHtml;\n",
              "          element.appendChild(docLink);\n",
              "        }\n",
              "      </script>\n",
              "    </div>\n",
              "  </div>\n",
              "  "
            ]
          },
          "metadata": {},
          "execution_count": 9
        }
      ]
    },
    {
      "cell_type": "code",
      "source": [
        "# Plot Usia Nasabah\n",
        "\n",
        "data['age'].value_counts().plot.bar(figsize=(16, 6), title='Usia Nasabah Kartu Kredit')"
      ],
      "metadata": {
        "colab": {
          "base_uri": "https://localhost:8080/",
          "height": 0
        },
        "id": "bsPoCqqZw2Z_",
        "outputId": "23d4d6ad-9917-4631-cb8d-3a125e02dfac"
      },
      "execution_count": 10,
      "outputs": [
        {
          "output_type": "execute_result",
          "data": {
            "text/plain": [
              "<AxesSubplot:title={'center':'Usia Nasabah Kartu Kredit'}>"
            ]
          },
          "metadata": {},
          "execution_count": 10
        },
        {
          "output_type": "display_data",
          "data": {
            "text/plain": [
              "<Figure size 1152x432 with 1 Axes>"
            ],
            "image/png": "[encoded data removed]"
          },
          "metadata": {
            "needs_background": "light"
          }
        }
      ]
    },
    {
      "cell_type": "markdown",
      "source": [
        "> Usia nasabah pengguna kartu kredit berada pada rentang usia 21 sampai 69 tahun.\n",
        "\n",
        "> Pengguna terbanyak berada pada usia 36 tahun dengan total 171 nasabah.\n",
        "\n",
        "> Usia yang memiliki jumlah nasabah 100 orang beada pada rentang usai 24 sampai 36 tahun yang merupakan usia produkrf dan menjadi target kita."
      ],
      "metadata": {
        "id": "ztM84g1Pxp-N"
      }
    },
    {
      "cell_type": "code",
      "source": [
        "# Menampilkan Latarbelakang pendidikan nasabah\n",
        "\n",
        "edu_lvl= data.groupby(['education_level'], sort=True).size().reset_index(name='total')\n",
        "edu_lvl['percentage %'] = (((edu_lvl.total/data.shape[0]) * 100).round(1))\n",
        "edu_lvl.sort_values(by='total', ascending=False)"
      ],
      "metadata": {
        "colab": {
          "base_uri": "https://localhost:8080/",
          "height": 0
        },
        "id": "REfrjLWDkQuY",
        "outputId": "002bed92-b0ae-4513-9bd2-c1f604ae68a3"
      },
      "execution_count": 11,
      "outputs": [
        {
          "output_type": "execute_result",
          "data": {
            "text/plain": [
              "   education_level  total  percentage %\n",
              "2                2   1400          47.2\n",
              "1                1   1039          35.0\n",
              "3                3    483          16.3\n",
              "5                5     24           0.8\n",
              "4                4     13           0.4\n",
              "6                6      4           0.1\n",
              "0                0      2           0.1"
            ],
            "text/html": [
              "\n",
              "  <div id=\"df-204c2eb9-9646-4d79-8334-a14a3b6b85b4\">\n",
              "    <div class=\"colab-df-container\">\n",
              "      <div>\n",
              "<style scoped>\n",
              "    .dataframe tbody tr th:only-of-type {\n",
              "        vertical-align: middle;\n",
              "    }\n",
              "\n",
              "    .dataframe tbody tr th {\n",
              "        vertical-align: top;\n",
              "    }\n",
              "\n",
              "    .dataframe thead th {\n",
              "        text-align: right;\n",
              "    }\n",
              "</style>\n",
              "<table border=\"1\" class=\"dataframe\">\n",
              "  <thead>\n",
              "    <tr style=\"text-align: right;\">\n",
              "      <th></th>\n",
              "      <th>education_level</th>\n",
              "      <th>total</th>\n",
              "      <th>percentage %</th>\n",
              "    </tr>\n",
              "  </thead>\n",
              "  <tbody>\n",
              "    <tr>\n",
              "      <th>2</th>\n",
              "      <td>2</td>\n",
              "      <td>1400</td>\n",
              "      <td>47.2</td>\n",
              "    </tr>\n",
              "    <tr>\n",
              "      <th>1</th>\n",
              "      <td>1</td>\n",
              "      <td>1039</td>\n",
              "      <td>35.0</td>\n",
              "    </tr>\n",
              "    <tr>\n",
              "      <th>3</th>\n",
              "      <td>3</td>\n",
              "      <td>483</td>\n",
              "      <td>16.3</td>\n",
              "    </tr>\n",
              "    <tr>\n",
              "      <th>5</th>\n",
              "      <td>5</td>\n",
              "      <td>24</td>\n",
              "      <td>0.8</td>\n",
              "    </tr>\n",
              "    <tr>\n",
              "      <th>4</th>\n",
              "      <td>4</td>\n",
              "      <td>13</td>\n",
              "      <td>0.4</td>\n",
              "    </tr>\n",
              "    <tr>\n",
              "      <th>6</th>\n",
              "      <td>6</td>\n",
              "      <td>4</td>\n",
              "      <td>0.1</td>\n",
              "    </tr>\n",
              "    <tr>\n",
              "      <th>0</th>\n",
              "      <td>0</td>\n",
              "      <td>2</td>\n",
              "      <td>0.1</td>\n",
              "    </tr>\n",
              "  </tbody>\n",
              "</table>\n",
              "</div>\n",
              "      <button class=\"colab-df-convert\" onclick=\"convertToInteractive('df-204c2eb9-9646-4d79-8334-a14a3b6b85b4')\"\n",
              "              title=\"Convert this dataframe to an interactive table.\"\n",
              "              style=\"display:none;\">\n",
              "        \n",
              "  <svg xmlns=\"http://www.w3.org/2000/svg\" height=\"24px\"viewBox=\"0 0 24 24\"\n",
              "       width=\"24px\">\n",
              "    <path d=\"M0 0h24v24H0V0z\" fill=\"none\"/>\n",
              "    <path d=\"M18.56 5.44l.94 2.06.94-2.06 2.06-.94-2.06-.94-.94-2.06-.94 2.06-2.06.94zm-11 1L8.5 8.5l.94-2.06 2.06-.94-2.06-.94L8.5 2.5l-.94 2.06-2.06.94zm10 10l.94 2.06.94-2.06 2.06-.94-2.06-.94-.94-2.06-.94 2.06-2.06.94z\"/><path d=\"M17.41 7.96l-1.37-1.37c-.4-.4-.92-.59-1.43-.59-.52 0-1.04.2-1.43.59L10.3 9.45l-7.72 7.72c-.78.78-.78 2.05 0 2.83L4 21.41c.39.39.9.59 1.41.59.51 0 1.02-.2 1.41-.59l7.78-7.78 2.81-2.81c.8-.78.8-2.07 0-2.86zM5.41 20L4 18.59l7.72-7.72 1.47 1.35L5.41 20z\"/>\n",
              "  </svg>\n",
              "      </button>\n",
              "      \n",
              "  <style>\n",
              "    .colab-df-container {\n",
              "      display:flex;\n",
              "      flex-wrap:wrap;\n",
              "      gap: 12px;\n",
              "    }\n",
              "\n",
              "    .colab-df-convert {\n",
              "      background-color: #E8F0FE;\n",
              "      border: none;\n",
              "      border-radius: 50%;\n",
              "      cursor: pointer;\n",
              "      display: none;\n",
              "      fill: #1967D2;\n",
              "      height: 32px;\n",
              "      padding: 0 0 0 0;\n",
              "      width: 32px;\n",
              "    }\n",
              "\n",
              "    .colab-df-convert:hover {\n",
              "      background-color: #E2EBFA;\n",
              "      box-shadow: 0px 1px 2px rgba(60, 64, 67, 0.3), 0px 1px 3px 1px rgba(60, 64, 67, 0.15);\n",
              "      fill: #174EA6;\n",
              "    }\n",
              "\n",
              "    [theme=dark] .colab-df-convert {\n",
              "      background-color: #3B4455;\n",
              "      fill: #D2E3FC;\n",
              "    }\n",
              "\n",
              "    [theme=dark] .colab-df-convert:hover {\n",
              "      background-color: #434B5C;\n",
              "      box-shadow: 0px 1px 3px 1px rgba(0, 0, 0, 0.15);\n",
              "      filter: drop-shadow(0px 1px 2px rgba(0, 0, 0, 0.3));\n",
              "      fill: #FFFFFF;\n",
              "    }\n",
              "  </style>\n",
              "\n",
              "      <script>\n",
              "        const buttonEl =\n",
              "          document.querySelector('#df-204c2eb9-9646-4d79-8334-a14a3b6b85b4 button.colab-df-convert');\n",
              "        buttonEl.style.display =\n",
              "          google.colab.kernel.accessAllowed ? 'block' : 'none';\n",
              "\n",
              "        async function convertToInteractive(key) {\n",
              "          const element = document.querySelector('#df-204c2eb9-9646-4d79-8334-a14a3b6b85b4');\n",
              "          const dataTable =\n",
              "            await google.colab.kernel.invokeFunction('convertToInteractive',\n",
              "                                                     [key], {});\n",
              "          if (!dataTable) return;\n",
              "\n",
              "          const docLinkHtml = 'Like what you see? Visit the ' +\n",
              "            '<a target=\"_blank\" href=https://colab.research.google.com/notebooks/data_table.ipynb>data table notebook</a>'\n",
              "            + ' to learn more about interactive tables.';\n",
              "          element.innerHTML = '';\n",
              "          dataTable['output_type'] = 'display_data';\n",
              "          await google.colab.output.renderOutput(dataTable, element);\n",
              "          const docLink = document.createElement('div');\n",
              "          docLink.innerHTML = docLinkHtml;\n",
              "          element.appendChild(docLink);\n",
              "        }\n",
              "      </script>\n",
              "    </div>\n",
              "  </div>\n",
              "  "
            ]
          },
          "metadata": {},
          "execution_count": 11
        }
      ]
    },
    {
      "cell_type": "code",
      "source": [
        "# Plot Latarbelakang pendidikan nasabah\n",
        "\n",
        "data['education_level'].value_counts().plot.bar(figsize=(6, 6), title='Perbandingan Latarbelakang Pendidikan')"
      ],
      "metadata": {
        "colab": {
          "base_uri": "https://localhost:8080/",
          "height": 0
        },
        "id": "qtAG9JVIk7n6",
        "outputId": "b40372eb-c010-4305-a20b-933db90ec8a6"
      },
      "execution_count": 12,
      "outputs": [
        {
          "output_type": "execute_result",
          "data": {
            "text/plain": [
              "<AxesSubplot:title={'center':'Perbandingan Latarbelakang Pendidikan'}>"
            ]
          },
          "metadata": {},
          "execution_count": 12
        },
        {
          "output_type": "display_data",
          "data": {
            "text/plain": [
              "<Figure size 432x432 with 1 Axes>"
            ],
            "image/png": "[encoded data removed]"
          },
          "metadata": {
            "needs_background": "light"
          }
        }
      ]
    },
    {
      "cell_type": "markdown",
      "source": [
        "> Dari total 2965 baris data yang dimiliki, akan ditunjukkan lataerbelakang pendidikan setiap orang sebagai berikut :\n",
        ", \n",
        "\n",
        "*   42,7 % atau 1400 orang memiliki latarbelakang pendidikan University (label 2),\n",
        "*   35,0 % atau 1039 orang memiliki latarbelakang pendidikan Graduate School (label 1),\n",
        "*   16,3 % atau 483 orang dengan latarbelakang pendidikan High School (label 3),\n",
        "*   0,8 % atau 24 orang dengan latarbelakang pendidikan Unknown (label 5),\n",
        "*   0,4 % atau 13 orang dengan latarbelakang pendidikan Other (label 4),\n",
        "*   0,1 % atau 4 orang dengan latarbelakang pendidikan Unknown (label 6), dan\n",
        "*   0,1 % atau 2 orang dengan latarbelakang pendidikan Unknown (label 0).\n",
        "\n",
        "> Dari info yang dimiliki menunjukan bahwa mayoritas pengguna kartu kredit merupakan nasabah dengan latarbelakang pendidikan dari Universitas dengan total 1400 nasabah."
      ],
      "metadata": {
        "id": "roiS4ZPYldU5"
      }
    },
    {
      "cell_type": "code",
      "source": [
        "# Menampilkan status perkawinan nasabah\n",
        "\n",
        "ms= data.groupby(['marital_status'], sort=True).size().reset_index(name='total')\n",
        "ms['percentage %'] = (((ms.total/data.shape[0]) * 100).round(1))\n",
        "ms.sort_values(by='total', ascending=False)"
      ],
      "metadata": {
        "colab": {
          "base_uri": "https://localhost:8080/",
          "height": 0
        },
        "id": "TexmCbDHYArp",
        "outputId": "d0ef0e0c-9664-462c-e987-7a67d3746800"
      },
      "execution_count": 13,
      "outputs": [
        {
          "output_type": "execute_result",
          "data": {
            "text/plain": [
              "   marital_status  total  percentage %\n",
              "2               2   1594          53.8\n",
              "1               1   1332          44.9\n",
              "3               3     35           1.2\n",
              "0               0      4           0.1"
            ],
            "text/html": [
              "\n",
              "  <div id=\"df-b63ff4d4-0723-40b9-99cc-1457139dc3c4\">\n",
              "    <div class=\"colab-df-container\">\n",
              "      <div>\n",
              "<style scoped>\n",
              "    .dataframe tbody tr th:only-of-type {\n",
              "        vertical-align: middle;\n",
              "    }\n",
              "\n",
              "    .dataframe tbody tr th {\n",
              "        vertical-align: top;\n",
              "    }\n",
              "\n",
              "    .dataframe thead th {\n",
              "        text-align: right;\n",
              "    }\n",
              "</style>\n",
              "<table border=\"1\" class=\"dataframe\">\n",
              "  <thead>\n",
              "    <tr style=\"text-align: right;\">\n",
              "      <th></th>\n",
              "      <th>marital_status</th>\n",
              "      <th>total</th>\n",
              "      <th>percentage %</th>\n",
              "    </tr>\n",
              "  </thead>\n",
              "  <tbody>\n",
              "    <tr>\n",
              "      <th>2</th>\n",
              "      <td>2</td>\n",
              "      <td>1594</td>\n",
              "      <td>53.8</td>\n",
              "    </tr>\n",
              "    <tr>\n",
              "      <th>1</th>\n",
              "      <td>1</td>\n",
              "      <td>1332</td>\n",
              "      <td>44.9</td>\n",
              "    </tr>\n",
              "    <tr>\n",
              "      <th>3</th>\n",
              "      <td>3</td>\n",
              "      <td>35</td>\n",
              "      <td>1.2</td>\n",
              "    </tr>\n",
              "    <tr>\n",
              "      <th>0</th>\n",
              "      <td>0</td>\n",
              "      <td>4</td>\n",
              "      <td>0.1</td>\n",
              "    </tr>\n",
              "  </tbody>\n",
              "</table>\n",
              "</div>\n",
              "      <button class=\"colab-df-convert\" onclick=\"convertToInteractive('df-b63ff4d4-0723-40b9-99cc-1457139dc3c4')\"\n",
              "              title=\"Convert this dataframe to an interactive table.\"\n",
              "              style=\"display:none;\">\n",
              "        \n",
              "  <svg xmlns=\"http://www.w3.org/2000/svg\" height=\"24px\"viewBox=\"0 0 24 24\"\n",
              "       width=\"24px\">\n",
              "    <path d=\"M0 0h24v24H0V0z\" fill=\"none\"/>\n",
              "    <path d=\"M18.56 5.44l.94 2.06.94-2.06 2.06-.94-2.06-.94-.94-2.06-.94 2.06-2.06.94zm-11 1L8.5 8.5l.94-2.06 2.06-.94-2.06-.94L8.5 2.5l-.94 2.06-2.06.94zm10 10l.94 2.06.94-2.06 2.06-.94-2.06-.94-.94-2.06-.94 2.06-2.06.94z\"/><path d=\"M17.41 7.96l-1.37-1.37c-.4-.4-.92-.59-1.43-.59-.52 0-1.04.2-1.43.59L10.3 9.45l-7.72 7.72c-.78.78-.78 2.05 0 2.83L4 21.41c.39.39.9.59 1.41.59.51 0 1.02-.2 1.41-.59l7.78-7.78 2.81-2.81c.8-.78.8-2.07 0-2.86zM5.41 20L4 18.59l7.72-7.72 1.47 1.35L5.41 20z\"/>\n",
              "  </svg>\n",
              "      </button>\n",
              "      \n",
              "  <style>\n",
              "    .colab-df-container {\n",
              "      display:flex;\n",
              "      flex-wrap:wrap;\n",
              "      gap: 12px;\n",
              "    }\n",
              "\n",
              "    .colab-df-convert {\n",
              "      background-color: #E8F0FE;\n",
              "      border: none;\n",
              "      border-radius: 50%;\n",
              "      cursor: pointer;\n",
              "      display: none;\n",
              "      fill: #1967D2;\n",
              "      height: 32px;\n",
              "      padding: 0 0 0 0;\n",
              "      width: 32px;\n",
              "    }\n",
              "\n",
              "    .colab-df-convert:hover {\n",
              "      background-color: #E2EBFA;\n",
              "      box-shadow: 0px 1px 2px rgba(60, 64, 67, 0.3), 0px 1px 3px 1px rgba(60, 64, 67, 0.15);\n",
              "      fill: #174EA6;\n",
              "    }\n",
              "\n",
              "    [theme=dark] .colab-df-convert {\n",
              "      background-color: #3B4455;\n",
              "      fill: #D2E3FC;\n",
              "    }\n",
              "\n",
              "    [theme=dark] .colab-df-convert:hover {\n",
              "      background-color: #434B5C;\n",
              "      box-shadow: 0px 1px 3px 1px rgba(0, 0, 0, 0.15);\n",
              "      filter: drop-shadow(0px 1px 2px rgba(0, 0, 0, 0.3));\n",
              "      fill: #FFFFFF;\n",
              "    }\n",
              "  </style>\n",
              "\n",
              "      <script>\n",
              "        const buttonEl =\n",
              "          document.querySelector('#df-b63ff4d4-0723-40b9-99cc-1457139dc3c4 button.colab-df-convert');\n",
              "        buttonEl.style.display =\n",
              "          google.colab.kernel.accessAllowed ? 'block' : 'none';\n",
              "\n",
              "        async function convertToInteractive(key) {\n",
              "          const element = document.querySelector('#df-b63ff4d4-0723-40b9-99cc-1457139dc3c4');\n",
              "          const dataTable =\n",
              "            await google.colab.kernel.invokeFunction('convertToInteractive',\n",
              "                                                     [key], {});\n",
              "          if (!dataTable) return;\n",
              "\n",
              "          const docLinkHtml = 'Like what you see? Visit the ' +\n",
              "            '<a target=\"_blank\" href=https://colab.research.google.com/notebooks/data_table.ipynb>data table notebook</a>'\n",
              "            + ' to learn more about interactive tables.';\n",
              "          element.innerHTML = '';\n",
              "          dataTable['output_type'] = 'display_data';\n",
              "          await google.colab.output.renderOutput(dataTable, element);\n",
              "          const docLink = document.createElement('div');\n",
              "          docLink.innerHTML = docLinkHtml;\n",
              "          element.appendChild(docLink);\n",
              "        }\n",
              "      </script>\n",
              "    </div>\n",
              "  </div>\n",
              "  "
            ]
          },
          "metadata": {},
          "execution_count": 13
        }
      ]
    },
    {
      "cell_type": "code",
      "source": [
        "# Plot status perkawinan Nasabah Kartu Kredit\n",
        "\n",
        "data['marital_status'].value_counts().plot.bar(figsize=(6, 6), title='Perbandingan Jenis Kelamin')"
      ],
      "metadata": {
        "colab": {
          "base_uri": "https://localhost:8080/",
          "height": 0
        },
        "id": "qrYrMYfuYTof",
        "outputId": "39cf55fc-f0cf-49f1-8913-710aba88d772"
      },
      "execution_count": 14,
      "outputs": [
        {
          "output_type": "execute_result",
          "data": {
            "text/plain": [
              "<AxesSubplot:title={'center':'Perbandingan Jenis Kelamin'}>"
            ]
          },
          "metadata": {},
          "execution_count": 14
        },
        {
          "output_type": "display_data",
          "data": {
            "text/plain": [
              "<Figure size 432x432 with 1 Axes>"
            ],
            "image/png": "[encoded data removed]"
          },
          "metadata": {
            "needs_background": "light"
          }
        }
      ]
    },
    {
      "cell_type": "markdown",
      "source": [
        "> Status perkawinan nasabah pengguna kartu kredit terdiri atas 4 kelompok yaitu : \n",
        "\n",
        "*   53.8 % atau 1594 orang memiliki status perkawinan menikah (label 2),\n",
        "*   44.9 % atau 1332 orang memiliki status perkawinan belum kawin (label 1),\n",
        "*   1.2 % atau 35 orang dengan status perkawainan lainnya (label 3),\n",
        "*   0,1 % atau 4 orang dengan status perkawinan lainnya (label 0),\n",
        "\n",
        "> Dari info yang dimiliki menunjukan bahwa perbandingan nasabah pemngguna kartu kredit yang sudah meniikah dan belum menikah memiliki perbandingan yang tidak terlalu jauh."
      ],
      "metadata": {
        "id": "N8UguajkYiZB"
      }
    },
    {
      "cell_type": "markdown",
      "source": [
        "# Data Preprocessing"
      ],
      "metadata": {
        "id": "K62y8pVvB5LC"
      }
    },
    {
      "cell_type": "markdown",
      "source": [
        "> Setelah melakukan eksplorasi terhadapa data yang dimiliki, selanjutnya dilakukan pengolahan prepocessing pada data."
      ],
      "metadata": {
        "id": "Q46Oal7oaIKM"
      }
    },
    {
      "cell_type": "code",
      "source": [
        "# Split data menjadi X dan y\n",
        "\n",
        "X = data.drop(['default_payment_next_month'], axis=1)\n",
        "y = data['default_payment_next_month']\n",
        "X"
      ],
      "metadata": {
        "colab": {
          "base_uri": "https://localhost:8080/",
          "height": 488
        },
        "id": "AO68iHQy7nAJ",
        "outputId": "f9b06241-4f50-4453-c801-a3c87bb1477b"
      },
      "execution_count": 15,
      "outputs": [
        {
          "output_type": "execute_result",
          "data": {
            "text/plain": [
              "      limit_balance  sex  education_level  marital_status   age  pay_0  pay_2  \\\n",
              "0          200000.0    1                4               1  49.0    0.0    0.0   \n",
              "1          260000.0    2                4               2  33.0    0.0    0.0   \n",
              "2          150000.0    1                4               2  32.0    0.0    0.0   \n",
              "3          300000.0    2                4               2  32.0    0.0    0.0   \n",
              "4          130000.0    1                1               1  45.0    0.0    0.0   \n",
              "...             ...  ...              ...             ...   ...    ...    ...   \n",
              "2960       120000.0    1                2               2  41.0    1.0    2.0   \n",
              "2961       360000.0    1                1               1  38.0   -1.0   -1.0   \n",
              "2962        50000.0    1                2               1  61.0    2.0   -1.0   \n",
              "2963        50000.0    1                2               1  41.0   -1.0   -1.0   \n",
              "2964       450000.0    2                2               1  38.0   -2.0   -2.0   \n",
              "\n",
              "      pay_3  pay_4  pay_5  ...  bill_amt_3  bill_amt_4  bill_amt_5  \\\n",
              "0       0.0    0.0    0.0  ...     50942.0     50146.0     50235.0   \n",
              "1       0.0    0.0    0.0  ...     27086.0     27821.0     30767.0   \n",
              "2       0.0   -1.0    0.0  ...    161192.0    150464.0    143375.0   \n",
              "3       0.0    0.0    0.0  ...     64747.0     65150.0      -450.0   \n",
              "4       0.0    0.0    0.0  ...     61156.0     62377.0     63832.0   \n",
              "...     ...    ...    ...  ...         ...         ...         ...   \n",
              "2960    0.0    0.0   -1.0  ...     27941.0     11990.0       390.0   \n",
              "2961   -1.0   -1.0   -1.0  ...       390.0       390.0       390.0   \n",
              "2962   -1.0   -1.0   -1.0  ...       390.0       390.0       390.0   \n",
              "2963   -1.0    0.0   -1.0  ...       780.0       390.0       390.0   \n",
              "2964   -2.0   -2.0   -2.0  ...       390.0       390.0       390.0   \n",
              "\n",
              "      bill_amt_6  pay_amt_1  pay_amt_2  pay_amt_3  pay_amt_4  pay_amt_5  \\\n",
              "0        48984.0     1689.0     2164.0     2500.0     3480.0     2500.0   \n",
              "1        29890.0     5000.0     5000.0     1137.0     5000.0     1085.0   \n",
              "2       146411.0     4019.0   146896.0   157436.0     4600.0     4709.0   \n",
              "3          700.0    15235.0     1491.0     1303.0        0.0     2000.0   \n",
              "4        65099.0     2886.0     2908.0     2129.0     2354.0     2366.0   \n",
              "...          ...        ...        ...        ...        ...        ...   \n",
              "2960       390.0        0.0     1600.0     1000.0      390.0      390.0   \n",
              "2961       390.0        0.0      390.0      390.0      390.0      390.0   \n",
              "2962       390.0      390.0      390.0      390.0      390.0      390.0   \n",
              "2963       390.0      390.0      780.0        0.0      390.0      390.0   \n",
              "2964       390.0      390.0      780.0      390.0      390.0      390.0   \n",
              "\n",
              "      pay_amt_6  \n",
              "0        3000.0  \n",
              "1        5000.0  \n",
              "2        5600.0  \n",
              "3        1400.0  \n",
              "4        2291.0  \n",
              "...         ...  \n",
              "2960        0.0  \n",
              "2961      390.0  \n",
              "2962      390.0  \n",
              "2963     1170.0  \n",
              "2964      390.0  \n",
              "\n",
              "[2965 rows x 23 columns]"
            ],
            "text/html": [
              "\n",
              "  <div id=\"df-d635bb54-e396-4a3e-b5e2-6d9d9b661708\">\n",
              "    <div class=\"colab-df-container\">\n",
              "      <div>\n",
              "<style scoped>\n",
              "    .dataframe tbody tr th:only-of-type {\n",
              "        vertical-align: middle;\n",
              "    }\n",
              "\n",
              "    .dataframe tbody tr th {\n",
              "        vertical-align: top;\n",
              "    }\n",
              "\n",
              "    .dataframe thead th {\n",
              "        text-align: right;\n",
              "    }\n",
              "</style>\n",
              "<table border=\"1\" class=\"dataframe\">\n",
              "  <thead>\n",
              "    <tr style=\"text-align: right;\">\n",
              "      <th></th>\n",
              "      <th>limit_balance</th>\n",
              "      <th>sex</th>\n",
              "      <th>education_level</th>\n",
              "      <th>marital_status</th>\n",
              "      <th>age</th>\n",
              "      <th>pay_0</th>\n",
              "      <th>pay_2</th>\n",
              "      <th>pay_3</th>\n",
              "      <th>pay_4</th>\n",
              "      <th>pay_5</th>\n",
              "      <th>...</th>\n",
              "      <th>bill_amt_3</th>\n",
              "      <th>bill_amt_4</th>\n",
              "      <th>bill_amt_5</th>\n",
              "      <th>bill_amt_6</th>\n",
              "      <th>pay_amt_1</th>\n",
              "      <th>pay_amt_2</th>\n",
              "      <th>pay_amt_3</th>\n",
              "      <th>pay_amt_4</th>\n",
              "      <th>pay_amt_5</th>\n",
              "      <th>pay_amt_6</th>\n",
              "    </tr>\n",
              "  </thead>\n",
              "  <tbody>\n",
              "    <tr>\n",
              "      <th>0</th>\n",
              "      <td>200000.0</td>\n",
              "      <td>1</td>\n",
              "      <td>4</td>\n",
              "      <td>1</td>\n",
              "      <td>49.0</td>\n",
              "      <td>0.0</td>\n",
              "      <td>0.0</td>\n",
              "      <td>0.0</td>\n",
              "      <td>0.0</td>\n",
              "      <td>0.0</td>\n",
              "      <td>...</td>\n",
              "      <td>50942.0</td>\n",
              "      <td>50146.0</td>\n",
              "      <td>50235.0</td>\n",
              "      <td>48984.0</td>\n",
              "      <td>1689.0</td>\n",
              "      <td>2164.0</td>\n",
              "      <td>2500.0</td>\n",
              "      <td>3480.0</td>\n",
              "      <td>2500.0</td>\n",
              "      <td>3000.0</td>\n",
              "    </tr>\n",
              "    <tr>\n",
              "      <th>1</th>\n",
              "      <td>260000.0</td>\n",
              "      <td>2</td>\n",
              "      <td>4</td>\n",
              "      <td>2</td>\n",
              "      <td>33.0</td>\n",
              "      <td>0.0</td>\n",
              "      <td>0.0</td>\n",
              "      <td>0.0</td>\n",
              "      <td>0.0</td>\n",
              "      <td>0.0</td>\n",
              "      <td>...</td>\n",
              "      <td>27086.0</td>\n",
              "      <td>27821.0</td>\n",
              "      <td>30767.0</td>\n",
              "      <td>29890.0</td>\n",
              "      <td>5000.0</td>\n",
              "      <td>5000.0</td>\n",
              "      <td>1137.0</td>\n",
              "      <td>5000.0</td>\n",
              "      <td>1085.0</td>\n",
              "      <td>5000.0</td>\n",
              "    </tr>\n",
              "    <tr>\n",
              "      <th>2</th>\n",
              "      <td>150000.0</td>\n",
              "      <td>1</td>\n",
              "      <td>4</td>\n",
              "      <td>2</td>\n",
              "      <td>32.0</td>\n",
              "      <td>0.0</td>\n",
              "      <td>0.0</td>\n",
              "      <td>0.0</td>\n",
              "      <td>-1.0</td>\n",
              "      <td>0.0</td>\n",
              "      <td>...</td>\n",
              "      <td>161192.0</td>\n",
              "      <td>150464.0</td>\n",
              "      <td>143375.0</td>\n",
              "      <td>146411.0</td>\n",
              "      <td>4019.0</td>\n",
              "      <td>146896.0</td>\n",
              "      <td>157436.0</td>\n",
              "      <td>4600.0</td>\n",
              "      <td>4709.0</td>\n",
              "      <td>5600.0</td>\n",
              "    </tr>\n",
              "    <tr>\n",
              "      <th>3</th>\n",
              "      <td>300000.0</td>\n",
              "      <td>2</td>\n",
              "      <td>4</td>\n",
              "      <td>2</td>\n",
              "      <td>32.0</td>\n",
              "      <td>0.0</td>\n",
              "      <td>0.0</td>\n",
              "      <td>0.0</td>\n",
              "      <td>0.0</td>\n",
              "      <td>0.0</td>\n",
              "      <td>...</td>\n",
              "      <td>64747.0</td>\n",
              "      <td>65150.0</td>\n",
              "      <td>-450.0</td>\n",
              "      <td>700.0</td>\n",
              "      <td>15235.0</td>\n",
              "      <td>1491.0</td>\n",
              "      <td>1303.0</td>\n",
              "      <td>0.0</td>\n",
              "      <td>2000.0</td>\n",
              "      <td>1400.0</td>\n",
              "    </tr>\n",
              "    <tr>\n",
              "      <th>4</th>\n",
              "      <td>130000.0</td>\n",
              "      <td>1</td>\n",
              "      <td>1</td>\n",
              "      <td>1</td>\n",
              "      <td>45.0</td>\n",
              "      <td>0.0</td>\n",
              "      <td>0.0</td>\n",
              "      <td>0.0</td>\n",
              "      <td>0.0</td>\n",
              "      <td>0.0</td>\n",
              "      <td>...</td>\n",
              "      <td>61156.0</td>\n",
              "      <td>62377.0</td>\n",
              "      <td>63832.0</td>\n",
              "      <td>65099.0</td>\n",
              "      <td>2886.0</td>\n",
              "      <td>2908.0</td>\n",
              "      <td>2129.0</td>\n",
              "      <td>2354.0</td>\n",
              "      <td>2366.0</td>\n",
              "      <td>2291.0</td>\n",
              "    </tr>\n",
              "    <tr>\n",
              "      <th>...</th>\n",
              "      <td>...</td>\n",
              "      <td>...</td>\n",
              "      <td>...</td>\n",
              "      <td>...</td>\n",
              "      <td>...</td>\n",
              "      <td>...</td>\n",
              "      <td>...</td>\n",
              "      <td>...</td>\n",
              "      <td>...</td>\n",
              "      <td>...</td>\n",
              "      <td>...</td>\n",
              "      <td>...</td>\n",
              "      <td>...</td>\n",
              "      <td>...</td>\n",
              "      <td>...</td>\n",
              "      <td>...</td>\n",
              "      <td>...</td>\n",
              "      <td>...</td>\n",
              "      <td>...</td>\n",
              "      <td>...</td>\n",
              "      <td>...</td>\n",
              "    </tr>\n",
              "    <tr>\n",
              "      <th>2960</th>\n",
              "      <td>120000.0</td>\n",
              "      <td>1</td>\n",
              "      <td>2</td>\n",
              "      <td>2</td>\n",
              "      <td>41.0</td>\n",
              "      <td>1.0</td>\n",
              "      <td>2.0</td>\n",
              "      <td>0.0</td>\n",
              "      <td>0.0</td>\n",
              "      <td>-1.0</td>\n",
              "      <td>...</td>\n",
              "      <td>27941.0</td>\n",
              "      <td>11990.0</td>\n",
              "      <td>390.0</td>\n",
              "      <td>390.0</td>\n",
              "      <td>0.0</td>\n",
              "      <td>1600.0</td>\n",
              "      <td>1000.0</td>\n",
              "      <td>390.0</td>\n",
              "      <td>390.0</td>\n",
              "      <td>0.0</td>\n",
              "    </tr>\n",
              "    <tr>\n",
              "      <th>2961</th>\n",
              "      <td>360000.0</td>\n",
              "      <td>1</td>\n",
              "      <td>1</td>\n",
              "      <td>1</td>\n",
              "      <td>38.0</td>\n",
              "      <td>-1.0</td>\n",
              "      <td>-1.0</td>\n",
              "      <td>-1.0</td>\n",
              "      <td>-1.0</td>\n",
              "      <td>-1.0</td>\n",
              "      <td>...</td>\n",
              "      <td>390.0</td>\n",
              "      <td>390.0</td>\n",
              "      <td>390.0</td>\n",
              "      <td>390.0</td>\n",
              "      <td>0.0</td>\n",
              "      <td>390.0</td>\n",
              "      <td>390.0</td>\n",
              "      <td>390.0</td>\n",
              "      <td>390.0</td>\n",
              "      <td>390.0</td>\n",
              "    </tr>\n",
              "    <tr>\n",
              "      <th>2962</th>\n",
              "      <td>50000.0</td>\n",
              "      <td>1</td>\n",
              "      <td>2</td>\n",
              "      <td>1</td>\n",
              "      <td>61.0</td>\n",
              "      <td>2.0</td>\n",
              "      <td>-1.0</td>\n",
              "      <td>-1.0</td>\n",
              "      <td>-1.0</td>\n",
              "      <td>-1.0</td>\n",
              "      <td>...</td>\n",
              "      <td>390.0</td>\n",
              "      <td>390.0</td>\n",
              "      <td>390.0</td>\n",
              "      <td>390.0</td>\n",
              "      <td>390.0</td>\n",
              "      <td>390.0</td>\n",
              "      <td>390.0</td>\n",
              "      <td>390.0</td>\n",
              "      <td>390.0</td>\n",
              "      <td>390.0</td>\n",
              "    </tr>\n",
              "    <tr>\n",
              "      <th>2963</th>\n",
              "      <td>50000.0</td>\n",
              "      <td>1</td>\n",
              "      <td>2</td>\n",
              "      <td>1</td>\n",
              "      <td>41.0</td>\n",
              "      <td>-1.0</td>\n",
              "      <td>-1.0</td>\n",
              "      <td>-1.0</td>\n",
              "      <td>0.0</td>\n",
              "      <td>-1.0</td>\n",
              "      <td>...</td>\n",
              "      <td>780.0</td>\n",
              "      <td>390.0</td>\n",
              "      <td>390.0</td>\n",
              "      <td>390.0</td>\n",
              "      <td>390.0</td>\n",
              "      <td>780.0</td>\n",
              "      <td>0.0</td>\n",
              "      <td>390.0</td>\n",
              "      <td>390.0</td>\n",
              "      <td>1170.0</td>\n",
              "    </tr>\n",
              "    <tr>\n",
              "      <th>2964</th>\n",
              "      <td>450000.0</td>\n",
              "      <td>2</td>\n",
              "      <td>2</td>\n",
              "      <td>1</td>\n",
              "      <td>38.0</td>\n",
              "      <td>-2.0</td>\n",
              "      <td>-2.0</td>\n",
              "      <td>-2.0</td>\n",
              "      <td>-2.0</td>\n",
              "      <td>-2.0</td>\n",
              "      <td>...</td>\n",
              "      <td>390.0</td>\n",
              "      <td>390.0</td>\n",
              "      <td>390.0</td>\n",
              "      <td>390.0</td>\n",
              "      <td>390.0</td>\n",
              "      <td>780.0</td>\n",
              "      <td>390.0</td>\n",
              "      <td>390.0</td>\n",
              "      <td>390.0</td>\n",
              "      <td>390.0</td>\n",
              "    </tr>\n",
              "  </tbody>\n",
              "</table>\n",
              "<p>2965 rows × 23 columns</p>\n",
              "</div>\n",
              "      <button class=\"colab-df-convert\" onclick=\"convertToInteractive('df-d635bb54-e396-4a3e-b5e2-6d9d9b661708')\"\n",
              "              title=\"Convert this dataframe to an interactive table.\"\n",
              "              style=\"display:none;\">\n",
              "        \n",
              "  <svg xmlns=\"http://www.w3.org/2000/svg\" height=\"24px\"viewBox=\"0 0 24 24\"\n",
              "       width=\"24px\">\n",
              "    <path d=\"M0 0h24v24H0V0z\" fill=\"none\"/>\n",
              "    <path d=\"M18.56 5.44l.94 2.06.94-2.06 2.06-.94-2.06-.94-.94-2.06-.94 2.06-2.06.94zm-11 1L8.5 8.5l.94-2.06 2.06-.94-2.06-.94L8.5 2.5l-.94 2.06-2.06.94zm10 10l.94 2.06.94-2.06 2.06-.94-2.06-.94-.94-2.06-.94 2.06-2.06.94z\"/><path d=\"M17.41 7.96l-1.37-1.37c-.4-.4-.92-.59-1.43-.59-.52 0-1.04.2-1.43.59L10.3 9.45l-7.72 7.72c-.78.78-.78 2.05 0 2.83L4 21.41c.39.39.9.59 1.41.59.51 0 1.02-.2 1.41-.59l7.78-7.78 2.81-2.81c.8-.78.8-2.07 0-2.86zM5.41 20L4 18.59l7.72-7.72 1.47 1.35L5.41 20z\"/>\n",
              "  </svg>\n",
              "      </button>\n",
              "      \n",
              "  <style>\n",
              "    .colab-df-container {\n",
              "      display:flex;\n",
              "      flex-wrap:wrap;\n",
              "      gap: 12px;\n",
              "    }\n",
              "\n",
              "    .colab-df-convert {\n",
              "      background-color: #E8F0FE;\n",
              "      border: none;\n",
              "      border-radius: 50%;\n",
              "      cursor: pointer;\n",
              "      display: none;\n",
              "      fill: #1967D2;\n",
              "      height: 32px;\n",
              "      padding: 0 0 0 0;\n",
              "      width: 32px;\n",
              "    }\n",
              "\n",
              "    .colab-df-convert:hover {\n",
              "      background-color: #E2EBFA;\n",
              "      box-shadow: 0px 1px 2px rgba(60, 64, 67, 0.3), 0px 1px 3px 1px rgba(60, 64, 67, 0.15);\n",
              "      fill: #174EA6;\n",
              "    }\n",
              "\n",
              "    [theme=dark] .colab-df-convert {\n",
              "      background-color: #3B4455;\n",
              "      fill: #D2E3FC;\n",
              "    }\n",
              "\n",
              "    [theme=dark] .colab-df-convert:hover {\n",
              "      background-color: #434B5C;\n",
              "      box-shadow: 0px 1px 3px 1px rgba(0, 0, 0, 0.15);\n",
              "      filter: drop-shadow(0px 1px 2px rgba(0, 0, 0, 0.3));\n",
              "      fill: #FFFFFF;\n",
              "    }\n",
              "  </style>\n",
              "\n",
              "      <script>\n",
              "        const buttonEl =\n",
              "          document.querySelector('#df-d635bb54-e396-4a3e-b5e2-6d9d9b661708 button.colab-df-convert');\n",
              "        buttonEl.style.display =\n",
              "          google.colab.kernel.accessAllowed ? 'block' : 'none';\n",
              "\n",
              "        async function convertToInteractive(key) {\n",
              "          const element = document.querySelector('#df-d635bb54-e396-4a3e-b5e2-6d9d9b661708');\n",
              "          const dataTable =\n",
              "            await google.colab.kernel.invokeFunction('convertToInteractive',\n",
              "                                                     [key], {});\n",
              "          if (!dataTable) return;\n",
              "\n",
              "          const docLinkHtml = 'Like what you see? Visit the ' +\n",
              "            '<a target=\"_blank\" href=https://colab.research.google.com/notebooks/data_table.ipynb>data table notebook</a>'\n",
              "            + ' to learn more about interactive tables.';\n",
              "          element.innerHTML = '';\n",
              "          dataTable['output_type'] = 'display_data';\n",
              "          await google.colab.output.renderOutput(dataTable, element);\n",
              "          const docLink = document.createElement('div');\n",
              "          docLink.innerHTML = docLinkHtml;\n",
              "          element.appendChild(docLink);\n",
              "        }\n",
              "      </script>\n",
              "    </div>\n",
              "  </div>\n",
              "  "
            ]
          },
          "metadata": {},
          "execution_count": 15
        }
      ]
    },
    {
      "cell_type": "markdown",
      "source": [
        "> Dari data yang dimiliki, dilakukan split untuk memisahkan data fitur(X) dan data target(y).\n",
        "\n",
        "> Data target atau y merupakan data dari fitur `default_payment_next_month` pada data sebelum dipecah atau di split.\n",
        "\n",
        "> Data X dan data y masing-masing memiliki jumlah baris yang sama yaitu 2965 baris data."
      ],
      "metadata": {
        "id": "2IERd2RHbQLd"
      }
    },
    {
      "cell_type": "code",
      "source": [
        "# Split data pada X dan y menjadi data X_train, X_test dan y_train, y_test\n",
        "\n",
        "X_train, X_test, y_train, y_test = train_test_split(X, y, test_size=0.2, random_state=93)\n",
        "\n",
        "print('Ukuran X_train : ', X_train.shape)\n",
        "print('Ukuran X_test  : ', X_test.shape)\n",
        "print('Ukuran y_train : ', y_train.shape)\n",
        "print('Ukuran y_test  : ', y_test.shape)"
      ],
      "metadata": {
        "colab": {
          "base_uri": "https://localhost:8080/"
        },
        "id": "wMD2m6J19Qgf",
        "outputId": "9910ec83-5324-4286-985e-2b66b0152495"
      },
      "execution_count": 16,
      "outputs": [
        {
          "output_type": "stream",
          "name": "stdout",
          "text": [
            "Ukuran X_train :  (2372, 23)\n",
            "Ukuran X_test  :  (593, 23)\n",
            "Ukuran y_train :  (2372,)\n",
            "Ukuran y_test  :  (593,)\n"
          ]
        }
      ]
    },
    {
      "cell_type": "markdown",
      "source": [
        "> Setelah memiliki data X dan y, selanjutnya dilakukan pembagian menjadi data X_train, X_test, y_train dan y_test dengan proporsi pembagian 80 berbanding 20 antara data train dan test yang sebelumnya uga dilakukan pengacakan menggunakan parameter random_state.\n",
        "\n",
        "> Setelah membagi menjadi data latih dan uji pada X dan y dilanjutkan dengan melakukan pengecekan dan melakukan handling outliers pada data yang dimiliki jika terdapat outliers."
      ],
      "metadata": {
        "id": "HxnDzTRPb5bd"
      }
    },
    {
      "cell_type": "code",
      "source": [
        "num_column= X_train.columns[X_train.dtypes != 'object'].tolist()\n",
        "num_column"
      ],
      "metadata": {
        "colab": {
          "base_uri": "https://localhost:8080/"
        },
        "id": "DxqQHrCl9jXB",
        "outputId": "bb7cddfd-2677-40a3-af14-e8ff075959d7"
      },
      "execution_count": 17,
      "outputs": [
        {
          "output_type": "execute_result",
          "data": {
            "text/plain": [
              "['limit_balance',\n",
              " 'sex',\n",
              " 'education_level',\n",
              " 'marital_status',\n",
              " 'age',\n",
              " 'pay_0',\n",
              " 'pay_2',\n",
              " 'pay_3',\n",
              " 'pay_4',\n",
              " 'pay_5',\n",
              " 'pay_6',\n",
              " 'bill_amt_1',\n",
              " 'bill_amt_2',\n",
              " 'bill_amt_3',\n",
              " 'bill_amt_4',\n",
              " 'bill_amt_5',\n",
              " 'bill_amt_6',\n",
              " 'pay_amt_1',\n",
              " 'pay_amt_2',\n",
              " 'pay_amt_3',\n",
              " 'pay_amt_4',\n",
              " 'pay_amt_5',\n",
              " 'pay_amt_6']"
            ]
          },
          "metadata": {},
          "execution_count": 17
        }
      ]
    },
    {
      "cell_type": "markdown",
      "source": [
        "> num_column merupakan variebel yang menyimpan seluruh fitur data ke dalam bentuk list yang nantinya akan digunakan dalam proses perhitungan skew data dari setiap fitur. "
      ],
      "metadata": {
        "id": "ESbMg7uxXawf"
      }
    },
    {
      "cell_type": "code",
      "source": [
        "# Melakukan pengecekan skewness pada fitur dengan tipe data numerik pada data X_train\n",
        "\n",
        "for col in num_column:                                                   \n",
        "    print('Nilai Skew ' + X_train[col].name + ' = ' + str(X_train[col].skew()))"
      ],
      "metadata": {
        "colab": {
          "base_uri": "https://localhost:8080/"
        },
        "id": "1zRE8Diq9afv",
        "outputId": "3f94567f-fdd0-49c9-99e9-21a324b7dd47"
      },
      "execution_count": 18,
      "outputs": [
        {
          "output_type": "stream",
          "name": "stdout",
          "text": [
            "Nilai Skew limit_balance = 1.0047798675572603\n",
            "Nilai Skew sex = -0.4678860628306146\n",
            "Nilai Skew education_level = 0.8063179464529419\n",
            "Nilai Skew marital_status = -0.03758461896207115\n",
            "Nilai Skew age = 0.7823976562222427\n",
            "Nilai Skew pay_0 = 0.8871516529464829\n",
            "Nilai Skew pay_2 = 0.8409546193709779\n",
            "Nilai Skew pay_3 = 0.9875984284224227\n",
            "Nilai Skew pay_4 = 1.0941278905587755\n",
            "Nilai Skew pay_5 = 1.0950662360535552\n",
            "Nilai Skew pay_6 = 1.0451593715753738\n",
            "Nilai Skew bill_amt_1 = 2.4933036226307617\n",
            "Nilai Skew bill_amt_2 = 2.4516975982853406\n",
            "Nilai Skew bill_amt_3 = 2.490479257700211\n",
            "Nilai Skew bill_amt_4 = 2.424422755879672\n",
            "Nilai Skew bill_amt_5 = 2.3971123172112003\n",
            "Nilai Skew bill_amt_6 = 2.425027031146686\n",
            "Nilai Skew pay_amt_1 = 12.066498913098414\n",
            "Nilai Skew pay_amt_2 = 32.49296978997262\n",
            "Nilai Skew pay_amt_3 = 8.193024645723321\n",
            "Nilai Skew pay_amt_4 = 8.11064585418314\n",
            "Nilai Skew pay_amt_5 = 11.745428181748286\n",
            "Nilai Skew pay_amt_6 = 9.730208038595473\n"
          ]
        }
      ]
    },
    {
      "cell_type": "markdown",
      "source": [
        "> Setelah dilakuakn pengecekan pencilan atau outliers, ditemukan bahwa padadata yang dimiliki semuanya memiliki outliers.\n",
        "\n",
        "> Seluruh fitur memiliki ouliers bernilai positif atau right skew dengan nilai terkevil adalah pada fitur `education_level` dengan nilai 0.80632 dan nilai skew tertinggi dimiliki fitur `pay_amt` dengan nilai 32.493.\n",
        "\n",
        "> Dari informasi yang didapat babrapa fitur memiliki nilai skew yang sangat tinggi atau heavy skew sehingga saya menggunakan distance 3 pada IQR untuk melakukan handling outliers."
      ],
      "metadata": {
        "id": "0l2fFe7jecyu"
      }
    },
    {
      "cell_type": "code",
      "source": [
        "# Membuat fungsi untuk mencari batas bawah dan atas dari fitur\n",
        "\n",
        "def find_skewed_boundaries(data, variable, distance):\n",
        "    IQR = data[variable].quantile(0.75) - data[variable].quantile(0.25)\n",
        "\n",
        "    lower_boundary = data[variable].quantile(0.25) - (IQR * distance)\n",
        "    upper_boundary = data[variable].quantile(0.75) + (IQR * distance)\n",
        "\n",
        "    return upper_boundary, lower_boundary"
      ],
      "metadata": {
        "id": "6C0edac_9Yvo"
      },
      "execution_count": 19,
      "outputs": []
    },
    {
      "cell_type": "markdown",
      "source": [
        "> Fungsi diatas digunkana untuk menghitung nilai batas atas dan batas bawah skew dari tiap fitur yang dimiliki yang nantinya akan digunakan saat triming data yang memiliki outliers."
      ],
      "metadata": {
        "id": "vuvv31GKfTHF"
      }
    },
    {
      "cell_type": "code",
      "source": [
        "# Memanggil fungsi find_skewed_boundaries dari tiap fitur dan memberi nilai 3 sebagai distance IQR\n",
        "\n",
        "limit_balance_upper_limit, limit_balance_lower_limit = find_skewed_boundaries(X_train, 'limit_balance', 3)\n",
        "sex_upper_limit, sex_lower_limit = find_skewed_boundaries(X_train, 'sex', 3)\n",
        "education_level_upper_limit, education_level_lower_limit = find_skewed_boundaries(X_train, 'education_level', 3)\n",
        "marital_status_upper_limit, marital_status_lower_limit = find_skewed_boundaries(X_train, 'marital_status', 3)\n",
        "age_upper_limit, age_lower_limit = find_skewed_boundaries(X_train, 'age', 3)\n",
        "pay_0_upper_limit, pay_0_lower_limit = find_skewed_boundaries(X_train, 'pay_0', 3)\n",
        "pay_2_upper_limit, pay_2_lower_limit = find_skewed_boundaries(X_train, 'pay_2', 3)\n",
        "pay_3_upper_limit, pay_3_lower_limit = find_skewed_boundaries(X_train, 'pay_3', 3)\n",
        "pay_4_upper_limit, pay_4_lower_limit = find_skewed_boundaries(X_train, 'pay_4', 3)\n",
        "pay_5_upper_limit, pay_5_lower_limit = find_skewed_boundaries(X_train, 'pay_5', 3)\n",
        "pay_6_upper_limit, pay_6_lower_limit = find_skewed_boundaries(X_train, 'pay_6', 3)\n",
        "bill_amt_1_upper_limit, bill_amt_1_lower_limit = find_skewed_boundaries(X_train, 'bill_amt_1', 3)\n",
        "bill_amt_2_upper_limit, bill_amt_2_lower_limit = find_skewed_boundaries(X_train, 'bill_amt_2', 3)\n",
        "bill_amt_3_upper_limit, bill_amt_3_lower_limit = find_skewed_boundaries(X_train, 'bill_amt_3', 3)\n",
        "bill_amt_4_upper_limit, bill_amt_4_lower_limit = find_skewed_boundaries(X_train, 'bill_amt_4', 3)\n",
        "bill_amt_5_upper_limit, bill_amt_5_lower_limit = find_skewed_boundaries(X_train, 'bill_amt_5', 3)\n",
        "bill_amt_6_upper_limit, bill_amt_6_lower_limit = find_skewed_boundaries(X_train, 'bill_amt_6', 3)\n",
        "pay_amt_1_upper_limit, pay_amt_1_lower_limit = find_skewed_boundaries(X_train, 'pay_amt_1', 3)\n",
        "pay_amt_2_upper_limit, pay_amt_2_lower_limit = find_skewed_boundaries(X_train, 'pay_amt_2', 3)\n",
        "pay_amt_3_upper_limit, pay_amt_3_lower_limit = find_skewed_boundaries(X_train, 'pay_amt_3', 3)\n",
        "pay_amt_4_upper_limit, pay_amt_4_lower_limit = find_skewed_boundaries(X_train, 'pay_amt_4', 3)\n",
        "pay_amt_5_upper_limit, pay_amt_5_lower_limit = find_skewed_boundaries(X_train, 'pay_amt_5', 3)\n",
        "pay_amt_6_upper_limit, pay_amt_6_lower_limit = find_skewed_boundaries(X_train, 'pay_amt_6', 3)"
      ],
      "metadata": {
        "id": "w-5K_wOq9yuU"
      },
      "execution_count": 20,
      "outputs": []
    },
    {
      "cell_type": "markdown",
      "source": [
        "> Melakukan perhitungan dan pengambilan batas atas dan bawah dari tiap fitur dengan menggunakan IQR dengan distance 3 karena ada babarapa fitur memiliki heavy skew."
      ],
      "metadata": {
        "id": "yUWJE03Vfnm0"
      }
    },
    {
      "cell_type": "code",
      "source": [
        "# Membuat variabel nutuk menyimpan data yang berada di rentang batas bawah sampai batas atas data dari masing-masing fitur di X_train\n",
        "\n",
        "outliers_limit_balance = np.where(X_train['limit_balance'] > limit_balance_upper_limit, True,\n",
        "                       np.where(X_train['limit_balance'] < limit_balance_lower_limit, True, False))\n",
        "outliers_sex = np.where(X_train['sex'] > sex_upper_limit, True,\n",
        "                       np.where(X_train['sex'] < sex_lower_limit, True, False))\n",
        "outliers_education_level = np.where(X_train['education_level'] > education_level_upper_limit, True,\n",
        "                       np.where(X_train['education_level'] < education_level_lower_limit, True, False))\n",
        "outliers_marital_status = np.where(X_train['marital_status'] > marital_status_upper_limit, True,\n",
        "                       np.where(X_train['marital_status'] < marital_status_lower_limit, True, False))\n",
        "outliers_age= np.where(X_train['age'] > age_upper_limit, True,\n",
        "                       np.where(X_train['age'] < age_lower_limit, True, False))\n",
        "outliers_pay_0= np.where(X_train['pay_0'] > pay_0_upper_limit, True,\n",
        "                       np.where(X_train['pay_0'] < pay_0_lower_limit, True, False))\n",
        "outliers_pay_2= np.where(X_train['pay_2'] > pay_2_upper_limit, True,\n",
        "                       np.where(X_train['pay_2'] < pay_2_lower_limit, True, False))\n",
        "outliers_pay_3= np.where(X_train['pay_3'] > pay_3_upper_limit, True,\n",
        "                       np.where(X_train['pay_3'] < pay_3_lower_limit, True, False))\n",
        "outliers_pay_4= np.where(X_train['pay_4'] > pay_4_upper_limit, True,\n",
        "                       np.where(X_train['pay_4'] < pay_4_lower_limit, True, False))\n",
        "outliers_pay_5= np.where(X_train['pay_5'] > pay_5_upper_limit, True,\n",
        "                       np.where(X_train['pay_5'] < pay_5_lower_limit, True, False))\n",
        "outliers_pay_6= np.where(X_train['pay_6'] > pay_6_upper_limit, True,\n",
        "                       np.where(X_train['pay_6'] < pay_6_lower_limit, True, False))\n",
        "outliers_bill_amt_1= np.where(X_train['bill_amt_1'] > bill_amt_1_upper_limit, True,\n",
        "                       np.where(X_train['bill_amt_1'] < bill_amt_1_lower_limit, True, False))\n",
        "outliers_bill_amt_2= np.where(X_train['bill_amt_2'] > bill_amt_2_upper_limit, True,\n",
        "                       np.where(X_train['bill_amt_2'] < bill_amt_2_lower_limit, True, False))\n",
        "outliers_bill_amt_3= np.where(X_train['bill_amt_3'] > bill_amt_3_upper_limit, True,\n",
        "                       np.where(X_train['bill_amt_3'] < bill_amt_3_lower_limit, True, False))\n",
        "outliers_bill_amt_4= np.where(X_train['bill_amt_4'] > bill_amt_4_upper_limit, True,\n",
        "                       np.where(X_train['bill_amt_4'] < bill_amt_4_lower_limit, True, False))\n",
        "outliers_bill_amt_5= np.where(X_train['bill_amt_5'] > bill_amt_5_upper_limit, True,\n",
        "                       np.where(X_train['bill_amt_5'] < bill_amt_5_lower_limit, True, False))\n",
        "outliers_bill_amt_6= np.where(X_train['bill_amt_6'] > bill_amt_6_upper_limit, True,\n",
        "                       np.where(X_train['bill_amt_6'] < bill_amt_6_lower_limit, True, False))\n",
        "outliers_pay_amt_1= np.where(X_train['pay_amt_1'] > pay_amt_1_upper_limit, True,\n",
        "                       np.where(X_train['pay_amt_1'] < pay_amt_1_lower_limit, True, False))\n",
        "outliers_pay_amt_2= np.where(X_train['pay_amt_2'] > pay_amt_2_upper_limit, True,\n",
        "                       np.where(X_train['pay_amt_2'] < pay_amt_2_lower_limit, True, False))\n",
        "outliers_pay_amt_3= np.where(X_train['pay_amt_3'] > pay_amt_3_upper_limit, True,\n",
        "                       np.where(X_train['pay_amt_3'] < pay_amt_3_lower_limit, True, False))\n",
        "outliers_pay_amt_4= np.where(X_train['pay_amt_4'] > pay_amt_4_upper_limit, True,\n",
        "                       np.where(X_train['pay_amt_4'] < pay_amt_4_lower_limit, True, False))\n",
        "outliers_pay_amt_5= np.where(X_train['pay_amt_5'] > pay_amt_5_upper_limit, True,\n",
        "                       np.where(X_train['pay_amt_5'] < pay_amt_5_lower_limit, True, False))\n",
        "outliers_pay_amt_6= np.where(X_train['pay_amt_6'] > pay_amt_6_upper_limit, True,\n",
        "                       np.where(X_train['pay_amt_6'] < pay_amt_6_lower_limit, True, False))\n"
      ],
      "metadata": {
        "id": "hm0PuMdr_Zv7"
      },
      "execution_count": 21,
      "outputs": []
    },
    {
      "cell_type": "markdown",
      "source": [
        "> Setelah mendapat batas atas dan bawah distribusi data, sealnjutnya dilakukan perhitungan untuk pengambilan nilai didalam rentang batas atas dan bawah tiap fitur yang outliernya akan dihapus."
      ],
      "metadata": {
        "id": "r5DIgZwhf2SU"
      }
    },
    {
      "cell_type": "code",
      "source": [
        "# Memanggil data yang sudah berada pada rentang batas atas dan batas bawah tiap data dan disimpan pada X_train_trim\n",
        "\n",
        "X_train_trim = X_train.loc[~(outliers_limit_balance + outliers_sex + outliers_education_level + outliers_marital_status + outliers_age + outliers_pay_0 + outliers_pay_2 + outliers_pay_3 + outliers_pay_4 + outliers_pay_5 + outliers_pay_6 + outliers_bill_amt_1 + outliers_bill_amt_2 + outliers_bill_amt_3 + outliers_bill_amt_4 + outliers_bill_amt_5 + outliers_bill_amt_6 + outliers_pay_amt_1 + outliers_pay_amt_2 + outliers_pay_amt_3 + outliers_pay_amt_4 + outliers_pay_amt_5+ outliers_pay_amt_6)]\n",
        "\n",
        "# Menampilkan shape data sebelum dan setelah trimming\n",
        "\n",
        "print('Shape data X_train sebelum trimming : ', X_train.shape)\n",
        "print('Shape data X_train setelah trimming  : ', X_train_trim.shape)"
      ],
      "metadata": {
        "colab": {
          "base_uri": "https://localhost:8080/"
        },
        "id": "J--AcaXqCRLi",
        "outputId": "b0047731-40d0-417d-ab3a-0e2e43c51d3f"
      },
      "execution_count": 22,
      "outputs": [
        {
          "output_type": "stream",
          "name": "stdout",
          "text": [
            "Shape data X_train sebelum trimming :  (2372, 23)\n",
            "Shape data X_train setelah trimming  :  (1810, 23)\n"
          ]
        }
      ]
    },
    {
      "cell_type": "markdown",
      "source": [
        "> Melakukan triming data yang tidak masuk dalam rentang batas atas dan batas bawah distribusi data dari tiap fitur yang dimiliki.\n",
        "\n",
        "> Sebelum dilakukan triming outliers, daya yang dimiliki `X_train` sebanyak 2372 baris data dan setelah dilakukan triming data yang dimiliki sejumlah 1080 baris data yang disimpan pada variabel `X_train_trim`.\n",
        "\n",
        "> Data pada X_train_trim digunakan pada proses pemodelan nantinya."
      ],
      "metadata": {
        "id": "_Q02q3FygG8k"
      }
    },
    {
      "cell_type": "code",
      "source": [
        "# Memanggil data yang sudah berada pada rentang batas atas dan batas bawah tiap data dan disimpan pada X_train_trim\n",
        "\n",
        "y_train_trim = y_train.loc[~(outliers_limit_balance + outliers_sex + outliers_education_level + outliers_marital_status + outliers_age + outliers_pay_0 + outliers_pay_2 + outliers_pay_3 + outliers_pay_4 + outliers_pay_5 + outliers_pay_6 + outliers_bill_amt_1 + outliers_bill_amt_2 + outliers_bill_amt_3 + outliers_bill_amt_4 + outliers_bill_amt_5 + outliers_bill_amt_6 + outliers_pay_amt_1 + outliers_pay_amt_2 + outliers_pay_amt_3 + outliers_pay_amt_4 + outliers_pay_amt_5+ outliers_pay_amt_6)]\n",
        "\n",
        "# Menampilkan shape data sebelum dan setelah trimming\n",
        "\n",
        "print('Shape data y_train sebelum trimming : ', y_train.shape)\n",
        "print('Shape data y_train setelah trimming  : ', y_train_trim.shape)"
      ],
      "metadata": {
        "colab": {
          "base_uri": "https://localhost:8080/"
        },
        "id": "OV49vnWBstjc",
        "outputId": "feb4812f-ace0-478a-faa7-cc50cdd22372"
      },
      "execution_count": 23,
      "outputs": [
        {
          "output_type": "stream",
          "name": "stdout",
          "text": [
            "Shape data y_train sebelum trimming :  (2372,)\n",
            "Shape data y_train setelah trimming  :  (1810,)\n"
          ]
        }
      ]
    },
    {
      "cell_type": "markdown",
      "source": [
        "> Selain pada X_train, triming juga dilakuka pada y_train agar dimensi data antara X dan y memiliki kesamaan. Data `y_train` yang sudah ditrim disimpan pada variabel baru bernama `y_train_trim`."
      ],
      "metadata": {
        "id": "UR4mxjRsg8af"
      }
    },
    {
      "cell_type": "code",
      "source": [
        "# Menampilkan kolom data numerikal dan menyimpan pada list\n",
        "\n",
        "num_columns = X_train_trim.select_dtypes(include=np.number).columns.tolist()\n",
        "\n",
        "print('Num Columns : ', num_columns)"
      ],
      "metadata": {
        "colab": {
          "base_uri": "https://localhost:8080/"
        },
        "id": "4LYr4dsdDa57",
        "outputId": "5a81dbca-436b-4d38-b155-0bc588e3fcf2"
      },
      "execution_count": 24,
      "outputs": [
        {
          "output_type": "stream",
          "name": "stdout",
          "text": [
            "Num Columns :  ['limit_balance', 'sex', 'education_level', 'marital_status', 'age', 'pay_0', 'pay_2', 'pay_3', 'pay_4', 'pay_5', 'pay_6', 'bill_amt_1', 'bill_amt_2', 'bill_amt_3', 'bill_amt_4', 'bill_amt_5', 'bill_amt_6', 'pay_amt_1', 'pay_amt_2', 'pay_amt_3', 'pay_amt_4', 'pay_amt_5', 'pay_amt_6']\n"
          ]
        }
      ]
    },
    {
      "cell_type": "code",
      "source": [
        "# Menyimpan hasil trim yang sudah dalam bentuk listke variable baru yaitu X_train_fix\n",
        "\n",
        "X_train_fix = X_train_trim[num_columns]"
      ],
      "metadata": {
        "id": "tetAL5QlDiIR"
      },
      "execution_count": 25,
      "outputs": []
    },
    {
      "cell_type": "markdown",
      "source": [
        "> Menyimpan data X_train_trim yang berbentuk list ke dalam `X_train_fix` yang nantiya akan digunakan untuk scaling data. "
      ],
      "metadata": {
        "id": "D1I1-9mWhr_7"
      }
    },
    {
      "cell_type": "code",
      "source": [
        "# Melakukan feature scaling menggunakan MinMaxScaler\n",
        "\n",
        "scaler = MinMaxScaler()\n",
        "scaler.fit(X_train_fix)\n",
        "\n",
        "X_train_scaled = scaler.transform(X_train_fix)\n",
        "X_test_scaled = scaler.transform(X_test)"
      ],
      "metadata": {
        "id": "FO0OOFE9nLEi"
      },
      "execution_count": 26,
      "outputs": []
    },
    {
      "cell_type": "markdown",
      "source": [
        "> Melakukan scaling pada X_train_fix dan X_test menggunakan MinMaxScaller dan disimpan pada X_train_scaled dan X_test_scaled."
      ],
      "metadata": {
        "id": "f8XRwOm9h8v8"
      }
    },
    {
      "cell_type": "code",
      "source": [
        "# Menampilkan X_train setelah di scaling menggunakan MinMaxScaler\n",
        "\n",
        "X_train_scaled"
      ],
      "metadata": {
        "colab": {
          "base_uri": "https://localhost:8080/"
        },
        "id": "g8oNBaNRnx5_",
        "outputId": "1a9c6ef3-0395-4f6e-f594-e0a0c2796f9d"
      },
      "execution_count": 27,
      "outputs": [
        {
          "output_type": "execute_result",
          "data": {
            "text/plain": [
              "array([[0.        , 1.        , 0.4       , ..., 0.1997071 , 0.        ,\n",
              "        0.24583916],\n",
              "       [0.06493506, 1.        , 0.4       , ..., 0.11236853, 0.06724045,\n",
              "        0.06352433],\n",
              "       [0.01298701, 1.        , 0.6       , ..., 0.03035548, 0.01001883,\n",
              "        0.01213315],\n",
              "       ...,\n",
              "       [0.02597403, 0.        , 0.4       , ..., 0.        , 0.        ,\n",
              "        0.        ],\n",
              "       [0.03896104, 0.        , 0.4       , ..., 0.09985355, 0.10086068,\n",
              "        0.18904841],\n",
              "       [0.01298701, 0.        , 0.4       , ..., 0.        , 0.16810113,\n",
              "        0.        ]])"
            ]
          },
          "metadata": {},
          "execution_count": 27
        }
      ]
    },
    {
      "cell_type": "code",
      "source": [
        "# Menampilkan X_test setelah di scaling menggunakan MinMaxScaler\n",
        "\n",
        "X_test_scaled"
      ],
      "metadata": {
        "colab": {
          "base_uri": "https://localhost:8080/"
        },
        "id": "Q6ssM_3Pn0P3",
        "outputId": "f63442d4-84f0-4695-87b8-1d3e1c92a902"
      },
      "execution_count": 28,
      "outputs": [
        {
          "output_type": "execute_result",
          "data": {
            "text/plain": [
              "array([[0.05194805, 0.        , 0.2       , ..., 0.04340301, 0.05567509,\n",
              "        0.06079278],\n",
              "       [0.32467532, 0.        , 0.4       , ..., 0.09219811, 0.        ,\n",
              "        0.11275569],\n",
              "       [0.15584416, 0.        , 0.4       , ..., 0.        , 0.        ,\n",
              "        0.        ],\n",
              "       ...,\n",
              "       [0.01298701, 1.        , 0.2       , ..., 0.03994142, 0.10086068,\n",
              "        0.06352433],\n",
              "       [0.22077922, 0.        , 0.2       , ..., 0.        , 0.        ,\n",
              "        0.        ],\n",
              "       [0.06493506, 1.        , 0.2       , ..., 0.        , 0.01008607,\n",
              "        0.01270487]])"
            ]
          },
          "metadata": {},
          "execution_count": 28
        }
      ]
    },
    {
      "cell_type": "code",
      "source": [
        "# Menyimpan hasil scaling ke dalam dataframe\n",
        "\n",
        "X_train_final = pd.DataFrame(X_train_scaled)\n",
        "X_test_final = pd.DataFrame(X_test_scaled)"
      ],
      "metadata": {
        "id": "79wdl3PRn7fz"
      },
      "execution_count": 29,
      "outputs": []
    },
    {
      "cell_type": "markdown",
      "source": [
        "> Setelah dilakukan scaling emnggunakan MinMaxScaller, hasil scale disimpan kedalam dataframe pada variabel baru bernama `X_train_final` dan `X_test_final` yang nantinya variabel tersebut akan digunakan dalam pemodelan pada tahapan selanjutnya. "
      ],
      "metadata": {
        "id": "MgD6AjnciuU6"
      }
    },
    {
      "cell_type": "code",
      "source": [
        "# Menampilkan 10 data paling atas dari variabel X_train_final\n",
        "\n",
        "X_train_final.head()"
      ],
      "metadata": {
        "colab": {
          "base_uri": "https://localhost:8080/",
          "height": 236
        },
        "id": "GDOB1n-7oSjc",
        "outputId": "21592c82-094d-4c7d-c273-1d55a6b8e53d"
      },
      "execution_count": 30,
      "outputs": [
        {
          "output_type": "execute_result",
          "data": {
            "text/plain": [
              "         0    1    2         3         4    5    6    7    8    9   ...  \\\n",
              "0  0.000000  1.0  0.4  0.666667  0.020833  0.2  0.2  0.8  0.4  0.4  ...   \n",
              "1  0.064935  1.0  0.4  1.000000  0.145833  0.4  0.4  0.4  0.4  0.4  ...   \n",
              "2  0.012987  1.0  0.6  0.333333  0.458333  0.8  0.4  0.4  0.4  0.4  ...   \n",
              "3  0.298701  1.0  0.2  0.666667  0.166667  0.2  0.8  0.8  0.0  0.0  ...   \n",
              "4  0.051948  1.0  0.6  0.666667  0.104167  0.6  0.8  0.8  0.8  0.8  ...   \n",
              "\n",
              "         13        14        15        16        17        18        19  \\\n",
              "0  0.120153  0.191889  0.211126  0.214093  0.230840  0.000000  0.121212   \n",
              "1  0.162786  0.282882  0.258693  0.254120  0.075023  0.148934  0.060606   \n",
              "2  0.167595  0.251182  0.263543  0.206970  0.075023  0.089360  0.076182   \n",
              "3  0.097405  0.177585  0.187841  0.192522  0.036127  0.037293  0.037939   \n",
              "4  0.219894  0.297663  0.320800  0.325959  0.103878  0.113190  0.000000   \n",
              "\n",
              "         20        21        22  \n",
              "0  0.199707  0.000000  0.245839  \n",
              "1  0.112369  0.067240  0.063524  \n",
              "2  0.030355  0.010019  0.012133  \n",
              "3  0.051658  0.052649  0.079532  \n",
              "4  0.173079  0.000000  0.107991  \n",
              "\n",
              "[5 rows x 23 columns]"
            ],
            "text/html": [
              "\n",
              "  <div id=\"df-f81f374e-e4aa-4777-b850-6e1d4a721742\">\n",
              "    <div class=\"colab-df-container\">\n",
              "      <div>\n",
              "<style scoped>\n",
              "    .dataframe tbody tr th:only-of-type {\n",
              "        vertical-align: middle;\n",
              "    }\n",
              "\n",
              "    .dataframe tbody tr th {\n",
              "        vertical-align: top;\n",
              "    }\n",
              "\n",
              "    .dataframe thead th {\n",
              "        text-align: right;\n",
              "    }\n",
              "</style>\n",
              "<table border=\"1\" class=\"dataframe\">\n",
              "  <thead>\n",
              "    <tr style=\"text-align: right;\">\n",
              "      <th></th>\n",
              "      <th>0</th>\n",
              "      <th>1</th>\n",
              "      <th>2</th>\n",
              "      <th>3</th>\n",
              "      <th>4</th>\n",
              "      <th>5</th>\n",
              "      <th>6</th>\n",
              "      <th>7</th>\n",
              "      <th>8</th>\n",
              "      <th>9</th>\n",
              "      <th>...</th>\n",
              "      <th>13</th>\n",
              "      <th>14</th>\n",
              "      <th>15</th>\n",
              "      <th>16</th>\n",
              "      <th>17</th>\n",
              "      <th>18</th>\n",
              "      <th>19</th>\n",
              "      <th>20</th>\n",
              "      <th>21</th>\n",
              "      <th>22</th>\n",
              "    </tr>\n",
              "  </thead>\n",
              "  <tbody>\n",
              "    <tr>\n",
              "      <th>0</th>\n",
              "      <td>0.000000</td>\n",
              "      <td>1.0</td>\n",
              "      <td>0.4</td>\n",
              "      <td>0.666667</td>\n",
              "      <td>0.020833</td>\n",
              "      <td>0.2</td>\n",
              "      <td>0.2</td>\n",
              "      <td>0.8</td>\n",
              "      <td>0.4</td>\n",
              "      <td>0.4</td>\n",
              "      <td>...</td>\n",
              "      <td>0.120153</td>\n",
              "      <td>0.191889</td>\n",
              "      <td>0.211126</td>\n",
              "      <td>0.214093</td>\n",
              "      <td>0.230840</td>\n",
              "      <td>0.000000</td>\n",
              "      <td>0.121212</td>\n",
              "      <td>0.199707</td>\n",
              "      <td>0.000000</td>\n",
              "      <td>0.245839</td>\n",
              "    </tr>\n",
              "    <tr>\n",
              "      <th>1</th>\n",
              "      <td>0.064935</td>\n",
              "      <td>1.0</td>\n",
              "      <td>0.4</td>\n",
              "      <td>1.000000</td>\n",
              "      <td>0.145833</td>\n",
              "      <td>0.4</td>\n",
              "      <td>0.4</td>\n",
              "      <td>0.4</td>\n",
              "      <td>0.4</td>\n",
              "      <td>0.4</td>\n",
              "      <td>...</td>\n",
              "      <td>0.162786</td>\n",
              "      <td>0.282882</td>\n",
              "      <td>0.258693</td>\n",
              "      <td>0.254120</td>\n",
              "      <td>0.075023</td>\n",
              "      <td>0.148934</td>\n",
              "      <td>0.060606</td>\n",
              "      <td>0.112369</td>\n",
              "      <td>0.067240</td>\n",
              "      <td>0.063524</td>\n",
              "    </tr>\n",
              "    <tr>\n",
              "      <th>2</th>\n",
              "      <td>0.012987</td>\n",
              "      <td>1.0</td>\n",
              "      <td>0.6</td>\n",
              "      <td>0.333333</td>\n",
              "      <td>0.458333</td>\n",
              "      <td>0.8</td>\n",
              "      <td>0.4</td>\n",
              "      <td>0.4</td>\n",
              "      <td>0.4</td>\n",
              "      <td>0.4</td>\n",
              "      <td>...</td>\n",
              "      <td>0.167595</td>\n",
              "      <td>0.251182</td>\n",
              "      <td>0.263543</td>\n",
              "      <td>0.206970</td>\n",
              "      <td>0.075023</td>\n",
              "      <td>0.089360</td>\n",
              "      <td>0.076182</td>\n",
              "      <td>0.030355</td>\n",
              "      <td>0.010019</td>\n",
              "      <td>0.012133</td>\n",
              "    </tr>\n",
              "    <tr>\n",
              "      <th>3</th>\n",
              "      <td>0.298701</td>\n",
              "      <td>1.0</td>\n",
              "      <td>0.2</td>\n",
              "      <td>0.666667</td>\n",
              "      <td>0.166667</td>\n",
              "      <td>0.2</td>\n",
              "      <td>0.8</td>\n",
              "      <td>0.8</td>\n",
              "      <td>0.0</td>\n",
              "      <td>0.0</td>\n",
              "      <td>...</td>\n",
              "      <td>0.097405</td>\n",
              "      <td>0.177585</td>\n",
              "      <td>0.187841</td>\n",
              "      <td>0.192522</td>\n",
              "      <td>0.036127</td>\n",
              "      <td>0.037293</td>\n",
              "      <td>0.037939</td>\n",
              "      <td>0.051658</td>\n",
              "      <td>0.052649</td>\n",
              "      <td>0.079532</td>\n",
              "    </tr>\n",
              "    <tr>\n",
              "      <th>4</th>\n",
              "      <td>0.051948</td>\n",
              "      <td>1.0</td>\n",
              "      <td>0.6</td>\n",
              "      <td>0.666667</td>\n",
              "      <td>0.104167</td>\n",
              "      <td>0.6</td>\n",
              "      <td>0.8</td>\n",
              "      <td>0.8</td>\n",
              "      <td>0.8</td>\n",
              "      <td>0.8</td>\n",
              "      <td>...</td>\n",
              "      <td>0.219894</td>\n",
              "      <td>0.297663</td>\n",
              "      <td>0.320800</td>\n",
              "      <td>0.325959</td>\n",
              "      <td>0.103878</td>\n",
              "      <td>0.113190</td>\n",
              "      <td>0.000000</td>\n",
              "      <td>0.173079</td>\n",
              "      <td>0.000000</td>\n",
              "      <td>0.107991</td>\n",
              "    </tr>\n",
              "  </tbody>\n",
              "</table>\n",
              "<p>5 rows × 23 columns</p>\n",
              "</div>\n",
              "      <button class=\"colab-df-convert\" onclick=\"convertToInteractive('df-f81f374e-e4aa-4777-b850-6e1d4a721742')\"\n",
              "              title=\"Convert this dataframe to an interactive table.\"\n",
              "              style=\"display:none;\">\n",
              "        \n",
              "  <svg xmlns=\"http://www.w3.org/2000/svg\" height=\"24px\"viewBox=\"0 0 24 24\"\n",
              "       width=\"24px\">\n",
              "    <path d=\"M0 0h24v24H0V0z\" fill=\"none\"/>\n",
              "    <path d=\"M18.56 5.44l.94 2.06.94-2.06 2.06-.94-2.06-.94-.94-2.06-.94 2.06-2.06.94zm-11 1L8.5 8.5l.94-2.06 2.06-.94-2.06-.94L8.5 2.5l-.94 2.06-2.06.94zm10 10l.94 2.06.94-2.06 2.06-.94-2.06-.94-.94-2.06-.94 2.06-2.06.94z\"/><path d=\"M17.41 7.96l-1.37-1.37c-.4-.4-.92-.59-1.43-.59-.52 0-1.04.2-1.43.59L10.3 9.45l-7.72 7.72c-.78.78-.78 2.05 0 2.83L4 21.41c.39.39.9.59 1.41.59.51 0 1.02-.2 1.41-.59l7.78-7.78 2.81-2.81c.8-.78.8-2.07 0-2.86zM5.41 20L4 18.59l7.72-7.72 1.47 1.35L5.41 20z\"/>\n",
              "  </svg>\n",
              "      </button>\n",
              "      \n",
              "  <style>\n",
              "    .colab-df-container {\n",
              "      display:flex;\n",
              "      flex-wrap:wrap;\n",
              "      gap: 12px;\n",
              "    }\n",
              "\n",
              "    .colab-df-convert {\n",
              "      background-color: #E8F0FE;\n",
              "      border: none;\n",
              "      border-radius: 50%;\n",
              "      cursor: pointer;\n",
              "      display: none;\n",
              "      fill: #1967D2;\n",
              "      height: 32px;\n",
              "      padding: 0 0 0 0;\n",
              "      width: 32px;\n",
              "    }\n",
              "\n",
              "    .colab-df-convert:hover {\n",
              "      background-color: #E2EBFA;\n",
              "      box-shadow: 0px 1px 2px rgba(60, 64, 67, 0.3), 0px 1px 3px 1px rgba(60, 64, 67, 0.15);\n",
              "      fill: #174EA6;\n",
              "    }\n",
              "\n",
              "    [theme=dark] .colab-df-convert {\n",
              "      background-color: #3B4455;\n",
              "      fill: #D2E3FC;\n",
              "    }\n",
              "\n",
              "    [theme=dark] .colab-df-convert:hover {\n",
              "      background-color: #434B5C;\n",
              "      box-shadow: 0px 1px 3px 1px rgba(0, 0, 0, 0.15);\n",
              "      filter: drop-shadow(0px 1px 2px rgba(0, 0, 0, 0.3));\n",
              "      fill: #FFFFFF;\n",
              "    }\n",
              "  </style>\n",
              "\n",
              "      <script>\n",
              "        const buttonEl =\n",
              "          document.querySelector('#df-f81f374e-e4aa-4777-b850-6e1d4a721742 button.colab-df-convert');\n",
              "        buttonEl.style.display =\n",
              "          google.colab.kernel.accessAllowed ? 'block' : 'none';\n",
              "\n",
              "        async function convertToInteractive(key) {\n",
              "          const element = document.querySelector('#df-f81f374e-e4aa-4777-b850-6e1d4a721742');\n",
              "          const dataTable =\n",
              "            await google.colab.kernel.invokeFunction('convertToInteractive',\n",
              "                                                     [key], {});\n",
              "          if (!dataTable) return;\n",
              "\n",
              "          const docLinkHtml = 'Like what you see? Visit the ' +\n",
              "            '<a target=\"_blank\" href=https://colab.research.google.com/notebooks/data_table.ipynb>data table notebook</a>'\n",
              "            + ' to learn more about interactive tables.';\n",
              "          element.innerHTML = '';\n",
              "          dataTable['output_type'] = 'display_data';\n",
              "          await google.colab.output.renderOutput(dataTable, element);\n",
              "          const docLink = document.createElement('div');\n",
              "          docLink.innerHTML = docLinkHtml;\n",
              "          element.appendChild(docLink);\n",
              "        }\n",
              "      </script>\n",
              "    </div>\n",
              "  </div>\n",
              "  "
            ]
          },
          "metadata": {},
          "execution_count": 30
        }
      ]
    },
    {
      "cell_type": "markdown",
      "source": [
        "# Model"
      ],
      "metadata": {
        "id": "DZ7Ln0TCjos8"
      }
    },
    {
      "cell_type": "markdown",
      "source": [
        "## Logistic Regression"
      ],
      "metadata": {
        "id": "yeipUV7qMSic"
      }
    },
    {
      "cell_type": "markdown",
      "source": [
        "### Model Definition"
      ],
      "metadata": {
        "id": "FFbEvq63MnDU"
      }
    },
    {
      "cell_type": "code",
      "source": [
        "# Pendefinisian Model Logistic Regression\n",
        "\n",
        "logreg = linear_model.LogisticRegression()"
      ],
      "metadata": {
        "id": "Br4ShYXgMltR"
      },
      "execution_count": 31,
      "outputs": []
    },
    {
      "cell_type": "markdown",
      "source": [
        "> Melakukan pendefinisian logistic regression dan menyimpan pada variabel logreg."
      ],
      "metadata": {
        "id": "moeAoYdsumXz"
      }
    },
    {
      "cell_type": "markdown",
      "source": [
        "### Model Training Baseline"
      ],
      "metadata": {
        "id": "Jl0fCRk2M6Pv"
      }
    },
    {
      "cell_type": "code",
      "source": [
        "# Training Model Logistic Regression\n",
        "\n",
        "logreg.fit(X_train_final, y_train_trim)"
      ],
      "metadata": {
        "colab": {
          "base_uri": "https://localhost:8080/",
          "height": 75
        },
        "id": "wtSfY5XxM9dJ",
        "outputId": "4831fda6-277d-4894-d1c6-112d60a67ce6"
      },
      "execution_count": 32,
      "outputs": [
        {
          "output_type": "execute_result",
          "data": {
            "text/plain": [
              "LogisticRegression()"
            ],
            "text/html": [
              "<style>#sk-container-id-1 {color: black;background-color: white;}#sk-container-id-1 pre{padding: 0;}#sk-container-id-1 div.sk-toggleable {background-color: white;}#sk-container-id-1 label.sk-toggleable__label {cursor: pointer;display: block;width: 100%;margin-bottom: 0;padding: 0.3em;box-sizing: border-box;text-align: center;}#sk-container-id-1 label.sk-toggleable__label-arrow:before {content: \"▸\";float: left;margin-right: 0.25em;color: #696969;}#sk-container-id-1 label.sk-toggleable__label-arrow:hover:before {color: black;}#sk-container-id-1 div.sk-estimator:hover label.sk-toggleable__label-arrow:before {color: black;}#sk-container-id-1 div.sk-toggleable__content {max-height: 0;max-width: 0;overflow: hidden;text-align: left;background-color: #f0f8ff;}#sk-container-id-1 div.sk-toggleable__content pre {margin: 0.2em;color: black;border-radius: 0.25em;background-color: #f0f8ff;}#sk-container-id-1 input.sk-toggleable__control:checked~div.sk-toggleable__content {max-height: 200px;max-width: 100%;overflow: auto;}#sk-container-id-1 input.sk-toggleable__control:checked~label.sk-toggleable__label-arrow:before {content: \"▾\";}#sk-container-id-1 div.sk-estimator input.sk-toggleable__control:checked~label.sk-toggleable__label {background-color: #d4ebff;}#sk-container-id-1 div.sk-label input.sk-toggleable__control:checked~label.sk-toggleable__label {background-color: #d4ebff;}#sk-container-id-1 input.sk-hidden--visually {border: 0;clip: rect(1px 1px 1px 1px);clip: rect(1px, 1px, 1px, 1px);height: 1px;margin: -1px;overflow: hidden;padding: 0;position: absolute;width: 1px;}#sk-container-id-1 div.sk-estimator {font-family: monospace;background-color: #f0f8ff;border: 1px dotted black;border-radius: 0.25em;box-sizing: border-box;margin-bottom: 0.5em;}#sk-container-id-1 div.sk-estimator:hover {background-color: #d4ebff;}#sk-container-id-1 div.sk-parallel-item::after {content: \"\";width: 100%;border-bottom: 1px solid gray;flex-grow: 1;}#sk-container-id-1 div.sk-label:hover label.sk-toggleable__label {background-color: #d4ebff;}#sk-container-id-1 div.sk-serial::before {content: \"\";position: absolute;border-left: 1px solid gray;box-sizing: border-box;top: 0;bottom: 0;left: 50%;z-index: 0;}#sk-container-id-1 div.sk-serial {display: flex;flex-direction: column;align-items: center;background-color: white;padding-right: 0.2em;padding-left: 0.2em;position: relative;}#sk-container-id-1 div.sk-item {position: relative;z-index: 1;}#sk-container-id-1 div.sk-parallel {display: flex;align-items: stretch;justify-content: center;background-color: white;position: relative;}#sk-container-id-1 div.sk-item::before, #sk-container-id-1 div.sk-parallel-item::before {content: \"\";position: absolute;border-left: 1px solid gray;box-sizing: border-box;top: 0;bottom: 0;left: 50%;z-index: -1;}#sk-container-id-1 div.sk-parallel-item {display: flex;flex-direction: column;z-index: 1;position: relative;background-color: white;}#sk-container-id-1 div.sk-parallel-item:first-child::after {align-self: flex-end;width: 50%;}#sk-container-id-1 div.sk-parallel-item:last-child::after {align-self: flex-start;width: 50%;}#sk-container-id-1 div.sk-parallel-item:only-child::after {width: 0;}#sk-container-id-1 div.sk-dashed-wrapped {border: 1px dashed gray;margin: 0 0.4em 0.5em 0.4em;box-sizing: border-box;padding-bottom: 0.4em;background-color: white;}#sk-container-id-1 div.sk-label label {font-family: monospace;font-weight: bold;display: inline-block;line-height: 1.2em;}#sk-container-id-1 div.sk-label-container {text-align: center;}#sk-container-id-1 div.sk-container {/* jupyter's `normalize.less` sets `[hidden] { display: none; }` but bootstrap.min.css set `[hidden] { display: none !important; }` so we also need the `!important` here to be able to override the default hidden behavior on the sphinx rendered scikit-learn.org. See: https://github.com/scikit-learn/scikit-learn/issues/21755 */display: inline-block !important;position: relative;}#sk-container-id-1 div.sk-text-repr-fallback {display: none;}</style><div id=\"sk-container-id-1\" class=\"sk-top-container\"><div class=\"sk-text-repr-fallback\"><pre>LogisticRegression()</pre><b>In a Jupyter environment, please rerun this cell to show the HTML representation or trust the notebook. <br />On GitHub, the HTML representation is unable to render, please try loading this page with nbviewer.org.</b></div><div class=\"sk-container\" hidden><div class=\"sk-item\"><div class=\"sk-estimator sk-toggleable\"><input class=\"sk-toggleable__control sk-hidden--visually\" id=\"sk-estimator-id-1\" type=\"checkbox\" checked><label for=\"sk-estimator-id-1\" class=\"sk-toggleable__label sk-toggleable__label-arrow\">LogisticRegression</label><div class=\"sk-toggleable__content\"><pre>LogisticRegression()</pre></div></div></div></div></div>"
            ]
          },
          "metadata": {},
          "execution_count": 32
        }
      ]
    },
    {
      "cell_type": "markdown",
      "source": [
        "> Melakukan training logistic regressio pada data training yang dimiliki."
      ],
      "metadata": {
        "id": "u90eM42puxsz"
      }
    },
    {
      "cell_type": "markdown",
      "source": [
        "### Model Evaluation Baseline"
      ],
      "metadata": {
        "id": "Cxif8t0cfUxG"
      }
    },
    {
      "cell_type": "code",
      "source": [
        "# Evaluasi Performa Model logistic regression\n",
        "\n",
        "y_pred_train_logreg = logreg.predict(X_train_final)\n",
        "\n",
        "print('F1 Score - Train Set  : ', f1_score(y_train_trim, y_pred_train_logreg), '\\n')\n",
        "print('Classification Report : \\n', classification_report(y_train_trim, y_pred_train_logreg), '\\n')\n",
        "print('Confusion Matrix      : \\n', ConfusionMatrixDisplay.from_estimator(logreg, X_train_final, y_train_trim, cmap='Reds'))"
      ],
      "metadata": {
        "colab": {
          "base_uri": "https://localhost:8080/",
          "height": 539
        },
        "id": "ILzG8GcifYEp",
        "outputId": "66891c92-bbd3-48c8-b60f-4f05c9c77db2"
      },
      "execution_count": 33,
      "outputs": [
        {
          "output_type": "stream",
          "name": "stdout",
          "text": [
            "F1 Score - Train Set  :  0.44480519480519476 \n",
            "\n",
            "Classification Report : \n",
            "               precision    recall  f1-score   support\n",
            "\n",
            "           0       0.82      0.97      0.89      1377\n",
            "           1       0.75      0.32      0.44       433\n",
            "\n",
            "    accuracy                           0.81      1810\n",
            "   macro avg       0.78      0.64      0.67      1810\n",
            "weighted avg       0.80      0.81      0.78      1810\n",
            " \n",
            "\n",
            "Confusion Matrix      : \n",
            " <sklearn.metrics._plot.confusion_matrix.ConfusionMatrixDisplay object at 0x7f8a643ec700>\n"
          ]
        },
        {
          "output_type": "display_data",
          "data": {
            "text/plain": [
              "<Figure size 432x288 with 2 Axes>"
            ],
            "image/png": "[encoded data removed]"
          },
          "metadata": {
            "needs_background": "light"
          }
        }
      ]
    },
    {
      "cell_type": "markdown",
      "source": [
        "> Setelah dilakukan training pada data train yang dimiliki menggunakan logistic regression dengan menggunakan parameter baseline, didapatkan nilai f1-score label 1 atau TP dan TN benilai 0.445. dengan akurasi sebesar 0.81 atau 81 %"
      ],
      "metadata": {
        "id": "kNgE_NhFu63t"
      }
    },
    {
      "cell_type": "code",
      "source": [
        "# Cross Validation using `cross_val_score`\n",
        "\n",
        "%%time\n",
        "from sklearn.model_selection import cross_val_score\n",
        "\n",
        "f1_score_train_cross_val_logreg = cross_val_score(logreg, \n",
        "                                           X_train_final, \n",
        "                                           y_train_trim, \n",
        "                                           cv=3, \n",
        "                                           scoring='f1')\n",
        "\n",
        "print('F1 Score - All - Cross Validation  : ', f1_score_train_cross_val_logreg)\n",
        "print('F1 Score - Mean - Cross Validation : ', f1_score_train_cross_val_logreg.mean())\n",
        "print('F1 Score - Std - Cross Validation  : ', f1_score_train_cross_val_logreg.std())\n",
        "print('F1 Score - Range of Test-Set       : ', (f1_score_train_cross_val_logreg.mean()-f1_score_train_cross_val_logreg.std()) , '-', (f1_score_train_cross_val_logreg.mean()+f1_score_train_cross_val_logreg.std()))"
      ],
      "metadata": {
        "colab": {
          "base_uri": "https://localhost:8080/"
        },
        "id": "WNVZWCSyfp0t",
        "outputId": "83f89a1d-8488-490c-a7a0-f5e8767ff7c2"
      },
      "execution_count": 34,
      "outputs": [
        {
          "output_type": "stream",
          "name": "stdout",
          "text": [
            "F1 Score - All - Cross Validation  :  [0.38423645 0.45933014 0.42211055]\n",
            "F1 Score - Mean - Cross Validation :  0.4218923831688198\n",
            "F1 Score - Std - Cross Validation  :  0.03065725885387515\n",
            "F1 Score - Range of Test-Set       :  0.3912351243149446 - 0.45254964202269493\n",
            "CPU times: user 96.4 ms, sys: 63.5 ms, total: 160 ms\n",
            "Wall time: 101 ms\n"
          ]
        }
      ]
    },
    {
      "cell_type": "markdown",
      "source": [
        "> Dilakukan pengecekan mengguakan cross validation pada nilai f1-score yang bertujuan untuk mengetahui konsistensi pada model yang dibuat.\n",
        "\n",
        "> Hasil cross validation menunjukkan nilai 0.38423645 0.45933014 0.42211055. Dari informasi tersebut dapat terlihat bahwa model yang dibangun terlihat tidak konsisten. Rataan f1-score dari pengujian 3 fold adalah 0.4218923831688198.\n",
        "\n",
        "> Rentang nilai f1-score pada test set berada diantara nilai 0.3912351243149446 - 0.45254964202269493."
      ],
      "metadata": {
        "id": "YfP5thN0v1Tr"
      }
    },
    {
      "cell_type": "code",
      "source": [
        "# Cek Performa Model\n",
        "\n",
        "y_pred_test_logreg = logreg.predict(X_test_final)\n",
        "\n",
        "print('F1 Score - Test Set   : ', f1_score(y_test, y_pred_test_logreg), '\\n')\n",
        "print('Classification Report : \\n', classification_report(y_test, y_pred_test_logreg), '\\n')\n",
        "print('Confusion Matrix      : \\n', ConfusionMatrixDisplay.from_estimator(logreg, X_test_final, y_test, cmap='Reds'))"
      ],
      "metadata": {
        "colab": {
          "base_uri": "https://localhost:8080/",
          "height": 539
        },
        "id": "guwGsr1OgCkC",
        "outputId": "fb0096a1-236a-4810-f58e-2fcddfa484d6"
      },
      "execution_count": 35,
      "outputs": [
        {
          "output_type": "stream",
          "name": "stdout",
          "text": [
            "F1 Score - Test Set   :  0.4712041884816754 \n",
            "\n",
            "Classification Report : \n",
            "               precision    recall  f1-score   support\n",
            "\n",
            "           0       0.85      0.96      0.90       468\n",
            "           1       0.68      0.36      0.47       125\n",
            "\n",
            "    accuracy                           0.83       593\n",
            "   macro avg       0.77      0.66      0.68       593\n",
            "weighted avg       0.81      0.83      0.81       593\n",
            " \n",
            "\n",
            "Confusion Matrix      : \n",
            " <sklearn.metrics._plot.confusion_matrix.ConfusionMatrixDisplay object at 0x7f8a6447ad30>\n"
          ]
        },
        {
          "output_type": "display_data",
          "data": {
            "text/plain": [
              "<Figure size 432x288 with 2 Axes>"
            ],
            "image/png": "[encoded data removed]"
          },
          "metadata": {
            "needs_background": "light"
          }
        }
      ]
    },
    {
      "cell_type": "code",
      "source": [
        "# Tampilkan Hasil Uji Model\n",
        "\n",
        "all_reports = {}\n",
        "score_reports = {\n",
        "    'train - precision' : precision_score(y_train_trim, y_pred_train_logreg),\n",
        "    'train - recall' : recall_score(y_train_trim, y_pred_train_logreg),\n",
        "    'train - accuracy' : accuracy_score(y_train_trim, y_pred_train_logreg),\n",
        "    'train - f1_score' : f1_score(y_train_trim, y_pred_train_logreg),\n",
        "    'test - precision' : precision_score(y_test, y_pred_test_logreg),\n",
        "    'test - recall' : recall_score(y_test, y_pred_test_logreg),\n",
        "    'test - accuracy_score' : accuracy_score(y_test, y_pred_test_logreg),\n",
        "    'test - f1_score' : f1_score(y_test, y_pred_test_logreg),\n",
        "}\n",
        "all_reports['Baseline (Default Hyperparameter)'] = score_reports\n",
        "pd.DataFrame(all_reports)"
      ],
      "metadata": {
        "colab": {
          "base_uri": "https://localhost:8080/",
          "height": 300
        },
        "id": "z2HR6zTbgMWl",
        "outputId": "5b34a377-5c90-4ab4-fba1-aa86024f0e9e"
      },
      "execution_count": 36,
      "outputs": [
        {
          "output_type": "execute_result",
          "data": {
            "text/plain": [
              "                       Baseline (Default Hyperparameter)\n",
              "test - accuracy_score                           0.829680\n",
              "test - f1_score                                 0.471204\n",
              "test - precision                                0.681818\n",
              "test - recall                                   0.360000\n",
              "train - accuracy                                0.811050\n",
              "train - f1_score                                0.444805\n",
              "train - precision                               0.748634\n",
              "train - recall                                  0.316397"
            ],
            "text/html": [
              "\n",
              "  <div id=\"df-6df42423-b33a-46f9-961f-4c51174598d6\">\n",
              "    <div class=\"colab-df-container\">\n",
              "      <div>\n",
              "<style scoped>\n",
              "    .dataframe tbody tr th:only-of-type {\n",
              "        vertical-align: middle;\n",
              "    }\n",
              "\n",
              "    .dataframe tbody tr th {\n",
              "        vertical-align: top;\n",
              "    }\n",
              "\n",
              "    .dataframe thead th {\n",
              "        text-align: right;\n",
              "    }\n",
              "</style>\n",
              "<table border=\"1\" class=\"dataframe\">\n",
              "  <thead>\n",
              "    <tr style=\"text-align: right;\">\n",
              "      <th></th>\n",
              "      <th>Baseline (Default Hyperparameter)</th>\n",
              "    </tr>\n",
              "  </thead>\n",
              "  <tbody>\n",
              "    <tr>\n",
              "      <th>test - accuracy_score</th>\n",
              "      <td>0.829680</td>\n",
              "    </tr>\n",
              "    <tr>\n",
              "      <th>test - f1_score</th>\n",
              "      <td>0.471204</td>\n",
              "    </tr>\n",
              "    <tr>\n",
              "      <th>test - precision</th>\n",
              "      <td>0.681818</td>\n",
              "    </tr>\n",
              "    <tr>\n",
              "      <th>test - recall</th>\n",
              "      <td>0.360000</td>\n",
              "    </tr>\n",
              "    <tr>\n",
              "      <th>train - accuracy</th>\n",
              "      <td>0.811050</td>\n",
              "    </tr>\n",
              "    <tr>\n",
              "      <th>train - f1_score</th>\n",
              "      <td>0.444805</td>\n",
              "    </tr>\n",
              "    <tr>\n",
              "      <th>train - precision</th>\n",
              "      <td>0.748634</td>\n",
              "    </tr>\n",
              "    <tr>\n",
              "      <th>train - recall</th>\n",
              "      <td>0.316397</td>\n",
              "    </tr>\n",
              "  </tbody>\n",
              "</table>\n",
              "</div>\n",
              "      <button class=\"colab-df-convert\" onclick=\"convertToInteractive('df-6df42423-b33a-46f9-961f-4c51174598d6')\"\n",
              "              title=\"Convert this dataframe to an interactive table.\"\n",
              "              style=\"display:none;\">\n",
              "        \n",
              "  <svg xmlns=\"http://www.w3.org/2000/svg\" height=\"24px\"viewBox=\"0 0 24 24\"\n",
              "       width=\"24px\">\n",
              "    <path d=\"M0 0h24v24H0V0z\" fill=\"none\"/>\n",
              "    <path d=\"M18.56 5.44l.94 2.06.94-2.06 2.06-.94-2.06-.94-.94-2.06-.94 2.06-2.06.94zm-11 1L8.5 8.5l.94-2.06 2.06-.94-2.06-.94L8.5 2.5l-.94 2.06-2.06.94zm10 10l.94 2.06.94-2.06 2.06-.94-2.06-.94-.94-2.06-.94 2.06-2.06.94z\"/><path d=\"M17.41 7.96l-1.37-1.37c-.4-.4-.92-.59-1.43-.59-.52 0-1.04.2-1.43.59L10.3 9.45l-7.72 7.72c-.78.78-.78 2.05 0 2.83L4 21.41c.39.39.9.59 1.41.59.51 0 1.02-.2 1.41-.59l7.78-7.78 2.81-2.81c.8-.78.8-2.07 0-2.86zM5.41 20L4 18.59l7.72-7.72 1.47 1.35L5.41 20z\"/>\n",
              "  </svg>\n",
              "      </button>\n",
              "      \n",
              "  <style>\n",
              "    .colab-df-container {\n",
              "      display:flex;\n",
              "      flex-wrap:wrap;\n",
              "      gap: 12px;\n",
              "    }\n",
              "\n",
              "    .colab-df-convert {\n",
              "      background-color: #E8F0FE;\n",
              "      border: none;\n",
              "      border-radius: 50%;\n",
              "      cursor: pointer;\n",
              "      display: none;\n",
              "      fill: #1967D2;\n",
              "      height: 32px;\n",
              "      padding: 0 0 0 0;\n",
              "      width: 32px;\n",
              "    }\n",
              "\n",
              "    .colab-df-convert:hover {\n",
              "      background-color: #E2EBFA;\n",
              "      box-shadow: 0px 1px 2px rgba(60, 64, 67, 0.3), 0px 1px 3px 1px rgba(60, 64, 67, 0.15);\n",
              "      fill: #174EA6;\n",
              "    }\n",
              "\n",
              "    [theme=dark] .colab-df-convert {\n",
              "      background-color: #3B4455;\n",
              "      fill: #D2E3FC;\n",
              "    }\n",
              "\n",
              "    [theme=dark] .colab-df-convert:hover {\n",
              "      background-color: #434B5C;\n",
              "      box-shadow: 0px 1px 3px 1px rgba(0, 0, 0, 0.15);\n",
              "      filter: drop-shadow(0px 1px 2px rgba(0, 0, 0, 0.3));\n",
              "      fill: #FFFFFF;\n",
              "    }\n",
              "  </style>\n",
              "\n",
              "      <script>\n",
              "        const buttonEl =\n",
              "          document.querySelector('#df-6df42423-b33a-46f9-961f-4c51174598d6 button.colab-df-convert');\n",
              "        buttonEl.style.display =\n",
              "          google.colab.kernel.accessAllowed ? 'block' : 'none';\n",
              "\n",
              "        async function convertToInteractive(key) {\n",
              "          const element = document.querySelector('#df-6df42423-b33a-46f9-961f-4c51174598d6');\n",
              "          const dataTable =\n",
              "            await google.colab.kernel.invokeFunction('convertToInteractive',\n",
              "                                                     [key], {});\n",
              "          if (!dataTable) return;\n",
              "\n",
              "          const docLinkHtml = 'Like what you see? Visit the ' +\n",
              "            '<a target=\"_blank\" href=https://colab.research.google.com/notebooks/data_table.ipynb>data table notebook</a>'\n",
              "            + ' to learn more about interactive tables.';\n",
              "          element.innerHTML = '';\n",
              "          dataTable['output_type'] = 'display_data';\n",
              "          await google.colab.output.renderOutput(dataTable, element);\n",
              "          const docLink = document.createElement('div');\n",
              "          docLink.innerHTML = docLinkHtml;\n",
              "          element.appendChild(docLink);\n",
              "        }\n",
              "      </script>\n",
              "    </div>\n",
              "  </div>\n",
              "  "
            ]
          },
          "metadata": {},
          "execution_count": 36
        }
      ]
    },
    {
      "cell_type": "markdown",
      "source": [
        "> Dari inforamsi yang didapat pada logistic regresion  dengan menggunakan default hyperparameter ditunjukkan adanya overfit pada data yang dimiliki karena nilai f1-score pada test lebih rendah daripada train.\n",
        "\n",
        "> f1-score train memiliki nilai 0.445 dan f1-score pada test memiliki nilai 0.471."
      ],
      "metadata": {
        "id": "400hzd6WxYlU"
      }
    },
    {
      "cell_type": "markdown",
      "source": [
        "### Model Training Grid Search"
      ],
      "metadata": {
        "id": "Qt-NNMlFggef"
      }
    },
    {
      "cell_type": "markdown",
      "source": [
        "> Mencari hyperparameter terbaik menggunakan grid search."
      ],
      "metadata": {
        "id": "TzO74bfJyexg"
      }
    },
    {
      "cell_type": "code",
      "source": [
        "# Latih Dengan Grid Search Untuk Menentukan Hyperparameter Terbaik\n",
        "%%time\n",
        "param_grid = {\n",
        "              'C': [0.2, 0.4, 0.6, 0.8, 1, 1.5, 3, 4.5],  \n",
        "              'solver' : ['lbfgs', 'liblinear', 'newton-cg', 'newton-cholesky', 'sag', 'saga'],\n",
        "              'multi_class' : ['auto', 'ovr']\n",
        "              }\n",
        "logreg_gridcv = GridSearchCV(estimator=linear_model.LogisticRegression(),\n",
        "                         param_grid=param_grid,\n",
        "                         cv=3,\n",
        "                         n_jobs=-1,\n",
        "                         verbose=2, \n",
        "                         scoring='f1')\n",
        "\n",
        "logreg_gridcv.fit(X_train_final, y_train_trim)\n"
      ],
      "metadata": {
        "colab": {
          "base_uri": "https://localhost:8080/",
          "height": 170
        },
        "id": "5sQiMeFzhk3T",
        "outputId": "c35941a6-9ec2-458d-d3d0-338f389ffb20"
      },
      "execution_count": 37,
      "outputs": [
        {
          "output_type": "stream",
          "name": "stdout",
          "text": [
            "Fitting 3 folds for each of 96 candidates, totalling 288 fits\n",
            "CPU times: user 498 ms, sys: 128 ms, total: 626 ms\n",
            "Wall time: 12.3 s\n"
          ]
        },
        {
          "output_type": "execute_result",
          "data": {
            "text/plain": [
              "GridSearchCV(cv=3, estimator=LogisticRegression(), n_jobs=-1,\n",
              "             param_grid={'C': [0.2, 0.4, 0.6, 0.8, 1, 1.5, 3, 4.5],\n",
              "                         'multi_class': ['auto', 'ovr'],\n",
              "                         'solver': ['lbfgs', 'liblinear', 'newton-cg',\n",
              "                                    'newton-cholesky', 'sag', 'saga']},\n",
              "             scoring='f1', verbose=2)"
            ],
            "text/html": [
              "<style>#sk-container-id-2 {color: black;background-color: white;}#sk-container-id-2 pre{padding: 0;}#sk-container-id-2 div.sk-toggleable {background-color: white;}#sk-container-id-2 label.sk-toggleable__label {cursor: pointer;display: block;width: 100%;margin-bottom: 0;padding: 0.3em;box-sizing: border-box;text-align: center;}#sk-container-id-2 label.sk-toggleable__label-arrow:before {content: \"▸\";float: left;margin-right: 0.25em;color: #696969;}#sk-container-id-2 label.sk-toggleable__label-arrow:hover:before {color: black;}#sk-container-id-2 div.sk-estimator:hover label.sk-toggleable__label-arrow:before {color: black;}#sk-container-id-2 div.sk-toggleable__content {max-height: 0;max-width: 0;overflow: hidden;text-align: left;background-color: #f0f8ff;}#sk-container-id-2 div.sk-toggleable__content pre {margin: 0.2em;color: black;border-radius: 0.25em;background-color: #f0f8ff;}#sk-container-id-2 input.sk-toggleable__control:checked~div.sk-toggleable__content {max-height: 200px;max-width: 100%;overflow: auto;}#sk-container-id-2 input.sk-toggleable__control:checked~label.sk-toggleable__label-arrow:before {content: \"▾\";}#sk-container-id-2 div.sk-estimator input.sk-toggleable__control:checked~label.sk-toggleable__label {background-color: #d4ebff;}#sk-container-id-2 div.sk-label input.sk-toggleable__control:checked~label.sk-toggleable__label {background-color: #d4ebff;}#sk-container-id-2 input.sk-hidden--visually {border: 0;clip: rect(1px 1px 1px 1px);clip: rect(1px, 1px, 1px, 1px);height: 1px;margin: -1px;overflow: hidden;padding: 0;position: absolute;width: 1px;}#sk-container-id-2 div.sk-estimator {font-family: monospace;background-color: #f0f8ff;border: 1px dotted black;border-radius: 0.25em;box-sizing: border-box;margin-bottom: 0.5em;}#sk-container-id-2 div.sk-estimator:hover {background-color: #d4ebff;}#sk-container-id-2 div.sk-parallel-item::after {content: \"\";width: 100%;border-bottom: 1px solid gray;flex-grow: 1;}#sk-container-id-2 div.sk-label:hover label.sk-toggleable__label {background-color: #d4ebff;}#sk-container-id-2 div.sk-serial::before {content: \"\";position: absolute;border-left: 1px solid gray;box-sizing: border-box;top: 0;bottom: 0;left: 50%;z-index: 0;}#sk-container-id-2 div.sk-serial {display: flex;flex-direction: column;align-items: center;background-color: white;padding-right: 0.2em;padding-left: 0.2em;position: relative;}#sk-container-id-2 div.sk-item {position: relative;z-index: 1;}#sk-container-id-2 div.sk-parallel {display: flex;align-items: stretch;justify-content: center;background-color: white;position: relative;}#sk-container-id-2 div.sk-item::before, #sk-container-id-2 div.sk-parallel-item::before {content: \"\";position: absolute;border-left: 1px solid gray;box-sizing: border-box;top: 0;bottom: 0;left: 50%;z-index: -1;}#sk-container-id-2 div.sk-parallel-item {display: flex;flex-direction: column;z-index: 1;position: relative;background-color: white;}#sk-container-id-2 div.sk-parallel-item:first-child::after {align-self: flex-end;width: 50%;}#sk-container-id-2 div.sk-parallel-item:last-child::after {align-self: flex-start;width: 50%;}#sk-container-id-2 div.sk-parallel-item:only-child::after {width: 0;}#sk-container-id-2 div.sk-dashed-wrapped {border: 1px dashed gray;margin: 0 0.4em 0.5em 0.4em;box-sizing: border-box;padding-bottom: 0.4em;background-color: white;}#sk-container-id-2 div.sk-label label {font-family: monospace;font-weight: bold;display: inline-block;line-height: 1.2em;}#sk-container-id-2 div.sk-label-container {text-align: center;}#sk-container-id-2 div.sk-container {/* jupyter's `normalize.less` sets `[hidden] { display: none; }` but bootstrap.min.css set `[hidden] { display: none !important; }` so we also need the `!important` here to be able to override the default hidden behavior on the sphinx rendered scikit-learn.org. See: https://github.com/scikit-learn/scikit-learn/issues/21755 */display: inline-block !important;position: relative;}#sk-container-id-2 div.sk-text-repr-fallback {display: none;}</style><div id=\"sk-container-id-2\" class=\"sk-top-container\"><div class=\"sk-text-repr-fallback\"><pre>GridSearchCV(cv=3, estimator=LogisticRegression(), n_jobs=-1,\n",
              "             param_grid={&#x27;C&#x27;: [0.2, 0.4, 0.6, 0.8, 1, 1.5, 3, 4.5],\n",
              "                         &#x27;multi_class&#x27;: [&#x27;auto&#x27;, &#x27;ovr&#x27;],\n",
              "                         &#x27;solver&#x27;: [&#x27;lbfgs&#x27;, &#x27;liblinear&#x27;, &#x27;newton-cg&#x27;,\n",
              "                                    &#x27;newton-cholesky&#x27;, &#x27;sag&#x27;, &#x27;saga&#x27;]},\n",
              "             scoring=&#x27;f1&#x27;, verbose=2)</pre><b>In a Jupyter environment, please rerun this cell to show the HTML representation or trust the notebook. <br />On GitHub, the HTML representation is unable to render, please try loading this page with nbviewer.org.</b></div><div class=\"sk-container\" hidden><div class=\"sk-item sk-dashed-wrapped\"><div class=\"sk-label-container\"><div class=\"sk-label sk-toggleable\"><input class=\"sk-toggleable__control sk-hidden--visually\" id=\"sk-estimator-id-2\" type=\"checkbox\" ><label for=\"sk-estimator-id-2\" class=\"sk-toggleable__label sk-toggleable__label-arrow\">GridSearchCV</label><div class=\"sk-toggleable__content\"><pre>GridSearchCV(cv=3, estimator=LogisticRegression(), n_jobs=-1,\n",
              "             param_grid={&#x27;C&#x27;: [0.2, 0.4, 0.6, 0.8, 1, 1.5, 3, 4.5],\n",
              "                         &#x27;multi_class&#x27;: [&#x27;auto&#x27;, &#x27;ovr&#x27;],\n",
              "                         &#x27;solver&#x27;: [&#x27;lbfgs&#x27;, &#x27;liblinear&#x27;, &#x27;newton-cg&#x27;,\n",
              "                                    &#x27;newton-cholesky&#x27;, &#x27;sag&#x27;, &#x27;saga&#x27;]},\n",
              "             scoring=&#x27;f1&#x27;, verbose=2)</pre></div></div></div><div class=\"sk-parallel\"><div class=\"sk-parallel-item\"><div class=\"sk-item\"><div class=\"sk-label-container\"><div class=\"sk-label sk-toggleable\"><input class=\"sk-toggleable__control sk-hidden--visually\" id=\"sk-estimator-id-3\" type=\"checkbox\" ><label for=\"sk-estimator-id-3\" class=\"sk-toggleable__label sk-toggleable__label-arrow\">estimator: LogisticRegression</label><div class=\"sk-toggleable__content\"><pre>LogisticRegression()</pre></div></div></div><div class=\"sk-serial\"><div class=\"sk-item\"><div class=\"sk-estimator sk-toggleable\"><input class=\"sk-toggleable__control sk-hidden--visually\" id=\"sk-estimator-id-4\" type=\"checkbox\" ><label for=\"sk-estimator-id-4\" class=\"sk-toggleable__label sk-toggleable__label-arrow\">LogisticRegression</label><div class=\"sk-toggleable__content\"><pre>LogisticRegression()</pre></div></div></div></div></div></div></div></div></div></div>"
            ]
          },
          "metadata": {},
          "execution_count": 37
        }
      ]
    },
    {
      "cell_type": "markdown",
      "source": [
        "> Pada pencarian hyperparam terbaik pada logistic regression, parameter yang digunakan adalah C, solver, dan multi_class yang dilakukan fit sebanyak 3 fold."
      ],
      "metadata": {
        "id": "BDIBSn3Fyldt"
      }
    },
    {
      "cell_type": "code",
      "source": [
        "# Menampilkan Hyperparameters Terbaik Pada Logistic Regression\n",
        "logreg_gridcv.best_estimator_"
      ],
      "metadata": {
        "colab": {
          "base_uri": "https://localhost:8080/",
          "height": 75
        },
        "id": "mw6Ys1JqsDHq",
        "outputId": "a920a938-c89b-436e-8468-83c2b6529d82"
      },
      "execution_count": 38,
      "outputs": [
        {
          "output_type": "execute_result",
          "data": {
            "text/plain": [
              "LogisticRegression(C=4.5)"
            ],
            "text/html": [
              "<style>#sk-container-id-3 {color: black;background-color: white;}#sk-container-id-3 pre{padding: 0;}#sk-container-id-3 div.sk-toggleable {background-color: white;}#sk-container-id-3 label.sk-toggleable__label {cursor: pointer;display: block;width: 100%;margin-bottom: 0;padding: 0.3em;box-sizing: border-box;text-align: center;}#sk-container-id-3 label.sk-toggleable__label-arrow:before {content: \"▸\";float: left;margin-right: 0.25em;color: #696969;}#sk-container-id-3 label.sk-toggleable__label-arrow:hover:before {color: black;}#sk-container-id-3 div.sk-estimator:hover label.sk-toggleable__label-arrow:before {color: black;}#sk-container-id-3 div.sk-toggleable__content {max-height: 0;max-width: 0;overflow: hidden;text-align: left;background-color: #f0f8ff;}#sk-container-id-3 div.sk-toggleable__content pre {margin: 0.2em;color: black;border-radius: 0.25em;background-color: #f0f8ff;}#sk-container-id-3 input.sk-toggleable__control:checked~div.sk-toggleable__content {max-height: 200px;max-width: 100%;overflow: auto;}#sk-container-id-3 input.sk-toggleable__control:checked~label.sk-toggleable__label-arrow:before {content: \"▾\";}#sk-container-id-3 div.sk-estimator input.sk-toggleable__control:checked~label.sk-toggleable__label {background-color: #d4ebff;}#sk-container-id-3 div.sk-label input.sk-toggleable__control:checked~label.sk-toggleable__label {background-color: #d4ebff;}#sk-container-id-3 input.sk-hidden--visually {border: 0;clip: rect(1px 1px 1px 1px);clip: rect(1px, 1px, 1px, 1px);height: 1px;margin: -1px;overflow: hidden;padding: 0;position: absolute;width: 1px;}#sk-container-id-3 div.sk-estimator {font-family: monospace;background-color: #f0f8ff;border: 1px dotted black;border-radius: 0.25em;box-sizing: border-box;margin-bottom: 0.5em;}#sk-container-id-3 div.sk-estimator:hover {background-color: #d4ebff;}#sk-container-id-3 div.sk-parallel-item::after {content: \"\";width: 100%;border-bottom: 1px solid gray;flex-grow: 1;}#sk-container-id-3 div.sk-label:hover label.sk-toggleable__label {background-color: #d4ebff;}#sk-container-id-3 div.sk-serial::before {content: \"\";position: absolute;border-left: 1px solid gray;box-sizing: border-box;top: 0;bottom: 0;left: 50%;z-index: 0;}#sk-container-id-3 div.sk-serial {display: flex;flex-direction: column;align-items: center;background-color: white;padding-right: 0.2em;padding-left: 0.2em;position: relative;}#sk-container-id-3 div.sk-item {position: relative;z-index: 1;}#sk-container-id-3 div.sk-parallel {display: flex;align-items: stretch;justify-content: center;background-color: white;position: relative;}#sk-container-id-3 div.sk-item::before, #sk-container-id-3 div.sk-parallel-item::before {content: \"\";position: absolute;border-left: 1px solid gray;box-sizing: border-box;top: 0;bottom: 0;left: 50%;z-index: -1;}#sk-container-id-3 div.sk-parallel-item {display: flex;flex-direction: column;z-index: 1;position: relative;background-color: white;}#sk-container-id-3 div.sk-parallel-item:first-child::after {align-self: flex-end;width: 50%;}#sk-container-id-3 div.sk-parallel-item:last-child::after {align-self: flex-start;width: 50%;}#sk-container-id-3 div.sk-parallel-item:only-child::after {width: 0;}#sk-container-id-3 div.sk-dashed-wrapped {border: 1px dashed gray;margin: 0 0.4em 0.5em 0.4em;box-sizing: border-box;padding-bottom: 0.4em;background-color: white;}#sk-container-id-3 div.sk-label label {font-family: monospace;font-weight: bold;display: inline-block;line-height: 1.2em;}#sk-container-id-3 div.sk-label-container {text-align: center;}#sk-container-id-3 div.sk-container {/* jupyter's `normalize.less` sets `[hidden] { display: none; }` but bootstrap.min.css set `[hidden] { display: none !important; }` so we also need the `!important` here to be able to override the default hidden behavior on the sphinx rendered scikit-learn.org. See: https://github.com/scikit-learn/scikit-learn/issues/21755 */display: inline-block !important;position: relative;}#sk-container-id-3 div.sk-text-repr-fallback {display: none;}</style><div id=\"sk-container-id-3\" class=\"sk-top-container\"><div class=\"sk-text-repr-fallback\"><pre>LogisticRegression(C=4.5)</pre><b>In a Jupyter environment, please rerun this cell to show the HTML representation or trust the notebook. <br />On GitHub, the HTML representation is unable to render, please try loading this page with nbviewer.org.</b></div><div class=\"sk-container\" hidden><div class=\"sk-item\"><div class=\"sk-estimator sk-toggleable\"><input class=\"sk-toggleable__control sk-hidden--visually\" id=\"sk-estimator-id-5\" type=\"checkbox\" checked><label for=\"sk-estimator-id-5\" class=\"sk-toggleable__label sk-toggleable__label-arrow\">LogisticRegression</label><div class=\"sk-toggleable__content\"><pre>LogisticRegression(C=4.5)</pre></div></div></div></div></div>"
            ]
          },
          "metadata": {},
          "execution_count": 38
        }
      ]
    },
    {
      "cell_type": "code",
      "source": [
        "logreg_gridcv.best_params_"
      ],
      "metadata": {
        "colab": {
          "base_uri": "https://localhost:8080/"
        },
        "id": "mahLmQGvvtGY",
        "outputId": "dd857499-4575-431c-a577-3ca638e48a9f"
      },
      "execution_count": 39,
      "outputs": [
        {
          "output_type": "execute_result",
          "data": {
            "text/plain": [
              "{'C': 4.5, 'multi_class': 'auto', 'solver': 'lbfgs'}"
            ]
          },
          "metadata": {},
          "execution_count": 39
        }
      ]
    },
    {
      "cell_type": "markdown",
      "source": [
        "> Setelah dilakukan trainterhadap data menggunakan parameter yang sudah ditentukan diatas, didapatkan hyperparameter terbaik menurut gridsearch yaitu menentukan nilai 'C'dengan nilai 4.5, 'multi_class' : 'auto' dan menggunakan lbfgs sebagai solver.\n",
        "\n",
        "> Selanjutnya hperparameter tersebut akan disimpan pada `logreg_gridcv_best` untuk dilakukan evaluasi pada data test agar dapat diketahui pengaruhnya terhadap akurasi model."
      ],
      "metadata": {
        "id": "KP8dof9Jy6h3"
      }
    },
    {
      "cell_type": "code",
      "source": [
        "# Menyimpan Hyperparameter terbaik Untuk Uji Untuk Uji Data pada Variabel logreg_gridcv_best\n",
        "\n",
        "logreg_gridcv_best = logreg_gridcv.best_estimator_"
      ],
      "metadata": {
        "id": "rrqqsKVfsF7L"
      },
      "execution_count": 40,
      "outputs": []
    },
    {
      "cell_type": "markdown",
      "source": [
        "### Model Evaluation Grid Search"
      ],
      "metadata": {
        "id": "Kf1VlFX9xNVZ"
      }
    },
    {
      "cell_type": "code",
      "source": [
        "# Cek Performa Model Menggunakan Hyperparameter Terbaik\n",
        "\n",
        "y_pred_test_logreg_grid = logreg_gridcv_best.predict(X_test_final)\n",
        "\n",
        "print('F1 Score - Test Set   : ', f1_score(y_test, y_pred_test_logreg), '\\n')\n",
        "print('Classification Report : \\n', classification_report(y_test, y_pred_test_logreg), '\\n')\n",
        "print('Confusion Matrix      : \\n', ConfusionMatrixDisplay.from_estimator(logreg_gridcv_best, X_test_final, y_test, cmap='Reds'))"
      ],
      "metadata": {
        "colab": {
          "base_uri": "https://localhost:8080/",
          "height": 539
        },
        "id": "JAybCo05sZOX",
        "outputId": "e9456080-fb34-4d68-e469-6a4ebe894e0e"
      },
      "execution_count": 41,
      "outputs": [
        {
          "output_type": "stream",
          "name": "stdout",
          "text": [
            "F1 Score - Test Set   :  0.4712041884816754 \n",
            "\n",
            "Classification Report : \n",
            "               precision    recall  f1-score   support\n",
            "\n",
            "           0       0.85      0.96      0.90       468\n",
            "           1       0.68      0.36      0.47       125\n",
            "\n",
            "    accuracy                           0.83       593\n",
            "   macro avg       0.77      0.66      0.68       593\n",
            "weighted avg       0.81      0.83      0.81       593\n",
            " \n",
            "\n",
            "Confusion Matrix      : \n",
            " <sklearn.metrics._plot.confusion_matrix.ConfusionMatrixDisplay object at 0x7f8a641222e0>\n"
          ]
        },
        {
          "output_type": "display_data",
          "data": {
            "text/plain": [
              "<Figure size 432x288 with 2 Axes>"
            ],
            "image/png": "[encoded data removed]"
          },
          "metadata": {
            "needs_background": "light"
          }
        }
      ]
    },
    {
      "cell_type": "markdown",
      "source": [
        "> Hperparameter terbaik menurut grid search diterpakan pada testing data.\n",
        "\n",
        "> Hasil uji menunjukkan bahwa f1-score bernilai 0.4712 dengan akurasi sebesar 0.83 atau 83 %"
      ],
      "metadata": {
        "id": "j_osku9czyPI"
      }
    },
    {
      "cell_type": "code",
      "source": [
        "# Save Classification Report into a Dictionary\n",
        "\n",
        "score_reports = {\n",
        "    'train - precision' : precision_score(y_train_trim, y_pred_train_logreg),\n",
        "    'train - recall' : recall_score(y_train_trim, y_pred_train_logreg),\n",
        "    'train - accuracy' : accuracy_score(y_train_trim, y_pred_train_logreg),\n",
        "    'train - f1_score' : f1_score(y_train_trim, y_pred_train_logreg),\n",
        "    'test - precision' : precision_score(y_test, y_pred_test_logreg_grid),\n",
        "    'test - recall' : recall_score(y_test, y_pred_test_logreg_grid),\n",
        "    'test - accuracy_score' : accuracy_score(y_test, y_pred_test_logreg_grid),\n",
        "    'test - f1_score' : f1_score(y_test, y_pred_test_logreg_grid),\n",
        "}\n",
        "all_reports['Grid Search'] = score_reports\n",
        "pd.DataFrame(all_reports)"
      ],
      "metadata": {
        "colab": {
          "base_uri": "https://localhost:8080/",
          "height": 300
        },
        "id": "lBxMsJrruM8k",
        "outputId": "eeeae850-ae89-4c66-fba3-6e9c6f865118"
      },
      "execution_count": 42,
      "outputs": [
        {
          "output_type": "execute_result",
          "data": {
            "text/plain": [
              "                       Baseline (Default Hyperparameter)  Grid Search\n",
              "train - precision                               0.748634     0.748634\n",
              "train - recall                                  0.316397     0.316397\n",
              "train - accuracy                                0.811050     0.811050\n",
              "train - f1_score                                0.444805     0.444805\n",
              "test - precision                                0.681818     0.661972\n",
              "test - recall                                   0.360000     0.376000\n",
              "test - accuracy_score                           0.829680     0.827993\n",
              "test - f1_score                                 0.471204     0.479592"
            ],
            "text/html": [
              "\n",
              "  <div id=\"df-fe937b0d-c766-466a-9867-9727b845a169\">\n",
              "    <div class=\"colab-df-container\">\n",
              "      <div>\n",
              "<style scoped>\n",
              "    .dataframe tbody tr th:only-of-type {\n",
              "        vertical-align: middle;\n",
              "    }\n",
              "\n",
              "    .dataframe tbody tr th {\n",
              "        vertical-align: top;\n",
              "    }\n",
              "\n",
              "    .dataframe thead th {\n",
              "        text-align: right;\n",
              "    }\n",
              "</style>\n",
              "<table border=\"1\" class=\"dataframe\">\n",
              "  <thead>\n",
              "    <tr style=\"text-align: right;\">\n",
              "      <th></th>\n",
              "      <th>Baseline (Default Hyperparameter)</th>\n",
              "      <th>Grid Search</th>\n",
              "    </tr>\n",
              "  </thead>\n",
              "  <tbody>\n",
              "    <tr>\n",
              "      <th>train - precision</th>\n",
              "      <td>0.748634</td>\n",
              "      <td>0.748634</td>\n",
              "    </tr>\n",
              "    <tr>\n",
              "      <th>train - recall</th>\n",
              "      <td>0.316397</td>\n",
              "      <td>0.316397</td>\n",
              "    </tr>\n",
              "    <tr>\n",
              "      <th>train - accuracy</th>\n",
              "      <td>0.811050</td>\n",
              "      <td>0.811050</td>\n",
              "    </tr>\n",
              "    <tr>\n",
              "      <th>train - f1_score</th>\n",
              "      <td>0.444805</td>\n",
              "      <td>0.444805</td>\n",
              "    </tr>\n",
              "    <tr>\n",
              "      <th>test - precision</th>\n",
              "      <td>0.681818</td>\n",
              "      <td>0.661972</td>\n",
              "    </tr>\n",
              "    <tr>\n",
              "      <th>test - recall</th>\n",
              "      <td>0.360000</td>\n",
              "      <td>0.376000</td>\n",
              "    </tr>\n",
              "    <tr>\n",
              "      <th>test - accuracy_score</th>\n",
              "      <td>0.829680</td>\n",
              "      <td>0.827993</td>\n",
              "    </tr>\n",
              "    <tr>\n",
              "      <th>test - f1_score</th>\n",
              "      <td>0.471204</td>\n",
              "      <td>0.479592</td>\n",
              "    </tr>\n",
              "  </tbody>\n",
              "</table>\n",
              "</div>\n",
              "      <button class=\"colab-df-convert\" onclick=\"convertToInteractive('df-fe937b0d-c766-466a-9867-9727b845a169')\"\n",
              "              title=\"Convert this dataframe to an interactive table.\"\n",
              "              style=\"display:none;\">\n",
              "        \n",
              "  <svg xmlns=\"http://www.w3.org/2000/svg\" height=\"24px\"viewBox=\"0 0 24 24\"\n",
              "       width=\"24px\">\n",
              "    <path d=\"M0 0h24v24H0V0z\" fill=\"none\"/>\n",
              "    <path d=\"M18.56 5.44l.94 2.06.94-2.06 2.06-.94-2.06-.94-.94-2.06-.94 2.06-2.06.94zm-11 1L8.5 8.5l.94-2.06 2.06-.94-2.06-.94L8.5 2.5l-.94 2.06-2.06.94zm10 10l.94 2.06.94-2.06 2.06-.94-2.06-.94-.94-2.06-.94 2.06-2.06.94z\"/><path d=\"M17.41 7.96l-1.37-1.37c-.4-.4-.92-.59-1.43-.59-.52 0-1.04.2-1.43.59L10.3 9.45l-7.72 7.72c-.78.78-.78 2.05 0 2.83L4 21.41c.39.39.9.59 1.41.59.51 0 1.02-.2 1.41-.59l7.78-7.78 2.81-2.81c.8-.78.8-2.07 0-2.86zM5.41 20L4 18.59l7.72-7.72 1.47 1.35L5.41 20z\"/>\n",
              "  </svg>\n",
              "      </button>\n",
              "      \n",
              "  <style>\n",
              "    .colab-df-container {\n",
              "      display:flex;\n",
              "      flex-wrap:wrap;\n",
              "      gap: 12px;\n",
              "    }\n",
              "\n",
              "    .colab-df-convert {\n",
              "      background-color: #E8F0FE;\n",
              "      border: none;\n",
              "      border-radius: 50%;\n",
              "      cursor: pointer;\n",
              "      display: none;\n",
              "      fill: #1967D2;\n",
              "      height: 32px;\n",
              "      padding: 0 0 0 0;\n",
              "      width: 32px;\n",
              "    }\n",
              "\n",
              "    .colab-df-convert:hover {\n",
              "      background-color: #E2EBFA;\n",
              "      box-shadow: 0px 1px 2px rgba(60, 64, 67, 0.3), 0px 1px 3px 1px rgba(60, 64, 67, 0.15);\n",
              "      fill: #174EA6;\n",
              "    }\n",
              "\n",
              "    [theme=dark] .colab-df-convert {\n",
              "      background-color: #3B4455;\n",
              "      fill: #D2E3FC;\n",
              "    }\n",
              "\n",
              "    [theme=dark] .colab-df-convert:hover {\n",
              "      background-color: #434B5C;\n",
              "      box-shadow: 0px 1px 3px 1px rgba(0, 0, 0, 0.15);\n",
              "      filter: drop-shadow(0px 1px 2px rgba(0, 0, 0, 0.3));\n",
              "      fill: #FFFFFF;\n",
              "    }\n",
              "  </style>\n",
              "\n",
              "      <script>\n",
              "        const buttonEl =\n",
              "          document.querySelector('#df-fe937b0d-c766-466a-9867-9727b845a169 button.colab-df-convert');\n",
              "        buttonEl.style.display =\n",
              "          google.colab.kernel.accessAllowed ? 'block' : 'none';\n",
              "\n",
              "        async function convertToInteractive(key) {\n",
              "          const element = document.querySelector('#df-fe937b0d-c766-466a-9867-9727b845a169');\n",
              "          const dataTable =\n",
              "            await google.colab.kernel.invokeFunction('convertToInteractive',\n",
              "                                                     [key], {});\n",
              "          if (!dataTable) return;\n",
              "\n",
              "          const docLinkHtml = 'Like what you see? Visit the ' +\n",
              "            '<a target=\"_blank\" href=https://colab.research.google.com/notebooks/data_table.ipynb>data table notebook</a>'\n",
              "            + ' to learn more about interactive tables.';\n",
              "          element.innerHTML = '';\n",
              "          dataTable['output_type'] = 'display_data';\n",
              "          await google.colab.output.renderOutput(dataTable, element);\n",
              "          const docLink = document.createElement('div');\n",
              "          docLink.innerHTML = docLinkHtml;\n",
              "          element.appendChild(docLink);\n",
              "        }\n",
              "      </script>\n",
              "    </div>\n",
              "  </div>\n",
              "  "
            ]
          },
          "metadata": {},
          "execution_count": 42
        }
      ]
    },
    {
      "cell_type": "markdown",
      "source": [
        "> Tidak terdapat perubahan yang signifikan pada hasil uji setelah dilakukan perubahan hyperparam menggunkan hyperparam terbaik menurut grid search."
      ],
      "metadata": {
        "id": "CndTxgZz0FnV"
      }
    },
    {
      "cell_type": "markdown",
      "source": [
        "### Model Training Random Search"
      ],
      "metadata": {
        "id": "PCVr9-cqxkfR"
      }
    },
    {
      "cell_type": "code",
      "source": [
        "random_grid = {'solver' : ['lbfgs', 'liblinear', 'newton-cg', 'newton-cholesky', 'sag', 'saga'],\n",
        "               'C': [0.2, 0.4, 0.6, 0.8, 1, 1.5, 3, 4.5],\n",
        "               'penalty':['l1','l1', '‘elasticnet']}\n",
        "random_grid"
      ],
      "metadata": {
        "colab": {
          "base_uri": "https://localhost:8080/"
        },
        "id": "HXOK5imnxkA0",
        "outputId": "55bb97ec-c1d6-4beb-9520-d8618cc99b99"
      },
      "execution_count": 43,
      "outputs": [
        {
          "output_type": "execute_result",
          "data": {
            "text/plain": [
              "{'solver': ['lbfgs',\n",
              "  'liblinear',\n",
              "  'newton-cg',\n",
              "  'newton-cholesky',\n",
              "  'sag',\n",
              "  'saga'],\n",
              " 'C': [0.2, 0.4, 0.6, 0.8, 1, 1.5, 3, 4.5],\n",
              " 'penalty': ['l1', 'l1', '‘elasticnet']}"
            ]
          },
          "metadata": {},
          "execution_count": 43
        }
      ]
    },
    {
      "cell_type": "markdown",
      "source": [
        "> Mencari hyperparam terbaik menggunakan random search, dengan nyperparam yang akan diujikan adalah solver, C dan penalty."
      ],
      "metadata": {
        "id": "H9Kzs3kZ0cJB"
      }
    },
    {
      "cell_type": "code",
      "source": [
        "# Train with Random Search\n",
        "%%time\n",
        "\n",
        "logreg_randomcv = RandomizedSearchCV(estimator=linear_model.LogisticRegression(),\n",
        "                         param_distributions=random_grid,\n",
        "                         cv=3,\n",
        "                         n_jobs=-1,\n",
        "                         verbose=2, \n",
        "                         scoring='f1')\n",
        "logreg_randomcv.fit(X_train_final, y_train_trim)"
      ],
      "metadata": {
        "colab": {
          "base_uri": "https://localhost:8080/",
          "height": 1000
        },
        "id": "abvPDJXfzwH-",
        "outputId": "8eb973a3-84ef-4d16-d7ef-9df39e02d6d5"
      },
      "execution_count": 44,
      "outputs": [
        {
          "output_type": "stream",
          "name": "stdout",
          "text": [
            "Fitting 3 folds for each of 10 candidates, totalling 30 fits\n",
            "CPU times: user 79.7 ms, sys: 7.45 ms, total: 87.2 ms\n",
            "Wall time: 397 ms\n"
          ]
        },
        {
          "output_type": "stream",
          "name": "stderr",
          "text": [
            "/usr/local/lib/python3.9/dist-packages/sklearn/model_selection/_validation.py:378: FitFailedWarning: \n",
            "27 fits failed out of a total of 30.\n",
            "The score on these train-test partitions for these parameters will be set to nan.\n",
            "If these failures are not expected, you can try to debug them by setting error_score='raise'.\n",
            "\n",
            "Below are more details about the failures:\n",
            "--------------------------------------------------------------------------------\n",
            "3 fits failed with the following error:\n",
            "Traceback (most recent call last):\n",
            "  File \"/usr/local/lib/python3.9/dist-packages/sklearn/model_selection/_validation.py\", line 686, in _fit_and_score\n",
            "    estimator.fit(X_train, y_train, **fit_params)\n",
            "  File \"/usr/local/lib/python3.9/dist-packages/sklearn/linear_model/_logistic.py\", line 1160, in fit\n",
            "    self._validate_params()\n",
            "  File \"/usr/local/lib/python3.9/dist-packages/sklearn/base.py\", line 600, in _validate_params\n",
            "    validate_parameter_constraints(\n",
            "  File \"/usr/local/lib/python3.9/dist-packages/sklearn/utils/_param_validation.py\", line 97, in validate_parameter_constraints\n",
            "    raise InvalidParameterError(\n",
            "sklearn.utils._param_validation.InvalidParameterError: The 'penalty' parameter of LogisticRegression must be a str among {'l1', 'none' (deprecated), 'elasticnet', 'l2'} or None. Got '‘elasticnet' instead.\n",
            "\n",
            "--------------------------------------------------------------------------------\n",
            "6 fits failed with the following error:\n",
            "Traceback (most recent call last):\n",
            "  File \"/usr/local/lib/python3.9/dist-packages/sklearn/model_selection/_validation.py\", line 686, in _fit_and_score\n",
            "    estimator.fit(X_train, y_train, **fit_params)\n",
            "  File \"/usr/local/lib/python3.9/dist-packages/sklearn/linear_model/_logistic.py\", line 1160, in fit\n",
            "    self._validate_params()\n",
            "  File \"/usr/local/lib/python3.9/dist-packages/sklearn/base.py\", line 600, in _validate_params\n",
            "    validate_parameter_constraints(\n",
            "  File \"/usr/local/lib/python3.9/dist-packages/sklearn/utils/_param_validation.py\", line 97, in validate_parameter_constraints\n",
            "    raise InvalidParameterError(\n",
            "sklearn.utils._param_validation.InvalidParameterError: The 'penalty' parameter of LogisticRegression must be a str among {'elasticnet', 'l2', 'l1', 'none' (deprecated)} or None. Got '‘elasticnet' instead.\n",
            "\n",
            "--------------------------------------------------------------------------------\n",
            "3 fits failed with the following error:\n",
            "Traceback (most recent call last):\n",
            "  File \"/usr/local/lib/python3.9/dist-packages/sklearn/model_selection/_validation.py\", line 686, in _fit_and_score\n",
            "    estimator.fit(X_train, y_train, **fit_params)\n",
            "  File \"/usr/local/lib/python3.9/dist-packages/sklearn/linear_model/_logistic.py\", line 1162, in fit\n",
            "    solver = _check_solver(self.solver, self.penalty, self.dual)\n",
            "  File \"/usr/local/lib/python3.9/dist-packages/sklearn/linear_model/_logistic.py\", line 54, in _check_solver\n",
            "    raise ValueError(\n",
            "ValueError: Solver lbfgs supports only 'l2' or 'none' penalties, got l1 penalty.\n",
            "\n",
            "--------------------------------------------------------------------------------\n",
            "12 fits failed with the following error:\n",
            "Traceback (most recent call last):\n",
            "  File \"/usr/local/lib/python3.9/dist-packages/sklearn/model_selection/_validation.py\", line 686, in _fit_and_score\n",
            "    estimator.fit(X_train, y_train, **fit_params)\n",
            "  File \"/usr/local/lib/python3.9/dist-packages/sklearn/linear_model/_logistic.py\", line 1162, in fit\n",
            "    solver = _check_solver(self.solver, self.penalty, self.dual)\n",
            "  File \"/usr/local/lib/python3.9/dist-packages/sklearn/linear_model/_logistic.py\", line 54, in _check_solver\n",
            "    raise ValueError(\n",
            "ValueError: Solver newton-cholesky supports only 'l2' or 'none' penalties, got l1 penalty.\n",
            "\n",
            "--------------------------------------------------------------------------------\n",
            "3 fits failed with the following error:\n",
            "Traceback (most recent call last):\n",
            "  File \"/usr/local/lib/python3.9/dist-packages/sklearn/model_selection/_validation.py\", line 686, in _fit_and_score\n",
            "    estimator.fit(X_train, y_train, **fit_params)\n",
            "  File \"/usr/local/lib/python3.9/dist-packages/sklearn/linear_model/_logistic.py\", line 1162, in fit\n",
            "    solver = _check_solver(self.solver, self.penalty, self.dual)\n",
            "  File \"/usr/local/lib/python3.9/dist-packages/sklearn/linear_model/_logistic.py\", line 54, in _check_solver\n",
            "    raise ValueError(\n",
            "ValueError: Solver newton-cg supports only 'l2' or 'none' penalties, got l1 penalty.\n",
            "\n",
            "  warnings.warn(some_fits_failed_message, FitFailedWarning)\n",
            "/usr/local/lib/python3.9/dist-packages/sklearn/model_selection/_search.py:952: UserWarning: One or more of the test scores are non-finite: [       nan        nan        nan        nan        nan        nan\n",
            "        nan        nan 0.41167724        nan]\n",
            "  warnings.warn(\n"
          ]
        },
        {
          "output_type": "execute_result",
          "data": {
            "text/plain": [
              "RandomizedSearchCV(cv=3, estimator=LogisticRegression(), n_jobs=-1,\n",
              "                   param_distributions={'C': [0.2, 0.4, 0.6, 0.8, 1, 1.5, 3,\n",
              "                                              4.5],\n",
              "                                        'penalty': ['l1', 'l1', '‘elasticnet'],\n",
              "                                        'solver': ['lbfgs', 'liblinear',\n",
              "                                                   'newton-cg',\n",
              "                                                   'newton-cholesky', 'sag',\n",
              "                                                   'saga']},\n",
              "                   scoring='f1', verbose=2)"
            ],
            "text/html": [
              "<style>#sk-container-id-4 {color: black;background-color: white;}#sk-container-id-4 pre{padding: 0;}#sk-container-id-4 div.sk-toggleable {background-color: white;}#sk-container-id-4 label.sk-toggleable__label {cursor: pointer;display: block;width: 100%;margin-bottom: 0;padding: 0.3em;box-sizing: border-box;text-align: center;}#sk-container-id-4 label.sk-toggleable__label-arrow:before {content: \"▸\";float: left;margin-right: 0.25em;color: #696969;}#sk-container-id-4 label.sk-toggleable__label-arrow:hover:before {color: black;}#sk-container-id-4 div.sk-estimator:hover label.sk-toggleable__label-arrow:before {color: black;}#sk-container-id-4 div.sk-toggleable__content {max-height: 0;max-width: 0;overflow: hidden;text-align: left;background-color: #f0f8ff;}#sk-container-id-4 div.sk-toggleable__content pre {margin: 0.2em;color: black;border-radius: 0.25em;background-color: #f0f8ff;}#sk-container-id-4 input.sk-toggleable__control:checked~div.sk-toggleable__content {max-height: 200px;max-width: 100%;overflow: auto;}#sk-container-id-4 input.sk-toggleable__control:checked~label.sk-toggleable__label-arrow:before {content: \"▾\";}#sk-container-id-4 div.sk-estimator input.sk-toggleable__control:checked~label.sk-toggleable__label {background-color: #d4ebff;}#sk-container-id-4 div.sk-label input.sk-toggleable__control:checked~label.sk-toggleable__label {background-color: #d4ebff;}#sk-container-id-4 input.sk-hidden--visually {border: 0;clip: rect(1px 1px 1px 1px);clip: rect(1px, 1px, 1px, 1px);height: 1px;margin: -1px;overflow: hidden;padding: 0;position: absolute;width: 1px;}#sk-container-id-4 div.sk-estimator {font-family: monospace;background-color: #f0f8ff;border: 1px dotted black;border-radius: 0.25em;box-sizing: border-box;margin-bottom: 0.5em;}#sk-container-id-4 div.sk-estimator:hover {background-color: #d4ebff;}#sk-container-id-4 div.sk-parallel-item::after {content: \"\";width: 100%;border-bottom: 1px solid gray;flex-grow: 1;}#sk-container-id-4 div.sk-label:hover label.sk-toggleable__label {background-color: #d4ebff;}#sk-container-id-4 div.sk-serial::before {content: \"\";position: absolute;border-left: 1px solid gray;box-sizing: border-box;top: 0;bottom: 0;left: 50%;z-index: 0;}#sk-container-id-4 div.sk-serial {display: flex;flex-direction: column;align-items: center;background-color: white;padding-right: 0.2em;padding-left: 0.2em;position: relative;}#sk-container-id-4 div.sk-item {position: relative;z-index: 1;}#sk-container-id-4 div.sk-parallel {display: flex;align-items: stretch;justify-content: center;background-color: white;position: relative;}#sk-container-id-4 div.sk-item::before, #sk-container-id-4 div.sk-parallel-item::before {content: \"\";position: absolute;border-left: 1px solid gray;box-sizing: border-box;top: 0;bottom: 0;left: 50%;z-index: -1;}#sk-container-id-4 div.sk-parallel-item {display: flex;flex-direction: column;z-index: 1;position: relative;background-color: white;}#sk-container-id-4 div.sk-parallel-item:first-child::after {align-self: flex-end;width: 50%;}#sk-container-id-4 div.sk-parallel-item:last-child::after {align-self: flex-start;width: 50%;}#sk-container-id-4 div.sk-parallel-item:only-child::after {width: 0;}#sk-container-id-4 div.sk-dashed-wrapped {border: 1px dashed gray;margin: 0 0.4em 0.5em 0.4em;box-sizing: border-box;padding-bottom: 0.4em;background-color: white;}#sk-container-id-4 div.sk-label label {font-family: monospace;font-weight: bold;display: inline-block;line-height: 1.2em;}#sk-container-id-4 div.sk-label-container {text-align: center;}#sk-container-id-4 div.sk-container {/* jupyter's `normalize.less` sets `[hidden] { display: none; }` but bootstrap.min.css set `[hidden] { display: none !important; }` so we also need the `!important` here to be able to override the default hidden behavior on the sphinx rendered scikit-learn.org. See: https://github.com/scikit-learn/scikit-learn/issues/21755 */display: inline-block !important;position: relative;}#sk-container-id-4 div.sk-text-repr-fallback {display: none;}</style><div id=\"sk-container-id-4\" class=\"sk-top-container\"><div class=\"sk-text-repr-fallback\"><pre>RandomizedSearchCV(cv=3, estimator=LogisticRegression(), n_jobs=-1,\n",
              "                   param_distributions={&#x27;C&#x27;: [0.2, 0.4, 0.6, 0.8, 1, 1.5, 3,\n",
              "                                              4.5],\n",
              "                                        &#x27;penalty&#x27;: [&#x27;l1&#x27;, &#x27;l1&#x27;, &#x27;‘elasticnet&#x27;],\n",
              "                                        &#x27;solver&#x27;: [&#x27;lbfgs&#x27;, &#x27;liblinear&#x27;,\n",
              "                                                   &#x27;newton-cg&#x27;,\n",
              "                                                   &#x27;newton-cholesky&#x27;, &#x27;sag&#x27;,\n",
              "                                                   &#x27;saga&#x27;]},\n",
              "                   scoring=&#x27;f1&#x27;, verbose=2)</pre><b>In a Jupyter environment, please rerun this cell to show the HTML representation or trust the notebook. <br />On GitHub, the HTML representation is unable to render, please try loading this page with nbviewer.org.</b></div><div class=\"sk-container\" hidden><div class=\"sk-item sk-dashed-wrapped\"><div class=\"sk-label-container\"><div class=\"sk-label sk-toggleable\"><input class=\"sk-toggleable__control sk-hidden--visually\" id=\"sk-estimator-id-6\" type=\"checkbox\" ><label for=\"sk-estimator-id-6\" class=\"sk-toggleable__label sk-toggleable__label-arrow\">RandomizedSearchCV</label><div class=\"sk-toggleable__content\"><pre>RandomizedSearchCV(cv=3, estimator=LogisticRegression(), n_jobs=-1,\n",
              "                   param_distributions={&#x27;C&#x27;: [0.2, 0.4, 0.6, 0.8, 1, 1.5, 3,\n",
              "                                              4.5],\n",
              "                                        &#x27;penalty&#x27;: [&#x27;l1&#x27;, &#x27;l1&#x27;, &#x27;‘elasticnet&#x27;],\n",
              "                                        &#x27;solver&#x27;: [&#x27;lbfgs&#x27;, &#x27;liblinear&#x27;,\n",
              "                                                   &#x27;newton-cg&#x27;,\n",
              "                                                   &#x27;newton-cholesky&#x27;, &#x27;sag&#x27;,\n",
              "                                                   &#x27;saga&#x27;]},\n",
              "                   scoring=&#x27;f1&#x27;, verbose=2)</pre></div></div></div><div class=\"sk-parallel\"><div class=\"sk-parallel-item\"><div class=\"sk-item\"><div class=\"sk-label-container\"><div class=\"sk-label sk-toggleable\"><input class=\"sk-toggleable__control sk-hidden--visually\" id=\"sk-estimator-id-7\" type=\"checkbox\" ><label for=\"sk-estimator-id-7\" class=\"sk-toggleable__label sk-toggleable__label-arrow\">estimator: LogisticRegression</label><div class=\"sk-toggleable__content\"><pre>LogisticRegression()</pre></div></div></div><div class=\"sk-serial\"><div class=\"sk-item\"><div class=\"sk-estimator sk-toggleable\"><input class=\"sk-toggleable__control sk-hidden--visually\" id=\"sk-estimator-id-8\" type=\"checkbox\" ><label for=\"sk-estimator-id-8\" class=\"sk-toggleable__label sk-toggleable__label-arrow\">LogisticRegression</label><div class=\"sk-toggleable__content\"><pre>LogisticRegression()</pre></div></div></div></div></div></div></div></div></div></div>"
            ]
          },
          "metadata": {},
          "execution_count": 44
        }
      ]
    },
    {
      "cell_type": "markdown",
      "source": [
        "> 3 hyperparameter yaitu solver, C, dan penalty diujikan pada data latih untuk menemukan hyperparameter terbaik."
      ],
      "metadata": {
        "id": "4BOpQFRl0suf"
      }
    },
    {
      "cell_type": "code",
      "source": [
        "# Menampilkan Hyperparameters Terbaik Pada Logritic Regression\n",
        "logreg_randomcv.best_estimator_"
      ],
      "metadata": {
        "colab": {
          "base_uri": "https://localhost:8080/",
          "height": 75
        },
        "id": "Mtwx16GX0HcP",
        "outputId": "312e8760-267e-4bbd-eaa0-8159e46c215e"
      },
      "execution_count": 45,
      "outputs": [
        {
          "output_type": "execute_result",
          "data": {
            "text/plain": [
              "LogisticRegression(C=0.4, penalty='l1', solver='liblinear')"
            ],
            "text/html": [
              "<style>#sk-container-id-5 {color: black;background-color: white;}#sk-container-id-5 pre{padding: 0;}#sk-container-id-5 div.sk-toggleable {background-color: white;}#sk-container-id-5 label.sk-toggleable__label {cursor: pointer;display: block;width: 100%;margin-bottom: 0;padding: 0.3em;box-sizing: border-box;text-align: center;}#sk-container-id-5 label.sk-toggleable__label-arrow:before {content: \"▸\";float: left;margin-right: 0.25em;color: #696969;}#sk-container-id-5 label.sk-toggleable__label-arrow:hover:before {color: black;}#sk-container-id-5 div.sk-estimator:hover label.sk-toggleable__label-arrow:before {color: black;}#sk-container-id-5 div.sk-toggleable__content {max-height: 0;max-width: 0;overflow: hidden;text-align: left;background-color: #f0f8ff;}#sk-container-id-5 div.sk-toggleable__content pre {margin: 0.2em;color: black;border-radius: 0.25em;background-color: #f0f8ff;}#sk-container-id-5 input.sk-toggleable__control:checked~div.sk-toggleable__content {max-height: 200px;max-width: 100%;overflow: auto;}#sk-container-id-5 input.sk-toggleable__control:checked~label.sk-toggleable__label-arrow:before {content: \"▾\";}#sk-container-id-5 div.sk-estimator input.sk-toggleable__control:checked~label.sk-toggleable__label {background-color: #d4ebff;}#sk-container-id-5 div.sk-label input.sk-toggleable__control:checked~label.sk-toggleable__label {background-color: #d4ebff;}#sk-container-id-5 input.sk-hidden--visually {border: 0;clip: rect(1px 1px 1px 1px);clip: rect(1px, 1px, 1px, 1px);height: 1px;margin: -1px;overflow: hidden;padding: 0;position: absolute;width: 1px;}#sk-container-id-5 div.sk-estimator {font-family: monospace;background-color: #f0f8ff;border: 1px dotted black;border-radius: 0.25em;box-sizing: border-box;margin-bottom: 0.5em;}#sk-container-id-5 div.sk-estimator:hover {background-color: #d4ebff;}#sk-container-id-5 div.sk-parallel-item::after {content: \"\";width: 100%;border-bottom: 1px solid gray;flex-grow: 1;}#sk-container-id-5 div.sk-label:hover label.sk-toggleable__label {background-color: #d4ebff;}#sk-container-id-5 div.sk-serial::before {content: \"\";position: absolute;border-left: 1px solid gray;box-sizing: border-box;top: 0;bottom: 0;left: 50%;z-index: 0;}#sk-container-id-5 div.sk-serial {display: flex;flex-direction: column;align-items: center;background-color: white;padding-right: 0.2em;padding-left: 0.2em;position: relative;}#sk-container-id-5 div.sk-item {position: relative;z-index: 1;}#sk-container-id-5 div.sk-parallel {display: flex;align-items: stretch;justify-content: center;background-color: white;position: relative;}#sk-container-id-5 div.sk-item::before, #sk-container-id-5 div.sk-parallel-item::before {content: \"\";position: absolute;border-left: 1px solid gray;box-sizing: border-box;top: 0;bottom: 0;left: 50%;z-index: -1;}#sk-container-id-5 div.sk-parallel-item {display: flex;flex-direction: column;z-index: 1;position: relative;background-color: white;}#sk-container-id-5 div.sk-parallel-item:first-child::after {align-self: flex-end;width: 50%;}#sk-container-id-5 div.sk-parallel-item:last-child::after {align-self: flex-start;width: 50%;}#sk-container-id-5 div.sk-parallel-item:only-child::after {width: 0;}#sk-container-id-5 div.sk-dashed-wrapped {border: 1px dashed gray;margin: 0 0.4em 0.5em 0.4em;box-sizing: border-box;padding-bottom: 0.4em;background-color: white;}#sk-container-id-5 div.sk-label label {font-family: monospace;font-weight: bold;display: inline-block;line-height: 1.2em;}#sk-container-id-5 div.sk-label-container {text-align: center;}#sk-container-id-5 div.sk-container {/* jupyter's `normalize.less` sets `[hidden] { display: none; }` but bootstrap.min.css set `[hidden] { display: none !important; }` so we also need the `!important` here to be able to override the default hidden behavior on the sphinx rendered scikit-learn.org. See: https://github.com/scikit-learn/scikit-learn/issues/21755 */display: inline-block !important;position: relative;}#sk-container-id-5 div.sk-text-repr-fallback {display: none;}</style><div id=\"sk-container-id-5\" class=\"sk-top-container\"><div class=\"sk-text-repr-fallback\"><pre>LogisticRegression(C=0.4, penalty=&#x27;l1&#x27;, solver=&#x27;liblinear&#x27;)</pre><b>In a Jupyter environment, please rerun this cell to show the HTML representation or trust the notebook. <br />On GitHub, the HTML representation is unable to render, please try loading this page with nbviewer.org.</b></div><div class=\"sk-container\" hidden><div class=\"sk-item\"><div class=\"sk-estimator sk-toggleable\"><input class=\"sk-toggleable__control sk-hidden--visually\" id=\"sk-estimator-id-9\" type=\"checkbox\" checked><label for=\"sk-estimator-id-9\" class=\"sk-toggleable__label sk-toggleable__label-arrow\">LogisticRegression</label><div class=\"sk-toggleable__content\"><pre>LogisticRegression(C=0.4, penalty=&#x27;l1&#x27;, solver=&#x27;liblinear&#x27;)</pre></div></div></div></div></div>"
            ]
          },
          "metadata": {},
          "execution_count": 45
        }
      ]
    },
    {
      "cell_type": "code",
      "source": [
        "# Menyimpan Hyperparameter terbaik Untuk Uji Untuk Uji Data pada Variabel logreg_gridcv_best\n",
        "\n",
        "logreg_randomcv_best = logreg_randomcv.best_estimator_"
      ],
      "metadata": {
        "id": "Ayu55tic0Whm"
      },
      "execution_count": 46,
      "outputs": []
    },
    {
      "cell_type": "markdown",
      "source": [
        "> Hyperparam terbaik menurut random search adalah dengan nilai C = 0.4, penalty menggunakan l2 dan solver menggunakan liblinear.\n",
        "\n",
        "> Hyperparameter terbaik menurut random search akan diujikan pada data tes untuk mengetahui akurasinya."
      ],
      "metadata": {
        "id": "FGHW7CWG0-aD"
      }
    },
    {
      "cell_type": "markdown",
      "source": [
        "### Model Evaluataion Random Search"
      ],
      "metadata": {
        "id": "5QNlzqjp2ILE"
      }
    },
    {
      "cell_type": "code",
      "source": [
        "# Cek Performa Model Menggunakan Hyperparameter Terbaik\n",
        "\n",
        "y_pred_test_logreg_rand = logreg_randomcv_best.predict(X_test_final)\n",
        "\n",
        "print('F1 Score - Test Set   : ', f1_score(y_test, y_pred_test_logreg_rand), '\\n')\n",
        "print('Classification Report : \\n', classification_report(y_test, y_pred_test_logreg_rand), '\\n')\n",
        "print('Confusion Matrix      : \\n', ConfusionMatrixDisplay.from_estimator(logreg_randomcv_best, X_test_final, y_test, cmap='Reds'))"
      ],
      "metadata": {
        "colab": {
          "base_uri": "https://localhost:8080/",
          "height": 543
        },
        "id": "djlE6ZBr0efE",
        "outputId": "a32f46a4-2406-4765-c2a8-59f07b42bb91"
      },
      "execution_count": 47,
      "outputs": [
        {
          "output_type": "stream",
          "name": "stdout",
          "text": [
            "F1 Score - Test Set   :  0.454054054054054 \n",
            "\n",
            "Classification Report : \n",
            "               precision    recall  f1-score   support\n",
            "\n",
            "           0       0.84      0.96      0.90       468\n",
            "           1       0.70      0.34      0.45       125\n",
            "\n",
            "    accuracy                           0.83       593\n",
            "   macro avg       0.77      0.65      0.68       593\n",
            "weighted avg       0.81      0.83      0.81       593\n",
            " \n",
            "\n",
            "Confusion Matrix      : \n",
            " <sklearn.metrics._plot.confusion_matrix.ConfusionMatrixDisplay object at 0x7f8a5ffc7d90>\n"
          ]
        },
        {
          "output_type": "display_data",
          "data": {
            "text/plain": [
              "<Figure size 432x288 with 2 Axes>"
            ],
            "image/png": "[encoded data removed]"
          },
          "metadata": {
            "needs_background": "light"
          }
        }
      ]
    },
    {
      "cell_type": "markdown",
      "source": [
        "> Dari hyperparam terbaik menurut random search yang ditemukan dan diujikan pada data tes didapatkan hasil f1-score senilai 0.454 dan akurasi 0.83 atau 83%."
      ],
      "metadata": {
        "id": "QNI_jEUd1boQ"
      }
    },
    {
      "cell_type": "code",
      "source": [
        "# Save Classification Report into a Dictionary\n",
        "\n",
        "score_reports = {\n",
        "    'train - precision' : precision_score(y_train_trim, y_pred_train_logreg),\n",
        "    'train - recall' : recall_score(y_train_trim, y_pred_train_logreg),\n",
        "    'train - accuracy' : accuracy_score(y_train_trim, y_pred_train_logreg),\n",
        "    'train - f1_score' : f1_score(y_train_trim, y_pred_train_logreg),\n",
        "    'test - precision' : precision_score(y_test, y_pred_test_logreg_rand),\n",
        "    'test - recall' : recall_score(y_test, y_pred_test_logreg_rand),\n",
        "    'test - accuracy_score' : accuracy_score(y_test, y_pred_test_logreg_rand),\n",
        "    'test - f1_score' : f1_score(y_test, y_pred_test_logreg_rand),\n",
        "}\n",
        "all_reports['Random Search'] = score_reports\n",
        "pd.DataFrame(all_reports)"
      ],
      "metadata": {
        "colab": {
          "base_uri": "https://localhost:8080/",
          "height": 300
        },
        "id": "C23qd-m_0zQJ",
        "outputId": "da340503-12ca-4065-e450-6b4e8bea0bea"
      },
      "execution_count": 48,
      "outputs": [
        {
          "output_type": "execute_result",
          "data": {
            "text/plain": [
              "                       Baseline (Default Hyperparameter)  Grid Search  \\\n",
              "train - precision                               0.748634     0.748634   \n",
              "train - recall                                  0.316397     0.316397   \n",
              "train - accuracy                                0.811050     0.811050   \n",
              "train - f1_score                                0.444805     0.444805   \n",
              "test - precision                                0.681818     0.661972   \n",
              "test - recall                                   0.360000     0.376000   \n",
              "test - accuracy_score                           0.829680     0.827993   \n",
              "test - f1_score                                 0.471204     0.479592   \n",
              "\n",
              "                       Random Search  \n",
              "train - precision           0.748634  \n",
              "train - recall              0.316397  \n",
              "train - accuracy            0.811050  \n",
              "train - f1_score            0.444805  \n",
              "test - precision            0.700000  \n",
              "test - recall               0.336000  \n",
              "test - accuracy_score       0.829680  \n",
              "test - f1_score             0.454054  "
            ],
            "text/html": [
              "\n",
              "  <div id=\"df-327ef58e-3493-4771-9e11-43650cec34ec\">\n",
              "    <div class=\"colab-df-container\">\n",
              "      <div>\n",
              "<style scoped>\n",
              "    .dataframe tbody tr th:only-of-type {\n",
              "        vertical-align: middle;\n",
              "    }\n",
              "\n",
              "    .dataframe tbody tr th {\n",
              "        vertical-align: top;\n",
              "    }\n",
              "\n",
              "    .dataframe thead th {\n",
              "        text-align: right;\n",
              "    }\n",
              "</style>\n",
              "<table border=\"1\" class=\"dataframe\">\n",
              "  <thead>\n",
              "    <tr style=\"text-align: right;\">\n",
              "      <th></th>\n",
              "      <th>Baseline (Default Hyperparameter)</th>\n",
              "      <th>Grid Search</th>\n",
              "      <th>Random Search</th>\n",
              "    </tr>\n",
              "  </thead>\n",
              "  <tbody>\n",
              "    <tr>\n",
              "      <th>train - precision</th>\n",
              "      <td>0.748634</td>\n",
              "      <td>0.748634</td>\n",
              "      <td>0.748634</td>\n",
              "    </tr>\n",
              "    <tr>\n",
              "      <th>train - recall</th>\n",
              "      <td>0.316397</td>\n",
              "      <td>0.316397</td>\n",
              "      <td>0.316397</td>\n",
              "    </tr>\n",
              "    <tr>\n",
              "      <th>train - accuracy</th>\n",
              "      <td>0.811050</td>\n",
              "      <td>0.811050</td>\n",
              "      <td>0.811050</td>\n",
              "    </tr>\n",
              "    <tr>\n",
              "      <th>train - f1_score</th>\n",
              "      <td>0.444805</td>\n",
              "      <td>0.444805</td>\n",
              "      <td>0.444805</td>\n",
              "    </tr>\n",
              "    <tr>\n",
              "      <th>test - precision</th>\n",
              "      <td>0.681818</td>\n",
              "      <td>0.661972</td>\n",
              "      <td>0.700000</td>\n",
              "    </tr>\n",
              "    <tr>\n",
              "      <th>test - recall</th>\n",
              "      <td>0.360000</td>\n",
              "      <td>0.376000</td>\n",
              "      <td>0.336000</td>\n",
              "    </tr>\n",
              "    <tr>\n",
              "      <th>test - accuracy_score</th>\n",
              "      <td>0.829680</td>\n",
              "      <td>0.827993</td>\n",
              "      <td>0.829680</td>\n",
              "    </tr>\n",
              "    <tr>\n",
              "      <th>test - f1_score</th>\n",
              "      <td>0.471204</td>\n",
              "      <td>0.479592</td>\n",
              "      <td>0.454054</td>\n",
              "    </tr>\n",
              "  </tbody>\n",
              "</table>\n",
              "</div>\n",
              "      <button class=\"colab-df-convert\" onclick=\"convertToInteractive('df-327ef58e-3493-4771-9e11-43650cec34ec')\"\n",
              "              title=\"Convert this dataframe to an interactive table.\"\n",
              "              style=\"display:none;\">\n",
              "        \n",
              "  <svg xmlns=\"http://www.w3.org/2000/svg\" height=\"24px\"viewBox=\"0 0 24 24\"\n",
              "       width=\"24px\">\n",
              "    <path d=\"M0 0h24v24H0V0z\" fill=\"none\"/>\n",
              "    <path d=\"M18.56 5.44l.94 2.06.94-2.06 2.06-.94-2.06-.94-.94-2.06-.94 2.06-2.06.94zm-11 1L8.5 8.5l.94-2.06 2.06-.94-2.06-.94L8.5 2.5l-.94 2.06-2.06.94zm10 10l.94 2.06.94-2.06 2.06-.94-2.06-.94-.94-2.06-.94 2.06-2.06.94z\"/><path d=\"M17.41 7.96l-1.37-1.37c-.4-.4-.92-.59-1.43-.59-.52 0-1.04.2-1.43.59L10.3 9.45l-7.72 7.72c-.78.78-.78 2.05 0 2.83L4 21.41c.39.39.9.59 1.41.59.51 0 1.02-.2 1.41-.59l7.78-7.78 2.81-2.81c.8-.78.8-2.07 0-2.86zM5.41 20L4 18.59l7.72-7.72 1.47 1.35L5.41 20z\"/>\n",
              "  </svg>\n",
              "      </button>\n",
              "      \n",
              "  <style>\n",
              "    .colab-df-container {\n",
              "      display:flex;\n",
              "      flex-wrap:wrap;\n",
              "      gap: 12px;\n",
              "    }\n",
              "\n",
              "    .colab-df-convert {\n",
              "      background-color: #E8F0FE;\n",
              "      border: none;\n",
              "      border-radius: 50%;\n",
              "      cursor: pointer;\n",
              "      display: none;\n",
              "      fill: #1967D2;\n",
              "      height: 32px;\n",
              "      padding: 0 0 0 0;\n",
              "      width: 32px;\n",
              "    }\n",
              "\n",
              "    .colab-df-convert:hover {\n",
              "      background-color: #E2EBFA;\n",
              "      box-shadow: 0px 1px 2px rgba(60, 64, 67, 0.3), 0px 1px 3px 1px rgba(60, 64, 67, 0.15);\n",
              "      fill: #174EA6;\n",
              "    }\n",
              "\n",
              "    [theme=dark] .colab-df-convert {\n",
              "      background-color: #3B4455;\n",
              "      fill: #D2E3FC;\n",
              "    }\n",
              "\n",
              "    [theme=dark] .colab-df-convert:hover {\n",
              "      background-color: #434B5C;\n",
              "      box-shadow: 0px 1px 3px 1px rgba(0, 0, 0, 0.15);\n",
              "      filter: drop-shadow(0px 1px 2px rgba(0, 0, 0, 0.3));\n",
              "      fill: #FFFFFF;\n",
              "    }\n",
              "  </style>\n",
              "\n",
              "      <script>\n",
              "        const buttonEl =\n",
              "          document.querySelector('#df-327ef58e-3493-4771-9e11-43650cec34ec button.colab-df-convert');\n",
              "        buttonEl.style.display =\n",
              "          google.colab.kernel.accessAllowed ? 'block' : 'none';\n",
              "\n",
              "        async function convertToInteractive(key) {\n",
              "          const element = document.querySelector('#df-327ef58e-3493-4771-9e11-43650cec34ec');\n",
              "          const dataTable =\n",
              "            await google.colab.kernel.invokeFunction('convertToInteractive',\n",
              "                                                     [key], {});\n",
              "          if (!dataTable) return;\n",
              "\n",
              "          const docLinkHtml = 'Like what you see? Visit the ' +\n",
              "            '<a target=\"_blank\" href=https://colab.research.google.com/notebooks/data_table.ipynb>data table notebook</a>'\n",
              "            + ' to learn more about interactive tables.';\n",
              "          element.innerHTML = '';\n",
              "          dataTable['output_type'] = 'display_data';\n",
              "          await google.colab.output.renderOutput(dataTable, element);\n",
              "          const docLink = document.createElement('div');\n",
              "          docLink.innerHTML = docLinkHtml;\n",
              "          element.appendChild(docLink);\n",
              "        }\n",
              "      </script>\n",
              "    </div>\n",
              "  </div>\n",
              "  "
            ]
          },
          "metadata": {},
          "execution_count": 48
        }
      ]
    },
    {
      "cell_type": "markdown",
      "source": [
        "> Dari hasil pencarian hyperparameter terbaik, hyperparameter yang ditentukan menggunakan Random Search merupakan yang terbaik. Hal itu disebabkan karena meskipun overfit namun jarak anatar f1-score train dan f1-score test tidak terlalu jauh.\n",
        "\n",
        "> Nilai f1-score train sebesar 0.445 dan f1-score test seebsar 0.454 dengan akurasi sebesar 82.96%.\n",
        "\n",
        "> Hyperparameter dari hasil pencarian random search akan digunakan pada pemodelan.\n",
        "\n",
        "> Hyperparameternya adalah `LogisticRegression(C=0.4, penalty='l1', solver='liblinear')`"
      ],
      "metadata": {
        "id": "Yk_rHxqS1tSI"
      }
    },
    {
      "cell_type": "markdown",
      "source": [
        "## SVM"
      ],
      "metadata": {
        "id": "DXgPq5fw1MgO"
      }
    },
    {
      "cell_type": "markdown",
      "source": [
        "### Model Definition"
      ],
      "metadata": {
        "id": "t1rZVMn81MgO"
      }
    },
    {
      "cell_type": "code",
      "source": [
        "# Pendefinisian Model SVC\n",
        "\n",
        "svc = SVC()"
      ],
      "metadata": {
        "id": "7YaVlRoz1MgO"
      },
      "execution_count": 49,
      "outputs": []
    },
    {
      "cell_type": "markdown",
      "source": [
        "> Melakukan pendefinisan support vector classifier"
      ],
      "metadata": {
        "id": "yP1SmU5d22n_"
      }
    },
    {
      "cell_type": "markdown",
      "source": [
        "### Model Training Baseline"
      ],
      "metadata": {
        "id": "t_A_J22J1MgO"
      }
    },
    {
      "cell_type": "code",
      "source": [
        "# Training Model SVC \n",
        "\n",
        "svc.fit(X_train_final, y_train_trim)"
      ],
      "metadata": {
        "colab": {
          "base_uri": "https://localhost:8080/",
          "height": 75
        },
        "outputId": "3555bcc6-1579-4e44-f12b-806cc5a0ed3e",
        "id": "iWtr7sh-1MgO"
      },
      "execution_count": 50,
      "outputs": [
        {
          "output_type": "execute_result",
          "data": {
            "text/plain": [
              "SVC()"
            ],
            "text/html": [
              "<style>#sk-container-id-6 {color: black;background-color: white;}#sk-container-id-6 pre{padding: 0;}#sk-container-id-6 div.sk-toggleable {background-color: white;}#sk-container-id-6 label.sk-toggleable__label {cursor: pointer;display: block;width: 100%;margin-bottom: 0;padding: 0.3em;box-sizing: border-box;text-align: center;}#sk-container-id-6 label.sk-toggleable__label-arrow:before {content: \"▸\";float: left;margin-right: 0.25em;color: #696969;}#sk-container-id-6 label.sk-toggleable__label-arrow:hover:before {color: black;}#sk-container-id-6 div.sk-estimator:hover label.sk-toggleable__label-arrow:before {color: black;}#sk-container-id-6 div.sk-toggleable__content {max-height: 0;max-width: 0;overflow: hidden;text-align: left;background-color: #f0f8ff;}#sk-container-id-6 div.sk-toggleable__content pre {margin: 0.2em;color: black;border-radius: 0.25em;background-color: #f0f8ff;}#sk-container-id-6 input.sk-toggleable__control:checked~div.sk-toggleable__content {max-height: 200px;max-width: 100%;overflow: auto;}#sk-container-id-6 input.sk-toggleable__control:checked~label.sk-toggleable__label-arrow:before {content: \"▾\";}#sk-container-id-6 div.sk-estimator input.sk-toggleable__control:checked~label.sk-toggleable__label {background-color: #d4ebff;}#sk-container-id-6 div.sk-label input.sk-toggleable__control:checked~label.sk-toggleable__label {background-color: #d4ebff;}#sk-container-id-6 input.sk-hidden--visually {border: 0;clip: rect(1px 1px 1px 1px);clip: rect(1px, 1px, 1px, 1px);height: 1px;margin: -1px;overflow: hidden;padding: 0;position: absolute;width: 1px;}#sk-container-id-6 div.sk-estimator {font-family: monospace;background-color: #f0f8ff;border: 1px dotted black;border-radius: 0.25em;box-sizing: border-box;margin-bottom: 0.5em;}#sk-container-id-6 div.sk-estimator:hover {background-color: #d4ebff;}#sk-container-id-6 div.sk-parallel-item::after {content: \"\";width: 100%;border-bottom: 1px solid gray;flex-grow: 1;}#sk-container-id-6 div.sk-label:hover label.sk-toggleable__label {background-color: #d4ebff;}#sk-container-id-6 div.sk-serial::before {content: \"\";position: absolute;border-left: 1px solid gray;box-sizing: border-box;top: 0;bottom: 0;left: 50%;z-index: 0;}#sk-container-id-6 div.sk-serial {display: flex;flex-direction: column;align-items: center;background-color: white;padding-right: 0.2em;padding-left: 0.2em;position: relative;}#sk-container-id-6 div.sk-item {position: relative;z-index: 1;}#sk-container-id-6 div.sk-parallel {display: flex;align-items: stretch;justify-content: center;background-color: white;position: relative;}#sk-container-id-6 div.sk-item::before, #sk-container-id-6 div.sk-parallel-item::before {content: \"\";position: absolute;border-left: 1px solid gray;box-sizing: border-box;top: 0;bottom: 0;left: 50%;z-index: -1;}#sk-container-id-6 div.sk-parallel-item {display: flex;flex-direction: column;z-index: 1;position: relative;background-color: white;}#sk-container-id-6 div.sk-parallel-item:first-child::after {align-self: flex-end;width: 50%;}#sk-container-id-6 div.sk-parallel-item:last-child::after {align-self: flex-start;width: 50%;}#sk-container-id-6 div.sk-parallel-item:only-child::after {width: 0;}#sk-container-id-6 div.sk-dashed-wrapped {border: 1px dashed gray;margin: 0 0.4em 0.5em 0.4em;box-sizing: border-box;padding-bottom: 0.4em;background-color: white;}#sk-container-id-6 div.sk-label label {font-family: monospace;font-weight: bold;display: inline-block;line-height: 1.2em;}#sk-container-id-6 div.sk-label-container {text-align: center;}#sk-container-id-6 div.sk-container {/* jupyter's `normalize.less` sets `[hidden] { display: none; }` but bootstrap.min.css set `[hidden] { display: none !important; }` so we also need the `!important` here to be able to override the default hidden behavior on the sphinx rendered scikit-learn.org. See: https://github.com/scikit-learn/scikit-learn/issues/21755 */display: inline-block !important;position: relative;}#sk-container-id-6 div.sk-text-repr-fallback {display: none;}</style><div id=\"sk-container-id-6\" class=\"sk-top-container\"><div class=\"sk-text-repr-fallback\"><pre>SVC()</pre><b>In a Jupyter environment, please rerun this cell to show the HTML representation or trust the notebook. <br />On GitHub, the HTML representation is unable to render, please try loading this page with nbviewer.org.</b></div><div class=\"sk-container\" hidden><div class=\"sk-item\"><div class=\"sk-estimator sk-toggleable\"><input class=\"sk-toggleable__control sk-hidden--visually\" id=\"sk-estimator-id-10\" type=\"checkbox\" checked><label for=\"sk-estimator-id-10\" class=\"sk-toggleable__label sk-toggleable__label-arrow\">SVC</label><div class=\"sk-toggleable__content\"><pre>SVC()</pre></div></div></div></div></div>"
            ]
          },
          "metadata": {},
          "execution_count": 50
        }
      ]
    },
    {
      "cell_type": "markdown",
      "source": [
        "> Melakukan training pada data training dengan menggunakan baseline hyperparameter."
      ],
      "metadata": {
        "id": "rPGoXSax27i6"
      }
    },
    {
      "cell_type": "markdown",
      "source": [
        "### Model Evaluation Baseline"
      ],
      "metadata": {
        "id": "tnbRC9u81MgO"
      }
    },
    {
      "cell_type": "code",
      "source": [
        "# Evaluasi Performa Model SVC\n",
        "\n",
        "y_pred_train_svc = svc.predict(X_train_final)\n",
        "\n",
        "print('F1 Score - Train Set  : ', f1_score(y_train_trim, y_pred_train_svc), '\\n')\n",
        "print('Classification Report : \\n', classification_report(y_train_trim, y_pred_train_svc), '\\n')\n",
        "print('Confusion Matrix      : \\n', ConfusionMatrixDisplay.from_estimator(svc, X_train_final, y_train_trim, cmap='Reds'))"
      ],
      "metadata": {
        "outputId": "504daa7e-933e-4f3c-c479-c9c80992f1ef",
        "colab": {
          "base_uri": "https://localhost:8080/",
          "height": 539
        },
        "id": "YuUGdNzm1MgO"
      },
      "execution_count": 51,
      "outputs": [
        {
          "output_type": "stream",
          "name": "stdout",
          "text": [
            "F1 Score - Train Set  :  0.5349544072948328 \n",
            "\n",
            "Classification Report : \n",
            "               precision    recall  f1-score   support\n",
            "\n",
            "           0       0.84      0.96      0.90      1377\n",
            "           1       0.78      0.41      0.53       433\n",
            "\n",
            "    accuracy                           0.83      1810\n",
            "   macro avg       0.81      0.69      0.72      1810\n",
            "weighted avg       0.82      0.83      0.81      1810\n",
            " \n",
            "\n",
            "Confusion Matrix      : \n",
            " <sklearn.metrics._plot.confusion_matrix.ConfusionMatrixDisplay object at 0x7f8a5ffff820>\n"
          ]
        },
        {
          "output_type": "display_data",
          "data": {
            "text/plain": [
              "<Figure size 432x288 with 2 Axes>"
            ],
            "image/png": "[encoded data removed]"
          },
          "metadata": {
            "needs_background": "light"
          }
        }
      ]
    },
    {
      "cell_type": "code",
      "source": [
        "# Cross Validation using `cross_val_score`\n",
        "\n",
        "%%time\n",
        "from sklearn.model_selection import cross_val_score\n",
        "\n",
        "f1_score_train_cross_val_svc = cross_val_score(svc, \n",
        "                                           X_train_final, \n",
        "                                           y_train_trim, \n",
        "                                           cv=3, \n",
        "                                           scoring='f1')\n",
        "\n",
        "print('F1 Score - All - Cross Validation  : ', f1_score_train_cross_val_svc)\n",
        "print('F1 Score - Mean - Cross Validation : ', f1_score_train_cross_val_svc.mean())\n",
        "print('F1 Score - Std - Cross Validation  : ', f1_score_train_cross_val_svc.std())\n",
        "print('F1 Score - Range of Test-Set       : ', (f1_score_train_cross_val_svc.mean()-f1_score_train_cross_val_svc.std()) , '-', (f1_score_train_cross_val_svc.mean()+f1_score_train_cross_val_svc.std()))"
      ],
      "metadata": {
        "outputId": "ef0dd973-11d9-47ab-b53e-11ddd02e2869",
        "colab": {
          "base_uri": "https://localhost:8080/"
        },
        "id": "T4qHUcPI1MgO"
      },
      "execution_count": 52,
      "outputs": [
        {
          "output_type": "stream",
          "name": "stdout",
          "text": [
            "F1 Score - All - Cross Validation  :  [0.48181818 0.47747748 0.44444444]\n",
            "F1 Score - Mean - Cross Validation :  0.46791336791336796\n",
            "F1 Score - Std - Cross Validation  :  0.016689381956521383\n",
            "F1 Score - Range of Test-Set       :  0.4512239859568466 - 0.4846027498698893\n",
            "CPU times: user 442 ms, sys: 1.14 ms, total: 443 ms\n",
            "Wall time: 751 ms\n"
          ]
        }
      ]
    },
    {
      "cell_type": "code",
      "source": [
        "# Cek Performa Model\n",
        "\n",
        "y_pred_test_svc = svc.predict(X_test_final)\n",
        "\n",
        "print('F1 Score - Test Set   : ', f1_score(y_test, y_pred_test_svc), '\\n')\n",
        "print('Classification Report : \\n', classification_report(y_test, y_pred_test_svc), '\\n')\n",
        "print('Confusion Matrix      : \\n', ConfusionMatrixDisplay.from_estimator(svc, X_test_final, y_test, cmap='Reds'))"
      ],
      "metadata": {
        "outputId": "6839070d-c138-49a6-c1a1-dc9231916f9c",
        "colab": {
          "base_uri": "https://localhost:8080/",
          "height": 542
        },
        "id": "C7sTRuCi1MgO"
      },
      "execution_count": 53,
      "outputs": [
        {
          "output_type": "stream",
          "name": "stdout",
          "text": [
            "F1 Score - Test Set   :  0.459016393442623 \n",
            "\n",
            "Classification Report : \n",
            "               precision    recall  f1-score   support\n",
            "\n",
            "           0       0.84      0.97      0.90       468\n",
            "           1       0.72      0.34      0.46       125\n",
            "\n",
            "    accuracy                           0.83       593\n",
            "   macro avg       0.78      0.65      0.68       593\n",
            "weighted avg       0.82      0.83      0.81       593\n",
            " \n",
            "\n",
            "Confusion Matrix      : \n",
            " <sklearn.metrics._plot.confusion_matrix.ConfusionMatrixDisplay object at 0x7f8a640c5160>\n"
          ]
        },
        {
          "output_type": "display_data",
          "data": {
            "text/plain": [
              "<Figure size 432x288 with 2 Axes>"
            ],
            "image/png": "[encoded data removed]"
          },
          "metadata": {
            "needs_background": "light"
          }
        }
      ]
    },
    {
      "cell_type": "code",
      "source": [
        "# Tampilkan Hasil Uji Model\n",
        "\n",
        "all_reports = {}\n",
        "score_reports = {\n",
        "    'train - precision' : precision_score(y_train_trim, y_pred_train_svc),\n",
        "    'train - recall' : recall_score(y_train_trim, y_pred_train_svc),\n",
        "    'train - accuracy' : accuracy_score(y_train_trim, y_pred_train_svc),\n",
        "    'train - f1_score' : f1_score(y_train_trim, y_pred_train_svc),\n",
        "    'test - precision' : precision_score(y_test, y_pred_test_svc),\n",
        "    'test - recall' : recall_score(y_test, y_pred_test_svc),\n",
        "    'test - accuracy_score' : accuracy_score(y_test, y_pred_test_svc),\n",
        "    'test - f1_score' : f1_score(y_test, y_pred_test_svc),\n",
        "}\n",
        "all_reports['Baseline (Default Hyperparameter)'] = score_reports\n",
        "pd.DataFrame(all_reports)"
      ],
      "metadata": {
        "outputId": "6d791259-84e8-4157-c768-8359ed9afa17",
        "colab": {
          "base_uri": "https://localhost:8080/",
          "height": 300
        },
        "id": "ViQ-iXv21MgO"
      },
      "execution_count": 54,
      "outputs": [
        {
          "output_type": "execute_result",
          "data": {
            "text/plain": [
              "                       Baseline (Default Hyperparameter)\n",
              "test - accuracy_score                           0.833052\n",
              "test - f1_score                                 0.459016\n",
              "test - precision                                0.724138\n",
              "test - recall                                   0.336000\n",
              "train - accuracy                                0.830939\n",
              "train - f1_score                                0.534954\n",
              "train - precision                               0.782222\n",
              "train - recall                                  0.406467"
            ],
            "text/html": [
              "\n",
              "  <div id=\"df-0db779be-c04e-4c4f-9b91-060fb64fee0f\">\n",
              "    <div class=\"colab-df-container\">\n",
              "      <div>\n",
              "<style scoped>\n",
              "    .dataframe tbody tr th:only-of-type {\n",
              "        vertical-align: middle;\n",
              "    }\n",
              "\n",
              "    .dataframe tbody tr th {\n",
              "        vertical-align: top;\n",
              "    }\n",
              "\n",
              "    .dataframe thead th {\n",
              "        text-align: right;\n",
              "    }\n",
              "</style>\n",
              "<table border=\"1\" class=\"dataframe\">\n",
              "  <thead>\n",
              "    <tr style=\"text-align: right;\">\n",
              "      <th></th>\n",
              "      <th>Baseline (Default Hyperparameter)</th>\n",
              "    </tr>\n",
              "  </thead>\n",
              "  <tbody>\n",
              "    <tr>\n",
              "      <th>test - accuracy_score</th>\n",
              "      <td>0.833052</td>\n",
              "    </tr>\n",
              "    <tr>\n",
              "      <th>test - f1_score</th>\n",
              "      <td>0.459016</td>\n",
              "    </tr>\n",
              "    <tr>\n",
              "      <th>test - precision</th>\n",
              "      <td>0.724138</td>\n",
              "    </tr>\n",
              "    <tr>\n",
              "      <th>test - recall</th>\n",
              "      <td>0.336000</td>\n",
              "    </tr>\n",
              "    <tr>\n",
              "      <th>train - accuracy</th>\n",
              "      <td>0.830939</td>\n",
              "    </tr>\n",
              "    <tr>\n",
              "      <th>train - f1_score</th>\n",
              "      <td>0.534954</td>\n",
              "    </tr>\n",
              "    <tr>\n",
              "      <th>train - precision</th>\n",
              "      <td>0.782222</td>\n",
              "    </tr>\n",
              "    <tr>\n",
              "      <th>train - recall</th>\n",
              "      <td>0.406467</td>\n",
              "    </tr>\n",
              "  </tbody>\n",
              "</table>\n",
              "</div>\n",
              "      <button class=\"colab-df-convert\" onclick=\"convertToInteractive('df-0db779be-c04e-4c4f-9b91-060fb64fee0f')\"\n",
              "              title=\"Convert this dataframe to an interactive table.\"\n",
              "              style=\"display:none;\">\n",
              "        \n",
              "  <svg xmlns=\"http://www.w3.org/2000/svg\" height=\"24px\"viewBox=\"0 0 24 24\"\n",
              "       width=\"24px\">\n",
              "    <path d=\"M0 0h24v24H0V0z\" fill=\"none\"/>\n",
              "    <path d=\"M18.56 5.44l.94 2.06.94-2.06 2.06-.94-2.06-.94-.94-2.06-.94 2.06-2.06.94zm-11 1L8.5 8.5l.94-2.06 2.06-.94-2.06-.94L8.5 2.5l-.94 2.06-2.06.94zm10 10l.94 2.06.94-2.06 2.06-.94-2.06-.94-.94-2.06-.94 2.06-2.06.94z\"/><path d=\"M17.41 7.96l-1.37-1.37c-.4-.4-.92-.59-1.43-.59-.52 0-1.04.2-1.43.59L10.3 9.45l-7.72 7.72c-.78.78-.78 2.05 0 2.83L4 21.41c.39.39.9.59 1.41.59.51 0 1.02-.2 1.41-.59l7.78-7.78 2.81-2.81c.8-.78.8-2.07 0-2.86zM5.41 20L4 18.59l7.72-7.72 1.47 1.35L5.41 20z\"/>\n",
              "  </svg>\n",
              "      </button>\n",
              "      \n",
              "  <style>\n",
              "    .colab-df-container {\n",
              "      display:flex;\n",
              "      flex-wrap:wrap;\n",
              "      gap: 12px;\n",
              "    }\n",
              "\n",
              "    .colab-df-convert {\n",
              "      background-color: #E8F0FE;\n",
              "      border: none;\n",
              "      border-radius: 50%;\n",
              "      cursor: pointer;\n",
              "      display: none;\n",
              "      fill: #1967D2;\n",
              "      height: 32px;\n",
              "      padding: 0 0 0 0;\n",
              "      width: 32px;\n",
              "    }\n",
              "\n",
              "    .colab-df-convert:hover {\n",
              "      background-color: #E2EBFA;\n",
              "      box-shadow: 0px 1px 2px rgba(60, 64, 67, 0.3), 0px 1px 3px 1px rgba(60, 64, 67, 0.15);\n",
              "      fill: #174EA6;\n",
              "    }\n",
              "\n",
              "    [theme=dark] .colab-df-convert {\n",
              "      background-color: #3B4455;\n",
              "      fill: #D2E3FC;\n",
              "    }\n",
              "\n",
              "    [theme=dark] .colab-df-convert:hover {\n",
              "      background-color: #434B5C;\n",
              "      box-shadow: 0px 1px 3px 1px rgba(0, 0, 0, 0.15);\n",
              "      filter: drop-shadow(0px 1px 2px rgba(0, 0, 0, 0.3));\n",
              "      fill: #FFFFFF;\n",
              "    }\n",
              "  </style>\n",
              "\n",
              "      <script>\n",
              "        const buttonEl =\n",
              "          document.querySelector('#df-0db779be-c04e-4c4f-9b91-060fb64fee0f button.colab-df-convert');\n",
              "        buttonEl.style.display =\n",
              "          google.colab.kernel.accessAllowed ? 'block' : 'none';\n",
              "\n",
              "        async function convertToInteractive(key) {\n",
              "          const element = document.querySelector('#df-0db779be-c04e-4c4f-9b91-060fb64fee0f');\n",
              "          const dataTable =\n",
              "            await google.colab.kernel.invokeFunction('convertToInteractive',\n",
              "                                                     [key], {});\n",
              "          if (!dataTable) return;\n",
              "\n",
              "          const docLinkHtml = 'Like what you see? Visit the ' +\n",
              "            '<a target=\"_blank\" href=https://colab.research.google.com/notebooks/data_table.ipynb>data table notebook</a>'\n",
              "            + ' to learn more about interactive tables.';\n",
              "          element.innerHTML = '';\n",
              "          dataTable['output_type'] = 'display_data';\n",
              "          await google.colab.output.renderOutput(dataTable, element);\n",
              "          const docLink = document.createElement('div');\n",
              "          docLink.innerHTML = docLinkHtml;\n",
              "          element.appendChild(docLink);\n",
              "        }\n",
              "      </script>\n",
              "    </div>\n",
              "  </div>\n",
              "  "
            ]
          },
          "metadata": {},
          "execution_count": 54
        }
      ]
    },
    {
      "cell_type": "markdown",
      "source": [
        "> Pada baseline hyperparameter pada SVC yang digunakan, f1-score pada train memiliki nilia 0.535 dan pada test memiliki nilai 0.459 yang mana model menggunakan baseline hyperparameter svm memiliki model yang overfit.\n",
        "\n",
        "> Akurasi pada baseline hyperparameter svc memiliki nilai 0.830 pada train dan 0.833 pada test."
      ],
      "metadata": {
        "id": "HOK7LRZS3L7E"
      }
    },
    {
      "cell_type": "markdown",
      "source": [
        "### Model Training Grid Search"
      ],
      "metadata": {
        "id": "53MAKu3F1MgP"
      }
    },
    {
      "cell_type": "code",
      "source": [
        "# Latih Dengan Grid Search Untuk Menentukan Hyperparameter Terbaik\n",
        "%%time\n",
        "param_grid = {'C': [0.1, 0.5, 1.0, 3.0], 'gamma': [0.01, 0.1, 1.0],'kernel': ['rbf', 'poly', 'sigmoid', 'linear'], \n",
        "              'coef0' : [0.01, 0.1, 0.5, 1.0]\n",
        "              }\n",
        "svc_gridcv = GridSearchCV(estimator=SVC(),\n",
        "                         param_grid=param_grid,\n",
        "                         cv=3,\n",
        "                         n_jobs=-1,\n",
        "                         verbose=2, \n",
        "                         scoring='f1')\n",
        "\n",
        "svc_gridcv.fit(X_train_final, y_train_trim)\n"
      ],
      "metadata": {
        "outputId": "cbd00c9c-f037-40f6-f934-09d44ba5ab20",
        "colab": {
          "base_uri": "https://localhost:8080/",
          "height": 170
        },
        "id": "b5TplJeo1MgP"
      },
      "execution_count": 55,
      "outputs": [
        {
          "output_type": "stream",
          "name": "stdout",
          "text": [
            "Fitting 3 folds for each of 192 candidates, totalling 576 fits\n",
            "CPU times: user 1.99 s, sys: 169 ms, total: 2.16 s\n",
            "Wall time: 1min 2s\n"
          ]
        },
        {
          "output_type": "execute_result",
          "data": {
            "text/plain": [
              "GridSearchCV(cv=3, estimator=SVC(), n_jobs=-1,\n",
              "             param_grid={'C': [0.1, 0.5, 1.0, 3.0],\n",
              "                         'coef0': [0.01, 0.1, 0.5, 1.0],\n",
              "                         'gamma': [0.01, 0.1, 1.0],\n",
              "                         'kernel': ['rbf', 'poly', 'sigmoid', 'linear']},\n",
              "             scoring='f1', verbose=2)"
            ],
            "text/html": [
              "<style>#sk-container-id-7 {color: black;background-color: white;}#sk-container-id-7 pre{padding: 0;}#sk-container-id-7 div.sk-toggleable {background-color: white;}#sk-container-id-7 label.sk-toggleable__label {cursor: pointer;display: block;width: 100%;margin-bottom: 0;padding: 0.3em;box-sizing: border-box;text-align: center;}#sk-container-id-7 label.sk-toggleable__label-arrow:before {content: \"▸\";float: left;margin-right: 0.25em;color: #696969;}#sk-container-id-7 label.sk-toggleable__label-arrow:hover:before {color: black;}#sk-container-id-7 div.sk-estimator:hover label.sk-toggleable__label-arrow:before {color: black;}#sk-container-id-7 div.sk-toggleable__content {max-height: 0;max-width: 0;overflow: hidden;text-align: left;background-color: #f0f8ff;}#sk-container-id-7 div.sk-toggleable__content pre {margin: 0.2em;color: black;border-radius: 0.25em;background-color: #f0f8ff;}#sk-container-id-7 input.sk-toggleable__control:checked~div.sk-toggleable__content {max-height: 200px;max-width: 100%;overflow: auto;}#sk-container-id-7 input.sk-toggleable__control:checked~label.sk-toggleable__label-arrow:before {content: \"▾\";}#sk-container-id-7 div.sk-estimator input.sk-toggleable__control:checked~label.sk-toggleable__label {background-color: #d4ebff;}#sk-container-id-7 div.sk-label input.sk-toggleable__control:checked~label.sk-toggleable__label {background-color: #d4ebff;}#sk-container-id-7 input.sk-hidden--visually {border: 0;clip: rect(1px 1px 1px 1px);clip: rect(1px, 1px, 1px, 1px);height: 1px;margin: -1px;overflow: hidden;padding: 0;position: absolute;width: 1px;}#sk-container-id-7 div.sk-estimator {font-family: monospace;background-color: #f0f8ff;border: 1px dotted black;border-radius: 0.25em;box-sizing: border-box;margin-bottom: 0.5em;}#sk-container-id-7 div.sk-estimator:hover {background-color: #d4ebff;}#sk-container-id-7 div.sk-parallel-item::after {content: \"\";width: 100%;border-bottom: 1px solid gray;flex-grow: 1;}#sk-container-id-7 div.sk-label:hover label.sk-toggleable__label {background-color: #d4ebff;}#sk-container-id-7 div.sk-serial::before {content: \"\";position: absolute;border-left: 1px solid gray;box-sizing: border-box;top: 0;bottom: 0;left: 50%;z-index: 0;}#sk-container-id-7 div.sk-serial {display: flex;flex-direction: column;align-items: center;background-color: white;padding-right: 0.2em;padding-left: 0.2em;position: relative;}#sk-container-id-7 div.sk-item {position: relative;z-index: 1;}#sk-container-id-7 div.sk-parallel {display: flex;align-items: stretch;justify-content: center;background-color: white;position: relative;}#sk-container-id-7 div.sk-item::before, #sk-container-id-7 div.sk-parallel-item::before {content: \"\";position: absolute;border-left: 1px solid gray;box-sizing: border-box;top: 0;bottom: 0;left: 50%;z-index: -1;}#sk-container-id-7 div.sk-parallel-item {display: flex;flex-direction: column;z-index: 1;position: relative;background-color: white;}#sk-container-id-7 div.sk-parallel-item:first-child::after {align-self: flex-end;width: 50%;}#sk-container-id-7 div.sk-parallel-item:last-child::after {align-self: flex-start;width: 50%;}#sk-container-id-7 div.sk-parallel-item:only-child::after {width: 0;}#sk-container-id-7 div.sk-dashed-wrapped {border: 1px dashed gray;margin: 0 0.4em 0.5em 0.4em;box-sizing: border-box;padding-bottom: 0.4em;background-color: white;}#sk-container-id-7 div.sk-label label {font-family: monospace;font-weight: bold;display: inline-block;line-height: 1.2em;}#sk-container-id-7 div.sk-label-container {text-align: center;}#sk-container-id-7 div.sk-container {/* jupyter's `normalize.less` sets `[hidden] { display: none; }` but bootstrap.min.css set `[hidden] { display: none !important; }` so we also need the `!important` here to be able to override the default hidden behavior on the sphinx rendered scikit-learn.org. See: https://github.com/scikit-learn/scikit-learn/issues/21755 */display: inline-block !important;position: relative;}#sk-container-id-7 div.sk-text-repr-fallback {display: none;}</style><div id=\"sk-container-id-7\" class=\"sk-top-container\"><div class=\"sk-text-repr-fallback\"><pre>GridSearchCV(cv=3, estimator=SVC(), n_jobs=-1,\n",
              "             param_grid={&#x27;C&#x27;: [0.1, 0.5, 1.0, 3.0],\n",
              "                         &#x27;coef0&#x27;: [0.01, 0.1, 0.5, 1.0],\n",
              "                         &#x27;gamma&#x27;: [0.01, 0.1, 1.0],\n",
              "                         &#x27;kernel&#x27;: [&#x27;rbf&#x27;, &#x27;poly&#x27;, &#x27;sigmoid&#x27;, &#x27;linear&#x27;]},\n",
              "             scoring=&#x27;f1&#x27;, verbose=2)</pre><b>In a Jupyter environment, please rerun this cell to show the HTML representation or trust the notebook. <br />On GitHub, the HTML representation is unable to render, please try loading this page with nbviewer.org.</b></div><div class=\"sk-container\" hidden><div class=\"sk-item sk-dashed-wrapped\"><div class=\"sk-label-container\"><div class=\"sk-label sk-toggleable\"><input class=\"sk-toggleable__control sk-hidden--visually\" id=\"sk-estimator-id-11\" type=\"checkbox\" ><label for=\"sk-estimator-id-11\" class=\"sk-toggleable__label sk-toggleable__label-arrow\">GridSearchCV</label><div class=\"sk-toggleable__content\"><pre>GridSearchCV(cv=3, estimator=SVC(), n_jobs=-1,\n",
              "             param_grid={&#x27;C&#x27;: [0.1, 0.5, 1.0, 3.0],\n",
              "                         &#x27;coef0&#x27;: [0.01, 0.1, 0.5, 1.0],\n",
              "                         &#x27;gamma&#x27;: [0.01, 0.1, 1.0],\n",
              "                         &#x27;kernel&#x27;: [&#x27;rbf&#x27;, &#x27;poly&#x27;, &#x27;sigmoid&#x27;, &#x27;linear&#x27;]},\n",
              "             scoring=&#x27;f1&#x27;, verbose=2)</pre></div></div></div><div class=\"sk-parallel\"><div class=\"sk-parallel-item\"><div class=\"sk-item\"><div class=\"sk-label-container\"><div class=\"sk-label sk-toggleable\"><input class=\"sk-toggleable__control sk-hidden--visually\" id=\"sk-estimator-id-12\" type=\"checkbox\" ><label for=\"sk-estimator-id-12\" class=\"sk-toggleable__label sk-toggleable__label-arrow\">estimator: SVC</label><div class=\"sk-toggleable__content\"><pre>SVC()</pre></div></div></div><div class=\"sk-serial\"><div class=\"sk-item\"><div class=\"sk-estimator sk-toggleable\"><input class=\"sk-toggleable__control sk-hidden--visually\" id=\"sk-estimator-id-13\" type=\"checkbox\" ><label for=\"sk-estimator-id-13\" class=\"sk-toggleable__label sk-toggleable__label-arrow\">SVC</label><div class=\"sk-toggleable__content\"><pre>SVC()</pre></div></div></div></div></div></div></div></div></div></div>"
            ]
          },
          "metadata": {},
          "execution_count": 55
        }
      ]
    },
    {
      "cell_type": "markdown",
      "source": [
        "> Mencari hyperparameter SVC terbaik menggunakan grid search. hyperparameter yeng ditentukan adalah nilai C, gamma, kernel dan cofe0. dilakukan training untuk mencari hyperparam terbaik dengan fit 3 fold dan verbose 2 sengan target f1-score."
      ],
      "metadata": {
        "id": "cedFHT1l37KM"
      }
    },
    {
      "cell_type": "code",
      "source": [
        "# Menampilkan Hyperparameters Terbaik Pada SVC\n",
        "svc_gridcv.best_estimator_"
      ],
      "metadata": {
        "outputId": "f8d4059b-e434-4be2-f935-b159061c7468",
        "colab": {
          "base_uri": "https://localhost:8080/",
          "height": 75
        },
        "id": "cDfNxKUu1MgP"
      },
      "execution_count": 56,
      "outputs": [
        {
          "output_type": "execute_result",
          "data": {
            "text/plain": [
              "SVC(coef0=0.01, gamma=0.01, kernel='linear')"
            ],
            "text/html": [
              "<style>#sk-container-id-8 {color: black;background-color: white;}#sk-container-id-8 pre{padding: 0;}#sk-container-id-8 div.sk-toggleable {background-color: white;}#sk-container-id-8 label.sk-toggleable__label {cursor: pointer;display: block;width: 100%;margin-bottom: 0;padding: 0.3em;box-sizing: border-box;text-align: center;}#sk-container-id-8 label.sk-toggleable__label-arrow:before {content: \"▸\";float: left;margin-right: 0.25em;color: #696969;}#sk-container-id-8 label.sk-toggleable__label-arrow:hover:before {color: black;}#sk-container-id-8 div.sk-estimator:hover label.sk-toggleable__label-arrow:before {color: black;}#sk-container-id-8 div.sk-toggleable__content {max-height: 0;max-width: 0;overflow: hidden;text-align: left;background-color: #f0f8ff;}#sk-container-id-8 div.sk-toggleable__content pre {margin: 0.2em;color: black;border-radius: 0.25em;background-color: #f0f8ff;}#sk-container-id-8 input.sk-toggleable__control:checked~div.sk-toggleable__content {max-height: 200px;max-width: 100%;overflow: auto;}#sk-container-id-8 input.sk-toggleable__control:checked~label.sk-toggleable__label-arrow:before {content: \"▾\";}#sk-container-id-8 div.sk-estimator input.sk-toggleable__control:checked~label.sk-toggleable__label {background-color: #d4ebff;}#sk-container-id-8 div.sk-label input.sk-toggleable__control:checked~label.sk-toggleable__label {background-color: #d4ebff;}#sk-container-id-8 input.sk-hidden--visually {border: 0;clip: rect(1px 1px 1px 1px);clip: rect(1px, 1px, 1px, 1px);height: 1px;margin: -1px;overflow: hidden;padding: 0;position: absolute;width: 1px;}#sk-container-id-8 div.sk-estimator {font-family: monospace;background-color: #f0f8ff;border: 1px dotted black;border-radius: 0.25em;box-sizing: border-box;margin-bottom: 0.5em;}#sk-container-id-8 div.sk-estimator:hover {background-color: #d4ebff;}#sk-container-id-8 div.sk-parallel-item::after {content: \"\";width: 100%;border-bottom: 1px solid gray;flex-grow: 1;}#sk-container-id-8 div.sk-label:hover label.sk-toggleable__label {background-color: #d4ebff;}#sk-container-id-8 div.sk-serial::before {content: \"\";position: absolute;border-left: 1px solid gray;box-sizing: border-box;top: 0;bottom: 0;left: 50%;z-index: 0;}#sk-container-id-8 div.sk-serial {display: flex;flex-direction: column;align-items: center;background-color: white;padding-right: 0.2em;padding-left: 0.2em;position: relative;}#sk-container-id-8 div.sk-item {position: relative;z-index: 1;}#sk-container-id-8 div.sk-parallel {display: flex;align-items: stretch;justify-content: center;background-color: white;position: relative;}#sk-container-id-8 div.sk-item::before, #sk-container-id-8 div.sk-parallel-item::before {content: \"\";position: absolute;border-left: 1px solid gray;box-sizing: border-box;top: 0;bottom: 0;left: 50%;z-index: -1;}#sk-container-id-8 div.sk-parallel-item {display: flex;flex-direction: column;z-index: 1;position: relative;background-color: white;}#sk-container-id-8 div.sk-parallel-item:first-child::after {align-self: flex-end;width: 50%;}#sk-container-id-8 div.sk-parallel-item:last-child::after {align-self: flex-start;width: 50%;}#sk-container-id-8 div.sk-parallel-item:only-child::after {width: 0;}#sk-container-id-8 div.sk-dashed-wrapped {border: 1px dashed gray;margin: 0 0.4em 0.5em 0.4em;box-sizing: border-box;padding-bottom: 0.4em;background-color: white;}#sk-container-id-8 div.sk-label label {font-family: monospace;font-weight: bold;display: inline-block;line-height: 1.2em;}#sk-container-id-8 div.sk-label-container {text-align: center;}#sk-container-id-8 div.sk-container {/* jupyter's `normalize.less` sets `[hidden] { display: none; }` but bootstrap.min.css set `[hidden] { display: none !important; }` so we also need the `!important` here to be able to override the default hidden behavior on the sphinx rendered scikit-learn.org. See: https://github.com/scikit-learn/scikit-learn/issues/21755 */display: inline-block !important;position: relative;}#sk-container-id-8 div.sk-text-repr-fallback {display: none;}</style><div id=\"sk-container-id-8\" class=\"sk-top-container\"><div class=\"sk-text-repr-fallback\"><pre>SVC(coef0=0.01, gamma=0.01, kernel=&#x27;linear&#x27;)</pre><b>In a Jupyter environment, please rerun this cell to show the HTML representation or trust the notebook. <br />On GitHub, the HTML representation is unable to render, please try loading this page with nbviewer.org.</b></div><div class=\"sk-container\" hidden><div class=\"sk-item\"><div class=\"sk-estimator sk-toggleable\"><input class=\"sk-toggleable__control sk-hidden--visually\" id=\"sk-estimator-id-14\" type=\"checkbox\" checked><label for=\"sk-estimator-id-14\" class=\"sk-toggleable__label sk-toggleable__label-arrow\">SVC</label><div class=\"sk-toggleable__content\"><pre>SVC(coef0=0.01, gamma=0.01, kernel=&#x27;linear&#x27;)</pre></div></div></div></div></div>"
            ]
          },
          "metadata": {},
          "execution_count": 56
        }
      ]
    },
    {
      "cell_type": "code",
      "source": [
        "svc_gridcv.best_params_"
      ],
      "metadata": {
        "outputId": "285cf992-5577-4a7a-fabf-7bd15af57f68",
        "colab": {
          "base_uri": "https://localhost:8080/"
        },
        "id": "0C-BXKRe1MgP"
      },
      "execution_count": 57,
      "outputs": [
        {
          "output_type": "execute_result",
          "data": {
            "text/plain": [
              "{'C': 1.0, 'coef0': 0.01, 'gamma': 0.01, 'kernel': 'linear'}"
            ]
          },
          "metadata": {},
          "execution_count": 57
        }
      ]
    },
    {
      "cell_type": "markdown",
      "source": [
        "> Setelah dilakukan train menggunakan hyperparameter yang digunakan, didapatkan hyperparameter terbaik menurut grid search yaitu dengan nilai C = 1, coef0 = 0.01, nilai gamma = 0.01 dan menggunakan kernel linear."
      ],
      "metadata": {
        "id": "XpzrIP184WJd"
      }
    },
    {
      "cell_type": "code",
      "source": [
        "# Menyimpan Hyperparameter terbaik Untuk Uji Untuk Uji Data pada Variabel svc_gridcv_best\n",
        "\n",
        "svc_gridcv_best = svc_gridcv.best_estimator_"
      ],
      "metadata": {
        "id": "unZRpyBu1MgP"
      },
      "execution_count": 58,
      "outputs": []
    },
    {
      "cell_type": "markdown",
      "source": [
        "> Hyperparameter terbaik yang sudah ditemukan diujikan pada data test untuk melihat seberapa besar pengaruh pada hasil test data."
      ],
      "metadata": {
        "id": "dTKCDbxL4w8g"
      }
    },
    {
      "cell_type": "markdown",
      "source": [
        "### Model Evaluation Grid Search"
      ],
      "metadata": {
        "id": "ytzKxmSn1MgP"
      }
    },
    {
      "cell_type": "code",
      "source": [
        "# Cek Performa Model Menggunakan Hyperparameter Terbaik\n",
        "\n",
        "y_pred_test_svc_grid = svc_gridcv_best.predict(X_test_final)\n",
        "\n",
        "print('F1 Score - Test Set   : ', f1_score(y_test, y_pred_test_svc), '\\n')\n",
        "print('Classification Report : \\n', classification_report(y_test, y_pred_test_svc), '\\n')\n",
        "print('Confusion Matrix      : \\n', ConfusionMatrixDisplay.from_estimator(svc_gridcv_best, X_test_final, y_test, cmap='Reds'))"
      ],
      "metadata": {
        "outputId": "1390ebb7-72c9-4ebb-b2fa-35679ed6e2ce",
        "colab": {
          "base_uri": "https://localhost:8080/",
          "height": 539
        },
        "id": "XcaOpsig1MgP"
      },
      "execution_count": 59,
      "outputs": [
        {
          "output_type": "stream",
          "name": "stdout",
          "text": [
            "F1 Score - Test Set   :  0.459016393442623 \n",
            "\n",
            "Classification Report : \n",
            "               precision    recall  f1-score   support\n",
            "\n",
            "           0       0.84      0.97      0.90       468\n",
            "           1       0.72      0.34      0.46       125\n",
            "\n",
            "    accuracy                           0.83       593\n",
            "   macro avg       0.78      0.65      0.68       593\n",
            "weighted avg       0.82      0.83      0.81       593\n",
            " \n",
            "\n",
            "Confusion Matrix      : \n",
            " <sklearn.metrics._plot.confusion_matrix.ConfusionMatrixDisplay object at 0x7f8a5f651dc0>\n"
          ]
        },
        {
          "output_type": "display_data",
          "data": {
            "text/plain": [
              "<Figure size 432x288 with 2 Axes>"
            ],
            "image/png": "[encoded data removed]"
          },
          "metadata": {
            "needs_background": "light"
          }
        }
      ]
    },
    {
      "cell_type": "code",
      "source": [
        "# Save Classification Report into a Dictionary\n",
        "\n",
        "score_reports = {\n",
        "    'train - precision' : precision_score(y_train_trim, y_pred_train_svc),\n",
        "    'train - recall' : recall_score(y_train_trim, y_pred_train_svc),\n",
        "    'train - accuracy' : accuracy_score(y_train_trim, y_pred_train_svc),\n",
        "    'train - f1_score' : f1_score(y_train_trim, y_pred_train_svc),\n",
        "    'test - precision' : precision_score(y_test, y_pred_test_svc_grid),\n",
        "    'test - recall' : recall_score(y_test, y_pred_test_svc_grid),\n",
        "    'test - accuracy_score' : accuracy_score(y_test, y_pred_test_svc_grid),\n",
        "    'test - f1_score' : f1_score(y_test, y_pred_test_svc_grid),\n",
        "}\n",
        "all_reports['Grid Search'] = score_reports\n",
        "pd.DataFrame(all_reports)"
      ],
      "metadata": {
        "outputId": "1cb85fbd-7b11-423a-d65e-1dc1d11f2880",
        "colab": {
          "base_uri": "https://localhost:8080/",
          "height": 300
        },
        "id": "TaEuz1fY1MgP"
      },
      "execution_count": 60,
      "outputs": [
        {
          "output_type": "execute_result",
          "data": {
            "text/plain": [
              "                       Baseline (Default Hyperparameter)  Grid Search\n",
              "train - precision                               0.782222     0.782222\n",
              "train - recall                                  0.406467     0.406467\n",
              "train - accuracy                                0.830939     0.830939\n",
              "train - f1_score                                0.534954     0.534954\n",
              "test - precision                                0.724138     0.623656\n",
              "test - recall                                   0.336000     0.464000\n",
              "test - accuracy_score                           0.833052     0.827993\n",
              "test - f1_score                                 0.459016     0.532110"
            ],
            "text/html": [
              "\n",
              "  <div id=\"df-c4956d4e-2957-4c09-9eba-5e4c6fa444ec\">\n",
              "    <div class=\"colab-df-container\">\n",
              "      <div>\n",
              "<style scoped>\n",
              "    .dataframe tbody tr th:only-of-type {\n",
              "        vertical-align: middle;\n",
              "    }\n",
              "\n",
              "    .dataframe tbody tr th {\n",
              "        vertical-align: top;\n",
              "    }\n",
              "\n",
              "    .dataframe thead th {\n",
              "        text-align: right;\n",
              "    }\n",
              "</style>\n",
              "<table border=\"1\" class=\"dataframe\">\n",
              "  <thead>\n",
              "    <tr style=\"text-align: right;\">\n",
              "      <th></th>\n",
              "      <th>Baseline (Default Hyperparameter)</th>\n",
              "      <th>Grid Search</th>\n",
              "    </tr>\n",
              "  </thead>\n",
              "  <tbody>\n",
              "    <tr>\n",
              "      <th>train - precision</th>\n",
              "      <td>0.782222</td>\n",
              "      <td>0.782222</td>\n",
              "    </tr>\n",
              "    <tr>\n",
              "      <th>train - recall</th>\n",
              "      <td>0.406467</td>\n",
              "      <td>0.406467</td>\n",
              "    </tr>\n",
              "    <tr>\n",
              "      <th>train - accuracy</th>\n",
              "      <td>0.830939</td>\n",
              "      <td>0.830939</td>\n",
              "    </tr>\n",
              "    <tr>\n",
              "      <th>train - f1_score</th>\n",
              "      <td>0.534954</td>\n",
              "      <td>0.534954</td>\n",
              "    </tr>\n",
              "    <tr>\n",
              "      <th>test - precision</th>\n",
              "      <td>0.724138</td>\n",
              "      <td>0.623656</td>\n",
              "    </tr>\n",
              "    <tr>\n",
              "      <th>test - recall</th>\n",
              "      <td>0.336000</td>\n",
              "      <td>0.464000</td>\n",
              "    </tr>\n",
              "    <tr>\n",
              "      <th>test - accuracy_score</th>\n",
              "      <td>0.833052</td>\n",
              "      <td>0.827993</td>\n",
              "    </tr>\n",
              "    <tr>\n",
              "      <th>test - f1_score</th>\n",
              "      <td>0.459016</td>\n",
              "      <td>0.532110</td>\n",
              "    </tr>\n",
              "  </tbody>\n",
              "</table>\n",
              "</div>\n",
              "      <button class=\"colab-df-convert\" onclick=\"convertToInteractive('df-c4956d4e-2957-4c09-9eba-5e4c6fa444ec')\"\n",
              "              title=\"Convert this dataframe to an interactive table.\"\n",
              "              style=\"display:none;\">\n",
              "        \n",
              "  <svg xmlns=\"http://www.w3.org/2000/svg\" height=\"24px\"viewBox=\"0 0 24 24\"\n",
              "       width=\"24px\">\n",
              "    <path d=\"M0 0h24v24H0V0z\" fill=\"none\"/>\n",
              "    <path d=\"M18.56 5.44l.94 2.06.94-2.06 2.06-.94-2.06-.94-.94-2.06-.94 2.06-2.06.94zm-11 1L8.5 8.5l.94-2.06 2.06-.94-2.06-.94L8.5 2.5l-.94 2.06-2.06.94zm10 10l.94 2.06.94-2.06 2.06-.94-2.06-.94-.94-2.06-.94 2.06-2.06.94z\"/><path d=\"M17.41 7.96l-1.37-1.37c-.4-.4-.92-.59-1.43-.59-.52 0-1.04.2-1.43.59L10.3 9.45l-7.72 7.72c-.78.78-.78 2.05 0 2.83L4 21.41c.39.39.9.59 1.41.59.51 0 1.02-.2 1.41-.59l7.78-7.78 2.81-2.81c.8-.78.8-2.07 0-2.86zM5.41 20L4 18.59l7.72-7.72 1.47 1.35L5.41 20z\"/>\n",
              "  </svg>\n",
              "      </button>\n",
              "      \n",
              "  <style>\n",
              "    .colab-df-container {\n",
              "      display:flex;\n",
              "      flex-wrap:wrap;\n",
              "      gap: 12px;\n",
              "    }\n",
              "\n",
              "    .colab-df-convert {\n",
              "      background-color: #E8F0FE;\n",
              "      border: none;\n",
              "      border-radius: 50%;\n",
              "      cursor: pointer;\n",
              "      display: none;\n",
              "      fill: #1967D2;\n",
              "      height: 32px;\n",
              "      padding: 0 0 0 0;\n",
              "      width: 32px;\n",
              "    }\n",
              "\n",
              "    .colab-df-convert:hover {\n",
              "      background-color: #E2EBFA;\n",
              "      box-shadow: 0px 1px 2px rgba(60, 64, 67, 0.3), 0px 1px 3px 1px rgba(60, 64, 67, 0.15);\n",
              "      fill: #174EA6;\n",
              "    }\n",
              "\n",
              "    [theme=dark] .colab-df-convert {\n",
              "      background-color: #3B4455;\n",
              "      fill: #D2E3FC;\n",
              "    }\n",
              "\n",
              "    [theme=dark] .colab-df-convert:hover {\n",
              "      background-color: #434B5C;\n",
              "      box-shadow: 0px 1px 3px 1px rgba(0, 0, 0, 0.15);\n",
              "      filter: drop-shadow(0px 1px 2px rgba(0, 0, 0, 0.3));\n",
              "      fill: #FFFFFF;\n",
              "    }\n",
              "  </style>\n",
              "\n",
              "      <script>\n",
              "        const buttonEl =\n",
              "          document.querySelector('#df-c4956d4e-2957-4c09-9eba-5e4c6fa444ec button.colab-df-convert');\n",
              "        buttonEl.style.display =\n",
              "          google.colab.kernel.accessAllowed ? 'block' : 'none';\n",
              "\n",
              "        async function convertToInteractive(key) {\n",
              "          const element = document.querySelector('#df-c4956d4e-2957-4c09-9eba-5e4c6fa444ec');\n",
              "          const dataTable =\n",
              "            await google.colab.kernel.invokeFunction('convertToInteractive',\n",
              "                                                     [key], {});\n",
              "          if (!dataTable) return;\n",
              "\n",
              "          const docLinkHtml = 'Like what you see? Visit the ' +\n",
              "            '<a target=\"_blank\" href=https://colab.research.google.com/notebooks/data_table.ipynb>data table notebook</a>'\n",
              "            + ' to learn more about interactive tables.';\n",
              "          element.innerHTML = '';\n",
              "          dataTable['output_type'] = 'display_data';\n",
              "          await google.colab.output.renderOutput(dataTable, element);\n",
              "          const docLink = document.createElement('div');\n",
              "          docLink.innerHTML = docLinkHtml;\n",
              "          element.appendChild(docLink);\n",
              "        }\n",
              "      </script>\n",
              "    </div>\n",
              "  </div>\n",
              "  "
            ]
          },
          "metadata": {},
          "execution_count": 60
        }
      ]
    },
    {
      "cell_type": "markdown",
      "source": [
        "> Pada f1-score train menggunakan baseline dan grid search didapat nilai 0.534954 yang mana menunjukkan tidak terdapat perubahan yang signifikan meskipun hyperparameter telah diubah. Namun pada test, nilai f1-score menggunakn gridsearch memiliki nilai lebih tinggi yaitu 0.532110 dan pada baseline 0.459016.\n",
        "\n",
        "> Akurasi pada kedua hyperparameter baik menggunakan baseline maupun grid search tidak memiliki perbedan yang signifikan.\n",
        "\n",
        "> Hasil f1-score train menggunakan grid search bernilai 0.535 dan pada test memiliki nilai 0.532. Perbedaan tidak terlalu jauh, data dapat dikategorikan good fit. \n",
        "\n",
        "> 'C': 1.0, 'coef0': 0.01, 'gamma': 0.01, 'kernel': 'linear'"
      ],
      "metadata": {
        "id": "IqYRRLuV487I"
      }
    },
    {
      "cell_type": "markdown",
      "source": [
        "### Model Training Random Search"
      ],
      "metadata": {
        "id": "q0h3D4xn1MgP"
      }
    },
    {
      "cell_type": "code",
      "source": [
        "random_grid = {'C': [0.1, 0.5, 1.0, 3.0], 'gamma': [0.01, 0.1, 1.0],'kernel': ['rbf', 'poly', 'sigmoid', 'linear'], \n",
        "              'coef0' : [0.01, 0.1, 0.5, 1.0]}\n",
        "random_grid"
      ],
      "metadata": {
        "outputId": "b97a1dd2-63bd-4503-d1fc-27c7d9c74be7",
        "colab": {
          "base_uri": "https://localhost:8080/"
        },
        "id": "NQzwe8HJ1MgP"
      },
      "execution_count": 61,
      "outputs": [
        {
          "output_type": "execute_result",
          "data": {
            "text/plain": [
              "{'C': [0.1, 0.5, 1.0, 3.0],\n",
              " 'gamma': [0.01, 0.1, 1.0],\n",
              " 'kernel': ['rbf', 'poly', 'sigmoid', 'linear'],\n",
              " 'coef0': [0.01, 0.1, 0.5, 1.0]}"
            ]
          },
          "metadata": {},
          "execution_count": 61
        }
      ]
    },
    {
      "cell_type": "markdown",
      "source": [
        "> Selanjutnya akan dilakukan pencarian hyperparameter terbaik menggunakan random search. Hyperparam yang dijadikan patokan sama sama dengan grid search yaitu C, gamma, kernel dan coef0."
      ],
      "metadata": {
        "id": "4UrGFhGe6LN2"
      }
    },
    {
      "cell_type": "code",
      "source": [
        "# Train with Random Search\n",
        "%%time\n",
        "\n",
        "svc_randomcv = RandomizedSearchCV(estimator=SVC(),\n",
        "                         param_distributions=random_grid,\n",
        "                         cv=3,\n",
        "                         n_jobs=-1,\n",
        "                         verbose=2, \n",
        "                         scoring='f1')\n",
        "svc_randomcv.fit(X_train_final, y_train_trim)"
      ],
      "metadata": {
        "outputId": "f73fb751-a1c9-4863-9377-a12517fa152e",
        "colab": {
          "base_uri": "https://localhost:8080/",
          "height": 170
        },
        "id": "SZKFV0RQ1MgP"
      },
      "execution_count": 62,
      "outputs": [
        {
          "output_type": "stream",
          "name": "stdout",
          "text": [
            "Fitting 3 folds for each of 10 candidates, totalling 30 fits\n",
            "CPU times: user 208 ms, sys: 14.1 ms, total: 222 ms\n",
            "Wall time: 2.4 s\n"
          ]
        },
        {
          "output_type": "execute_result",
          "data": {
            "text/plain": [
              "RandomizedSearchCV(cv=3, estimator=SVC(), n_jobs=-1,\n",
              "                   param_distributions={'C': [0.1, 0.5, 1.0, 3.0],\n",
              "                                        'coef0': [0.01, 0.1, 0.5, 1.0],\n",
              "                                        'gamma': [0.01, 0.1, 1.0],\n",
              "                                        'kernel': ['rbf', 'poly', 'sigmoid',\n",
              "                                                   'linear']},\n",
              "                   scoring='f1', verbose=2)"
            ],
            "text/html": [
              "<style>#sk-container-id-9 {color: black;background-color: white;}#sk-container-id-9 pre{padding: 0;}#sk-container-id-9 div.sk-toggleable {background-color: white;}#sk-container-id-9 label.sk-toggleable__label {cursor: pointer;display: block;width: 100%;margin-bottom: 0;padding: 0.3em;box-sizing: border-box;text-align: center;}#sk-container-id-9 label.sk-toggleable__label-arrow:before {content: \"▸\";float: left;margin-right: 0.25em;color: #696969;}#sk-container-id-9 label.sk-toggleable__label-arrow:hover:before {color: black;}#sk-container-id-9 div.sk-estimator:hover label.sk-toggleable__label-arrow:before {color: black;}#sk-container-id-9 div.sk-toggleable__content {max-height: 0;max-width: 0;overflow: hidden;text-align: left;background-color: #f0f8ff;}#sk-container-id-9 div.sk-toggleable__content pre {margin: 0.2em;color: black;border-radius: 0.25em;background-color: #f0f8ff;}#sk-container-id-9 input.sk-toggleable__control:checked~div.sk-toggleable__content {max-height: 200px;max-width: 100%;overflow: auto;}#sk-container-id-9 input.sk-toggleable__control:checked~label.sk-toggleable__label-arrow:before {content: \"▾\";}#sk-container-id-9 div.sk-estimator input.sk-toggleable__control:checked~label.sk-toggleable__label {background-color: #d4ebff;}#sk-container-id-9 div.sk-label input.sk-toggleable__control:checked~label.sk-toggleable__label {background-color: #d4ebff;}#sk-container-id-9 input.sk-hidden--visually {border: 0;clip: rect(1px 1px 1px 1px);clip: rect(1px, 1px, 1px, 1px);height: 1px;margin: -1px;overflow: hidden;padding: 0;position: absolute;width: 1px;}#sk-container-id-9 div.sk-estimator {font-family: monospace;background-color: #f0f8ff;border: 1px dotted black;border-radius: 0.25em;box-sizing: border-box;margin-bottom: 0.5em;}#sk-container-id-9 div.sk-estimator:hover {background-color: #d4ebff;}#sk-container-id-9 div.sk-parallel-item::after {content: \"\";width: 100%;border-bottom: 1px solid gray;flex-grow: 1;}#sk-container-id-9 div.sk-label:hover label.sk-toggleable__label {background-color: #d4ebff;}#sk-container-id-9 div.sk-serial::before {content: \"\";position: absolute;border-left: 1px solid gray;box-sizing: border-box;top: 0;bottom: 0;left: 50%;z-index: 0;}#sk-container-id-9 div.sk-serial {display: flex;flex-direction: column;align-items: center;background-color: white;padding-right: 0.2em;padding-left: 0.2em;position: relative;}#sk-container-id-9 div.sk-item {position: relative;z-index: 1;}#sk-container-id-9 div.sk-parallel {display: flex;align-items: stretch;justify-content: center;background-color: white;position: relative;}#sk-container-id-9 div.sk-item::before, #sk-container-id-9 div.sk-parallel-item::before {content: \"\";position: absolute;border-left: 1px solid gray;box-sizing: border-box;top: 0;bottom: 0;left: 50%;z-index: -1;}#sk-container-id-9 div.sk-parallel-item {display: flex;flex-direction: column;z-index: 1;position: relative;background-color: white;}#sk-container-id-9 div.sk-parallel-item:first-child::after {align-self: flex-end;width: 50%;}#sk-container-id-9 div.sk-parallel-item:last-child::after {align-self: flex-start;width: 50%;}#sk-container-id-9 div.sk-parallel-item:only-child::after {width: 0;}#sk-container-id-9 div.sk-dashed-wrapped {border: 1px dashed gray;margin: 0 0.4em 0.5em 0.4em;box-sizing: border-box;padding-bottom: 0.4em;background-color: white;}#sk-container-id-9 div.sk-label label {font-family: monospace;font-weight: bold;display: inline-block;line-height: 1.2em;}#sk-container-id-9 div.sk-label-container {text-align: center;}#sk-container-id-9 div.sk-container {/* jupyter's `normalize.less` sets `[hidden] { display: none; }` but bootstrap.min.css set `[hidden] { display: none !important; }` so we also need the `!important` here to be able to override the default hidden behavior on the sphinx rendered scikit-learn.org. See: https://github.com/scikit-learn/scikit-learn/issues/21755 */display: inline-block !important;position: relative;}#sk-container-id-9 div.sk-text-repr-fallback {display: none;}</style><div id=\"sk-container-id-9\" class=\"sk-top-container\"><div class=\"sk-text-repr-fallback\"><pre>RandomizedSearchCV(cv=3, estimator=SVC(), n_jobs=-1,\n",
              "                   param_distributions={&#x27;C&#x27;: [0.1, 0.5, 1.0, 3.0],\n",
              "                                        &#x27;coef0&#x27;: [0.01, 0.1, 0.5, 1.0],\n",
              "                                        &#x27;gamma&#x27;: [0.01, 0.1, 1.0],\n",
              "                                        &#x27;kernel&#x27;: [&#x27;rbf&#x27;, &#x27;poly&#x27;, &#x27;sigmoid&#x27;,\n",
              "                                                   &#x27;linear&#x27;]},\n",
              "                   scoring=&#x27;f1&#x27;, verbose=2)</pre><b>In a Jupyter environment, please rerun this cell to show the HTML representation or trust the notebook. <br />On GitHub, the HTML representation is unable to render, please try loading this page with nbviewer.org.</b></div><div class=\"sk-container\" hidden><div class=\"sk-item sk-dashed-wrapped\"><div class=\"sk-label-container\"><div class=\"sk-label sk-toggleable\"><input class=\"sk-toggleable__control sk-hidden--visually\" id=\"sk-estimator-id-15\" type=\"checkbox\" ><label for=\"sk-estimator-id-15\" class=\"sk-toggleable__label sk-toggleable__label-arrow\">RandomizedSearchCV</label><div class=\"sk-toggleable__content\"><pre>RandomizedSearchCV(cv=3, estimator=SVC(), n_jobs=-1,\n",
              "                   param_distributions={&#x27;C&#x27;: [0.1, 0.5, 1.0, 3.0],\n",
              "                                        &#x27;coef0&#x27;: [0.01, 0.1, 0.5, 1.0],\n",
              "                                        &#x27;gamma&#x27;: [0.01, 0.1, 1.0],\n",
              "                                        &#x27;kernel&#x27;: [&#x27;rbf&#x27;, &#x27;poly&#x27;, &#x27;sigmoid&#x27;,\n",
              "                                                   &#x27;linear&#x27;]},\n",
              "                   scoring=&#x27;f1&#x27;, verbose=2)</pre></div></div></div><div class=\"sk-parallel\"><div class=\"sk-parallel-item\"><div class=\"sk-item\"><div class=\"sk-label-container\"><div class=\"sk-label sk-toggleable\"><input class=\"sk-toggleable__control sk-hidden--visually\" id=\"sk-estimator-id-16\" type=\"checkbox\" ><label for=\"sk-estimator-id-16\" class=\"sk-toggleable__label sk-toggleable__label-arrow\">estimator: SVC</label><div class=\"sk-toggleable__content\"><pre>SVC()</pre></div></div></div><div class=\"sk-serial\"><div class=\"sk-item\"><div class=\"sk-estimator sk-toggleable\"><input class=\"sk-toggleable__control sk-hidden--visually\" id=\"sk-estimator-id-17\" type=\"checkbox\" ><label for=\"sk-estimator-id-17\" class=\"sk-toggleable__label sk-toggleable__label-arrow\">SVC</label><div class=\"sk-toggleable__content\"><pre>SVC()</pre></div></div></div></div></div></div></div></div></div></div>"
            ]
          },
          "metadata": {},
          "execution_count": 62
        }
      ]
    },
    {
      "cell_type": "code",
      "source": [
        "# Menampilkan Hyperparameters Terbaik Pada SVC\n",
        "svc_randomcv.best_estimator_"
      ],
      "metadata": {
        "outputId": "81bf0793-a7b1-41b2-ebe9-eeb23494e493",
        "colab": {
          "base_uri": "https://localhost:8080/",
          "height": 75
        },
        "id": "2F8oJiLQ1MgP"
      },
      "execution_count": 63,
      "outputs": [
        {
          "output_type": "execute_result",
          "data": {
            "text/plain": [
              "SVC(C=3.0, coef0=1.0, gamma=1.0)"
            ],
            "text/html": [
              "<style>#sk-container-id-10 {color: black;background-color: white;}#sk-container-id-10 pre{padding: 0;}#sk-container-id-10 div.sk-toggleable {background-color: white;}#sk-container-id-10 label.sk-toggleable__label {cursor: pointer;display: block;width: 100%;margin-bottom: 0;padding: 0.3em;box-sizing: border-box;text-align: center;}#sk-container-id-10 label.sk-toggleable__label-arrow:before {content: \"▸\";float: left;margin-right: 0.25em;color: #696969;}#sk-container-id-10 label.sk-toggleable__label-arrow:hover:before {color: black;}#sk-container-id-10 div.sk-estimator:hover label.sk-toggleable__label-arrow:before {color: black;}#sk-container-id-10 div.sk-toggleable__content {max-height: 0;max-width: 0;overflow: hidden;text-align: left;background-color: #f0f8ff;}#sk-container-id-10 div.sk-toggleable__content pre {margin: 0.2em;color: black;border-radius: 0.25em;background-color: #f0f8ff;}#sk-container-id-10 input.sk-toggleable__control:checked~div.sk-toggleable__content {max-height: 200px;max-width: 100%;overflow: auto;}#sk-container-id-10 input.sk-toggleable__control:checked~label.sk-toggleable__label-arrow:before {content: \"▾\";}#sk-container-id-10 div.sk-estimator input.sk-toggleable__control:checked~label.sk-toggleable__label {background-color: #d4ebff;}#sk-container-id-10 div.sk-label input.sk-toggleable__control:checked~label.sk-toggleable__label {background-color: #d4ebff;}#sk-container-id-10 input.sk-hidden--visually {border: 0;clip: rect(1px 1px 1px 1px);clip: rect(1px, 1px, 1px, 1px);height: 1px;margin: -1px;overflow: hidden;padding: 0;position: absolute;width: 1px;}#sk-container-id-10 div.sk-estimator {font-family: monospace;background-color: #f0f8ff;border: 1px dotted black;border-radius: 0.25em;box-sizing: border-box;margin-bottom: 0.5em;}#sk-container-id-10 div.sk-estimator:hover {background-color: #d4ebff;}#sk-container-id-10 div.sk-parallel-item::after {content: \"\";width: 100%;border-bottom: 1px solid gray;flex-grow: 1;}#sk-container-id-10 div.sk-label:hover label.sk-toggleable__label {background-color: #d4ebff;}#sk-container-id-10 div.sk-serial::before {content: \"\";position: absolute;border-left: 1px solid gray;box-sizing: border-box;top: 0;bottom: 0;left: 50%;z-index: 0;}#sk-container-id-10 div.sk-serial {display: flex;flex-direction: column;align-items: center;background-color: white;padding-right: 0.2em;padding-left: 0.2em;position: relative;}#sk-container-id-10 div.sk-item {position: relative;z-index: 1;}#sk-container-id-10 div.sk-parallel {display: flex;align-items: stretch;justify-content: center;background-color: white;position: relative;}#sk-container-id-10 div.sk-item::before, #sk-container-id-10 div.sk-parallel-item::before {content: \"\";position: absolute;border-left: 1px solid gray;box-sizing: border-box;top: 0;bottom: 0;left: 50%;z-index: -1;}#sk-container-id-10 div.sk-parallel-item {display: flex;flex-direction: column;z-index: 1;position: relative;background-color: white;}#sk-container-id-10 div.sk-parallel-item:first-child::after {align-self: flex-end;width: 50%;}#sk-container-id-10 div.sk-parallel-item:last-child::after {align-self: flex-start;width: 50%;}#sk-container-id-10 div.sk-parallel-item:only-child::after {width: 0;}#sk-container-id-10 div.sk-dashed-wrapped {border: 1px dashed gray;margin: 0 0.4em 0.5em 0.4em;box-sizing: border-box;padding-bottom: 0.4em;background-color: white;}#sk-container-id-10 div.sk-label label {font-family: monospace;font-weight: bold;display: inline-block;line-height: 1.2em;}#sk-container-id-10 div.sk-label-container {text-align: center;}#sk-container-id-10 div.sk-container {/* jupyter's `normalize.less` sets `[hidden] { display: none; }` but bootstrap.min.css set `[hidden] { display: none !important; }` so we also need the `!important` here to be able to override the default hidden behavior on the sphinx rendered scikit-learn.org. See: https://github.com/scikit-learn/scikit-learn/issues/21755 */display: inline-block !important;position: relative;}#sk-container-id-10 div.sk-text-repr-fallback {display: none;}</style><div id=\"sk-container-id-10\" class=\"sk-top-container\"><div class=\"sk-text-repr-fallback\"><pre>SVC(C=3.0, coef0=1.0, gamma=1.0)</pre><b>In a Jupyter environment, please rerun this cell to show the HTML representation or trust the notebook. <br />On GitHub, the HTML representation is unable to render, please try loading this page with nbviewer.org.</b></div><div class=\"sk-container\" hidden><div class=\"sk-item\"><div class=\"sk-estimator sk-toggleable\"><input class=\"sk-toggleable__control sk-hidden--visually\" id=\"sk-estimator-id-18\" type=\"checkbox\" checked><label for=\"sk-estimator-id-18\" class=\"sk-toggleable__label sk-toggleable__label-arrow\">SVC</label><div class=\"sk-toggleable__content\"><pre>SVC(C=3.0, coef0=1.0, gamma=1.0)</pre></div></div></div></div></div>"
            ]
          },
          "metadata": {},
          "execution_count": 63
        }
      ]
    },
    {
      "cell_type": "markdown",
      "source": [
        "> Dari hasil uji seluruh hyperparam pada data train, didapat bahwa hyperparameter terbaik menurut random search  adalah SVC(C=3.0, coef0=1.0, gamma=1.0).\n",
        "\n",
        "> Hyperparameter tersebut akan diujikan pada data tes untuk melihat nilai akurasinya."
      ],
      "metadata": {
        "id": "y1NlVKez6dSY"
      }
    },
    {
      "cell_type": "code",
      "source": [
        "# Menyimpan Hyperparameter terbaik Untuk Uji Untuk Uji Data pada Variabel svc_randomcv_best\n",
        "\n",
        "svc_randomcv_best = svc_randomcv.best_estimator_"
      ],
      "metadata": {
        "id": "ZrhmKQ2l1MgP"
      },
      "execution_count": 64,
      "outputs": []
    },
    {
      "cell_type": "markdown",
      "source": [
        "### Model Evaluation Random Search"
      ],
      "metadata": {
        "id": "9Gilego3II17"
      }
    },
    {
      "cell_type": "code",
      "source": [
        "# Cek Performa Model Menggunakan Hyperparameter Terbaik\n",
        "\n",
        "y_pred_test_svc_rand = svc_randomcv_best.predict(X_test_final)\n",
        "\n",
        "print('F1 Score - Test Set   : ', f1_score(y_test, y_pred_test_svc_rand), '\\n')\n",
        "print('Classification Report : \\n', classification_report(y_test, y_pred_test_svc_rand), '\\n')\n",
        "print('Confusion Matrix      : \\n', ConfusionMatrixDisplay.from_estimator(svc_randomcv_best, X_test_final, y_test, cmap='Reds'))"
      ],
      "metadata": {
        "outputId": "4916c681-be21-4eef-a953-9a27099f173c",
        "colab": {
          "base_uri": "https://localhost:8080/",
          "height": 543
        },
        "id": "mhMo7ud11MgP"
      },
      "execution_count": 65,
      "outputs": [
        {
          "output_type": "stream",
          "name": "stdout",
          "text": [
            "F1 Score - Test Set   :  0.4893617021276595 \n",
            "\n",
            "Classification Report : \n",
            "               precision    recall  f1-score   support\n",
            "\n",
            "           0       0.85      0.96      0.90       468\n",
            "           1       0.73      0.37      0.49       125\n",
            "\n",
            "    accuracy                           0.84       593\n",
            "   macro avg       0.79      0.67      0.70       593\n",
            "weighted avg       0.83      0.84      0.82       593\n",
            " \n",
            "\n",
            "Confusion Matrix      : \n",
            " <sklearn.metrics._plot.confusion_matrix.ConfusionMatrixDisplay object at 0x7f8a5f5a8520>\n"
          ]
        },
        {
          "output_type": "display_data",
          "data": {
            "text/plain": [
              "<Figure size 432x288 with 2 Axes>"
            ],
            "image/png": "[encoded data removed]"
          },
          "metadata": {
            "needs_background": "light"
          }
        }
      ]
    },
    {
      "cell_type": "markdown",
      "source": [
        "> Hyperparameter hasil random search yang digunakan pada uji di data test menunjukkan nilia f1-score sebesar 0.49 dengan akurasi seebsar 0.84 atau 84%"
      ],
      "metadata": {
        "id": "NO6MNbkX61eY"
      }
    },
    {
      "cell_type": "code",
      "source": [
        "# Save Classification Report into a Dictionary\n",
        "\n",
        "score_reports = {\n",
        "    'train - precision' : precision_score(y_train_trim, y_pred_train_svc),\n",
        "    'train - recall' : recall_score(y_train_trim, y_pred_train_svc),\n",
        "    'train - accuracy' : accuracy_score(y_train_trim, y_pred_train_svc),\n",
        "    'train - f1_score' : f1_score(y_train_trim, y_pred_train_svc),\n",
        "    'test - precision' : precision_score(y_test, y_pred_test_svc_rand),\n",
        "    'test - recall' : recall_score(y_test, y_pred_test_svc_rand),\n",
        "    'test - accuracy_score' : accuracy_score(y_test, y_pred_test_svc_rand),\n",
        "    'test - f1_score' : f1_score(y_test, y_pred_test_svc_rand),\n",
        "}\n",
        "all_reports['Random Search'] = score_reports\n",
        "pd.DataFrame(all_reports)"
      ],
      "metadata": {
        "outputId": "2bde4b8a-ee76-4253-ab7b-cee361176f90",
        "colab": {
          "base_uri": "https://localhost:8080/",
          "height": 300
        },
        "id": "jeI7XWHK1MgP"
      },
      "execution_count": 66,
      "outputs": [
        {
          "output_type": "execute_result",
          "data": {
            "text/plain": [
              "                       Baseline (Default Hyperparameter)  Grid Search  \\\n",
              "train - precision                               0.782222     0.782222   \n",
              "train - recall                                  0.406467     0.406467   \n",
              "train - accuracy                                0.830939     0.830939   \n",
              "train - f1_score                                0.534954     0.534954   \n",
              "test - precision                                0.724138     0.623656   \n",
              "test - recall                                   0.336000     0.464000   \n",
              "test - accuracy_score                           0.833052     0.827993   \n",
              "test - f1_score                                 0.459016     0.532110   \n",
              "\n",
              "                       Random Search  \n",
              "train - precision           0.782222  \n",
              "train - recall              0.406467  \n",
              "train - accuracy            0.830939  \n",
              "train - f1_score            0.534954  \n",
              "test - precision            0.730159  \n",
              "test - recall               0.368000  \n",
              "test - accuracy_score       0.838111  \n",
              "test - f1_score             0.489362  "
            ],
            "text/html": [
              "\n",
              "  <div id=\"df-8238ebf0-6631-4a0b-8186-7ef5a676f4fe\">\n",
              "    <div class=\"colab-df-container\">\n",
              "      <div>\n",
              "<style scoped>\n",
              "    .dataframe tbody tr th:only-of-type {\n",
              "        vertical-align: middle;\n",
              "    }\n",
              "\n",
              "    .dataframe tbody tr th {\n",
              "        vertical-align: top;\n",
              "    }\n",
              "\n",
              "    .dataframe thead th {\n",
              "        text-align: right;\n",
              "    }\n",
              "</style>\n",
              "<table border=\"1\" class=\"dataframe\">\n",
              "  <thead>\n",
              "    <tr style=\"text-align: right;\">\n",
              "      <th></th>\n",
              "      <th>Baseline (Default Hyperparameter)</th>\n",
              "      <th>Grid Search</th>\n",
              "      <th>Random Search</th>\n",
              "    </tr>\n",
              "  </thead>\n",
              "  <tbody>\n",
              "    <tr>\n",
              "      <th>train - precision</th>\n",
              "      <td>0.782222</td>\n",
              "      <td>0.782222</td>\n",
              "      <td>0.782222</td>\n",
              "    </tr>\n",
              "    <tr>\n",
              "      <th>train - recall</th>\n",
              "      <td>0.406467</td>\n",
              "      <td>0.406467</td>\n",
              "      <td>0.406467</td>\n",
              "    </tr>\n",
              "    <tr>\n",
              "      <th>train - accuracy</th>\n",
              "      <td>0.830939</td>\n",
              "      <td>0.830939</td>\n",
              "      <td>0.830939</td>\n",
              "    </tr>\n",
              "    <tr>\n",
              "      <th>train - f1_score</th>\n",
              "      <td>0.534954</td>\n",
              "      <td>0.534954</td>\n",
              "      <td>0.534954</td>\n",
              "    </tr>\n",
              "    <tr>\n",
              "      <th>test - precision</th>\n",
              "      <td>0.724138</td>\n",
              "      <td>0.623656</td>\n",
              "      <td>0.730159</td>\n",
              "    </tr>\n",
              "    <tr>\n",
              "      <th>test - recall</th>\n",
              "      <td>0.336000</td>\n",
              "      <td>0.464000</td>\n",
              "      <td>0.368000</td>\n",
              "    </tr>\n",
              "    <tr>\n",
              "      <th>test - accuracy_score</th>\n",
              "      <td>0.833052</td>\n",
              "      <td>0.827993</td>\n",
              "      <td>0.838111</td>\n",
              "    </tr>\n",
              "    <tr>\n",
              "      <th>test - f1_score</th>\n",
              "      <td>0.459016</td>\n",
              "      <td>0.532110</td>\n",
              "      <td>0.489362</td>\n",
              "    </tr>\n",
              "  </tbody>\n",
              "</table>\n",
              "</div>\n",
              "      <button class=\"colab-df-convert\" onclick=\"convertToInteractive('df-8238ebf0-6631-4a0b-8186-7ef5a676f4fe')\"\n",
              "              title=\"Convert this dataframe to an interactive table.\"\n",
              "              style=\"display:none;\">\n",
              "        \n",
              "  <svg xmlns=\"http://www.w3.org/2000/svg\" height=\"24px\"viewBox=\"0 0 24 24\"\n",
              "       width=\"24px\">\n",
              "    <path d=\"M0 0h24v24H0V0z\" fill=\"none\"/>\n",
              "    <path d=\"M18.56 5.44l.94 2.06.94-2.06 2.06-.94-2.06-.94-.94-2.06-.94 2.06-2.06.94zm-11 1L8.5 8.5l.94-2.06 2.06-.94-2.06-.94L8.5 2.5l-.94 2.06-2.06.94zm10 10l.94 2.06.94-2.06 2.06-.94-2.06-.94-.94-2.06-.94 2.06-2.06.94z\"/><path d=\"M17.41 7.96l-1.37-1.37c-.4-.4-.92-.59-1.43-.59-.52 0-1.04.2-1.43.59L10.3 9.45l-7.72 7.72c-.78.78-.78 2.05 0 2.83L4 21.41c.39.39.9.59 1.41.59.51 0 1.02-.2 1.41-.59l7.78-7.78 2.81-2.81c.8-.78.8-2.07 0-2.86zM5.41 20L4 18.59l7.72-7.72 1.47 1.35L5.41 20z\"/>\n",
              "  </svg>\n",
              "      </button>\n",
              "      \n",
              "  <style>\n",
              "    .colab-df-container {\n",
              "      display:flex;\n",
              "      flex-wrap:wrap;\n",
              "      gap: 12px;\n",
              "    }\n",
              "\n",
              "    .colab-df-convert {\n",
              "      background-color: #E8F0FE;\n",
              "      border: none;\n",
              "      border-radius: 50%;\n",
              "      cursor: pointer;\n",
              "      display: none;\n",
              "      fill: #1967D2;\n",
              "      height: 32px;\n",
              "      padding: 0 0 0 0;\n",
              "      width: 32px;\n",
              "    }\n",
              "\n",
              "    .colab-df-convert:hover {\n",
              "      background-color: #E2EBFA;\n",
              "      box-shadow: 0px 1px 2px rgba(60, 64, 67, 0.3), 0px 1px 3px 1px rgba(60, 64, 67, 0.15);\n",
              "      fill: #174EA6;\n",
              "    }\n",
              "\n",
              "    [theme=dark] .colab-df-convert {\n",
              "      background-color: #3B4455;\n",
              "      fill: #D2E3FC;\n",
              "    }\n",
              "\n",
              "    [theme=dark] .colab-df-convert:hover {\n",
              "      background-color: #434B5C;\n",
              "      box-shadow: 0px 1px 3px 1px rgba(0, 0, 0, 0.15);\n",
              "      filter: drop-shadow(0px 1px 2px rgba(0, 0, 0, 0.3));\n",
              "      fill: #FFFFFF;\n",
              "    }\n",
              "  </style>\n",
              "\n",
              "      <script>\n",
              "        const buttonEl =\n",
              "          document.querySelector('#df-8238ebf0-6631-4a0b-8186-7ef5a676f4fe button.colab-df-convert');\n",
              "        buttonEl.style.display =\n",
              "          google.colab.kernel.accessAllowed ? 'block' : 'none';\n",
              "\n",
              "        async function convertToInteractive(key) {\n",
              "          const element = document.querySelector('#df-8238ebf0-6631-4a0b-8186-7ef5a676f4fe');\n",
              "          const dataTable =\n",
              "            await google.colab.kernel.invokeFunction('convertToInteractive',\n",
              "                                                     [key], {});\n",
              "          if (!dataTable) return;\n",
              "\n",
              "          const docLinkHtml = 'Like what you see? Visit the ' +\n",
              "            '<a target=\"_blank\" href=https://colab.research.google.com/notebooks/data_table.ipynb>data table notebook</a>'\n",
              "            + ' to learn more about interactive tables.';\n",
              "          element.innerHTML = '';\n",
              "          dataTable['output_type'] = 'display_data';\n",
              "          await google.colab.output.renderOutput(dataTable, element);\n",
              "          const docLink = document.createElement('div');\n",
              "          docLink.innerHTML = docLinkHtml;\n",
              "          element.appendChild(docLink);\n",
              "        }\n",
              "      </script>\n",
              "    </div>\n",
              "  </div>\n",
              "  "
            ]
          },
          "metadata": {},
          "execution_count": 66
        }
      ]
    },
    {
      "cell_type": "markdown",
      "source": [
        "> Dari hasil pengujian terhadap hyperparameter baseline, terbaik menurut grid search dan random search ditemukan bahwa Hyperparameter Grid Search merupakan yang terbaik karena hasil f1-score train dan f1-score test cenderung good fit dan akurasinya tidak memiliki perbedaan terlalu jauh masih di kisaran 83%\n",
        "\n",
        ">  Hyperparameter dari hasil pencarian grid search akan digunakan pada pemodelan.\n",
        "\n",
        "> Hyperparameternya adalah `SVC('C': 1.0, 'coef0': 0.01, 'gamma': 0.01, 'kernel': 'linear')`"
      ],
      "metadata": {
        "id": "W4CYhQRG7I1p"
      }
    },
    {
      "cell_type": "markdown",
      "source": [
        "## Decision Tree"
      ],
      "metadata": {
        "id": "t1pQbIrNIcA7"
      }
    },
    {
      "cell_type": "markdown",
      "source": [
        "### Model Definition"
      ],
      "metadata": {
        "id": "Cl73l8biIcA7"
      }
    },
    {
      "cell_type": "code",
      "source": [
        "# Pendefinisian Model Decision Tree\n",
        "\n",
        "dt = DecisionTreeClassifier()"
      ],
      "metadata": {
        "id": "nUvtzZdBIcA7"
      },
      "execution_count": 67,
      "outputs": []
    },
    {
      "cell_type": "markdown",
      "source": [
        "> Melakukan pendefinisian decsion tree classifier"
      ],
      "metadata": {
        "id": "k89Aoq4Z8O0J"
      }
    },
    {
      "cell_type": "markdown",
      "source": [
        "### Model Training Baseline"
      ],
      "metadata": {
        "id": "qR33dQsZIcA8"
      }
    },
    {
      "cell_type": "code",
      "source": [
        "# Training Model Decision Tree\n",
        "\n",
        "dt.fit(X_train_final, y_train_trim)"
      ],
      "metadata": {
        "colab": {
          "base_uri": "https://localhost:8080/",
          "height": 75
        },
        "outputId": "09c96976-38f3-4dd7-880d-aefc7ec20fa5",
        "id": "YhEMiAdLIcA8"
      },
      "execution_count": 68,
      "outputs": [
        {
          "output_type": "execute_result",
          "data": {
            "text/plain": [
              "DecisionTreeClassifier()"
            ],
            "text/html": [
              "<style>#sk-container-id-11 {color: black;background-color: white;}#sk-container-id-11 pre{padding: 0;}#sk-container-id-11 div.sk-toggleable {background-color: white;}#sk-container-id-11 label.sk-toggleable__label {cursor: pointer;display: block;width: 100%;margin-bottom: 0;padding: 0.3em;box-sizing: border-box;text-align: center;}#sk-container-id-11 label.sk-toggleable__label-arrow:before {content: \"▸\";float: left;margin-right: 0.25em;color: #696969;}#sk-container-id-11 label.sk-toggleable__label-arrow:hover:before {color: black;}#sk-container-id-11 div.sk-estimator:hover label.sk-toggleable__label-arrow:before {color: black;}#sk-container-id-11 div.sk-toggleable__content {max-height: 0;max-width: 0;overflow: hidden;text-align: left;background-color: #f0f8ff;}#sk-container-id-11 div.sk-toggleable__content pre {margin: 0.2em;color: black;border-radius: 0.25em;background-color: #f0f8ff;}#sk-container-id-11 input.sk-toggleable__control:checked~div.sk-toggleable__content {max-height: 200px;max-width: 100%;overflow: auto;}#sk-container-id-11 input.sk-toggleable__control:checked~label.sk-toggleable__label-arrow:before {content: \"▾\";}#sk-container-id-11 div.sk-estimator input.sk-toggleable__control:checked~label.sk-toggleable__label {background-color: #d4ebff;}#sk-container-id-11 div.sk-label input.sk-toggleable__control:checked~label.sk-toggleable__label {background-color: #d4ebff;}#sk-container-id-11 input.sk-hidden--visually {border: 0;clip: rect(1px 1px 1px 1px);clip: rect(1px, 1px, 1px, 1px);height: 1px;margin: -1px;overflow: hidden;padding: 0;position: absolute;width: 1px;}#sk-container-id-11 div.sk-estimator {font-family: monospace;background-color: #f0f8ff;border: 1px dotted black;border-radius: 0.25em;box-sizing: border-box;margin-bottom: 0.5em;}#sk-container-id-11 div.sk-estimator:hover {background-color: #d4ebff;}#sk-container-id-11 div.sk-parallel-item::after {content: \"\";width: 100%;border-bottom: 1px solid gray;flex-grow: 1;}#sk-container-id-11 div.sk-label:hover label.sk-toggleable__label {background-color: #d4ebff;}#sk-container-id-11 div.sk-serial::before {content: \"\";position: absolute;border-left: 1px solid gray;box-sizing: border-box;top: 0;bottom: 0;left: 50%;z-index: 0;}#sk-container-id-11 div.sk-serial {display: flex;flex-direction: column;align-items: center;background-color: white;padding-right: 0.2em;padding-left: 0.2em;position: relative;}#sk-container-id-11 div.sk-item {position: relative;z-index: 1;}#sk-container-id-11 div.sk-parallel {display: flex;align-items: stretch;justify-content: center;background-color: white;position: relative;}#sk-container-id-11 div.sk-item::before, #sk-container-id-11 div.sk-parallel-item::before {content: \"\";position: absolute;border-left: 1px solid gray;box-sizing: border-box;top: 0;bottom: 0;left: 50%;z-index: -1;}#sk-container-id-11 div.sk-parallel-item {display: flex;flex-direction: column;z-index: 1;position: relative;background-color: white;}#sk-container-id-11 div.sk-parallel-item:first-child::after {align-self: flex-end;width: 50%;}#sk-container-id-11 div.sk-parallel-item:last-child::after {align-self: flex-start;width: 50%;}#sk-container-id-11 div.sk-parallel-item:only-child::after {width: 0;}#sk-container-id-11 div.sk-dashed-wrapped {border: 1px dashed gray;margin: 0 0.4em 0.5em 0.4em;box-sizing: border-box;padding-bottom: 0.4em;background-color: white;}#sk-container-id-11 div.sk-label label {font-family: monospace;font-weight: bold;display: inline-block;line-height: 1.2em;}#sk-container-id-11 div.sk-label-container {text-align: center;}#sk-container-id-11 div.sk-container {/* jupyter's `normalize.less` sets `[hidden] { display: none; }` but bootstrap.min.css set `[hidden] { display: none !important; }` so we also need the `!important` here to be able to override the default hidden behavior on the sphinx rendered scikit-learn.org. See: https://github.com/scikit-learn/scikit-learn/issues/21755 */display: inline-block !important;position: relative;}#sk-container-id-11 div.sk-text-repr-fallback {display: none;}</style><div id=\"sk-container-id-11\" class=\"sk-top-container\"><div class=\"sk-text-repr-fallback\"><pre>DecisionTreeClassifier()</pre><b>In a Jupyter environment, please rerun this cell to show the HTML representation or trust the notebook. <br />On GitHub, the HTML representation is unable to render, please try loading this page with nbviewer.org.</b></div><div class=\"sk-container\" hidden><div class=\"sk-item\"><div class=\"sk-estimator sk-toggleable\"><input class=\"sk-toggleable__control sk-hidden--visually\" id=\"sk-estimator-id-19\" type=\"checkbox\" checked><label for=\"sk-estimator-id-19\" class=\"sk-toggleable__label sk-toggleable__label-arrow\">DecisionTreeClassifier</label><div class=\"sk-toggleable__content\"><pre>DecisionTreeClassifier()</pre></div></div></div></div></div>"
            ]
          },
          "metadata": {},
          "execution_count": 68
        }
      ]
    },
    {
      "cell_type": "markdown",
      "source": [
        "> Melakukan train pada data train menggunakan dt dengan baseline hyperparameter."
      ],
      "metadata": {
        "id": "w6jKY7x08Xx6"
      }
    },
    {
      "cell_type": "markdown",
      "source": [
        "### Model Evaluation Baseline"
      ],
      "metadata": {
        "id": "zIWoBzIZIcA8"
      }
    },
    {
      "cell_type": "code",
      "source": [
        "# Evaluasi Performa Model Decision Tree\n",
        "\n",
        "y_pred_train_dt = dt.predict(X_train_final)\n",
        "\n",
        "print('F1 Score - Train Set  : ', f1_score(y_train_trim, y_pred_train_dt), '\\n')\n",
        "print('Classification Report : \\n', classification_report(y_train_trim, y_pred_train_dt), '\\n')\n",
        "print('Confusion Matrix      : \\n', ConfusionMatrixDisplay.from_estimator(dt, X_train_final, y_train_trim, cmap='Reds'))"
      ],
      "metadata": {
        "outputId": "437d98dd-9262-4651-a7ef-6a88e33e82dc",
        "colab": {
          "base_uri": "https://localhost:8080/",
          "height": 539
        },
        "id": "9TLNJuiiIcA8"
      },
      "execution_count": 69,
      "outputs": [
        {
          "output_type": "stream",
          "name": "stdout",
          "text": [
            "F1 Score - Train Set  :  1.0 \n",
            "\n",
            "Classification Report : \n",
            "               precision    recall  f1-score   support\n",
            "\n",
            "           0       1.00      1.00      1.00      1377\n",
            "           1       1.00      1.00      1.00       433\n",
            "\n",
            "    accuracy                           1.00      1810\n",
            "   macro avg       1.00      1.00      1.00      1810\n",
            "weighted avg       1.00      1.00      1.00      1810\n",
            " \n",
            "\n",
            "Confusion Matrix      : \n",
            " <sklearn.metrics._plot.confusion_matrix.ConfusionMatrixDisplay object at 0x7f8a5f532af0>\n"
          ]
        },
        {
          "output_type": "display_data",
          "data": {
            "text/plain": [
              "<Figure size 432x288 with 2 Axes>"
            ],
            "image/png": "[encoded data removed]"
          },
          "metadata": {
            "needs_background": "light"
          }
        }
      ]
    },
    {
      "cell_type": "code",
      "source": [
        "# Cross Validation using `cross_val_score`\n",
        "\n",
        "%%time\n",
        "from sklearn.model_selection import cross_val_score\n",
        "\n",
        "f1_score_train_cross_val_dt = cross_val_score(dt, \n",
        "                                           X_train_final, \n",
        "                                           y_train_trim, \n",
        "                                           cv=3, \n",
        "                                           scoring='f1')\n",
        "\n",
        "print('F1 Score - All - Cross Validation  : ', f1_score_train_cross_val_dt)\n",
        "print('F1 Score - Mean - Cross Validation : ', f1_score_train_cross_val_dt.mean())\n",
        "print('F1 Score - Std - Cross Validation  : ', f1_score_train_cross_val_dt.std())\n",
        "print('F1 Score - Range of Test-Set       : ', (f1_score_train_cross_val_dt.mean()-f1_score_train_cross_val_dt.std()) , '-', (f1_score_train_cross_val_dt.mean()+f1_score_train_cross_val_dt.std()))"
      ],
      "metadata": {
        "outputId": "fe690d6f-1b02-4751-b268-8b82b11fb537",
        "colab": {
          "base_uri": "https://localhost:8080/"
        },
        "id": "Ls-JT6baIcA8"
      },
      "execution_count": 70,
      "outputs": [
        {
          "output_type": "stream",
          "name": "stdout",
          "text": [
            "F1 Score - All - Cross Validation  :  [0.35555556 0.45544554 0.37254902]\n",
            "F1 Score - Mean - Cross Validation :  0.39451670657261806\n",
            "F1 Score - Std - Cross Validation  :  0.04363818609495469\n",
            "F1 Score - Range of Test-Set       :  0.3508785204776634 - 0.43815489266757274\n",
            "CPU times: user 96.4 ms, sys: 0 ns, total: 96.4 ms\n",
            "Wall time: 99.9 ms\n"
          ]
        }
      ]
    },
    {
      "cell_type": "code",
      "source": [
        "# Cek Performa Model\n",
        "\n",
        "y_pred_test_dt = dt.predict(X_test_final)\n",
        "\n",
        "print('F1 Score - Test Set   : ', f1_score(y_test, y_pred_test_dt), '\\n')\n",
        "print('Classification Report : \\n', classification_report(y_test, y_pred_test_dt), '\\n')\n",
        "print('Confusion Matrix      : \\n', ConfusionMatrixDisplay.from_estimator(dt, X_test_final, y_test, cmap='Reds'))"
      ],
      "metadata": {
        "outputId": "5e0077ff-8da8-4456-a695-a2febaf84989",
        "colab": {
          "base_uri": "https://localhost:8080/",
          "height": 539
        },
        "id": "dc2IpZzJIcA8"
      },
      "execution_count": 71,
      "outputs": [
        {
          "output_type": "stream",
          "name": "stdout",
          "text": [
            "F1 Score - Test Set   :  0.4060150375939849 \n",
            "\n",
            "Classification Report : \n",
            "               precision    recall  f1-score   support\n",
            "\n",
            "           0       0.84      0.81      0.83       468\n",
            "           1       0.38      0.43      0.41       125\n",
            "\n",
            "    accuracy                           0.73       593\n",
            "   macro avg       0.61      0.62      0.62       593\n",
            "weighted avg       0.75      0.73      0.74       593\n",
            " \n",
            "\n",
            "Confusion Matrix      : \n",
            " <sklearn.metrics._plot.confusion_matrix.ConfusionMatrixDisplay object at 0x7f8a6406c670>\n"
          ]
        },
        {
          "output_type": "display_data",
          "data": {
            "text/plain": [
              "<Figure size 432x288 with 2 Axes>"
            ],
            "image/png": "[encoded data removed]"
          },
          "metadata": {
            "needs_background": "light"
          }
        }
      ]
    },
    {
      "cell_type": "code",
      "source": [
        "# Tampilkan Hasil Uji Model\n",
        "\n",
        "all_reports = {}\n",
        "score_reports = {\n",
        "    'train - precision' : precision_score(y_train_trim, y_pred_train_dt),\n",
        "    'train - recall' : recall_score(y_train_trim, y_pred_train_dt),\n",
        "    'train - accuracy' : accuracy_score(y_train_trim, y_pred_train_dt),\n",
        "    'train - f1_score' : f1_score(y_train_trim, y_pred_train_dt),\n",
        "    'test - precision' : precision_score(y_test, y_pred_test_dt),\n",
        "    'test - recall' : recall_score(y_test, y_pred_test_dt),\n",
        "    'test - accuracy_score' : accuracy_score(y_test, y_pred_test_dt),\n",
        "    'test - f1_score' : f1_score(y_test, y_pred_test_dt),\n",
        "}\n",
        "all_reports['Baseline (Default Hyperparameter)'] = score_reports\n",
        "pd.DataFrame(all_reports)"
      ],
      "metadata": {
        "outputId": "73fe8da7-2fc0-42c8-9763-d5a9c62f833a",
        "colab": {
          "base_uri": "https://localhost:8080/",
          "height": 300
        },
        "id": "HiXNpUPWIcA8"
      },
      "execution_count": 72,
      "outputs": [
        {
          "output_type": "execute_result",
          "data": {
            "text/plain": [
              "                       Baseline (Default Hyperparameter)\n",
              "test - accuracy_score                           0.733558\n",
              "test - f1_score                                 0.406015\n",
              "test - precision                                0.382979\n",
              "test - recall                                   0.432000\n",
              "train - accuracy                                1.000000\n",
              "train - f1_score                                1.000000\n",
              "train - precision                               1.000000\n",
              "train - recall                                  1.000000"
            ],
            "text/html": [
              "\n",
              "  <div id=\"df-cdbddd52-c35f-42e2-aef5-69b1bbe84e13\">\n",
              "    <div class=\"colab-df-container\">\n",
              "      <div>\n",
              "<style scoped>\n",
              "    .dataframe tbody tr th:only-of-type {\n",
              "        vertical-align: middle;\n",
              "    }\n",
              "\n",
              "    .dataframe tbody tr th {\n",
              "        vertical-align: top;\n",
              "    }\n",
              "\n",
              "    .dataframe thead th {\n",
              "        text-align: right;\n",
              "    }\n",
              "</style>\n",
              "<table border=\"1\" class=\"dataframe\">\n",
              "  <thead>\n",
              "    <tr style=\"text-align: right;\">\n",
              "      <th></th>\n",
              "      <th>Baseline (Default Hyperparameter)</th>\n",
              "    </tr>\n",
              "  </thead>\n",
              "  <tbody>\n",
              "    <tr>\n",
              "      <th>test - accuracy_score</th>\n",
              "      <td>0.733558</td>\n",
              "    </tr>\n",
              "    <tr>\n",
              "      <th>test - f1_score</th>\n",
              "      <td>0.406015</td>\n",
              "    </tr>\n",
              "    <tr>\n",
              "      <th>test - precision</th>\n",
              "      <td>0.382979</td>\n",
              "    </tr>\n",
              "    <tr>\n",
              "      <th>test - recall</th>\n",
              "      <td>0.432000</td>\n",
              "    </tr>\n",
              "    <tr>\n",
              "      <th>train - accuracy</th>\n",
              "      <td>1.000000</td>\n",
              "    </tr>\n",
              "    <tr>\n",
              "      <th>train - f1_score</th>\n",
              "      <td>1.000000</td>\n",
              "    </tr>\n",
              "    <tr>\n",
              "      <th>train - precision</th>\n",
              "      <td>1.000000</td>\n",
              "    </tr>\n",
              "    <tr>\n",
              "      <th>train - recall</th>\n",
              "      <td>1.000000</td>\n",
              "    </tr>\n",
              "  </tbody>\n",
              "</table>\n",
              "</div>\n",
              "      <button class=\"colab-df-convert\" onclick=\"convertToInteractive('df-cdbddd52-c35f-42e2-aef5-69b1bbe84e13')\"\n",
              "              title=\"Convert this dataframe to an interactive table.\"\n",
              "              style=\"display:none;\">\n",
              "        \n",
              "  <svg xmlns=\"http://www.w3.org/2000/svg\" height=\"24px\"viewBox=\"0 0 24 24\"\n",
              "       width=\"24px\">\n",
              "    <path d=\"M0 0h24v24H0V0z\" fill=\"none\"/>\n",
              "    <path d=\"M18.56 5.44l.94 2.06.94-2.06 2.06-.94-2.06-.94-.94-2.06-.94 2.06-2.06.94zm-11 1L8.5 8.5l.94-2.06 2.06-.94-2.06-.94L8.5 2.5l-.94 2.06-2.06.94zm10 10l.94 2.06.94-2.06 2.06-.94-2.06-.94-.94-2.06-.94 2.06-2.06.94z\"/><path d=\"M17.41 7.96l-1.37-1.37c-.4-.4-.92-.59-1.43-.59-.52 0-1.04.2-1.43.59L10.3 9.45l-7.72 7.72c-.78.78-.78 2.05 0 2.83L4 21.41c.39.39.9.59 1.41.59.51 0 1.02-.2 1.41-.59l7.78-7.78 2.81-2.81c.8-.78.8-2.07 0-2.86zM5.41 20L4 18.59l7.72-7.72 1.47 1.35L5.41 20z\"/>\n",
              "  </svg>\n",
              "      </button>\n",
              "      \n",
              "  <style>\n",
              "    .colab-df-container {\n",
              "      display:flex;\n",
              "      flex-wrap:wrap;\n",
              "      gap: 12px;\n",
              "    }\n",
              "\n",
              "    .colab-df-convert {\n",
              "      background-color: #E8F0FE;\n",
              "      border: none;\n",
              "      border-radius: 50%;\n",
              "      cursor: pointer;\n",
              "      display: none;\n",
              "      fill: #1967D2;\n",
              "      height: 32px;\n",
              "      padding: 0 0 0 0;\n",
              "      width: 32px;\n",
              "    }\n",
              "\n",
              "    .colab-df-convert:hover {\n",
              "      background-color: #E2EBFA;\n",
              "      box-shadow: 0px 1px 2px rgba(60, 64, 67, 0.3), 0px 1px 3px 1px rgba(60, 64, 67, 0.15);\n",
              "      fill: #174EA6;\n",
              "    }\n",
              "\n",
              "    [theme=dark] .colab-df-convert {\n",
              "      background-color: #3B4455;\n",
              "      fill: #D2E3FC;\n",
              "    }\n",
              "\n",
              "    [theme=dark] .colab-df-convert:hover {\n",
              "      background-color: #434B5C;\n",
              "      box-shadow: 0px 1px 3px 1px rgba(0, 0, 0, 0.15);\n",
              "      filter: drop-shadow(0px 1px 2px rgba(0, 0, 0, 0.3));\n",
              "      fill: #FFFFFF;\n",
              "    }\n",
              "  </style>\n",
              "\n",
              "      <script>\n",
              "        const buttonEl =\n",
              "          document.querySelector('#df-cdbddd52-c35f-42e2-aef5-69b1bbe84e13 button.colab-df-convert');\n",
              "        buttonEl.style.display =\n",
              "          google.colab.kernel.accessAllowed ? 'block' : 'none';\n",
              "\n",
              "        async function convertToInteractive(key) {\n",
              "          const element = document.querySelector('#df-cdbddd52-c35f-42e2-aef5-69b1bbe84e13');\n",
              "          const dataTable =\n",
              "            await google.colab.kernel.invokeFunction('convertToInteractive',\n",
              "                                                     [key], {});\n",
              "          if (!dataTable) return;\n",
              "\n",
              "          const docLinkHtml = 'Like what you see? Visit the ' +\n",
              "            '<a target=\"_blank\" href=https://colab.research.google.com/notebooks/data_table.ipynb>data table notebook</a>'\n",
              "            + ' to learn more about interactive tables.';\n",
              "          element.innerHTML = '';\n",
              "          dataTable['output_type'] = 'display_data';\n",
              "          await google.colab.output.renderOutput(dataTable, element);\n",
              "          const docLink = document.createElement('div');\n",
              "          docLink.innerHTML = docLinkHtml;\n",
              "          element.appendChild(docLink);\n",
              "        }\n",
              "      </script>\n",
              "    </div>\n",
              "  </div>\n",
              "  "
            ]
          },
          "metadata": {},
          "execution_count": 72
        }
      ]
    },
    {
      "cell_type": "markdown",
      "source": [
        "> Dari informasi yang didapat, nilai f1-score train adalah 1.00 dan f1-score test adalah 0.406. Dari nilai f1-score dapat ditunjukkan bahwa model menggunakan baseline cederung overfit.\n",
        "\n",
        "> Nilai akurasi pada train dan test juga menunjukan perbedaan yang signifikan dengan 100% pada train dan 73.35% pada test."
      ],
      "metadata": {
        "id": "nHOhb9q38zra"
      }
    },
    {
      "cell_type": "markdown",
      "source": [
        "### Model Training Grid Search"
      ],
      "metadata": {
        "id": "33HhxWK9IcA8"
      }
    },
    {
      "cell_type": "code",
      "source": [
        "# Latih Dengan Grid Search Untuk Menentukan Hyperparameter Terbaik\n",
        "%%time\n",
        "param_grid = {\n",
        "              'criterion': ['gini', 'entropy'],  \n",
        "              'splitter' : ['best', 'random'],\n",
        "              'max_depth': [2, 3, 5, 10, 20, 40, 80, 100],\n",
        "              'min_samples_leaf': [5, 10, 20, 50, 100],     \n",
        "              }\n",
        "\n",
        "dt_gridcv = GridSearchCV(estimator=dt, \n",
        "                           param_grid=param_grid, \n",
        "                           cv=3, n_jobs=-1, verbose=2, scoring = \"f1\")\n",
        "\n",
        "\n",
        "dt_gridcv.fit(X_train_final, y_train_trim)\n"
      ],
      "metadata": {
        "outputId": "4a3b1775-e4c5-44fe-a1a0-c8daeef4a071",
        "colab": {
          "base_uri": "https://localhost:8080/",
          "height": 170
        },
        "id": "xGs_IU4dIcA8"
      },
      "execution_count": 73,
      "outputs": [
        {
          "output_type": "stream",
          "name": "stdout",
          "text": [
            "Fitting 3 folds for each of 160 candidates, totalling 480 fits\n",
            "CPU times: user 281 ms, sys: 15.6 ms, total: 297 ms\n",
            "Wall time: 5.44 s\n"
          ]
        },
        {
          "output_type": "execute_result",
          "data": {
            "text/plain": [
              "GridSearchCV(cv=3, estimator=DecisionTreeClassifier(), n_jobs=-1,\n",
              "             param_grid={'criterion': ['gini', 'entropy'],\n",
              "                         'max_depth': [2, 3, 5, 10, 20, 40, 80, 100],\n",
              "                         'min_samples_leaf': [5, 10, 20, 50, 100],\n",
              "                         'splitter': ['best', 'random']},\n",
              "             scoring='f1', verbose=2)"
            ],
            "text/html": [
              "<style>#sk-container-id-12 {color: black;background-color: white;}#sk-container-id-12 pre{padding: 0;}#sk-container-id-12 div.sk-toggleable {background-color: white;}#sk-container-id-12 label.sk-toggleable__label {cursor: pointer;display: block;width: 100%;margin-bottom: 0;padding: 0.3em;box-sizing: border-box;text-align: center;}#sk-container-id-12 label.sk-toggleable__label-arrow:before {content: \"▸\";float: left;margin-right: 0.25em;color: #696969;}#sk-container-id-12 label.sk-toggleable__label-arrow:hover:before {color: black;}#sk-container-id-12 div.sk-estimator:hover label.sk-toggleable__label-arrow:before {color: black;}#sk-container-id-12 div.sk-toggleable__content {max-height: 0;max-width: 0;overflow: hidden;text-align: left;background-color: #f0f8ff;}#sk-container-id-12 div.sk-toggleable__content pre {margin: 0.2em;color: black;border-radius: 0.25em;background-color: #f0f8ff;}#sk-container-id-12 input.sk-toggleable__control:checked~div.sk-toggleable__content {max-height: 200px;max-width: 100%;overflow: auto;}#sk-container-id-12 input.sk-toggleable__control:checked~label.sk-toggleable__label-arrow:before {content: \"▾\";}#sk-container-id-12 div.sk-estimator input.sk-toggleable__control:checked~label.sk-toggleable__label {background-color: #d4ebff;}#sk-container-id-12 div.sk-label input.sk-toggleable__control:checked~label.sk-toggleable__label {background-color: #d4ebff;}#sk-container-id-12 input.sk-hidden--visually {border: 0;clip: rect(1px 1px 1px 1px);clip: rect(1px, 1px, 1px, 1px);height: 1px;margin: -1px;overflow: hidden;padding: 0;position: absolute;width: 1px;}#sk-container-id-12 div.sk-estimator {font-family: monospace;background-color: #f0f8ff;border: 1px dotted black;border-radius: 0.25em;box-sizing: border-box;margin-bottom: 0.5em;}#sk-container-id-12 div.sk-estimator:hover {background-color: #d4ebff;}#sk-container-id-12 div.sk-parallel-item::after {content: \"\";width: 100%;border-bottom: 1px solid gray;flex-grow: 1;}#sk-container-id-12 div.sk-label:hover label.sk-toggleable__label {background-color: #d4ebff;}#sk-container-id-12 div.sk-serial::before {content: \"\";position: absolute;border-left: 1px solid gray;box-sizing: border-box;top: 0;bottom: 0;left: 50%;z-index: 0;}#sk-container-id-12 div.sk-serial {display: flex;flex-direction: column;align-items: center;background-color: white;padding-right: 0.2em;padding-left: 0.2em;position: relative;}#sk-container-id-12 div.sk-item {position: relative;z-index: 1;}#sk-container-id-12 div.sk-parallel {display: flex;align-items: stretch;justify-content: center;background-color: white;position: relative;}#sk-container-id-12 div.sk-item::before, #sk-container-id-12 div.sk-parallel-item::before {content: \"\";position: absolute;border-left: 1px solid gray;box-sizing: border-box;top: 0;bottom: 0;left: 50%;z-index: -1;}#sk-container-id-12 div.sk-parallel-item {display: flex;flex-direction: column;z-index: 1;position: relative;background-color: white;}#sk-container-id-12 div.sk-parallel-item:first-child::after {align-self: flex-end;width: 50%;}#sk-container-id-12 div.sk-parallel-item:last-child::after {align-self: flex-start;width: 50%;}#sk-container-id-12 div.sk-parallel-item:only-child::after {width: 0;}#sk-container-id-12 div.sk-dashed-wrapped {border: 1px dashed gray;margin: 0 0.4em 0.5em 0.4em;box-sizing: border-box;padding-bottom: 0.4em;background-color: white;}#sk-container-id-12 div.sk-label label {font-family: monospace;font-weight: bold;display: inline-block;line-height: 1.2em;}#sk-container-id-12 div.sk-label-container {text-align: center;}#sk-container-id-12 div.sk-container {/* jupyter's `normalize.less` sets `[hidden] { display: none; }` but bootstrap.min.css set `[hidden] { display: none !important; }` so we also need the `!important` here to be able to override the default hidden behavior on the sphinx rendered scikit-learn.org. See: https://github.com/scikit-learn/scikit-learn/issues/21755 */display: inline-block !important;position: relative;}#sk-container-id-12 div.sk-text-repr-fallback {display: none;}</style><div id=\"sk-container-id-12\" class=\"sk-top-container\"><div class=\"sk-text-repr-fallback\"><pre>GridSearchCV(cv=3, estimator=DecisionTreeClassifier(), n_jobs=-1,\n",
              "             param_grid={&#x27;criterion&#x27;: [&#x27;gini&#x27;, &#x27;entropy&#x27;],\n",
              "                         &#x27;max_depth&#x27;: [2, 3, 5, 10, 20, 40, 80, 100],\n",
              "                         &#x27;min_samples_leaf&#x27;: [5, 10, 20, 50, 100],\n",
              "                         &#x27;splitter&#x27;: [&#x27;best&#x27;, &#x27;random&#x27;]},\n",
              "             scoring=&#x27;f1&#x27;, verbose=2)</pre><b>In a Jupyter environment, please rerun this cell to show the HTML representation or trust the notebook. <br />On GitHub, the HTML representation is unable to render, please try loading this page with nbviewer.org.</b></div><div class=\"sk-container\" hidden><div class=\"sk-item sk-dashed-wrapped\"><div class=\"sk-label-container\"><div class=\"sk-label sk-toggleable\"><input class=\"sk-toggleable__control sk-hidden--visually\" id=\"sk-estimator-id-20\" type=\"checkbox\" ><label for=\"sk-estimator-id-20\" class=\"sk-toggleable__label sk-toggleable__label-arrow\">GridSearchCV</label><div class=\"sk-toggleable__content\"><pre>GridSearchCV(cv=3, estimator=DecisionTreeClassifier(), n_jobs=-1,\n",
              "             param_grid={&#x27;criterion&#x27;: [&#x27;gini&#x27;, &#x27;entropy&#x27;],\n",
              "                         &#x27;max_depth&#x27;: [2, 3, 5, 10, 20, 40, 80, 100],\n",
              "                         &#x27;min_samples_leaf&#x27;: [5, 10, 20, 50, 100],\n",
              "                         &#x27;splitter&#x27;: [&#x27;best&#x27;, &#x27;random&#x27;]},\n",
              "             scoring=&#x27;f1&#x27;, verbose=2)</pre></div></div></div><div class=\"sk-parallel\"><div class=\"sk-parallel-item\"><div class=\"sk-item\"><div class=\"sk-label-container\"><div class=\"sk-label sk-toggleable\"><input class=\"sk-toggleable__control sk-hidden--visually\" id=\"sk-estimator-id-21\" type=\"checkbox\" ><label for=\"sk-estimator-id-21\" class=\"sk-toggleable__label sk-toggleable__label-arrow\">estimator: DecisionTreeClassifier</label><div class=\"sk-toggleable__content\"><pre>DecisionTreeClassifier()</pre></div></div></div><div class=\"sk-serial\"><div class=\"sk-item\"><div class=\"sk-estimator sk-toggleable\"><input class=\"sk-toggleable__control sk-hidden--visually\" id=\"sk-estimator-id-22\" type=\"checkbox\" ><label for=\"sk-estimator-id-22\" class=\"sk-toggleable__label sk-toggleable__label-arrow\">DecisionTreeClassifier</label><div class=\"sk-toggleable__content\"><pre>DecisionTreeClassifier()</pre></div></div></div></div></div></div></div></div></div></div>"
            ]
          },
          "metadata": {},
          "execution_count": 73
        }
      ]
    },
    {
      "cell_type": "markdown",
      "source": [
        "> Melakukan training data pada data train menggunakan grid search dengan hyperparam yang ditenutkan adalah criterion, splitter, max_depth dan mn _samples_leaf."
      ],
      "metadata": {
        "id": "H0EneilP9bWw"
      }
    },
    {
      "cell_type": "code",
      "source": [
        "# Menampilkan Hyperparameters Terbaik Pada decission tree\n",
        "dt_gridcv.best_estimator_"
      ],
      "metadata": {
        "outputId": "9926a720-b276-40b6-e0fd-935d0c576e03",
        "colab": {
          "base_uri": "https://localhost:8080/",
          "height": 75
        },
        "id": "KrX4AQcvIcA8"
      },
      "execution_count": 74,
      "outputs": [
        {
          "output_type": "execute_result",
          "data": {
            "text/plain": [
              "DecisionTreeClassifier(max_depth=3, min_samples_leaf=10, splitter='random')"
            ],
            "text/html": [
              "<style>#sk-container-id-13 {color: black;background-color: white;}#sk-container-id-13 pre{padding: 0;}#sk-container-id-13 div.sk-toggleable {background-color: white;}#sk-container-id-13 label.sk-toggleable__label {cursor: pointer;display: block;width: 100%;margin-bottom: 0;padding: 0.3em;box-sizing: border-box;text-align: center;}#sk-container-id-13 label.sk-toggleable__label-arrow:before {content: \"▸\";float: left;margin-right: 0.25em;color: #696969;}#sk-container-id-13 label.sk-toggleable__label-arrow:hover:before {color: black;}#sk-container-id-13 div.sk-estimator:hover label.sk-toggleable__label-arrow:before {color: black;}#sk-container-id-13 div.sk-toggleable__content {max-height: 0;max-width: 0;overflow: hidden;text-align: left;background-color: #f0f8ff;}#sk-container-id-13 div.sk-toggleable__content pre {margin: 0.2em;color: black;border-radius: 0.25em;background-color: #f0f8ff;}#sk-container-id-13 input.sk-toggleable__control:checked~div.sk-toggleable__content {max-height: 200px;max-width: 100%;overflow: auto;}#sk-container-id-13 input.sk-toggleable__control:checked~label.sk-toggleable__label-arrow:before {content: \"▾\";}#sk-container-id-13 div.sk-estimator input.sk-toggleable__control:checked~label.sk-toggleable__label {background-color: #d4ebff;}#sk-container-id-13 div.sk-label input.sk-toggleable__control:checked~label.sk-toggleable__label {background-color: #d4ebff;}#sk-container-id-13 input.sk-hidden--visually {border: 0;clip: rect(1px 1px 1px 1px);clip: rect(1px, 1px, 1px, 1px);height: 1px;margin: -1px;overflow: hidden;padding: 0;position: absolute;width: 1px;}#sk-container-id-13 div.sk-estimator {font-family: monospace;background-color: #f0f8ff;border: 1px dotted black;border-radius: 0.25em;box-sizing: border-box;margin-bottom: 0.5em;}#sk-container-id-13 div.sk-estimator:hover {background-color: #d4ebff;}#sk-container-id-13 div.sk-parallel-item::after {content: \"\";width: 100%;border-bottom: 1px solid gray;flex-grow: 1;}#sk-container-id-13 div.sk-label:hover label.sk-toggleable__label {background-color: #d4ebff;}#sk-container-id-13 div.sk-serial::before {content: \"\";position: absolute;border-left: 1px solid gray;box-sizing: border-box;top: 0;bottom: 0;left: 50%;z-index: 0;}#sk-container-id-13 div.sk-serial {display: flex;flex-direction: column;align-items: center;background-color: white;padding-right: 0.2em;padding-left: 0.2em;position: relative;}#sk-container-id-13 div.sk-item {position: relative;z-index: 1;}#sk-container-id-13 div.sk-parallel {display: flex;align-items: stretch;justify-content: center;background-color: white;position: relative;}#sk-container-id-13 div.sk-item::before, #sk-container-id-13 div.sk-parallel-item::before {content: \"\";position: absolute;border-left: 1px solid gray;box-sizing: border-box;top: 0;bottom: 0;left: 50%;z-index: -1;}#sk-container-id-13 div.sk-parallel-item {display: flex;flex-direction: column;z-index: 1;position: relative;background-color: white;}#sk-container-id-13 div.sk-parallel-item:first-child::after {align-self: flex-end;width: 50%;}#sk-container-id-13 div.sk-parallel-item:last-child::after {align-self: flex-start;width: 50%;}#sk-container-id-13 div.sk-parallel-item:only-child::after {width: 0;}#sk-container-id-13 div.sk-dashed-wrapped {border: 1px dashed gray;margin: 0 0.4em 0.5em 0.4em;box-sizing: border-box;padding-bottom: 0.4em;background-color: white;}#sk-container-id-13 div.sk-label label {font-family: monospace;font-weight: bold;display: inline-block;line-height: 1.2em;}#sk-container-id-13 div.sk-label-container {text-align: center;}#sk-container-id-13 div.sk-container {/* jupyter's `normalize.less` sets `[hidden] { display: none; }` but bootstrap.min.css set `[hidden] { display: none !important; }` so we also need the `!important` here to be able to override the default hidden behavior on the sphinx rendered scikit-learn.org. See: https://github.com/scikit-learn/scikit-learn/issues/21755 */display: inline-block !important;position: relative;}#sk-container-id-13 div.sk-text-repr-fallback {display: none;}</style><div id=\"sk-container-id-13\" class=\"sk-top-container\"><div class=\"sk-text-repr-fallback\"><pre>DecisionTreeClassifier(max_depth=3, min_samples_leaf=10, splitter=&#x27;random&#x27;)</pre><b>In a Jupyter environment, please rerun this cell to show the HTML representation or trust the notebook. <br />On GitHub, the HTML representation is unable to render, please try loading this page with nbviewer.org.</b></div><div class=\"sk-container\" hidden><div class=\"sk-item\"><div class=\"sk-estimator sk-toggleable\"><input class=\"sk-toggleable__control sk-hidden--visually\" id=\"sk-estimator-id-23\" type=\"checkbox\" checked><label for=\"sk-estimator-id-23\" class=\"sk-toggleable__label sk-toggleable__label-arrow\">DecisionTreeClassifier</label><div class=\"sk-toggleable__content\"><pre>DecisionTreeClassifier(max_depth=3, min_samples_leaf=10, splitter=&#x27;random&#x27;)</pre></div></div></div></div></div>"
            ]
          },
          "metadata": {},
          "execution_count": 74
        }
      ]
    },
    {
      "cell_type": "code",
      "source": [
        "dt_gridcv.best_params_"
      ],
      "metadata": {
        "outputId": "ebcf0afe-a81a-4c6c-a638-d51edb4a5b23",
        "colab": {
          "base_uri": "https://localhost:8080/"
        },
        "id": "xzOJaAMvIcA8"
      },
      "execution_count": 75,
      "outputs": [
        {
          "output_type": "execute_result",
          "data": {
            "text/plain": [
              "{'criterion': 'gini',\n",
              " 'max_depth': 3,\n",
              " 'min_samples_leaf': 10,\n",
              " 'splitter': 'random'}"
            ]
          },
          "metadata": {},
          "execution_count": 75
        }
      ]
    },
    {
      "cell_type": "markdown",
      "source": [
        "> Setelah dilatih, ditemukan hyperparameter terbaik menggunakan grid serach yaitu dengan criterion menggunakan gini, max_depth bernilai 3, min_sample_leaf bernilai 10 dan splitter menggunakan random split."
      ],
      "metadata": {
        "id": "4qliZ8-D9vbH"
      }
    },
    {
      "cell_type": "code",
      "source": [
        "# Menyimpan Hyperparameter terbaik Untuk Uji Untuk Uji Data pada Variabel dt_gridcv_best\n",
        "\n",
        "dt_gridcv_best = dt_gridcv.best_estimator_"
      ],
      "metadata": {
        "id": "d3qDW5-wIcA8"
      },
      "execution_count": 76,
      "outputs": []
    },
    {
      "cell_type": "markdown",
      "source": [
        "### Model Evaluation Grid Search"
      ],
      "metadata": {
        "id": "EBSSoxaYIcA8"
      }
    },
    {
      "cell_type": "code",
      "source": [
        "# Cek Performa Model Menggunakan Hyperparameter Terbaik\n",
        "\n",
        "y_pred_test_dt_grid = dt_gridcv_best.predict(X_test_final)\n",
        "\n",
        "print('F1 Score - Test Set   : ', f1_score(y_test, y_pred_test_dt_grid), '\\n')\n",
        "print('Classification Report : \\n', classification_report(y_test, y_pred_test_dt_grid), '\\n')\n",
        "print('Confusion Matrix      : \\n', ConfusionMatrixDisplay.from_estimator(dt_gridcv_best, X_test_final, y_test, cmap='Reds'))"
      ],
      "metadata": {
        "outputId": "0512fbcb-b0d5-4ea1-eeb7-6db7293e8dd9",
        "colab": {
          "base_uri": "https://localhost:8080/",
          "height": 539
        },
        "id": "7fz7gXs8IcA8"
      },
      "execution_count": 77,
      "outputs": [
        {
          "output_type": "stream",
          "name": "stdout",
          "text": [
            "F1 Score - Test Set   :  0.4680851063829786 \n",
            "\n",
            "Classification Report : \n",
            "               precision    recall  f1-score   support\n",
            "\n",
            "           0       0.85      0.96      0.90       468\n",
            "           1       0.70      0.35      0.47       125\n",
            "\n",
            "    accuracy                           0.83       593\n",
            "   macro avg       0.77      0.66      0.68       593\n",
            "weighted avg       0.82      0.83      0.81       593\n",
            " \n",
            "\n",
            "Confusion Matrix      : \n",
            " <sklearn.metrics._plot.confusion_matrix.ConfusionMatrixDisplay object at 0x7f8a5f410310>\n"
          ]
        },
        {
          "output_type": "display_data",
          "data": {
            "text/plain": [
              "<Figure size 432x288 with 2 Axes>"
            ],
            "image/png": "[encoded data removed]"
          },
          "metadata": {
            "needs_background": "light"
          }
        }
      ]
    },
    {
      "cell_type": "markdown",
      "source": [
        "> Hyperparameter yang didapat diujikan pada data test dan menghasilkan f1-score test bernilai 0.47 da nakurasi 0.83 atau 83%"
      ],
      "metadata": {
        "id": "x3CS4DCn-Ek_"
      }
    },
    {
      "cell_type": "code",
      "source": [
        "# Save Classification Report into a Dictionary\n",
        "\n",
        "score_reports = {\n",
        "    'train - precision' : precision_score(y_train_trim, y_pred_train_dt),\n",
        "    'train - recall' : recall_score(y_train_trim, y_pred_train_dt),\n",
        "    'train - accuracy' : accuracy_score(y_train_trim, y_pred_train_dt),\n",
        "    'train - f1_score' : f1_score(y_train_trim, y_pred_train_dt),\n",
        "    'test - precision' : precision_score(y_test, y_pred_test_dt_grid),\n",
        "    'test - recall' : recall_score(y_test, y_pred_test_dt_grid),\n",
        "    'test - accuracy_score' : accuracy_score(y_test, y_pred_test_dt_grid),\n",
        "    'test - f1_score' : f1_score(y_test, y_pred_test_dt_grid),\n",
        "}\n",
        "all_reports['Grid Search'] = score_reports\n",
        "pd.DataFrame(all_reports)"
      ],
      "metadata": {
        "outputId": "4c817928-de12-4609-9410-4a18f30f3b42",
        "colab": {
          "base_uri": "https://localhost:8080/",
          "height": 300
        },
        "id": "l3MDZQj5IcA8"
      },
      "execution_count": 78,
      "outputs": [
        {
          "output_type": "execute_result",
          "data": {
            "text/plain": [
              "                       Baseline (Default Hyperparameter)  Grid Search\n",
              "train - precision                               1.000000     1.000000\n",
              "train - recall                                  1.000000     1.000000\n",
              "train - accuracy                                1.000000     1.000000\n",
              "train - f1_score                                1.000000     1.000000\n",
              "test - precision                                0.382979     0.698413\n",
              "test - recall                                   0.432000     0.352000\n",
              "test - accuracy_score                           0.733558     0.831366\n",
              "test - f1_score                                 0.406015     0.468085"
            ],
            "text/html": [
              "\n",
              "  <div id=\"df-16882678-1f1e-48e7-9a50-6473adc652bf\">\n",
              "    <div class=\"colab-df-container\">\n",
              "      <div>\n",
              "<style scoped>\n",
              "    .dataframe tbody tr th:only-of-type {\n",
              "        vertical-align: middle;\n",
              "    }\n",
              "\n",
              "    .dataframe tbody tr th {\n",
              "        vertical-align: top;\n",
              "    }\n",
              "\n",
              "    .dataframe thead th {\n",
              "        text-align: right;\n",
              "    }\n",
              "</style>\n",
              "<table border=\"1\" class=\"dataframe\">\n",
              "  <thead>\n",
              "    <tr style=\"text-align: right;\">\n",
              "      <th></th>\n",
              "      <th>Baseline (Default Hyperparameter)</th>\n",
              "      <th>Grid Search</th>\n",
              "    </tr>\n",
              "  </thead>\n",
              "  <tbody>\n",
              "    <tr>\n",
              "      <th>train - precision</th>\n",
              "      <td>1.000000</td>\n",
              "      <td>1.000000</td>\n",
              "    </tr>\n",
              "    <tr>\n",
              "      <th>train - recall</th>\n",
              "      <td>1.000000</td>\n",
              "      <td>1.000000</td>\n",
              "    </tr>\n",
              "    <tr>\n",
              "      <th>train - accuracy</th>\n",
              "      <td>1.000000</td>\n",
              "      <td>1.000000</td>\n",
              "    </tr>\n",
              "    <tr>\n",
              "      <th>train - f1_score</th>\n",
              "      <td>1.000000</td>\n",
              "      <td>1.000000</td>\n",
              "    </tr>\n",
              "    <tr>\n",
              "      <th>test - precision</th>\n",
              "      <td>0.382979</td>\n",
              "      <td>0.698413</td>\n",
              "    </tr>\n",
              "    <tr>\n",
              "      <th>test - recall</th>\n",
              "      <td>0.432000</td>\n",
              "      <td>0.352000</td>\n",
              "    </tr>\n",
              "    <tr>\n",
              "      <th>test - accuracy_score</th>\n",
              "      <td>0.733558</td>\n",
              "      <td>0.831366</td>\n",
              "    </tr>\n",
              "    <tr>\n",
              "      <th>test - f1_score</th>\n",
              "      <td>0.406015</td>\n",
              "      <td>0.468085</td>\n",
              "    </tr>\n",
              "  </tbody>\n",
              "</table>\n",
              "</div>\n",
              "      <button class=\"colab-df-convert\" onclick=\"convertToInteractive('df-16882678-1f1e-48e7-9a50-6473adc652bf')\"\n",
              "              title=\"Convert this dataframe to an interactive table.\"\n",
              "              style=\"display:none;\">\n",
              "        \n",
              "  <svg xmlns=\"http://www.w3.org/2000/svg\" height=\"24px\"viewBox=\"0 0 24 24\"\n",
              "       width=\"24px\">\n",
              "    <path d=\"M0 0h24v24H0V0z\" fill=\"none\"/>\n",
              "    <path d=\"M18.56 5.44l.94 2.06.94-2.06 2.06-.94-2.06-.94-.94-2.06-.94 2.06-2.06.94zm-11 1L8.5 8.5l.94-2.06 2.06-.94-2.06-.94L8.5 2.5l-.94 2.06-2.06.94zm10 10l.94 2.06.94-2.06 2.06-.94-2.06-.94-.94-2.06-.94 2.06-2.06.94z\"/><path d=\"M17.41 7.96l-1.37-1.37c-.4-.4-.92-.59-1.43-.59-.52 0-1.04.2-1.43.59L10.3 9.45l-7.72 7.72c-.78.78-.78 2.05 0 2.83L4 21.41c.39.39.9.59 1.41.59.51 0 1.02-.2 1.41-.59l7.78-7.78 2.81-2.81c.8-.78.8-2.07 0-2.86zM5.41 20L4 18.59l7.72-7.72 1.47 1.35L5.41 20z\"/>\n",
              "  </svg>\n",
              "      </button>\n",
              "      \n",
              "  <style>\n",
              "    .colab-df-container {\n",
              "      display:flex;\n",
              "      flex-wrap:wrap;\n",
              "      gap: 12px;\n",
              "    }\n",
              "\n",
              "    .colab-df-convert {\n",
              "      background-color: #E8F0FE;\n",
              "      border: none;\n",
              "      border-radius: 50%;\n",
              "      cursor: pointer;\n",
              "      display: none;\n",
              "      fill: #1967D2;\n",
              "      height: 32px;\n",
              "      padding: 0 0 0 0;\n",
              "      width: 32px;\n",
              "    }\n",
              "\n",
              "    .colab-df-convert:hover {\n",
              "      background-color: #E2EBFA;\n",
              "      box-shadow: 0px 1px 2px rgba(60, 64, 67, 0.3), 0px 1px 3px 1px rgba(60, 64, 67, 0.15);\n",
              "      fill: #174EA6;\n",
              "    }\n",
              "\n",
              "    [theme=dark] .colab-df-convert {\n",
              "      background-color: #3B4455;\n",
              "      fill: #D2E3FC;\n",
              "    }\n",
              "\n",
              "    [theme=dark] .colab-df-convert:hover {\n",
              "      background-color: #434B5C;\n",
              "      box-shadow: 0px 1px 3px 1px rgba(0, 0, 0, 0.15);\n",
              "      filter: drop-shadow(0px 1px 2px rgba(0, 0, 0, 0.3));\n",
              "      fill: #FFFFFF;\n",
              "    }\n",
              "  </style>\n",
              "\n",
              "      <script>\n",
              "        const buttonEl =\n",
              "          document.querySelector('#df-16882678-1f1e-48e7-9a50-6473adc652bf button.colab-df-convert');\n",
              "        buttonEl.style.display =\n",
              "          google.colab.kernel.accessAllowed ? 'block' : 'none';\n",
              "\n",
              "        async function convertToInteractive(key) {\n",
              "          const element = document.querySelector('#df-16882678-1f1e-48e7-9a50-6473adc652bf');\n",
              "          const dataTable =\n",
              "            await google.colab.kernel.invokeFunction('convertToInteractive',\n",
              "                                                     [key], {});\n",
              "          if (!dataTable) return;\n",
              "\n",
              "          const docLinkHtml = 'Like what you see? Visit the ' +\n",
              "            '<a target=\"_blank\" href=https://colab.research.google.com/notebooks/data_table.ipynb>data table notebook</a>'\n",
              "            + ' to learn more about interactive tables.';\n",
              "          element.innerHTML = '';\n",
              "          dataTable['output_type'] = 'display_data';\n",
              "          await google.colab.output.renderOutput(dataTable, element);\n",
              "          const docLink = document.createElement('div');\n",
              "          docLink.innerHTML = docLinkHtml;\n",
              "          element.appendChild(docLink);\n",
              "        }\n",
              "      </script>\n",
              "    </div>\n",
              "  </div>\n",
              "  "
            ]
          },
          "metadata": {},
          "execution_count": 78
        }
      ]
    },
    {
      "cell_type": "markdown",
      "source": [
        "> Hyperparameter yang ditemukan menggunakangrid search menghasilkan nilai f1-score pada train senilai 1 dan pada test senilai 0.468. Nilai tersebut menunjjukan bahwa data cenderung overfit."
      ],
      "metadata": {
        "id": "-DaSrVOD-X8z"
      }
    },
    {
      "cell_type": "markdown",
      "source": [
        "### Model Training Random Search"
      ],
      "metadata": {
        "id": "w34Znc6_IcA8"
      }
    },
    {
      "cell_type": "code",
      "source": [
        "random_grid_dt = {'criterion': ['gini', 'entropy'],  \n",
        "              'splitter' : ['best', 'random'],\n",
        "              'max_depth': [2, 3, 5, 10, 20, 40, 80, 100],\n",
        "              'min_samples_leaf': [5, 10, 20, 50, 100]\n",
        "               }\n",
        "random_grid_dt"
      ],
      "metadata": {
        "outputId": "221694e8-c473-4bfb-ff76-3ed38559a687",
        "colab": {
          "base_uri": "https://localhost:8080/"
        },
        "id": "bJXfmzLmIcA9"
      },
      "execution_count": 79,
      "outputs": [
        {
          "output_type": "execute_result",
          "data": {
            "text/plain": [
              "{'criterion': ['gini', 'entropy'],\n",
              " 'splitter': ['best', 'random'],\n",
              " 'max_depth': [2, 3, 5, 10, 20, 40, 80, 100],\n",
              " 'min_samples_leaf': [5, 10, 20, 50, 100]}"
            ]
          },
          "metadata": {},
          "execution_count": 79
        }
      ]
    },
    {
      "cell_type": "markdown",
      "source": [
        "> Pada random grid decision tree, hyperparameter yang digunakan adalah C, splitter, max_depth dan min_sample_leaf."
      ],
      "metadata": {
        "id": "Ag9imgY1-xNc"
      }
    },
    {
      "cell_type": "code",
      "source": [
        "# Train with Random Search\n",
        "%%time\n",
        "\n",
        "dt_randomcv = RandomizedSearchCV(estimator=DecisionTreeClassifier(),\n",
        "                         param_distributions=random_grid_dt,\n",
        "                         cv=3,\n",
        "                         n_jobs=-1,\n",
        "                         verbose=2, \n",
        "                         scoring='f1')\n",
        "dt_randomcv.fit(X_train_final, y_train_trim)"
      ],
      "metadata": {
        "outputId": "a456880d-bdef-45b4-b547-f4edc559dd4e",
        "colab": {
          "base_uri": "https://localhost:8080/",
          "height": 170
        },
        "id": "EwDkh1PVIcA9"
      },
      "execution_count": 80,
      "outputs": [
        {
          "output_type": "stream",
          "name": "stdout",
          "text": [
            "Fitting 3 folds for each of 10 candidates, totalling 30 fits\n",
            "CPU times: user 60.4 ms, sys: 1.31 ms, total: 61.7 ms\n",
            "Wall time: 454 ms\n"
          ]
        },
        {
          "output_type": "execute_result",
          "data": {
            "text/plain": [
              "RandomizedSearchCV(cv=3, estimator=DecisionTreeClassifier(), n_jobs=-1,\n",
              "                   param_distributions={'criterion': ['gini', 'entropy'],\n",
              "                                        'max_depth': [2, 3, 5, 10, 20, 40, 80,\n",
              "                                                      100],\n",
              "                                        'min_samples_leaf': [5, 10, 20, 50,\n",
              "                                                             100],\n",
              "                                        'splitter': ['best', 'random']},\n",
              "                   scoring='f1', verbose=2)"
            ],
            "text/html": [
              "<style>#sk-container-id-14 {color: black;background-color: white;}#sk-container-id-14 pre{padding: 0;}#sk-container-id-14 div.sk-toggleable {background-color: white;}#sk-container-id-14 label.sk-toggleable__label {cursor: pointer;display: block;width: 100%;margin-bottom: 0;padding: 0.3em;box-sizing: border-box;text-align: center;}#sk-container-id-14 label.sk-toggleable__label-arrow:before {content: \"▸\";float: left;margin-right: 0.25em;color: #696969;}#sk-container-id-14 label.sk-toggleable__label-arrow:hover:before {color: black;}#sk-container-id-14 div.sk-estimator:hover label.sk-toggleable__label-arrow:before {color: black;}#sk-container-id-14 div.sk-toggleable__content {max-height: 0;max-width: 0;overflow: hidden;text-align: left;background-color: #f0f8ff;}#sk-container-id-14 div.sk-toggleable__content pre {margin: 0.2em;color: black;border-radius: 0.25em;background-color: #f0f8ff;}#sk-container-id-14 input.sk-toggleable__control:checked~div.sk-toggleable__content {max-height: 200px;max-width: 100%;overflow: auto;}#sk-container-id-14 input.sk-toggleable__control:checked~label.sk-toggleable__label-arrow:before {content: \"▾\";}#sk-container-id-14 div.sk-estimator input.sk-toggleable__control:checked~label.sk-toggleable__label {background-color: #d4ebff;}#sk-container-id-14 div.sk-label input.sk-toggleable__control:checked~label.sk-toggleable__label {background-color: #d4ebff;}#sk-container-id-14 input.sk-hidden--visually {border: 0;clip: rect(1px 1px 1px 1px);clip: rect(1px, 1px, 1px, 1px);height: 1px;margin: -1px;overflow: hidden;padding: 0;position: absolute;width: 1px;}#sk-container-id-14 div.sk-estimator {font-family: monospace;background-color: #f0f8ff;border: 1px dotted black;border-radius: 0.25em;box-sizing: border-box;margin-bottom: 0.5em;}#sk-container-id-14 div.sk-estimator:hover {background-color: #d4ebff;}#sk-container-id-14 div.sk-parallel-item::after {content: \"\";width: 100%;border-bottom: 1px solid gray;flex-grow: 1;}#sk-container-id-14 div.sk-label:hover label.sk-toggleable__label {background-color: #d4ebff;}#sk-container-id-14 div.sk-serial::before {content: \"\";position: absolute;border-left: 1px solid gray;box-sizing: border-box;top: 0;bottom: 0;left: 50%;z-index: 0;}#sk-container-id-14 div.sk-serial {display: flex;flex-direction: column;align-items: center;background-color: white;padding-right: 0.2em;padding-left: 0.2em;position: relative;}#sk-container-id-14 div.sk-item {position: relative;z-index: 1;}#sk-container-id-14 div.sk-parallel {display: flex;align-items: stretch;justify-content: center;background-color: white;position: relative;}#sk-container-id-14 div.sk-item::before, #sk-container-id-14 div.sk-parallel-item::before {content: \"\";position: absolute;border-left: 1px solid gray;box-sizing: border-box;top: 0;bottom: 0;left: 50%;z-index: -1;}#sk-container-id-14 div.sk-parallel-item {display: flex;flex-direction: column;z-index: 1;position: relative;background-color: white;}#sk-container-id-14 div.sk-parallel-item:first-child::after {align-self: flex-end;width: 50%;}#sk-container-id-14 div.sk-parallel-item:last-child::after {align-self: flex-start;width: 50%;}#sk-container-id-14 div.sk-parallel-item:only-child::after {width: 0;}#sk-container-id-14 div.sk-dashed-wrapped {border: 1px dashed gray;margin: 0 0.4em 0.5em 0.4em;box-sizing: border-box;padding-bottom: 0.4em;background-color: white;}#sk-container-id-14 div.sk-label label {font-family: monospace;font-weight: bold;display: inline-block;line-height: 1.2em;}#sk-container-id-14 div.sk-label-container {text-align: center;}#sk-container-id-14 div.sk-container {/* jupyter's `normalize.less` sets `[hidden] { display: none; }` but bootstrap.min.css set `[hidden] { display: none !important; }` so we also need the `!important` here to be able to override the default hidden behavior on the sphinx rendered scikit-learn.org. See: https://github.com/scikit-learn/scikit-learn/issues/21755 */display: inline-block !important;position: relative;}#sk-container-id-14 div.sk-text-repr-fallback {display: none;}</style><div id=\"sk-container-id-14\" class=\"sk-top-container\"><div class=\"sk-text-repr-fallback\"><pre>RandomizedSearchCV(cv=3, estimator=DecisionTreeClassifier(), n_jobs=-1,\n",
              "                   param_distributions={&#x27;criterion&#x27;: [&#x27;gini&#x27;, &#x27;entropy&#x27;],\n",
              "                                        &#x27;max_depth&#x27;: [2, 3, 5, 10, 20, 40, 80,\n",
              "                                                      100],\n",
              "                                        &#x27;min_samples_leaf&#x27;: [5, 10, 20, 50,\n",
              "                                                             100],\n",
              "                                        &#x27;splitter&#x27;: [&#x27;best&#x27;, &#x27;random&#x27;]},\n",
              "                   scoring=&#x27;f1&#x27;, verbose=2)</pre><b>In a Jupyter environment, please rerun this cell to show the HTML representation or trust the notebook. <br />On GitHub, the HTML representation is unable to render, please try loading this page with nbviewer.org.</b></div><div class=\"sk-container\" hidden><div class=\"sk-item sk-dashed-wrapped\"><div class=\"sk-label-container\"><div class=\"sk-label sk-toggleable\"><input class=\"sk-toggleable__control sk-hidden--visually\" id=\"sk-estimator-id-24\" type=\"checkbox\" ><label for=\"sk-estimator-id-24\" class=\"sk-toggleable__label sk-toggleable__label-arrow\">RandomizedSearchCV</label><div class=\"sk-toggleable__content\"><pre>RandomizedSearchCV(cv=3, estimator=DecisionTreeClassifier(), n_jobs=-1,\n",
              "                   param_distributions={&#x27;criterion&#x27;: [&#x27;gini&#x27;, &#x27;entropy&#x27;],\n",
              "                                        &#x27;max_depth&#x27;: [2, 3, 5, 10, 20, 40, 80,\n",
              "                                                      100],\n",
              "                                        &#x27;min_samples_leaf&#x27;: [5, 10, 20, 50,\n",
              "                                                             100],\n",
              "                                        &#x27;splitter&#x27;: [&#x27;best&#x27;, &#x27;random&#x27;]},\n",
              "                   scoring=&#x27;f1&#x27;, verbose=2)</pre></div></div></div><div class=\"sk-parallel\"><div class=\"sk-parallel-item\"><div class=\"sk-item\"><div class=\"sk-label-container\"><div class=\"sk-label sk-toggleable\"><input class=\"sk-toggleable__control sk-hidden--visually\" id=\"sk-estimator-id-25\" type=\"checkbox\" ><label for=\"sk-estimator-id-25\" class=\"sk-toggleable__label sk-toggleable__label-arrow\">estimator: DecisionTreeClassifier</label><div class=\"sk-toggleable__content\"><pre>DecisionTreeClassifier()</pre></div></div></div><div class=\"sk-serial\"><div class=\"sk-item\"><div class=\"sk-estimator sk-toggleable\"><input class=\"sk-toggleable__control sk-hidden--visually\" id=\"sk-estimator-id-26\" type=\"checkbox\" ><label for=\"sk-estimator-id-26\" class=\"sk-toggleable__label sk-toggleable__label-arrow\">DecisionTreeClassifier</label><div class=\"sk-toggleable__content\"><pre>DecisionTreeClassifier()</pre></div></div></div></div></div></div></div></div></div></div>"
            ]
          },
          "metadata": {},
          "execution_count": 80
        }
      ]
    },
    {
      "cell_type": "markdown",
      "source": [
        "> Parametert yang ada dilatih pada data latih untuk mendapatkan nilai akurasi dan melakukan pembelajaran model selain itu juga untuk mencari hyperparameter terbaik yang dicari menggunakan  random search."
      ],
      "metadata": {
        "id": "aKKpEYSj_A0X"
      }
    },
    {
      "cell_type": "code",
      "source": [
        "# Menampilkan Hyperparameters Terbaik Pada decision tree\n",
        "dt_randomcv.best_estimator_"
      ],
      "metadata": {
        "outputId": "8e322cb5-e717-4d27-b5c4-283e251ad6f8",
        "colab": {
          "base_uri": "https://localhost:8080/",
          "height": 75
        },
        "id": "CCjDgWazIcA9"
      },
      "execution_count": 81,
      "outputs": [
        {
          "output_type": "execute_result",
          "data": {
            "text/plain": [
              "DecisionTreeClassifier(max_depth=10, min_samples_leaf=20, splitter='random')"
            ],
            "text/html": [
              "<style>#sk-container-id-15 {color: black;background-color: white;}#sk-container-id-15 pre{padding: 0;}#sk-container-id-15 div.sk-toggleable {background-color: white;}#sk-container-id-15 label.sk-toggleable__label {cursor: pointer;display: block;width: 100%;margin-bottom: 0;padding: 0.3em;box-sizing: border-box;text-align: center;}#sk-container-id-15 label.sk-toggleable__label-arrow:before {content: \"▸\";float: left;margin-right: 0.25em;color: #696969;}#sk-container-id-15 label.sk-toggleable__label-arrow:hover:before {color: black;}#sk-container-id-15 div.sk-estimator:hover label.sk-toggleable__label-arrow:before {color: black;}#sk-container-id-15 div.sk-toggleable__content {max-height: 0;max-width: 0;overflow: hidden;text-align: left;background-color: #f0f8ff;}#sk-container-id-15 div.sk-toggleable__content pre {margin: 0.2em;color: black;border-radius: 0.25em;background-color: #f0f8ff;}#sk-container-id-15 input.sk-toggleable__control:checked~div.sk-toggleable__content {max-height: 200px;max-width: 100%;overflow: auto;}#sk-container-id-15 input.sk-toggleable__control:checked~label.sk-toggleable__label-arrow:before {content: \"▾\";}#sk-container-id-15 div.sk-estimator input.sk-toggleable__control:checked~label.sk-toggleable__label {background-color: #d4ebff;}#sk-container-id-15 div.sk-label input.sk-toggleable__control:checked~label.sk-toggleable__label {background-color: #d4ebff;}#sk-container-id-15 input.sk-hidden--visually {border: 0;clip: rect(1px 1px 1px 1px);clip: rect(1px, 1px, 1px, 1px);height: 1px;margin: -1px;overflow: hidden;padding: 0;position: absolute;width: 1px;}#sk-container-id-15 div.sk-estimator {font-family: monospace;background-color: #f0f8ff;border: 1px dotted black;border-radius: 0.25em;box-sizing: border-box;margin-bottom: 0.5em;}#sk-container-id-15 div.sk-estimator:hover {background-color: #d4ebff;}#sk-container-id-15 div.sk-parallel-item::after {content: \"\";width: 100%;border-bottom: 1px solid gray;flex-grow: 1;}#sk-container-id-15 div.sk-label:hover label.sk-toggleable__label {background-color: #d4ebff;}#sk-container-id-15 div.sk-serial::before {content: \"\";position: absolute;border-left: 1px solid gray;box-sizing: border-box;top: 0;bottom: 0;left: 50%;z-index: 0;}#sk-container-id-15 div.sk-serial {display: flex;flex-direction: column;align-items: center;background-color: white;padding-right: 0.2em;padding-left: 0.2em;position: relative;}#sk-container-id-15 div.sk-item {position: relative;z-index: 1;}#sk-container-id-15 div.sk-parallel {display: flex;align-items: stretch;justify-content: center;background-color: white;position: relative;}#sk-container-id-15 div.sk-item::before, #sk-container-id-15 div.sk-parallel-item::before {content: \"\";position: absolute;border-left: 1px solid gray;box-sizing: border-box;top: 0;bottom: 0;left: 50%;z-index: -1;}#sk-container-id-15 div.sk-parallel-item {display: flex;flex-direction: column;z-index: 1;position: relative;background-color: white;}#sk-container-id-15 div.sk-parallel-item:first-child::after {align-self: flex-end;width: 50%;}#sk-container-id-15 div.sk-parallel-item:last-child::after {align-self: flex-start;width: 50%;}#sk-container-id-15 div.sk-parallel-item:only-child::after {width: 0;}#sk-container-id-15 div.sk-dashed-wrapped {border: 1px dashed gray;margin: 0 0.4em 0.5em 0.4em;box-sizing: border-box;padding-bottom: 0.4em;background-color: white;}#sk-container-id-15 div.sk-label label {font-family: monospace;font-weight: bold;display: inline-block;line-height: 1.2em;}#sk-container-id-15 div.sk-label-container {text-align: center;}#sk-container-id-15 div.sk-container {/* jupyter's `normalize.less` sets `[hidden] { display: none; }` but bootstrap.min.css set `[hidden] { display: none !important; }` so we also need the `!important` here to be able to override the default hidden behavior on the sphinx rendered scikit-learn.org. See: https://github.com/scikit-learn/scikit-learn/issues/21755 */display: inline-block !important;position: relative;}#sk-container-id-15 div.sk-text-repr-fallback {display: none;}</style><div id=\"sk-container-id-15\" class=\"sk-top-container\"><div class=\"sk-text-repr-fallback\"><pre>DecisionTreeClassifier(max_depth=10, min_samples_leaf=20, splitter=&#x27;random&#x27;)</pre><b>In a Jupyter environment, please rerun this cell to show the HTML representation or trust the notebook. <br />On GitHub, the HTML representation is unable to render, please try loading this page with nbviewer.org.</b></div><div class=\"sk-container\" hidden><div class=\"sk-item\"><div class=\"sk-estimator sk-toggleable\"><input class=\"sk-toggleable__control sk-hidden--visually\" id=\"sk-estimator-id-27\" type=\"checkbox\" checked><label for=\"sk-estimator-id-27\" class=\"sk-toggleable__label sk-toggleable__label-arrow\">DecisionTreeClassifier</label><div class=\"sk-toggleable__content\"><pre>DecisionTreeClassifier(max_depth=10, min_samples_leaf=20, splitter=&#x27;random&#x27;)</pre></div></div></div></div></div>"
            ]
          },
          "metadata": {},
          "execution_count": 81
        }
      ]
    },
    {
      "cell_type": "code",
      "source": [
        "dt_randomcv.best_params_"
      ],
      "metadata": {
        "colab": {
          "base_uri": "https://localhost:8080/"
        },
        "id": "8K89_PuWK_q6",
        "outputId": "321d7191-33db-440c-e2ae-d5522ce03bf2"
      },
      "execution_count": 82,
      "outputs": [
        {
          "output_type": "execute_result",
          "data": {
            "text/plain": [
              "{'splitter': 'random',\n",
              " 'min_samples_leaf': 20,\n",
              " 'max_depth': 10,\n",
              " 'criterion': 'gini'}"
            ]
          },
          "metadata": {},
          "execution_count": 82
        }
      ]
    },
    {
      "cell_type": "markdown",
      "source": [
        "> Hyperparameter terbaik menurut random search adalah dengan max_depth 10, min_sample_leaf 20, menggnakan splitter random dan criterion gini."
      ],
      "metadata": {
        "id": "5ibomeOe_TPo"
      }
    },
    {
      "cell_type": "code",
      "source": [
        "# Menyimpan Hyperparameter terbaik Untuk Uji Untuk Uji Data pada Variabel dt_randomcv_best\n",
        "\n",
        "dt_randomcv_best = dt_randomcv.best_estimator_"
      ],
      "metadata": {
        "id": "f0Ks_5loIcA9"
      },
      "execution_count": 83,
      "outputs": []
    },
    {
      "cell_type": "markdown",
      "source": [
        "### Model Evaluation Random Search"
      ],
      "metadata": {
        "id": "2knZk6RYIcA9"
      }
    },
    {
      "cell_type": "code",
      "source": [
        "# Cek Performa Model Menggunakan Hyperparameter Terbaik\n",
        "\n",
        "y_pred_test_dt_rand = dt_randomcv_best.predict(X_test_final)\n",
        "\n",
        "print('F1 Score - Test Set   : ', f1_score(y_test, y_pred_test_dt_rand), '\\n')\n",
        "print('Classification Report : \\n', classification_report(y_test, y_pred_test_dt_rand), '\\n')\n",
        "print('Confusion Matrix      : \\n', ConfusionMatrixDisplay.from_estimator(dt_randomcv_best, X_test_final, y_test, cmap='Reds'))"
      ],
      "metadata": {
        "outputId": "fc697245-fe97-4d1d-b522-3d47c60204f2",
        "colab": {
          "base_uri": "https://localhost:8080/",
          "height": 539
        },
        "id": "TxygNoMeIcA9"
      },
      "execution_count": 84,
      "outputs": [
        {
          "output_type": "stream",
          "name": "stdout",
          "text": [
            "F1 Score - Test Set   :  0.5128205128205129 \n",
            "\n",
            "Classification Report : \n",
            "               precision    recall  f1-score   support\n",
            "\n",
            "           0       0.86      0.96      0.90       468\n",
            "           1       0.71      0.40      0.51       125\n",
            "\n",
            "    accuracy                           0.84       593\n",
            "   macro avg       0.79      0.68      0.71       593\n",
            "weighted avg       0.83      0.84      0.82       593\n",
            " \n",
            "\n",
            "Confusion Matrix      : \n",
            " <sklearn.metrics._plot.confusion_matrix.ConfusionMatrixDisplay object at 0x7f8a5f3a3490>\n"
          ]
        },
        {
          "output_type": "display_data",
          "data": {
            "text/plain": [
              "<Figure size 432x288 with 2 Axes>"
            ],
            "image/png": "[encoded data removed]"
          },
          "metadata": {
            "needs_background": "light"
          }
        }
      ]
    },
    {
      "cell_type": "markdown",
      "source": [
        "> Hyperparameter terbaik menurut random search dilatihkan pada data uji, hasilnya f1-score test bernilai 0.51 dan aukrasi senilai 0.84 atau 84%."
      ],
      "metadata": {
        "id": "x9OhqjQE_qH-"
      }
    },
    {
      "cell_type": "code",
      "source": [
        "# Save Classification Report into a Dictionary\n",
        "\n",
        "score_reports = {\n",
        "    'train - precision' : precision_score(y_train_trim, y_pred_train_dt),\n",
        "    'train - recall' : recall_score(y_train_trim, y_pred_train_dt),\n",
        "    'train - accuracy' : accuracy_score(y_train_trim, y_pred_train_dt),\n",
        "    'train - f1_score' : f1_score(y_train_trim, y_pred_train_dt),\n",
        "    'test - precision' : precision_score(y_test, y_pred_test_dt_rand),\n",
        "    'test - recall' : recall_score(y_test, y_pred_test_dt_rand),\n",
        "    'test - accuracy_score' : accuracy_score(y_test, y_pred_test_dt_rand),\n",
        "    'test - f1_score' : f1_score(y_test, y_pred_test_dt_rand),\n",
        "}\n",
        "all_reports['Random Search'] = score_reports\n",
        "pd.DataFrame(all_reports)"
      ],
      "metadata": {
        "outputId": "87951fc1-a16e-4c9e-a5a4-8f64415b69ec",
        "colab": {
          "base_uri": "https://localhost:8080/",
          "height": 300
        },
        "id": "BZ8xhDyoIcA9"
      },
      "execution_count": 85,
      "outputs": [
        {
          "data": {
            "text/html": [
              "\n",
              "  <div id=\"df-b7c2b8eb-cd1d-4e07-bebf-7d4c4ec2155c\">\n",
              "    <div class=\"colab-df-container\">\n",
              "      <div>\n",
              "<style scoped>\n",
              "    .dataframe tbody tr th:only-of-type {\n",
              "        vertical-align: middle;\n",
              "    }\n",
              "\n",
              "    .dataframe tbody tr th {\n",
              "        vertical-align: top;\n",
              "    }\n",
              "\n",
              "    .dataframe thead th {\n",
              "        text-align: right;\n",
              "    }\n",
              "</style>\n",
              "<table border=\"1\" class=\"dataframe\">\n",
              "  <thead>\n",
              "    <tr style=\"text-align: right;\">\n",
              "      <th></th>\n",
              "      <th>Baseline (Default Hyperparameter)</th>\n",
              "      <th>Grid Search</th>\n",
              "      <th>Random Search</th>\n",
              "    </tr>\n",
              "  </thead>\n",
              "  <tbody>\n",
              "    <tr>\n",
              "      <th>train - precision</th>\n",
              "      <td>1.000000</td>\n",
              "      <td>1.000000</td>\n",
              "      <td>1.000000</td>\n",
              "    </tr>\n",
              "    <tr>\n",
              "      <th>train - recall</th>\n",
              "      <td>1.000000</td>\n",
              "      <td>1.000000</td>\n",
              "      <td>1.000000</td>\n",
              "    </tr>\n",
              "    <tr>\n",
              "      <th>train - accuracy</th>\n",
              "      <td>1.000000</td>\n",
              "      <td>1.000000</td>\n",
              "      <td>1.000000</td>\n",
              "    </tr>\n",
              "    <tr>\n",
              "      <th>train - f1_score</th>\n",
              "      <td>1.000000</td>\n",
              "      <td>1.000000</td>\n",
              "      <td>1.000000</td>\n",
              "    </tr>\n",
              "    <tr>\n",
              "      <th>test - precision</th>\n",
              "      <td>0.382979</td>\n",
              "      <td>0.698413</td>\n",
              "      <td>0.714286</td>\n",
              "    </tr>\n",
              "    <tr>\n",
              "      <th>test - recall</th>\n",
              "      <td>0.432000</td>\n",
              "      <td>0.352000</td>\n",
              "      <td>0.400000</td>\n",
              "    </tr>\n",
              "    <tr>\n",
              "      <th>test - accuracy_score</th>\n",
              "      <td>0.733558</td>\n",
              "      <td>0.831366</td>\n",
              "      <td>0.839798</td>\n",
              "    </tr>\n",
              "    <tr>\n",
              "      <th>test - f1_score</th>\n",
              "      <td>0.406015</td>\n",
              "      <td>0.468085</td>\n",
              "      <td>0.512821</td>\n",
              "    </tr>\n",
              "  </tbody>\n",
              "</table>\n",
              "</div>\n",
              "      <button class=\"colab-df-convert\" onclick=\"convertToInteractive('df-b7c2b8eb-cd1d-4e07-bebf-7d4c4ec2155c')\"\n",
              "              title=\"Convert this dataframe to an interactive table.\"\n",
              "              style=\"display:none;\">\n",
              "        \n",
              "  <svg xmlns=\"http://www.w3.org/2000/svg\" height=\"24px\"viewBox=\"0 0 24 24\"\n",
              "       width=\"24px\">\n",
              "    <path d=\"M0 0h24v24H0V0z\" fill=\"none\"/>\n",
              "    <path d=\"M18.56 5.44l.94 2.06.94-2.06 2.06-.94-2.06-.94-.94-2.06-.94 2.06-2.06.94zm-11 1L8.5 8.5l.94-2.06 2.06-.94-2.06-.94L8.5 2.5l-.94 2.06-2.06.94zm10 10l.94 2.06.94-2.06 2.06-.94-2.06-.94-.94-2.06-.94 2.06-2.06.94z\"/><path d=\"M17.41 7.96l-1.37-1.37c-.4-.4-.92-.59-1.43-.59-.52 0-1.04.2-1.43.59L10.3 9.45l-7.72 7.72c-.78.78-.78 2.05 0 2.83L4 21.41c.39.39.9.59 1.41.59.51 0 1.02-.2 1.41-.59l7.78-7.78 2.81-2.81c.8-.78.8-2.07 0-2.86zM5.41 20L4 18.59l7.72-7.72 1.47 1.35L5.41 20z\"/>\n",
              "  </svg>\n",
              "      </button>\n",
              "      \n",
              "  <style>\n",
              "    .colab-df-container {\n",
              "      display:flex;\n",
              "      flex-wrap:wrap;\n",
              "      gap: 12px;\n",
              "    }\n",
              "\n",
              "    .colab-df-convert {\n",
              "      background-color: #E8F0FE;\n",
              "      border: none;\n",
              "      border-radius: 50%;\n",
              "      cursor: pointer;\n",
              "      display: none;\n",
              "      fill: #1967D2;\n",
              "      height: 32px;\n",
              "      padding: 0 0 0 0;\n",
              "      width: 32px;\n",
              "    }\n",
              "\n",
              "    .colab-df-convert:hover {\n",
              "      background-color: #E2EBFA;\n",
              "      box-shadow: 0px 1px 2px rgba(60, 64, 67, 0.3), 0px 1px 3px 1px rgba(60, 64, 67, 0.15);\n",
              "      fill: #174EA6;\n",
              "    }\n",
              "\n",
              "    [theme=dark] .colab-df-convert {\n",
              "      background-color: #3B4455;\n",
              "      fill: #D2E3FC;\n",
              "    }\n",
              "\n",
              "    [theme=dark] .colab-df-convert:hover {\n",
              "      background-color: #434B5C;\n",
              "      box-shadow: 0px 1px 3px 1px rgba(0, 0, 0, 0.15);\n",
              "      filter: drop-shadow(0px 1px 2px rgba(0, 0, 0, 0.3));\n",
              "      fill: #FFFFFF;\n",
              "    }\n",
              "  </style>\n",
              "\n",
              "      <script>\n",
              "        const buttonEl =\n",
              "          document.querySelector('#df-b7c2b8eb-cd1d-4e07-bebf-7d4c4ec2155c button.colab-df-convert');\n",
              "        buttonEl.style.display =\n",
              "          google.colab.kernel.accessAllowed ? 'block' : 'none';\n",
              "\n",
              "        async function convertToInteractive(key) {\n",
              "          const element = document.querySelector('#df-b7c2b8eb-cd1d-4e07-bebf-7d4c4ec2155c');\n",
              "          const dataTable =\n",
              "            await google.colab.kernel.invokeFunction('convertToInteractive',\n",
              "                                                     [key], {});\n",
              "          if (!dataTable) return;\n",
              "\n",
              "          const docLinkHtml = 'Like what you see? Visit the ' +\n",
              "            '<a target=\"_blank\" href=https://colab.research.google.com/notebooks/data_table.ipynb>data table notebook</a>'\n",
              "            + ' to learn more about interactive tables.';\n",
              "          element.innerHTML = '';\n",
              "          dataTable['output_type'] = 'display_data';\n",
              "          await google.colab.output.renderOutput(dataTable, element);\n",
              "          const docLink = document.createElement('div');\n",
              "          docLink.innerHTML = docLinkHtml;\n",
              "          element.appendChild(docLink);\n",
              "        }\n",
              "      </script>\n",
              "    </div>\n",
              "  </div>\n",
              "  "
            ],
            "text/plain": [
              "                       Baseline (Default Hyperparameter)  Grid Search  \\\n",
              "train - precision                               1.000000     1.000000   \n",
              "train - recall                                  1.000000     1.000000   \n",
              "train - accuracy                                1.000000     1.000000   \n",
              "train - f1_score                                1.000000     1.000000   \n",
              "test - precision                                0.382979     0.698413   \n",
              "test - recall                                   0.432000     0.352000   \n",
              "test - accuracy_score                           0.733558     0.831366   \n",
              "test - f1_score                                 0.406015     0.468085   \n",
              "\n",
              "                       Random Search  \n",
              "train - precision           1.000000  \n",
              "train - recall              1.000000  \n",
              "train - accuracy            1.000000  \n",
              "train - f1_score            1.000000  \n",
              "test - precision            0.714286  \n",
              "test - recall               0.400000  \n",
              "test - accuracy_score       0.839798  \n",
              "test - f1_score             0.512821  "
            ]
          },
          "execution_count": 85,
          "metadata": {},
          "output_type": "execute_result"
        }
      ]
    },
    {
      "cell_type": "markdown",
      "source": [
        "> Dari hasil pengujian terhadap hyperparameter baseline, terbaik menurut grid search dan random search ditemukan bahwa Hyperparameter random Search merupakan yang terbaik meskipun hasil f1-score train dan f1-score test cenderung overvit.\n",
        "\n",
        ">  Hyperparameter dari hasil pencarian random search akan digunakan pada pemodelan.\n",
        "\n",
        "> Hyperparameternya adalah `DecisionTreeClassifier(max_depth=10, min_samples_leaf=20, splitter='random')`"
      ],
      "metadata": {
        "id": "MDqeSaD3_7FS"
      }
    },
    {
      "cell_type": "markdown",
      "source": [
        "## Random Forest"
      ],
      "metadata": {
        "id": "mDBMdGYHLfm6"
      }
    },
    {
      "cell_type": "markdown",
      "source": [
        "### Model Definition"
      ],
      "metadata": {
        "id": "rsJ3SSwlLfm7"
      }
    },
    {
      "cell_type": "code",
      "source": [
        "# Pendefinisian Model Random Forest\n",
        "\n",
        "rf = RandomForestClassifier()"
      ],
      "metadata": {
        "id": "yK19VQtHLfm7"
      },
      "execution_count": 86,
      "outputs": []
    },
    {
      "cell_type": "markdown",
      "source": [
        "> Melakukan pendefinisian random forest classifier"
      ],
      "metadata": {
        "id": "fs_g5SG0AcZe"
      }
    },
    {
      "cell_type": "markdown",
      "source": [
        "### Model Training Baseline"
      ],
      "metadata": {
        "id": "Cf5rkm_ELfm7"
      }
    },
    {
      "cell_type": "code",
      "source": [
        "# Training Model Random Forest\n",
        "\n",
        "rf.fit(X_train_final, y_train_trim)"
      ],
      "metadata": {
        "colab": {
          "base_uri": "https://localhost:8080/",
          "height": 75
        },
        "outputId": "03750b2a-85a1-46df-d365-6ed3677999ab",
        "id": "lY4VkbtaLfm7"
      },
      "execution_count": 87,
      "outputs": [
        {
          "output_type": "execute_result",
          "data": {
            "text/plain": [
              "RandomForestClassifier()"
            ],
            "text/html": [
              "<style>#sk-container-id-16 {color: black;background-color: white;}#sk-container-id-16 pre{padding: 0;}#sk-container-id-16 div.sk-toggleable {background-color: white;}#sk-container-id-16 label.sk-toggleable__label {cursor: pointer;display: block;width: 100%;margin-bottom: 0;padding: 0.3em;box-sizing: border-box;text-align: center;}#sk-container-id-16 label.sk-toggleable__label-arrow:before {content: \"▸\";float: left;margin-right: 0.25em;color: #696969;}#sk-container-id-16 label.sk-toggleable__label-arrow:hover:before {color: black;}#sk-container-id-16 div.sk-estimator:hover label.sk-toggleable__label-arrow:before {color: black;}#sk-container-id-16 div.sk-toggleable__content {max-height: 0;max-width: 0;overflow: hidden;text-align: left;background-color: #f0f8ff;}#sk-container-id-16 div.sk-toggleable__content pre {margin: 0.2em;color: black;border-radius: 0.25em;background-color: #f0f8ff;}#sk-container-id-16 input.sk-toggleable__control:checked~div.sk-toggleable__content {max-height: 200px;max-width: 100%;overflow: auto;}#sk-container-id-16 input.sk-toggleable__control:checked~label.sk-toggleable__label-arrow:before {content: \"▾\";}#sk-container-id-16 div.sk-estimator input.sk-toggleable__control:checked~label.sk-toggleable__label {background-color: #d4ebff;}#sk-container-id-16 div.sk-label input.sk-toggleable__control:checked~label.sk-toggleable__label {background-color: #d4ebff;}#sk-container-id-16 input.sk-hidden--visually {border: 0;clip: rect(1px 1px 1px 1px);clip: rect(1px, 1px, 1px, 1px);height: 1px;margin: -1px;overflow: hidden;padding: 0;position: absolute;width: 1px;}#sk-container-id-16 div.sk-estimator {font-family: monospace;background-color: #f0f8ff;border: 1px dotted black;border-radius: 0.25em;box-sizing: border-box;margin-bottom: 0.5em;}#sk-container-id-16 div.sk-estimator:hover {background-color: #d4ebff;}#sk-container-id-16 div.sk-parallel-item::after {content: \"\";width: 100%;border-bottom: 1px solid gray;flex-grow: 1;}#sk-container-id-16 div.sk-label:hover label.sk-toggleable__label {background-color: #d4ebff;}#sk-container-id-16 div.sk-serial::before {content: \"\";position: absolute;border-left: 1px solid gray;box-sizing: border-box;top: 0;bottom: 0;left: 50%;z-index: 0;}#sk-container-id-16 div.sk-serial {display: flex;flex-direction: column;align-items: center;background-color: white;padding-right: 0.2em;padding-left: 0.2em;position: relative;}#sk-container-id-16 div.sk-item {position: relative;z-index: 1;}#sk-container-id-16 div.sk-parallel {display: flex;align-items: stretch;justify-content: center;background-color: white;position: relative;}#sk-container-id-16 div.sk-item::before, #sk-container-id-16 div.sk-parallel-item::before {content: \"\";position: absolute;border-left: 1px solid gray;box-sizing: border-box;top: 0;bottom: 0;left: 50%;z-index: -1;}#sk-container-id-16 div.sk-parallel-item {display: flex;flex-direction: column;z-index: 1;position: relative;background-color: white;}#sk-container-id-16 div.sk-parallel-item:first-child::after {align-self: flex-end;width: 50%;}#sk-container-id-16 div.sk-parallel-item:last-child::after {align-self: flex-start;width: 50%;}#sk-container-id-16 div.sk-parallel-item:only-child::after {width: 0;}#sk-container-id-16 div.sk-dashed-wrapped {border: 1px dashed gray;margin: 0 0.4em 0.5em 0.4em;box-sizing: border-box;padding-bottom: 0.4em;background-color: white;}#sk-container-id-16 div.sk-label label {font-family: monospace;font-weight: bold;display: inline-block;line-height: 1.2em;}#sk-container-id-16 div.sk-label-container {text-align: center;}#sk-container-id-16 div.sk-container {/* jupyter's `normalize.less` sets `[hidden] { display: none; }` but bootstrap.min.css set `[hidden] { display: none !important; }` so we also need the `!important` here to be able to override the default hidden behavior on the sphinx rendered scikit-learn.org. See: https://github.com/scikit-learn/scikit-learn/issues/21755 */display: inline-block !important;position: relative;}#sk-container-id-16 div.sk-text-repr-fallback {display: none;}</style><div id=\"sk-container-id-16\" class=\"sk-top-container\"><div class=\"sk-text-repr-fallback\"><pre>RandomForestClassifier()</pre><b>In a Jupyter environment, please rerun this cell to show the HTML representation or trust the notebook. <br />On GitHub, the HTML representation is unable to render, please try loading this page with nbviewer.org.</b></div><div class=\"sk-container\" hidden><div class=\"sk-item\"><div class=\"sk-estimator sk-toggleable\"><input class=\"sk-toggleable__control sk-hidden--visually\" id=\"sk-estimator-id-28\" type=\"checkbox\" checked><label for=\"sk-estimator-id-28\" class=\"sk-toggleable__label sk-toggleable__label-arrow\">RandomForestClassifier</label><div class=\"sk-toggleable__content\"><pre>RandomForestClassifier()</pre></div></div></div></div></div>"
            ]
          },
          "metadata": {},
          "execution_count": 87
        }
      ]
    },
    {
      "cell_type": "markdown",
      "source": [
        "> Melakukan train pada data training menggunakan random forest dengan baseline hyperparameter."
      ],
      "metadata": {
        "id": "pCVHJbj1Ahqm"
      }
    },
    {
      "cell_type": "markdown",
      "source": [
        "### Model Evaluation Baseline"
      ],
      "metadata": {
        "id": "omitEaIrLfm7"
      }
    },
    {
      "cell_type": "code",
      "source": [
        "# Evaluasi Performa Model Random Forest\n",
        "\n",
        "y_pred_train_rf = rf.predict(X_train_final)\n",
        "\n",
        "print('F1 Score - Train Set  : ', f1_score(y_train_trim, y_pred_train_rf), '\\n')\n",
        "print('Classification Report : \\n', classification_report(y_train_trim, y_pred_train_rf), '\\n')\n",
        "print('Confusion Matrix      : \\n', ConfusionMatrixDisplay.from_estimator(rf, X_train_final, y_train_trim, cmap='Reds'))"
      ],
      "metadata": {
        "outputId": "87d0a767-e35c-4d75-af97-852e2ed5a1a3",
        "colab": {
          "base_uri": "https://localhost:8080/",
          "height": 539
        },
        "id": "tDN4YQ4jLfm7"
      },
      "execution_count": 88,
      "outputs": [
        {
          "output_type": "stream",
          "name": "stdout",
          "text": [
            "F1 Score - Train Set  :  1.0 \n",
            "\n",
            "Classification Report : \n",
            "               precision    recall  f1-score   support\n",
            "\n",
            "           0       1.00      1.00      1.00      1377\n",
            "           1       1.00      1.00      1.00       433\n",
            "\n",
            "    accuracy                           1.00      1810\n",
            "   macro avg       1.00      1.00      1.00      1810\n",
            "weighted avg       1.00      1.00      1.00      1810\n",
            " \n",
            "\n",
            "Confusion Matrix      : \n",
            " <sklearn.metrics._plot.confusion_matrix.ConfusionMatrixDisplay object at 0x7f8a5f1ffbb0>\n"
          ]
        },
        {
          "output_type": "display_data",
          "data": {
            "text/plain": [
              "<Figure size 432x288 with 2 Axes>"
            ],
            "image/png": "[encoded data removed]"
          },
          "metadata": {
            "needs_background": "light"
          }
        }
      ]
    },
    {
      "cell_type": "markdown",
      "source": [
        "> Setelah dilakukan train kemudian dilakukan evaluasi pada hasil train dan didapati nilai f1-score train besnilai 1.00 dan akurasinya 1.00."
      ],
      "metadata": {
        "id": "CuF3fmiIAt9E"
      }
    },
    {
      "cell_type": "code",
      "source": [
        "# Cross Validation using `cross_val_score`\n",
        "\n",
        "%%time\n",
        "from sklearn.model_selection import cross_val_score\n",
        "\n",
        "f1_score_train_cross_val_rf = cross_val_score(rf, \n",
        "                                           X_train_final, \n",
        "                                           y_train_trim, \n",
        "                                           cv=3, \n",
        "                                           scoring='f1')\n",
        "\n",
        "print('F1 Score - All - Cross Validation  : ', f1_score_train_cross_val_rf)\n",
        "print('F1 Score - Mean - Cross Validation : ', f1_score_train_cross_val_rf.mean())\n",
        "print('F1 Score - Std - Cross Validation  : ', f1_score_train_cross_val_rf.std())\n",
        "print('F1 Score - Range of Test-Set       : ', (f1_score_train_cross_val_rf.mean()-f1_score_train_cross_val_rf.std()) , '-', (f1_score_train_cross_val_rf.mean()+f1_score_train_cross_val_rf.std()))"
      ],
      "metadata": {
        "outputId": "0a8f07cd-f04d-4138-e407-51597ddfe6bf",
        "colab": {
          "base_uri": "https://localhost:8080/"
        },
        "id": "NMi_CYTqLfm7"
      },
      "execution_count": 89,
      "outputs": [
        {
          "output_type": "stream",
          "name": "stdout",
          "text": [
            "F1 Score - All - Cross Validation  :  [0.47058824 0.49781659 0.46296296]\n",
            "F1 Score - Mean - Cross Validation :  0.4771225973811812\n",
            "F1 Score - Std - Cross Validation  :  0.014960332283554045\n",
            "F1 Score - Range of Test-Set       :  0.46216226509762715 - 0.4920829296647352\n",
            "CPU times: user 1.57 s, sys: 5.86 ms, total: 1.58 s\n",
            "Wall time: 1.59 s\n"
          ]
        }
      ]
    },
    {
      "cell_type": "code",
      "source": [
        "# Cek Performa Model\n",
        "\n",
        "y_pred_test_rf = rf.predict(X_test_final)\n",
        "\n",
        "print('F1 Score - Test Set   : ', f1_score(y_test, y_pred_test_rf), '\\n')\n",
        "print('Classification Report : \\n', classification_report(y_test, y_pred_test_rf), '\\n')\n",
        "print('Confusion Matrix      : \\n', ConfusionMatrixDisplay.from_estimator(rf, X_test_final, y_test, cmap='Reds'))"
      ],
      "metadata": {
        "outputId": "9970f501-7da8-4b1b-ad9b-9f2bea456543",
        "colab": {
          "base_uri": "https://localhost:8080/",
          "height": 539
        },
        "id": "sy8tbYg6Lfm7"
      },
      "execution_count": 90,
      "outputs": [
        {
          "output_type": "stream",
          "name": "stdout",
          "text": [
            "F1 Score - Test Set   :  0.5273631840796019 \n",
            "\n",
            "Classification Report : \n",
            "               precision    recall  f1-score   support\n",
            "\n",
            "           0       0.86      0.95      0.90       468\n",
            "           1       0.70      0.42      0.53       125\n",
            "\n",
            "    accuracy                           0.84       593\n",
            "   macro avg       0.78      0.69      0.72       593\n",
            "weighted avg       0.83      0.84      0.82       593\n",
            " \n",
            "\n",
            "Confusion Matrix      : \n",
            " <sklearn.metrics._plot.confusion_matrix.ConfusionMatrixDisplay object at 0x7f8a5f1a9a30>\n"
          ]
        },
        {
          "output_type": "display_data",
          "data": {
            "text/plain": [
              "<Figure size 432x288 with 2 Axes>"
            ],
            "image/png": "[encoded data removed]"
          },
          "metadata": {
            "needs_background": "light"
          }
        }
      ]
    },
    {
      "cell_type": "markdown",
      "source": [
        "> Dari hasil evaluasi pada data test ditunjukkan bahwa f1-score tets memiliki nilai 0.53 dan akurasi sebesar 0.84 atau 84%."
      ],
      "metadata": {
        "id": "6TtR-92zBDo5"
      }
    },
    {
      "cell_type": "code",
      "source": [
        "# Tampilkan Hasil Uji Model\n",
        "\n",
        "all_reports = {}\n",
        "score_reports = {\n",
        "    'train - precision' : precision_score(y_train_trim, y_pred_train_rf),\n",
        "    'train - recall' : recall_score(y_train_trim, y_pred_train_rf),\n",
        "    'train - accuracy' : accuracy_score(y_train_trim, y_pred_train_rf),\n",
        "    'train - f1_score' : f1_score(y_train_trim, y_pred_train_rf),\n",
        "    'test - precision' : precision_score(y_test, y_pred_test_rf),\n",
        "    'test - recall' : recall_score(y_test, y_pred_test_rf),\n",
        "    'test - accuracy_score' : accuracy_score(y_test, y_pred_test_rf),\n",
        "    'test - f1_score' : f1_score(y_test, y_pred_test_rf),\n",
        "}\n",
        "all_reports['Baseline (Default Hyperparameter)'] = score_reports\n",
        "pd.DataFrame(all_reports)"
      ],
      "metadata": {
        "outputId": "49fb5b5f-722a-4eae-c926-3c9530ffdd0d",
        "colab": {
          "base_uri": "https://localhost:8080/",
          "height": 300
        },
        "id": "2n_zvcd_Lfm7"
      },
      "execution_count": 91,
      "outputs": [
        {
          "output_type": "execute_result",
          "data": {
            "text/plain": [
              "                       Baseline (Default Hyperparameter)\n",
              "test - accuracy_score                           0.839798\n",
              "test - f1_score                                 0.527363\n",
              "test - precision                                0.697368\n",
              "test - recall                                   0.424000\n",
              "train - accuracy                                1.000000\n",
              "train - f1_score                                1.000000\n",
              "train - precision                               1.000000\n",
              "train - recall                                  1.000000"
            ],
            "text/html": [
              "\n",
              "  <div id=\"df-0ef8ec22-c65c-4d3b-9171-ce4f0e7adee5\">\n",
              "    <div class=\"colab-df-container\">\n",
              "      <div>\n",
              "<style scoped>\n",
              "    .dataframe tbody tr th:only-of-type {\n",
              "        vertical-align: middle;\n",
              "    }\n",
              "\n",
              "    .dataframe tbody tr th {\n",
              "        vertical-align: top;\n",
              "    }\n",
              "\n",
              "    .dataframe thead th {\n",
              "        text-align: right;\n",
              "    }\n",
              "</style>\n",
              "<table border=\"1\" class=\"dataframe\">\n",
              "  <thead>\n",
              "    <tr style=\"text-align: right;\">\n",
              "      <th></th>\n",
              "      <th>Baseline (Default Hyperparameter)</th>\n",
              "    </tr>\n",
              "  </thead>\n",
              "  <tbody>\n",
              "    <tr>\n",
              "      <th>test - accuracy_score</th>\n",
              "      <td>0.839798</td>\n",
              "    </tr>\n",
              "    <tr>\n",
              "      <th>test - f1_score</th>\n",
              "      <td>0.527363</td>\n",
              "    </tr>\n",
              "    <tr>\n",
              "      <th>test - precision</th>\n",
              "      <td>0.697368</td>\n",
              "    </tr>\n",
              "    <tr>\n",
              "      <th>test - recall</th>\n",
              "      <td>0.424000</td>\n",
              "    </tr>\n",
              "    <tr>\n",
              "      <th>train - accuracy</th>\n",
              "      <td>1.000000</td>\n",
              "    </tr>\n",
              "    <tr>\n",
              "      <th>train - f1_score</th>\n",
              "      <td>1.000000</td>\n",
              "    </tr>\n",
              "    <tr>\n",
              "      <th>train - precision</th>\n",
              "      <td>1.000000</td>\n",
              "    </tr>\n",
              "    <tr>\n",
              "      <th>train - recall</th>\n",
              "      <td>1.000000</td>\n",
              "    </tr>\n",
              "  </tbody>\n",
              "</table>\n",
              "</div>\n",
              "      <button class=\"colab-df-convert\" onclick=\"convertToInteractive('df-0ef8ec22-c65c-4d3b-9171-ce4f0e7adee5')\"\n",
              "              title=\"Convert this dataframe to an interactive table.\"\n",
              "              style=\"display:none;\">\n",
              "        \n",
              "  <svg xmlns=\"http://www.w3.org/2000/svg\" height=\"24px\"viewBox=\"0 0 24 24\"\n",
              "       width=\"24px\">\n",
              "    <path d=\"M0 0h24v24H0V0z\" fill=\"none\"/>\n",
              "    <path d=\"M18.56 5.44l.94 2.06.94-2.06 2.06-.94-2.06-.94-.94-2.06-.94 2.06-2.06.94zm-11 1L8.5 8.5l.94-2.06 2.06-.94-2.06-.94L8.5 2.5l-.94 2.06-2.06.94zm10 10l.94 2.06.94-2.06 2.06-.94-2.06-.94-.94-2.06-.94 2.06-2.06.94z\"/><path d=\"M17.41 7.96l-1.37-1.37c-.4-.4-.92-.59-1.43-.59-.52 0-1.04.2-1.43.59L10.3 9.45l-7.72 7.72c-.78.78-.78 2.05 0 2.83L4 21.41c.39.39.9.59 1.41.59.51 0 1.02-.2 1.41-.59l7.78-7.78 2.81-2.81c.8-.78.8-2.07 0-2.86zM5.41 20L4 18.59l7.72-7.72 1.47 1.35L5.41 20z\"/>\n",
              "  </svg>\n",
              "      </button>\n",
              "      \n",
              "  <style>\n",
              "    .colab-df-container {\n",
              "      display:flex;\n",
              "      flex-wrap:wrap;\n",
              "      gap: 12px;\n",
              "    }\n",
              "\n",
              "    .colab-df-convert {\n",
              "      background-color: #E8F0FE;\n",
              "      border: none;\n",
              "      border-radius: 50%;\n",
              "      cursor: pointer;\n",
              "      display: none;\n",
              "      fill: #1967D2;\n",
              "      height: 32px;\n",
              "      padding: 0 0 0 0;\n",
              "      width: 32px;\n",
              "    }\n",
              "\n",
              "    .colab-df-convert:hover {\n",
              "      background-color: #E2EBFA;\n",
              "      box-shadow: 0px 1px 2px rgba(60, 64, 67, 0.3), 0px 1px 3px 1px rgba(60, 64, 67, 0.15);\n",
              "      fill: #174EA6;\n",
              "    }\n",
              "\n",
              "    [theme=dark] .colab-df-convert {\n",
              "      background-color: #3B4455;\n",
              "      fill: #D2E3FC;\n",
              "    }\n",
              "\n",
              "    [theme=dark] .colab-df-convert:hover {\n",
              "      background-color: #434B5C;\n",
              "      box-shadow: 0px 1px 3px 1px rgba(0, 0, 0, 0.15);\n",
              "      filter: drop-shadow(0px 1px 2px rgba(0, 0, 0, 0.3));\n",
              "      fill: #FFFFFF;\n",
              "    }\n",
              "  </style>\n",
              "\n",
              "      <script>\n",
              "        const buttonEl =\n",
              "          document.querySelector('#df-0ef8ec22-c65c-4d3b-9171-ce4f0e7adee5 button.colab-df-convert');\n",
              "        buttonEl.style.display =\n",
              "          google.colab.kernel.accessAllowed ? 'block' : 'none';\n",
              "\n",
              "        async function convertToInteractive(key) {\n",
              "          const element = document.querySelector('#df-0ef8ec22-c65c-4d3b-9171-ce4f0e7adee5');\n",
              "          const dataTable =\n",
              "            await google.colab.kernel.invokeFunction('convertToInteractive',\n",
              "                                                     [key], {});\n",
              "          if (!dataTable) return;\n",
              "\n",
              "          const docLinkHtml = 'Like what you see? Visit the ' +\n",
              "            '<a target=\"_blank\" href=https://colab.research.google.com/notebooks/data_table.ipynb>data table notebook</a>'\n",
              "            + ' to learn more about interactive tables.';\n",
              "          element.innerHTML = '';\n",
              "          dataTable['output_type'] = 'display_data';\n",
              "          await google.colab.output.renderOutput(dataTable, element);\n",
              "          const docLink = document.createElement('div');\n",
              "          docLink.innerHTML = docLinkHtml;\n",
              "          element.appendChild(docLink);\n",
              "        }\n",
              "      </script>\n",
              "    </div>\n",
              "  </div>\n",
              "  "
            ]
          },
          "metadata": {},
          "execution_count": 91
        }
      ]
    },
    {
      "cell_type": "markdown",
      "source": [
        "> Dari informasi yang didapatkan dapat diambil simpulan bahwa model data overfit dengan nilai f1-score train adalah 1.00 dan train 0.53.\n",
        "\n",
        "> Akurasi pada train senilai 100% dan pada test senilai 84%"
      ],
      "metadata": {
        "id": "UZHOJOGwBR-G"
      }
    },
    {
      "cell_type": "markdown",
      "source": [
        ">"
      ],
      "metadata": {
        "id": "ghDs8xhHBBVv"
      }
    },
    {
      "cell_type": "markdown",
      "source": [
        "### Model Training Grid Search"
      ],
      "metadata": {
        "id": "3A59RnX6Lfm7"
      }
    },
    {
      "cell_type": "code",
      "source": [
        "# Latih Dengan Grid Search Untuk Menentukan Hyperparameter Terbaik\n",
        "%%time\n",
        "# Mennetukan parameter grid\n",
        "\n",
        "param_grid = {\n",
        "    'criterion' : ['gini', 'entropy', 'log_loss'],\n",
        "    'n_estimators': [25, 50, 100, 150],\n",
        "    'max_features': ['sqrt', 'log2', None],\n",
        "    'max_depth': [3, 6, 9],\n",
        "    'max_leaf_nodes': [3, 6, 9],\n",
        "}\n",
        "\n",
        "rf_gridcv = GridSearchCV(estimator=rf, \n",
        "                           param_grid=param_grid, \n",
        "                           cv=3, n_jobs=-1, verbose=2, scoring = \"f1\")\n",
        "\n",
        "\n",
        "rf_gridcv.fit(X_train_final, y_train_trim)\n"
      ],
      "metadata": {
        "outputId": "c10f29b0-e71a-47b6-994a-d6084eda2063",
        "colab": {
          "base_uri": "https://localhost:8080/",
          "height": 170
        },
        "id": "OEx3zavqLfm7"
      },
      "execution_count": 92,
      "outputs": [
        {
          "output_type": "stream",
          "name": "stdout",
          "text": [
            "Fitting 3 folds for each of 324 candidates, totalling 972 fits\n",
            "CPU times: user 3.34 s, sys: 297 ms, total: 3.64 s\n",
            "Wall time: 4min 25s\n"
          ]
        },
        {
          "output_type": "execute_result",
          "data": {
            "text/plain": [
              "GridSearchCV(cv=3, estimator=RandomForestClassifier(), n_jobs=-1,\n",
              "             param_grid={'criterion': ['gini', 'entropy', 'log_loss'],\n",
              "                         'max_depth': [3, 6, 9],\n",
              "                         'max_features': ['sqrt', 'log2', None],\n",
              "                         'max_leaf_nodes': [3, 6, 9],\n",
              "                         'n_estimators': [25, 50, 100, 150]},\n",
              "             scoring='f1', verbose=2)"
            ],
            "text/html": [
              "<style>#sk-container-id-17 {color: black;background-color: white;}#sk-container-id-17 pre{padding: 0;}#sk-container-id-17 div.sk-toggleable {background-color: white;}#sk-container-id-17 label.sk-toggleable__label {cursor: pointer;display: block;width: 100%;margin-bottom: 0;padding: 0.3em;box-sizing: border-box;text-align: center;}#sk-container-id-17 label.sk-toggleable__label-arrow:before {content: \"▸\";float: left;margin-right: 0.25em;color: #696969;}#sk-container-id-17 label.sk-toggleable__label-arrow:hover:before {color: black;}#sk-container-id-17 div.sk-estimator:hover label.sk-toggleable__label-arrow:before {color: black;}#sk-container-id-17 div.sk-toggleable__content {max-height: 0;max-width: 0;overflow: hidden;text-align: left;background-color: #f0f8ff;}#sk-container-id-17 div.sk-toggleable__content pre {margin: 0.2em;color: black;border-radius: 0.25em;background-color: #f0f8ff;}#sk-container-id-17 input.sk-toggleable__control:checked~div.sk-toggleable__content {max-height: 200px;max-width: 100%;overflow: auto;}#sk-container-id-17 input.sk-toggleable__control:checked~label.sk-toggleable__label-arrow:before {content: \"▾\";}#sk-container-id-17 div.sk-estimator input.sk-toggleable__control:checked~label.sk-toggleable__label {background-color: #d4ebff;}#sk-container-id-17 div.sk-label input.sk-toggleable__control:checked~label.sk-toggleable__label {background-color: #d4ebff;}#sk-container-id-17 input.sk-hidden--visually {border: 0;clip: rect(1px 1px 1px 1px);clip: rect(1px, 1px, 1px, 1px);height: 1px;margin: -1px;overflow: hidden;padding: 0;position: absolute;width: 1px;}#sk-container-id-17 div.sk-estimator {font-family: monospace;background-color: #f0f8ff;border: 1px dotted black;border-radius: 0.25em;box-sizing: border-box;margin-bottom: 0.5em;}#sk-container-id-17 div.sk-estimator:hover {background-color: #d4ebff;}#sk-container-id-17 div.sk-parallel-item::after {content: \"\";width: 100%;border-bottom: 1px solid gray;flex-grow: 1;}#sk-container-id-17 div.sk-label:hover label.sk-toggleable__label {background-color: #d4ebff;}#sk-container-id-17 div.sk-serial::before {content: \"\";position: absolute;border-left: 1px solid gray;box-sizing: border-box;top: 0;bottom: 0;left: 50%;z-index: 0;}#sk-container-id-17 div.sk-serial {display: flex;flex-direction: column;align-items: center;background-color: white;padding-right: 0.2em;padding-left: 0.2em;position: relative;}#sk-container-id-17 div.sk-item {position: relative;z-index: 1;}#sk-container-id-17 div.sk-parallel {display: flex;align-items: stretch;justify-content: center;background-color: white;position: relative;}#sk-container-id-17 div.sk-item::before, #sk-container-id-17 div.sk-parallel-item::before {content: \"\";position: absolute;border-left: 1px solid gray;box-sizing: border-box;top: 0;bottom: 0;left: 50%;z-index: -1;}#sk-container-id-17 div.sk-parallel-item {display: flex;flex-direction: column;z-index: 1;position: relative;background-color: white;}#sk-container-id-17 div.sk-parallel-item:first-child::after {align-self: flex-end;width: 50%;}#sk-container-id-17 div.sk-parallel-item:last-child::after {align-self: flex-start;width: 50%;}#sk-container-id-17 div.sk-parallel-item:only-child::after {width: 0;}#sk-container-id-17 div.sk-dashed-wrapped {border: 1px dashed gray;margin: 0 0.4em 0.5em 0.4em;box-sizing: border-box;padding-bottom: 0.4em;background-color: white;}#sk-container-id-17 div.sk-label label {font-family: monospace;font-weight: bold;display: inline-block;line-height: 1.2em;}#sk-container-id-17 div.sk-label-container {text-align: center;}#sk-container-id-17 div.sk-container {/* jupyter's `normalize.less` sets `[hidden] { display: none; }` but bootstrap.min.css set `[hidden] { display: none !important; }` so we also need the `!important` here to be able to override the default hidden behavior on the sphinx rendered scikit-learn.org. See: https://github.com/scikit-learn/scikit-learn/issues/21755 */display: inline-block !important;position: relative;}#sk-container-id-17 div.sk-text-repr-fallback {display: none;}</style><div id=\"sk-container-id-17\" class=\"sk-top-container\"><div class=\"sk-text-repr-fallback\"><pre>GridSearchCV(cv=3, estimator=RandomForestClassifier(), n_jobs=-1,\n",
              "             param_grid={&#x27;criterion&#x27;: [&#x27;gini&#x27;, &#x27;entropy&#x27;, &#x27;log_loss&#x27;],\n",
              "                         &#x27;max_depth&#x27;: [3, 6, 9],\n",
              "                         &#x27;max_features&#x27;: [&#x27;sqrt&#x27;, &#x27;log2&#x27;, None],\n",
              "                         &#x27;max_leaf_nodes&#x27;: [3, 6, 9],\n",
              "                         &#x27;n_estimators&#x27;: [25, 50, 100, 150]},\n",
              "             scoring=&#x27;f1&#x27;, verbose=2)</pre><b>In a Jupyter environment, please rerun this cell to show the HTML representation or trust the notebook. <br />On GitHub, the HTML representation is unable to render, please try loading this page with nbviewer.org.</b></div><div class=\"sk-container\" hidden><div class=\"sk-item sk-dashed-wrapped\"><div class=\"sk-label-container\"><div class=\"sk-label sk-toggleable\"><input class=\"sk-toggleable__control sk-hidden--visually\" id=\"sk-estimator-id-29\" type=\"checkbox\" ><label for=\"sk-estimator-id-29\" class=\"sk-toggleable__label sk-toggleable__label-arrow\">GridSearchCV</label><div class=\"sk-toggleable__content\"><pre>GridSearchCV(cv=3, estimator=RandomForestClassifier(), n_jobs=-1,\n",
              "             param_grid={&#x27;criterion&#x27;: [&#x27;gini&#x27;, &#x27;entropy&#x27;, &#x27;log_loss&#x27;],\n",
              "                         &#x27;max_depth&#x27;: [3, 6, 9],\n",
              "                         &#x27;max_features&#x27;: [&#x27;sqrt&#x27;, &#x27;log2&#x27;, None],\n",
              "                         &#x27;max_leaf_nodes&#x27;: [3, 6, 9],\n",
              "                         &#x27;n_estimators&#x27;: [25, 50, 100, 150]},\n",
              "             scoring=&#x27;f1&#x27;, verbose=2)</pre></div></div></div><div class=\"sk-parallel\"><div class=\"sk-parallel-item\"><div class=\"sk-item\"><div class=\"sk-label-container\"><div class=\"sk-label sk-toggleable\"><input class=\"sk-toggleable__control sk-hidden--visually\" id=\"sk-estimator-id-30\" type=\"checkbox\" ><label for=\"sk-estimator-id-30\" class=\"sk-toggleable__label sk-toggleable__label-arrow\">estimator: RandomForestClassifier</label><div class=\"sk-toggleable__content\"><pre>RandomForestClassifier()</pre></div></div></div><div class=\"sk-serial\"><div class=\"sk-item\"><div class=\"sk-estimator sk-toggleable\"><input class=\"sk-toggleable__control sk-hidden--visually\" id=\"sk-estimator-id-31\" type=\"checkbox\" ><label for=\"sk-estimator-id-31\" class=\"sk-toggleable__label sk-toggleable__label-arrow\">RandomForestClassifier</label><div class=\"sk-toggleable__content\"><pre>RandomForestClassifier()</pre></div></div></div></div></div></div></div></div></div></div>"
            ]
          },
          "metadata": {},
          "execution_count": 92
        }
      ]
    },
    {
      "cell_type": "markdown",
      "source": [
        "> melakukan training data train menggunakn grid search dengan hyperparameter yang digunakan adalah criterion, n_estimator, max_feature, max_depth dan max_leaf_node."
      ],
      "metadata": {
        "id": "aBY34mahBrvR"
      }
    },
    {
      "cell_type": "code",
      "source": [
        "# Menampilkan Hyperparameters Terbaik Pada Random Forest\n",
        "rf_gridcv.best_estimator_"
      ],
      "metadata": {
        "outputId": "1dd6c9a7-ded1-4dae-a924-b4805a697dc1",
        "colab": {
          "base_uri": "https://localhost:8080/",
          "height": 92
        },
        "id": "FFiXlyMhLfm8"
      },
      "execution_count": 93,
      "outputs": [
        {
          "output_type": "execute_result",
          "data": {
            "text/plain": [
              "RandomForestClassifier(max_depth=6, max_features=None, max_leaf_nodes=9,\n",
              "                       n_estimators=25)"
            ],
            "text/html": [
              "<style>#sk-container-id-18 {color: black;background-color: white;}#sk-container-id-18 pre{padding: 0;}#sk-container-id-18 div.sk-toggleable {background-color: white;}#sk-container-id-18 label.sk-toggleable__label {cursor: pointer;display: block;width: 100%;margin-bottom: 0;padding: 0.3em;box-sizing: border-box;text-align: center;}#sk-container-id-18 label.sk-toggleable__label-arrow:before {content: \"▸\";float: left;margin-right: 0.25em;color: #696969;}#sk-container-id-18 label.sk-toggleable__label-arrow:hover:before {color: black;}#sk-container-id-18 div.sk-estimator:hover label.sk-toggleable__label-arrow:before {color: black;}#sk-container-id-18 div.sk-toggleable__content {max-height: 0;max-width: 0;overflow: hidden;text-align: left;background-color: #f0f8ff;}#sk-container-id-18 div.sk-toggleable__content pre {margin: 0.2em;color: black;border-radius: 0.25em;background-color: #f0f8ff;}#sk-container-id-18 input.sk-toggleable__control:checked~div.sk-toggleable__content {max-height: 200px;max-width: 100%;overflow: auto;}#sk-container-id-18 input.sk-toggleable__control:checked~label.sk-toggleable__label-arrow:before {content: \"▾\";}#sk-container-id-18 div.sk-estimator input.sk-toggleable__control:checked~label.sk-toggleable__label {background-color: #d4ebff;}#sk-container-id-18 div.sk-label input.sk-toggleable__control:checked~label.sk-toggleable__label {background-color: #d4ebff;}#sk-container-id-18 input.sk-hidden--visually {border: 0;clip: rect(1px 1px 1px 1px);clip: rect(1px, 1px, 1px, 1px);height: 1px;margin: -1px;overflow: hidden;padding: 0;position: absolute;width: 1px;}#sk-container-id-18 div.sk-estimator {font-family: monospace;background-color: #f0f8ff;border: 1px dotted black;border-radius: 0.25em;box-sizing: border-box;margin-bottom: 0.5em;}#sk-container-id-18 div.sk-estimator:hover {background-color: #d4ebff;}#sk-container-id-18 div.sk-parallel-item::after {content: \"\";width: 100%;border-bottom: 1px solid gray;flex-grow: 1;}#sk-container-id-18 div.sk-label:hover label.sk-toggleable__label {background-color: #d4ebff;}#sk-container-id-18 div.sk-serial::before {content: \"\";position: absolute;border-left: 1px solid gray;box-sizing: border-box;top: 0;bottom: 0;left: 50%;z-index: 0;}#sk-container-id-18 div.sk-serial {display: flex;flex-direction: column;align-items: center;background-color: white;padding-right: 0.2em;padding-left: 0.2em;position: relative;}#sk-container-id-18 div.sk-item {position: relative;z-index: 1;}#sk-container-id-18 div.sk-parallel {display: flex;align-items: stretch;justify-content: center;background-color: white;position: relative;}#sk-container-id-18 div.sk-item::before, #sk-container-id-18 div.sk-parallel-item::before {content: \"\";position: absolute;border-left: 1px solid gray;box-sizing: border-box;top: 0;bottom: 0;left: 50%;z-index: -1;}#sk-container-id-18 div.sk-parallel-item {display: flex;flex-direction: column;z-index: 1;position: relative;background-color: white;}#sk-container-id-18 div.sk-parallel-item:first-child::after {align-self: flex-end;width: 50%;}#sk-container-id-18 div.sk-parallel-item:last-child::after {align-self: flex-start;width: 50%;}#sk-container-id-18 div.sk-parallel-item:only-child::after {width: 0;}#sk-container-id-18 div.sk-dashed-wrapped {border: 1px dashed gray;margin: 0 0.4em 0.5em 0.4em;box-sizing: border-box;padding-bottom: 0.4em;background-color: white;}#sk-container-id-18 div.sk-label label {font-family: monospace;font-weight: bold;display: inline-block;line-height: 1.2em;}#sk-container-id-18 div.sk-label-container {text-align: center;}#sk-container-id-18 div.sk-container {/* jupyter's `normalize.less` sets `[hidden] { display: none; }` but bootstrap.min.css set `[hidden] { display: none !important; }` so we also need the `!important` here to be able to override the default hidden behavior on the sphinx rendered scikit-learn.org. See: https://github.com/scikit-learn/scikit-learn/issues/21755 */display: inline-block !important;position: relative;}#sk-container-id-18 div.sk-text-repr-fallback {display: none;}</style><div id=\"sk-container-id-18\" class=\"sk-top-container\"><div class=\"sk-text-repr-fallback\"><pre>RandomForestClassifier(max_depth=6, max_features=None, max_leaf_nodes=9,\n",
              "                       n_estimators=25)</pre><b>In a Jupyter environment, please rerun this cell to show the HTML representation or trust the notebook. <br />On GitHub, the HTML representation is unable to render, please try loading this page with nbviewer.org.</b></div><div class=\"sk-container\" hidden><div class=\"sk-item\"><div class=\"sk-estimator sk-toggleable\"><input class=\"sk-toggleable__control sk-hidden--visually\" id=\"sk-estimator-id-32\" type=\"checkbox\" checked><label for=\"sk-estimator-id-32\" class=\"sk-toggleable__label sk-toggleable__label-arrow\">RandomForestClassifier</label><div class=\"sk-toggleable__content\"><pre>RandomForestClassifier(max_depth=6, max_features=None, max_leaf_nodes=9,\n",
              "                       n_estimators=25)</pre></div></div></div></div></div>"
            ]
          },
          "metadata": {},
          "execution_count": 93
        }
      ]
    },
    {
      "cell_type": "code",
      "source": [
        "rf_gridcv.best_params_"
      ],
      "metadata": {
        "outputId": "d1ddfbd5-f2c4-475a-f31a-b47f0bf88527",
        "colab": {
          "base_uri": "https://localhost:8080/"
        },
        "id": "1o6rLei2Lfm8"
      },
      "execution_count": 94,
      "outputs": [
        {
          "output_type": "execute_result",
          "data": {
            "text/plain": [
              "{'criterion': 'gini',\n",
              " 'max_depth': 6,\n",
              " 'max_features': None,\n",
              " 'max_leaf_nodes': 9,\n",
              " 'n_estimators': 25}"
            ]
          },
          "metadata": {},
          "execution_count": 94
        }
      ]
    },
    {
      "cell_type": "markdown",
      "source": [
        "> Dari hasil train diketahui bahwa hyperparameter terbaik memiliki criterion gini, dengan max_depth 6, max_leaf_node 9, n_estimator 25 dan max_features none.\n",
        "\n",
        "> Hyperparameter tersebut akan digunakan pada train data test."
      ],
      "metadata": {
        "id": "vDC1_zYhB_Gt"
      }
    },
    {
      "cell_type": "code",
      "source": [
        "# Menyimpan Hyperparameter terbaik Untuk Uji Untuk Uji Data pada Variabel rf_gridcv_best\n",
        "\n",
        "rf_gridcv_best = rf_gridcv.best_estimator_"
      ],
      "metadata": {
        "id": "o-RhGVkzLfm8"
      },
      "execution_count": 95,
      "outputs": []
    },
    {
      "cell_type": "markdown",
      "source": [
        "### Model Evaluation Grid Search"
      ],
      "metadata": {
        "id": "jDS515fyLfm8"
      }
    },
    {
      "cell_type": "code",
      "source": [
        "# Cek Performa Model Menggunakan Hyperparameter Terbaik\n",
        "\n",
        "y_pred_test_rf_grid = rf_gridcv_best.predict(X_test_final)\n",
        "\n",
        "print('F1 Score - Test Set   : ', f1_score(y_test, y_pred_test_rf_grid), '\\n')\n",
        "print('Classification Report : \\n', classification_report(y_test, y_pred_test_rf_grid), '\\n')\n",
        "print('Confusion Matrix      : \\n', ConfusionMatrixDisplay.from_estimator(rf_gridcv_best, X_test_final, y_test, cmap='Reds'))"
      ],
      "metadata": {
        "outputId": "cafa5b36-d395-4450-9a8f-94599440a19c",
        "colab": {
          "base_uri": "https://localhost:8080/",
          "height": 539
        },
        "id": "6jnpMLsRLfm8"
      },
      "execution_count": 96,
      "outputs": [
        {
          "output_type": "stream",
          "name": "stdout",
          "text": [
            "F1 Score - Test Set   :  0.48704663212435223 \n",
            "\n",
            "Classification Report : \n",
            "               precision    recall  f1-score   support\n",
            "\n",
            "           0       0.85      0.96      0.90       468\n",
            "           1       0.69      0.38      0.49       125\n",
            "\n",
            "    accuracy                           0.83       593\n",
            "   macro avg       0.77      0.67      0.69       593\n",
            "weighted avg       0.82      0.83      0.81       593\n",
            " \n",
            "\n",
            "Confusion Matrix      : \n",
            " <sklearn.metrics._plot.confusion_matrix.ConfusionMatrixDisplay object at 0x7f8a5f1ff3a0>\n"
          ]
        },
        {
          "output_type": "display_data",
          "data": {
            "text/plain": [
              "<Figure size 432x288 with 2 Axes>"
            ],
            "image/png": "[encoded data removed]"
          },
          "metadata": {
            "needs_background": "light"
          }
        }
      ]
    },
    {
      "cell_type": "markdown",
      "source": [
        "> Dari hasil test diketahui bahwa f1-score test bernilai 0.49 dengan akurasi 83%."
      ],
      "metadata": {
        "id": "zCriPEhTCUog"
      }
    },
    {
      "cell_type": "code",
      "source": [
        "# Save Classification Report into a Dictionary\n",
        "\n",
        "score_reports = {\n",
        "    'train - precision' : precision_score(y_train_trim, y_pred_train_rf),\n",
        "    'train - recall' : recall_score(y_train_trim, y_pred_train_rf),\n",
        "    'train - accuracy' : accuracy_score(y_train_trim, y_pred_train_rf),\n",
        "    'train - f1_score' : f1_score(y_train_trim, y_pred_train_rf),\n",
        "    'test - precision' : precision_score(y_test, y_pred_test_rf_grid),\n",
        "    'test - recall' : recall_score(y_test, y_pred_test_rf_grid),\n",
        "    'test - accuracy_score' : accuracy_score(y_test, y_pred_test_rf_grid),\n",
        "    'test - f1_score' : f1_score(y_test, y_pred_test_rf_grid),\n",
        "}\n",
        "all_reports['Grid Search'] = score_reports\n",
        "pd.DataFrame(all_reports)"
      ],
      "metadata": {
        "outputId": "78b560b9-8151-4be2-bed7-7e70a32a3de4",
        "colab": {
          "base_uri": "https://localhost:8080/",
          "height": 300
        },
        "id": "sOk1dFaQLfm8"
      },
      "execution_count": 97,
      "outputs": [
        {
          "output_type": "execute_result",
          "data": {
            "text/plain": [
              "                       Baseline (Default Hyperparameter)  Grid Search\n",
              "train - precision                               1.000000     1.000000\n",
              "train - recall                                  1.000000     1.000000\n",
              "train - accuracy                                1.000000     1.000000\n",
              "train - f1_score                                1.000000     1.000000\n",
              "test - precision                                0.697368     0.691176\n",
              "test - recall                                   0.424000     0.376000\n",
              "test - accuracy_score                           0.839798     0.833052\n",
              "test - f1_score                                 0.527363     0.487047"
            ],
            "text/html": [
              "\n",
              "  <div id=\"df-48c232b3-ac86-4ae9-bf7d-dda5e22cb95b\">\n",
              "    <div class=\"colab-df-container\">\n",
              "      <div>\n",
              "<style scoped>\n",
              "    .dataframe tbody tr th:only-of-type {\n",
              "        vertical-align: middle;\n",
              "    }\n",
              "\n",
              "    .dataframe tbody tr th {\n",
              "        vertical-align: top;\n",
              "    }\n",
              "\n",
              "    .dataframe thead th {\n",
              "        text-align: right;\n",
              "    }\n",
              "</style>\n",
              "<table border=\"1\" class=\"dataframe\">\n",
              "  <thead>\n",
              "    <tr style=\"text-align: right;\">\n",
              "      <th></th>\n",
              "      <th>Baseline (Default Hyperparameter)</th>\n",
              "      <th>Grid Search</th>\n",
              "    </tr>\n",
              "  </thead>\n",
              "  <tbody>\n",
              "    <tr>\n",
              "      <th>train - precision</th>\n",
              "      <td>1.000000</td>\n",
              "      <td>1.000000</td>\n",
              "    </tr>\n",
              "    <tr>\n",
              "      <th>train - recall</th>\n",
              "      <td>1.000000</td>\n",
              "      <td>1.000000</td>\n",
              "    </tr>\n",
              "    <tr>\n",
              "      <th>train - accuracy</th>\n",
              "      <td>1.000000</td>\n",
              "      <td>1.000000</td>\n",
              "    </tr>\n",
              "    <tr>\n",
              "      <th>train - f1_score</th>\n",
              "      <td>1.000000</td>\n",
              "      <td>1.000000</td>\n",
              "    </tr>\n",
              "    <tr>\n",
              "      <th>test - precision</th>\n",
              "      <td>0.697368</td>\n",
              "      <td>0.691176</td>\n",
              "    </tr>\n",
              "    <tr>\n",
              "      <th>test - recall</th>\n",
              "      <td>0.424000</td>\n",
              "      <td>0.376000</td>\n",
              "    </tr>\n",
              "    <tr>\n",
              "      <th>test - accuracy_score</th>\n",
              "      <td>0.839798</td>\n",
              "      <td>0.833052</td>\n",
              "    </tr>\n",
              "    <tr>\n",
              "      <th>test - f1_score</th>\n",
              "      <td>0.527363</td>\n",
              "      <td>0.487047</td>\n",
              "    </tr>\n",
              "  </tbody>\n",
              "</table>\n",
              "</div>\n",
              "      <button class=\"colab-df-convert\" onclick=\"convertToInteractive('df-48c232b3-ac86-4ae9-bf7d-dda5e22cb95b')\"\n",
              "              title=\"Convert this dataframe to an interactive table.\"\n",
              "              style=\"display:none;\">\n",
              "        \n",
              "  <svg xmlns=\"http://www.w3.org/2000/svg\" height=\"24px\"viewBox=\"0 0 24 24\"\n",
              "       width=\"24px\">\n",
              "    <path d=\"M0 0h24v24H0V0z\" fill=\"none\"/>\n",
              "    <path d=\"M18.56 5.44l.94 2.06.94-2.06 2.06-.94-2.06-.94-.94-2.06-.94 2.06-2.06.94zm-11 1L8.5 8.5l.94-2.06 2.06-.94-2.06-.94L8.5 2.5l-.94 2.06-2.06.94zm10 10l.94 2.06.94-2.06 2.06-.94-2.06-.94-.94-2.06-.94 2.06-2.06.94z\"/><path d=\"M17.41 7.96l-1.37-1.37c-.4-.4-.92-.59-1.43-.59-.52 0-1.04.2-1.43.59L10.3 9.45l-7.72 7.72c-.78.78-.78 2.05 0 2.83L4 21.41c.39.39.9.59 1.41.59.51 0 1.02-.2 1.41-.59l7.78-7.78 2.81-2.81c.8-.78.8-2.07 0-2.86zM5.41 20L4 18.59l7.72-7.72 1.47 1.35L5.41 20z\"/>\n",
              "  </svg>\n",
              "      </button>\n",
              "      \n",
              "  <style>\n",
              "    .colab-df-container {\n",
              "      display:flex;\n",
              "      flex-wrap:wrap;\n",
              "      gap: 12px;\n",
              "    }\n",
              "\n",
              "    .colab-df-convert {\n",
              "      background-color: #E8F0FE;\n",
              "      border: none;\n",
              "      border-radius: 50%;\n",
              "      cursor: pointer;\n",
              "      display: none;\n",
              "      fill: #1967D2;\n",
              "      height: 32px;\n",
              "      padding: 0 0 0 0;\n",
              "      width: 32px;\n",
              "    }\n",
              "\n",
              "    .colab-df-convert:hover {\n",
              "      background-color: #E2EBFA;\n",
              "      box-shadow: 0px 1px 2px rgba(60, 64, 67, 0.3), 0px 1px 3px 1px rgba(60, 64, 67, 0.15);\n",
              "      fill: #174EA6;\n",
              "    }\n",
              "\n",
              "    [theme=dark] .colab-df-convert {\n",
              "      background-color: #3B4455;\n",
              "      fill: #D2E3FC;\n",
              "    }\n",
              "\n",
              "    [theme=dark] .colab-df-convert:hover {\n",
              "      background-color: #434B5C;\n",
              "      box-shadow: 0px 1px 3px 1px rgba(0, 0, 0, 0.15);\n",
              "      filter: drop-shadow(0px 1px 2px rgba(0, 0, 0, 0.3));\n",
              "      fill: #FFFFFF;\n",
              "    }\n",
              "  </style>\n",
              "\n",
              "      <script>\n",
              "        const buttonEl =\n",
              "          document.querySelector('#df-48c232b3-ac86-4ae9-bf7d-dda5e22cb95b button.colab-df-convert');\n",
              "        buttonEl.style.display =\n",
              "          google.colab.kernel.accessAllowed ? 'block' : 'none';\n",
              "\n",
              "        async function convertToInteractive(key) {\n",
              "          const element = document.querySelector('#df-48c232b3-ac86-4ae9-bf7d-dda5e22cb95b');\n",
              "          const dataTable =\n",
              "            await google.colab.kernel.invokeFunction('convertToInteractive',\n",
              "                                                     [key], {});\n",
              "          if (!dataTable) return;\n",
              "\n",
              "          const docLinkHtml = 'Like what you see? Visit the ' +\n",
              "            '<a target=\"_blank\" href=https://colab.research.google.com/notebooks/data_table.ipynb>data table notebook</a>'\n",
              "            + ' to learn more about interactive tables.';\n",
              "          element.innerHTML = '';\n",
              "          dataTable['output_type'] = 'display_data';\n",
              "          await google.colab.output.renderOutput(dataTable, element);\n",
              "          const docLink = document.createElement('div');\n",
              "          docLink.innerHTML = docLinkHtml;\n",
              "          element.appendChild(docLink);\n",
              "        }\n",
              "      </script>\n",
              "    </div>\n",
              "  </div>\n",
              "  "
            ]
          },
          "metadata": {},
          "execution_count": 97
        }
      ]
    },
    {
      "cell_type": "markdown",
      "source": [
        "> f1-score train mneggunakan grid search memiliki nilai 1.00 dan f1-score testnya memiliki nilai 0.49 yan gmanandakan model yang dibuat overfit."
      ],
      "metadata": {
        "id": "Ls_5ujCqCfPg"
      }
    },
    {
      "cell_type": "markdown",
      "source": [
        "### Model Training Random Search"
      ],
      "metadata": {
        "id": "403SGSunLfm8"
      }
    },
    {
      "cell_type": "code",
      "source": [
        "random_grid_rf = {'criterion' : ['gini', 'entropy', 'log_loss'],\n",
        "                  'n_estimators': [25, 50, 100, 150],\n",
        "                  'max_features': ['sqrt', 'log2', None],\n",
        "                  'max_depth': [3, 6, 9],\n",
        "                  'max_leaf_nodes': [3, 6, 9]\n",
        "                  }\n",
        "random_grid_rf"
      ],
      "metadata": {
        "outputId": "8e2869c0-1399-4567-bd2d-6394e74789b6",
        "colab": {
          "base_uri": "https://localhost:8080/"
        },
        "id": "cLGRj6c_Lfm8"
      },
      "execution_count": 98,
      "outputs": [
        {
          "output_type": "execute_result",
          "data": {
            "text/plain": [
              "{'criterion': ['gini', 'entropy', 'log_loss'],\n",
              " 'n_estimators': [25, 50, 100, 150],\n",
              " 'max_features': ['sqrt', 'log2', None],\n",
              " 'max_depth': [3, 6, 9],\n",
              " 'max_leaf_nodes': [3, 6, 9]}"
            ]
          },
          "metadata": {},
          "execution_count": 98
        }
      ]
    },
    {
      "cell_type": "code",
      "source": [
        "# Train with Random Search\n",
        "%%time\n",
        "\n",
        "rf_randomcv = RandomizedSearchCV(estimator=rf,\n",
        "                         param_distributions=random_grid_rf,\n",
        "                         cv=3,\n",
        "                         n_jobs=-1,\n",
        "                         verbose=2, \n",
        "                         scoring='f1')\n",
        "rf_randomcv.fit(X_train_final, y_train_trim)"
      ],
      "metadata": {
        "outputId": "819a72d0-f0e3-40c4-e859-03132568c87b",
        "colab": {
          "base_uri": "https://localhost:8080/",
          "height": 170
        },
        "id": "eCRthYr_Lfm8"
      },
      "execution_count": 99,
      "outputs": [
        {
          "output_type": "stream",
          "name": "stdout",
          "text": [
            "Fitting 3 folds for each of 10 candidates, totalling 30 fits\n",
            "CPU times: user 910 ms, sys: 11.3 ms, total: 921 ms\n",
            "Wall time: 9.99 s\n"
          ]
        },
        {
          "output_type": "execute_result",
          "data": {
            "text/plain": [
              "RandomizedSearchCV(cv=3, estimator=RandomForestClassifier(), n_jobs=-1,\n",
              "                   param_distributions={'criterion': ['gini', 'entropy',\n",
              "                                                      'log_loss'],\n",
              "                                        'max_depth': [3, 6, 9],\n",
              "                                        'max_features': ['sqrt', 'log2', None],\n",
              "                                        'max_leaf_nodes': [3, 6, 9],\n",
              "                                        'n_estimators': [25, 50, 100, 150]},\n",
              "                   scoring='f1', verbose=2)"
            ],
            "text/html": [
              "<style>#sk-container-id-19 {color: black;background-color: white;}#sk-container-id-19 pre{padding: 0;}#sk-container-id-19 div.sk-toggleable {background-color: white;}#sk-container-id-19 label.sk-toggleable__label {cursor: pointer;display: block;width: 100%;margin-bottom: 0;padding: 0.3em;box-sizing: border-box;text-align: center;}#sk-container-id-19 label.sk-toggleable__label-arrow:before {content: \"▸\";float: left;margin-right: 0.25em;color: #696969;}#sk-container-id-19 label.sk-toggleable__label-arrow:hover:before {color: black;}#sk-container-id-19 div.sk-estimator:hover label.sk-toggleable__label-arrow:before {color: black;}#sk-container-id-19 div.sk-toggleable__content {max-height: 0;max-width: 0;overflow: hidden;text-align: left;background-color: #f0f8ff;}#sk-container-id-19 div.sk-toggleable__content pre {margin: 0.2em;color: black;border-radius: 0.25em;background-color: #f0f8ff;}#sk-container-id-19 input.sk-toggleable__control:checked~div.sk-toggleable__content {max-height: 200px;max-width: 100%;overflow: auto;}#sk-container-id-19 input.sk-toggleable__control:checked~label.sk-toggleable__label-arrow:before {content: \"▾\";}#sk-container-id-19 div.sk-estimator input.sk-toggleable__control:checked~label.sk-toggleable__label {background-color: #d4ebff;}#sk-container-id-19 div.sk-label input.sk-toggleable__control:checked~label.sk-toggleable__label {background-color: #d4ebff;}#sk-container-id-19 input.sk-hidden--visually {border: 0;clip: rect(1px 1px 1px 1px);clip: rect(1px, 1px, 1px, 1px);height: 1px;margin: -1px;overflow: hidden;padding: 0;position: absolute;width: 1px;}#sk-container-id-19 div.sk-estimator {font-family: monospace;background-color: #f0f8ff;border: 1px dotted black;border-radius: 0.25em;box-sizing: border-box;margin-bottom: 0.5em;}#sk-container-id-19 div.sk-estimator:hover {background-color: #d4ebff;}#sk-container-id-19 div.sk-parallel-item::after {content: \"\";width: 100%;border-bottom: 1px solid gray;flex-grow: 1;}#sk-container-id-19 div.sk-label:hover label.sk-toggleable__label {background-color: #d4ebff;}#sk-container-id-19 div.sk-serial::before {content: \"\";position: absolute;border-left: 1px solid gray;box-sizing: border-box;top: 0;bottom: 0;left: 50%;z-index: 0;}#sk-container-id-19 div.sk-serial {display: flex;flex-direction: column;align-items: center;background-color: white;padding-right: 0.2em;padding-left: 0.2em;position: relative;}#sk-container-id-19 div.sk-item {position: relative;z-index: 1;}#sk-container-id-19 div.sk-parallel {display: flex;align-items: stretch;justify-content: center;background-color: white;position: relative;}#sk-container-id-19 div.sk-item::before, #sk-container-id-19 div.sk-parallel-item::before {content: \"\";position: absolute;border-left: 1px solid gray;box-sizing: border-box;top: 0;bottom: 0;left: 50%;z-index: -1;}#sk-container-id-19 div.sk-parallel-item {display: flex;flex-direction: column;z-index: 1;position: relative;background-color: white;}#sk-container-id-19 div.sk-parallel-item:first-child::after {align-self: flex-end;width: 50%;}#sk-container-id-19 div.sk-parallel-item:last-child::after {align-self: flex-start;width: 50%;}#sk-container-id-19 div.sk-parallel-item:only-child::after {width: 0;}#sk-container-id-19 div.sk-dashed-wrapped {border: 1px dashed gray;margin: 0 0.4em 0.5em 0.4em;box-sizing: border-box;padding-bottom: 0.4em;background-color: white;}#sk-container-id-19 div.sk-label label {font-family: monospace;font-weight: bold;display: inline-block;line-height: 1.2em;}#sk-container-id-19 div.sk-label-container {text-align: center;}#sk-container-id-19 div.sk-container {/* jupyter's `normalize.less` sets `[hidden] { display: none; }` but bootstrap.min.css set `[hidden] { display: none !important; }` so we also need the `!important` here to be able to override the default hidden behavior on the sphinx rendered scikit-learn.org. See: https://github.com/scikit-learn/scikit-learn/issues/21755 */display: inline-block !important;position: relative;}#sk-container-id-19 div.sk-text-repr-fallback {display: none;}</style><div id=\"sk-container-id-19\" class=\"sk-top-container\"><div class=\"sk-text-repr-fallback\"><pre>RandomizedSearchCV(cv=3, estimator=RandomForestClassifier(), n_jobs=-1,\n",
              "                   param_distributions={&#x27;criterion&#x27;: [&#x27;gini&#x27;, &#x27;entropy&#x27;,\n",
              "                                                      &#x27;log_loss&#x27;],\n",
              "                                        &#x27;max_depth&#x27;: [3, 6, 9],\n",
              "                                        &#x27;max_features&#x27;: [&#x27;sqrt&#x27;, &#x27;log2&#x27;, None],\n",
              "                                        &#x27;max_leaf_nodes&#x27;: [3, 6, 9],\n",
              "                                        &#x27;n_estimators&#x27;: [25, 50, 100, 150]},\n",
              "                   scoring=&#x27;f1&#x27;, verbose=2)</pre><b>In a Jupyter environment, please rerun this cell to show the HTML representation or trust the notebook. <br />On GitHub, the HTML representation is unable to render, please try loading this page with nbviewer.org.</b></div><div class=\"sk-container\" hidden><div class=\"sk-item sk-dashed-wrapped\"><div class=\"sk-label-container\"><div class=\"sk-label sk-toggleable\"><input class=\"sk-toggleable__control sk-hidden--visually\" id=\"sk-estimator-id-33\" type=\"checkbox\" ><label for=\"sk-estimator-id-33\" class=\"sk-toggleable__label sk-toggleable__label-arrow\">RandomizedSearchCV</label><div class=\"sk-toggleable__content\"><pre>RandomizedSearchCV(cv=3, estimator=RandomForestClassifier(), n_jobs=-1,\n",
              "                   param_distributions={&#x27;criterion&#x27;: [&#x27;gini&#x27;, &#x27;entropy&#x27;,\n",
              "                                                      &#x27;log_loss&#x27;],\n",
              "                                        &#x27;max_depth&#x27;: [3, 6, 9],\n",
              "                                        &#x27;max_features&#x27;: [&#x27;sqrt&#x27;, &#x27;log2&#x27;, None],\n",
              "                                        &#x27;max_leaf_nodes&#x27;: [3, 6, 9],\n",
              "                                        &#x27;n_estimators&#x27;: [25, 50, 100, 150]},\n",
              "                   scoring=&#x27;f1&#x27;, verbose=2)</pre></div></div></div><div class=\"sk-parallel\"><div class=\"sk-parallel-item\"><div class=\"sk-item\"><div class=\"sk-label-container\"><div class=\"sk-label sk-toggleable\"><input class=\"sk-toggleable__control sk-hidden--visually\" id=\"sk-estimator-id-34\" type=\"checkbox\" ><label for=\"sk-estimator-id-34\" class=\"sk-toggleable__label sk-toggleable__label-arrow\">estimator: RandomForestClassifier</label><div class=\"sk-toggleable__content\"><pre>RandomForestClassifier()</pre></div></div></div><div class=\"sk-serial\"><div class=\"sk-item\"><div class=\"sk-estimator sk-toggleable\"><input class=\"sk-toggleable__control sk-hidden--visually\" id=\"sk-estimator-id-35\" type=\"checkbox\" ><label for=\"sk-estimator-id-35\" class=\"sk-toggleable__label sk-toggleable__label-arrow\">RandomForestClassifier</label><div class=\"sk-toggleable__content\"><pre>RandomForestClassifier()</pre></div></div></div></div></div></div></div></div></div></div>"
            ]
          },
          "metadata": {},
          "execution_count": 99
        }
      ]
    },
    {
      "cell_type": "code",
      "source": [
        "# Menampilkan Hyperparameters Terbaik Pada random forest\n",
        "rf_randomcv.best_estimator_"
      ],
      "metadata": {
        "outputId": "26081722-9e5c-4a89-c3ba-e1c89be3c823",
        "colab": {
          "base_uri": "https://localhost:8080/",
          "height": 92
        },
        "id": "5Xav0Z8rLfm8"
      },
      "execution_count": 100,
      "outputs": [
        {
          "output_type": "execute_result",
          "data": {
            "text/plain": [
              "RandomForestClassifier(criterion='entropy', max_depth=3, max_features=None,\n",
              "                       max_leaf_nodes=9)"
            ],
            "text/html": [
              "<style>#sk-container-id-20 {color: black;background-color: white;}#sk-container-id-20 pre{padding: 0;}#sk-container-id-20 div.sk-toggleable {background-color: white;}#sk-container-id-20 label.sk-toggleable__label {cursor: pointer;display: block;width: 100%;margin-bottom: 0;padding: 0.3em;box-sizing: border-box;text-align: center;}#sk-container-id-20 label.sk-toggleable__label-arrow:before {content: \"▸\";float: left;margin-right: 0.25em;color: #696969;}#sk-container-id-20 label.sk-toggleable__label-arrow:hover:before {color: black;}#sk-container-id-20 div.sk-estimator:hover label.sk-toggleable__label-arrow:before {color: black;}#sk-container-id-20 div.sk-toggleable__content {max-height: 0;max-width: 0;overflow: hidden;text-align: left;background-color: #f0f8ff;}#sk-container-id-20 div.sk-toggleable__content pre {margin: 0.2em;color: black;border-radius: 0.25em;background-color: #f0f8ff;}#sk-container-id-20 input.sk-toggleable__control:checked~div.sk-toggleable__content {max-height: 200px;max-width: 100%;overflow: auto;}#sk-container-id-20 input.sk-toggleable__control:checked~label.sk-toggleable__label-arrow:before {content: \"▾\";}#sk-container-id-20 div.sk-estimator input.sk-toggleable__control:checked~label.sk-toggleable__label {background-color: #d4ebff;}#sk-container-id-20 div.sk-label input.sk-toggleable__control:checked~label.sk-toggleable__label {background-color: #d4ebff;}#sk-container-id-20 input.sk-hidden--visually {border: 0;clip: rect(1px 1px 1px 1px);clip: rect(1px, 1px, 1px, 1px);height: 1px;margin: -1px;overflow: hidden;padding: 0;position: absolute;width: 1px;}#sk-container-id-20 div.sk-estimator {font-family: monospace;background-color: #f0f8ff;border: 1px dotted black;border-radius: 0.25em;box-sizing: border-box;margin-bottom: 0.5em;}#sk-container-id-20 div.sk-estimator:hover {background-color: #d4ebff;}#sk-container-id-20 div.sk-parallel-item::after {content: \"\";width: 100%;border-bottom: 1px solid gray;flex-grow: 1;}#sk-container-id-20 div.sk-label:hover label.sk-toggleable__label {background-color: #d4ebff;}#sk-container-id-20 div.sk-serial::before {content: \"\";position: absolute;border-left: 1px solid gray;box-sizing: border-box;top: 0;bottom: 0;left: 50%;z-index: 0;}#sk-container-id-20 div.sk-serial {display: flex;flex-direction: column;align-items: center;background-color: white;padding-right: 0.2em;padding-left: 0.2em;position: relative;}#sk-container-id-20 div.sk-item {position: relative;z-index: 1;}#sk-container-id-20 div.sk-parallel {display: flex;align-items: stretch;justify-content: center;background-color: white;position: relative;}#sk-container-id-20 div.sk-item::before, #sk-container-id-20 div.sk-parallel-item::before {content: \"\";position: absolute;border-left: 1px solid gray;box-sizing: border-box;top: 0;bottom: 0;left: 50%;z-index: -1;}#sk-container-id-20 div.sk-parallel-item {display: flex;flex-direction: column;z-index: 1;position: relative;background-color: white;}#sk-container-id-20 div.sk-parallel-item:first-child::after {align-self: flex-end;width: 50%;}#sk-container-id-20 div.sk-parallel-item:last-child::after {align-self: flex-start;width: 50%;}#sk-container-id-20 div.sk-parallel-item:only-child::after {width: 0;}#sk-container-id-20 div.sk-dashed-wrapped {border: 1px dashed gray;margin: 0 0.4em 0.5em 0.4em;box-sizing: border-box;padding-bottom: 0.4em;background-color: white;}#sk-container-id-20 div.sk-label label {font-family: monospace;font-weight: bold;display: inline-block;line-height: 1.2em;}#sk-container-id-20 div.sk-label-container {text-align: center;}#sk-container-id-20 div.sk-container {/* jupyter's `normalize.less` sets `[hidden] { display: none; }` but bootstrap.min.css set `[hidden] { display: none !important; }` so we also need the `!important` here to be able to override the default hidden behavior on the sphinx rendered scikit-learn.org. See: https://github.com/scikit-learn/scikit-learn/issues/21755 */display: inline-block !important;position: relative;}#sk-container-id-20 div.sk-text-repr-fallback {display: none;}</style><div id=\"sk-container-id-20\" class=\"sk-top-container\"><div class=\"sk-text-repr-fallback\"><pre>RandomForestClassifier(criterion=&#x27;entropy&#x27;, max_depth=3, max_features=None,\n",
              "                       max_leaf_nodes=9)</pre><b>In a Jupyter environment, please rerun this cell to show the HTML representation or trust the notebook. <br />On GitHub, the HTML representation is unable to render, please try loading this page with nbviewer.org.</b></div><div class=\"sk-container\" hidden><div class=\"sk-item\"><div class=\"sk-estimator sk-toggleable\"><input class=\"sk-toggleable__control sk-hidden--visually\" id=\"sk-estimator-id-36\" type=\"checkbox\" checked><label for=\"sk-estimator-id-36\" class=\"sk-toggleable__label sk-toggleable__label-arrow\">RandomForestClassifier</label><div class=\"sk-toggleable__content\"><pre>RandomForestClassifier(criterion=&#x27;entropy&#x27;, max_depth=3, max_features=None,\n",
              "                       max_leaf_nodes=9)</pre></div></div></div></div></div>"
            ]
          },
          "metadata": {},
          "execution_count": 100
        }
      ]
    },
    {
      "cell_type": "code",
      "source": [
        "rf_randomcv.best_params_"
      ],
      "metadata": {
        "colab": {
          "base_uri": "https://localhost:8080/"
        },
        "outputId": "a62c98e5-7049-4b01-99e9-7259bfb5ce63",
        "id": "MycmuAjaLfm8"
      },
      "execution_count": 101,
      "outputs": [
        {
          "data": {
            "text/plain": [
              "{'n_estimators': 100,\n",
              " 'max_leaf_nodes': 9,\n",
              " 'max_features': None,\n",
              " 'max_depth': 3,\n",
              " 'criterion': 'entropy'}"
            ]
          },
          "execution_count": 101,
          "metadata": {},
          "output_type": "execute_result"
        }
      ]
    },
    {
      "cell_type": "markdown",
      "source": [
        "> Hyperparameter terbaik menggunakan rendom search pada random forest classifier yaitu `RandomForestClassifier(criterion='entropy', max_depth=3, max_features=None, max_leaf_nodes=9)`"
      ],
      "metadata": {
        "id": "sESbvxIkC2Wf"
      }
    },
    {
      "cell_type": "code",
      "source": [
        "# Menyimpan Hyperparameter terbaik Untuk Uji Untuk Uji Data pada Variabel rf_randomcv_best\n",
        "\n",
        "rf_randomcv_best = rf_randomcv.best_estimator_"
      ],
      "metadata": {
        "id": "puoY13WlLfm8"
      },
      "execution_count": 102,
      "outputs": []
    },
    {
      "cell_type": "markdown",
      "source": [
        "### Model Evaluation Random Search"
      ],
      "metadata": {
        "id": "dmW9ir4aLfm8"
      }
    },
    {
      "cell_type": "code",
      "source": [
        "# Cek Performa Model Menggunakan Hyperparameter Terbaik\n",
        "\n",
        "y_pred_test_rf_rand = rf_randomcv_best.predict(X_test_final)\n",
        "\n",
        "print('F1 Score - Test Set   : ', f1_score(y_test, y_pred_test_rf_rand), '\\n')\n",
        "print('Classification Report : \\n', classification_report(y_test, y_pred_test_rf_rand), '\\n')\n",
        "print('Confusion Matrix      : \\n', ConfusionMatrixDisplay.from_estimator(rf_randomcv_best, X_test_final, y_test, cmap='Reds'))"
      ],
      "metadata": {
        "outputId": "48e39684-fec7-40e6-dfb7-4cf793c5cbb3",
        "colab": {
          "base_uri": "https://localhost:8080/",
          "height": 539
        },
        "id": "wvTIKIDoLfm8"
      },
      "execution_count": 103,
      "outputs": [
        {
          "output_type": "stream",
          "name": "stdout",
          "text": [
            "F1 Score - Test Set   :  0.4895833333333334 \n",
            "\n",
            "Classification Report : \n",
            "               precision    recall  f1-score   support\n",
            "\n",
            "           0       0.85      0.96      0.90       468\n",
            "           1       0.70      0.38      0.49       125\n",
            "\n",
            "    accuracy                           0.83       593\n",
            "   macro avg       0.78      0.67      0.70       593\n",
            "weighted avg       0.82      0.83      0.81       593\n",
            " \n",
            "\n",
            "Confusion Matrix      : \n",
            " <sklearn.metrics._plot.confusion_matrix.ConfusionMatrixDisplay object at 0x7f8a5f2bb670>\n"
          ]
        },
        {
          "output_type": "display_data",
          "data": {
            "text/plain": [
              "<Figure size 432x288 with 2 Axes>"
            ],
            "image/png": "[encoded data removed]"
          },
          "metadata": {
            "needs_background": "light"
          }
        }
      ]
    },
    {
      "cell_type": "markdown",
      "source": [
        "> Dari hyperparameter yang sudah ditentukan diatas dialkukan trein terhadap data test yang mana menghasilkan nilai f1-score yaitu 0.49 dan akurasi sebesar 0.83"
      ],
      "metadata": {
        "id": "ifX0-hScDKjb"
      }
    },
    {
      "cell_type": "code",
      "source": [
        "# Save Classification Report into a Dictionary\n",
        "\n",
        "score_reports = {\n",
        "    'train - precision' : precision_score(y_train_trim, y_pred_train_rf),\n",
        "    'train - recall' : recall_score(y_train_trim, y_pred_train_rf),\n",
        "    'train - accuracy' : accuracy_score(y_train_trim, y_pred_train_rf),\n",
        "    'train - f1_score' : f1_score(y_train_trim, y_pred_train_rf),\n",
        "    'test - precision' : precision_score(y_test, y_pred_test_rf_rand),\n",
        "    'test - recall' : recall_score(y_test, y_pred_test_rf_rand),\n",
        "    'test - accuracy_score' : accuracy_score(y_test, y_pred_test_rf_rand),\n",
        "    'test - f1_score' : f1_score(y_test, y_pred_test_rf_rand),\n",
        "}\n",
        "all_reports['Random Search'] = score_reports\n",
        "pd.DataFrame(all_reports)"
      ],
      "metadata": {
        "outputId": "cd8961cf-972e-4466-980e-1277bfcaac8e",
        "colab": {
          "base_uri": "https://localhost:8080/",
          "height": 300
        },
        "id": "Tv93T06gLfm8"
      },
      "execution_count": 104,
      "outputs": [
        {
          "output_type": "execute_result",
          "data": {
            "text/plain": [
              "                       Baseline (Default Hyperparameter)  Grid Search  \\\n",
              "train - precision                               1.000000     1.000000   \n",
              "train - recall                                  1.000000     1.000000   \n",
              "train - accuracy                                1.000000     1.000000   \n",
              "train - f1_score                                1.000000     1.000000   \n",
              "test - precision                                0.697368     0.691176   \n",
              "test - recall                                   0.424000     0.376000   \n",
              "test - accuracy_score                           0.839798     0.833052   \n",
              "test - f1_score                                 0.527363     0.487047   \n",
              "\n",
              "                       Random Search  \n",
              "train - precision           1.000000  \n",
              "train - recall              1.000000  \n",
              "train - accuracy            1.000000  \n",
              "train - f1_score            1.000000  \n",
              "test - precision            0.701493  \n",
              "test - recall               0.376000  \n",
              "test - accuracy_score       0.834739  \n",
              "test - f1_score             0.489583  "
            ],
            "text/html": [
              "\n",
              "  <div id=\"df-f1d6d580-2423-480b-b780-0345a7c359b0\">\n",
              "    <div class=\"colab-df-container\">\n",
              "      <div>\n",
              "<style scoped>\n",
              "    .dataframe tbody tr th:only-of-type {\n",
              "        vertical-align: middle;\n",
              "    }\n",
              "\n",
              "    .dataframe tbody tr th {\n",
              "        vertical-align: top;\n",
              "    }\n",
              "\n",
              "    .dataframe thead th {\n",
              "        text-align: right;\n",
              "    }\n",
              "</style>\n",
              "<table border=\"1\" class=\"dataframe\">\n",
              "  <thead>\n",
              "    <tr style=\"text-align: right;\">\n",
              "      <th></th>\n",
              "      <th>Baseline (Default Hyperparameter)</th>\n",
              "      <th>Grid Search</th>\n",
              "      <th>Random Search</th>\n",
              "    </tr>\n",
              "  </thead>\n",
              "  <tbody>\n",
              "    <tr>\n",
              "      <th>train - precision</th>\n",
              "      <td>1.000000</td>\n",
              "      <td>1.000000</td>\n",
              "      <td>1.000000</td>\n",
              "    </tr>\n",
              "    <tr>\n",
              "      <th>train - recall</th>\n",
              "      <td>1.000000</td>\n",
              "      <td>1.000000</td>\n",
              "      <td>1.000000</td>\n",
              "    </tr>\n",
              "    <tr>\n",
              "      <th>train - accuracy</th>\n",
              "      <td>1.000000</td>\n",
              "      <td>1.000000</td>\n",
              "      <td>1.000000</td>\n",
              "    </tr>\n",
              "    <tr>\n",
              "      <th>train - f1_score</th>\n",
              "      <td>1.000000</td>\n",
              "      <td>1.000000</td>\n",
              "      <td>1.000000</td>\n",
              "    </tr>\n",
              "    <tr>\n",
              "      <th>test - precision</th>\n",
              "      <td>0.697368</td>\n",
              "      <td>0.691176</td>\n",
              "      <td>0.701493</td>\n",
              "    </tr>\n",
              "    <tr>\n",
              "      <th>test - recall</th>\n",
              "      <td>0.424000</td>\n",
              "      <td>0.376000</td>\n",
              "      <td>0.376000</td>\n",
              "    </tr>\n",
              "    <tr>\n",
              "      <th>test - accuracy_score</th>\n",
              "      <td>0.839798</td>\n",
              "      <td>0.833052</td>\n",
              "      <td>0.834739</td>\n",
              "    </tr>\n",
              "    <tr>\n",
              "      <th>test - f1_score</th>\n",
              "      <td>0.527363</td>\n",
              "      <td>0.487047</td>\n",
              "      <td>0.489583</td>\n",
              "    </tr>\n",
              "  </tbody>\n",
              "</table>\n",
              "</div>\n",
              "      <button class=\"colab-df-convert\" onclick=\"convertToInteractive('df-f1d6d580-2423-480b-b780-0345a7c359b0')\"\n",
              "              title=\"Convert this dataframe to an interactive table.\"\n",
              "              style=\"display:none;\">\n",
              "        \n",
              "  <svg xmlns=\"http://www.w3.org/2000/svg\" height=\"24px\"viewBox=\"0 0 24 24\"\n",
              "       width=\"24px\">\n",
              "    <path d=\"M0 0h24v24H0V0z\" fill=\"none\"/>\n",
              "    <path d=\"M18.56 5.44l.94 2.06.94-2.06 2.06-.94-2.06-.94-.94-2.06-.94 2.06-2.06.94zm-11 1L8.5 8.5l.94-2.06 2.06-.94-2.06-.94L8.5 2.5l-.94 2.06-2.06.94zm10 10l.94 2.06.94-2.06 2.06-.94-2.06-.94-.94-2.06-.94 2.06-2.06.94z\"/><path d=\"M17.41 7.96l-1.37-1.37c-.4-.4-.92-.59-1.43-.59-.52 0-1.04.2-1.43.59L10.3 9.45l-7.72 7.72c-.78.78-.78 2.05 0 2.83L4 21.41c.39.39.9.59 1.41.59.51 0 1.02-.2 1.41-.59l7.78-7.78 2.81-2.81c.8-.78.8-2.07 0-2.86zM5.41 20L4 18.59l7.72-7.72 1.47 1.35L5.41 20z\"/>\n",
              "  </svg>\n",
              "      </button>\n",
              "      \n",
              "  <style>\n",
              "    .colab-df-container {\n",
              "      display:flex;\n",
              "      flex-wrap:wrap;\n",
              "      gap: 12px;\n",
              "    }\n",
              "\n",
              "    .colab-df-convert {\n",
              "      background-color: #E8F0FE;\n",
              "      border: none;\n",
              "      border-radius: 50%;\n",
              "      cursor: pointer;\n",
              "      display: none;\n",
              "      fill: #1967D2;\n",
              "      height: 32px;\n",
              "      padding: 0 0 0 0;\n",
              "      width: 32px;\n",
              "    }\n",
              "\n",
              "    .colab-df-convert:hover {\n",
              "      background-color: #E2EBFA;\n",
              "      box-shadow: 0px 1px 2px rgba(60, 64, 67, 0.3), 0px 1px 3px 1px rgba(60, 64, 67, 0.15);\n",
              "      fill: #174EA6;\n",
              "    }\n",
              "\n",
              "    [theme=dark] .colab-df-convert {\n",
              "      background-color: #3B4455;\n",
              "      fill: #D2E3FC;\n",
              "    }\n",
              "\n",
              "    [theme=dark] .colab-df-convert:hover {\n",
              "      background-color: #434B5C;\n",
              "      box-shadow: 0px 1px 3px 1px rgba(0, 0, 0, 0.15);\n",
              "      filter: drop-shadow(0px 1px 2px rgba(0, 0, 0, 0.3));\n",
              "      fill: #FFFFFF;\n",
              "    }\n",
              "  </style>\n",
              "\n",
              "      <script>\n",
              "        const buttonEl =\n",
              "          document.querySelector('#df-f1d6d580-2423-480b-b780-0345a7c359b0 button.colab-df-convert');\n",
              "        buttonEl.style.display =\n",
              "          google.colab.kernel.accessAllowed ? 'block' : 'none';\n",
              "\n",
              "        async function convertToInteractive(key) {\n",
              "          const element = document.querySelector('#df-f1d6d580-2423-480b-b780-0345a7c359b0');\n",
              "          const dataTable =\n",
              "            await google.colab.kernel.invokeFunction('convertToInteractive',\n",
              "                                                     [key], {});\n",
              "          if (!dataTable) return;\n",
              "\n",
              "          const docLinkHtml = 'Like what you see? Visit the ' +\n",
              "            '<a target=\"_blank\" href=https://colab.research.google.com/notebooks/data_table.ipynb>data table notebook</a>'\n",
              "            + ' to learn more about interactive tables.';\n",
              "          element.innerHTML = '';\n",
              "          dataTable['output_type'] = 'display_data';\n",
              "          await google.colab.output.renderOutput(dataTable, element);\n",
              "          const docLink = document.createElement('div');\n",
              "          docLink.innerHTML = docLinkHtml;\n",
              "          element.appendChild(docLink);\n",
              "        }\n",
              "      </script>\n",
              "    </div>\n",
              "  </div>\n",
              "  "
            ]
          },
          "metadata": {},
          "execution_count": 104
        }
      ]
    },
    {
      "cell_type": "markdown",
      "source": [
        "> Dari hasil pengujian terhadap hyperparameter baseline, terbaik menurut grid search dan random search ditemukan bahwa Hyperparameter baseline merupakan yang terbaik meskipun hasil f1-score train dan f1-score test cenderung overvit.\n",
        "\n",
        ">  Hyperparameter baseline akan digunakan pada pemodelan."
      ],
      "metadata": {
        "id": "l2hb3R4PDcVH"
      }
    },
    {
      "cell_type": "markdown",
      "source": [
        "## KNN"
      ],
      "metadata": {
        "id": "xIw4uuA3UVkC"
      }
    },
    {
      "cell_type": "markdown",
      "source": [
        "### Model Definition"
      ],
      "metadata": {
        "id": "bmVmZufLUVkC"
      }
    },
    {
      "cell_type": "code",
      "source": [
        "# Pendefinisian Model knn\n",
        "\n",
        "knn = KNeighborsClassifier()"
      ],
      "metadata": {
        "id": "ZBCxw4MRUVkD"
      },
      "execution_count": 105,
      "outputs": []
    },
    {
      "cell_type": "markdown",
      "source": [
        "### Model Training Baseline"
      ],
      "metadata": {
        "id": "vKrj2ES0UVkD"
      }
    },
    {
      "cell_type": "code",
      "source": [
        "# Training Model knn\n",
        "\n",
        "knn.fit(X_train_final, y_train_trim)"
      ],
      "metadata": {
        "colab": {
          "base_uri": "https://localhost:8080/",
          "height": 75
        },
        "outputId": "def153a8-2bbd-4cb5-8105-a03187eb6d0f",
        "id": "jLu-3kr-UVkD"
      },
      "execution_count": 106,
      "outputs": [
        {
          "output_type": "execute_result",
          "data": {
            "text/plain": [
              "KNeighborsClassifier()"
            ],
            "text/html": [
              "<style>#sk-container-id-21 {color: black;background-color: white;}#sk-container-id-21 pre{padding: 0;}#sk-container-id-21 div.sk-toggleable {background-color: white;}#sk-container-id-21 label.sk-toggleable__label {cursor: pointer;display: block;width: 100%;margin-bottom: 0;padding: 0.3em;box-sizing: border-box;text-align: center;}#sk-container-id-21 label.sk-toggleable__label-arrow:before {content: \"▸\";float: left;margin-right: 0.25em;color: #696969;}#sk-container-id-21 label.sk-toggleable__label-arrow:hover:before {color: black;}#sk-container-id-21 div.sk-estimator:hover label.sk-toggleable__label-arrow:before {color: black;}#sk-container-id-21 div.sk-toggleable__content {max-height: 0;max-width: 0;overflow: hidden;text-align: left;background-color: #f0f8ff;}#sk-container-id-21 div.sk-toggleable__content pre {margin: 0.2em;color: black;border-radius: 0.25em;background-color: #f0f8ff;}#sk-container-id-21 input.sk-toggleable__control:checked~div.sk-toggleable__content {max-height: 200px;max-width: 100%;overflow: auto;}#sk-container-id-21 input.sk-toggleable__control:checked~label.sk-toggleable__label-arrow:before {content: \"▾\";}#sk-container-id-21 div.sk-estimator input.sk-toggleable__control:checked~label.sk-toggleable__label {background-color: #d4ebff;}#sk-container-id-21 div.sk-label input.sk-toggleable__control:checked~label.sk-toggleable__label {background-color: #d4ebff;}#sk-container-id-21 input.sk-hidden--visually {border: 0;clip: rect(1px 1px 1px 1px);clip: rect(1px, 1px, 1px, 1px);height: 1px;margin: -1px;overflow: hidden;padding: 0;position: absolute;width: 1px;}#sk-container-id-21 div.sk-estimator {font-family: monospace;background-color: #f0f8ff;border: 1px dotted black;border-radius: 0.25em;box-sizing: border-box;margin-bottom: 0.5em;}#sk-container-id-21 div.sk-estimator:hover {background-color: #d4ebff;}#sk-container-id-21 div.sk-parallel-item::after {content: \"\";width: 100%;border-bottom: 1px solid gray;flex-grow: 1;}#sk-container-id-21 div.sk-label:hover label.sk-toggleable__label {background-color: #d4ebff;}#sk-container-id-21 div.sk-serial::before {content: \"\";position: absolute;border-left: 1px solid gray;box-sizing: border-box;top: 0;bottom: 0;left: 50%;z-index: 0;}#sk-container-id-21 div.sk-serial {display: flex;flex-direction: column;align-items: center;background-color: white;padding-right: 0.2em;padding-left: 0.2em;position: relative;}#sk-container-id-21 div.sk-item {position: relative;z-index: 1;}#sk-container-id-21 div.sk-parallel {display: flex;align-items: stretch;justify-content: center;background-color: white;position: relative;}#sk-container-id-21 div.sk-item::before, #sk-container-id-21 div.sk-parallel-item::before {content: \"\";position: absolute;border-left: 1px solid gray;box-sizing: border-box;top: 0;bottom: 0;left: 50%;z-index: -1;}#sk-container-id-21 div.sk-parallel-item {display: flex;flex-direction: column;z-index: 1;position: relative;background-color: white;}#sk-container-id-21 div.sk-parallel-item:first-child::after {align-self: flex-end;width: 50%;}#sk-container-id-21 div.sk-parallel-item:last-child::after {align-self: flex-start;width: 50%;}#sk-container-id-21 div.sk-parallel-item:only-child::after {width: 0;}#sk-container-id-21 div.sk-dashed-wrapped {border: 1px dashed gray;margin: 0 0.4em 0.5em 0.4em;box-sizing: border-box;padding-bottom: 0.4em;background-color: white;}#sk-container-id-21 div.sk-label label {font-family: monospace;font-weight: bold;display: inline-block;line-height: 1.2em;}#sk-container-id-21 div.sk-label-container {text-align: center;}#sk-container-id-21 div.sk-container {/* jupyter's `normalize.less` sets `[hidden] { display: none; }` but bootstrap.min.css set `[hidden] { display: none !important; }` so we also need the `!important` here to be able to override the default hidden behavior on the sphinx rendered scikit-learn.org. See: https://github.com/scikit-learn/scikit-learn/issues/21755 */display: inline-block !important;position: relative;}#sk-container-id-21 div.sk-text-repr-fallback {display: none;}</style><div id=\"sk-container-id-21\" class=\"sk-top-container\"><div class=\"sk-text-repr-fallback\"><pre>KNeighborsClassifier()</pre><b>In a Jupyter environment, please rerun this cell to show the HTML representation or trust the notebook. <br />On GitHub, the HTML representation is unable to render, please try loading this page with nbviewer.org.</b></div><div class=\"sk-container\" hidden><div class=\"sk-item\"><div class=\"sk-estimator sk-toggleable\"><input class=\"sk-toggleable__control sk-hidden--visually\" id=\"sk-estimator-id-37\" type=\"checkbox\" checked><label for=\"sk-estimator-id-37\" class=\"sk-toggleable__label sk-toggleable__label-arrow\">KNeighborsClassifier</label><div class=\"sk-toggleable__content\"><pre>KNeighborsClassifier()</pre></div></div></div></div></div>"
            ]
          },
          "metadata": {},
          "execution_count": 106
        }
      ]
    },
    {
      "cell_type": "markdown",
      "source": [
        "### Model Evaluation Baseline"
      ],
      "metadata": {
        "id": "vUnkF0Y3UVkD"
      }
    },
    {
      "cell_type": "code",
      "source": [
        "# Evaluasi Performa Model knn\n",
        "\n",
        "y_pred_train_knn = knn.predict(X_train_final)\n",
        "\n",
        "print('F1 Score - Train Set  : ', f1_score(y_train_trim, y_pred_train_knn), '\\n')\n",
        "print('Classification Report : \\n', classification_report(y_train_trim, y_pred_train_knn), '\\n')\n",
        "print('Confusion Matrix      : \\n', ConfusionMatrixDisplay.from_estimator(knn, X_train_final, y_train_trim, cmap='Reds'))"
      ],
      "metadata": {
        "outputId": "59f851c3-c6f9-4f13-ecf3-a73c0790d9aa",
        "colab": {
          "base_uri": "https://localhost:8080/",
          "height": 539
        },
        "id": "Nb29XYxJUVkD"
      },
      "execution_count": 107,
      "outputs": [
        {
          "output_type": "stream",
          "name": "stdout",
          "text": [
            "F1 Score - Train Set  :  0.5510204081632653 \n",
            "\n",
            "Classification Report : \n",
            "               precision    recall  f1-score   support\n",
            "\n",
            "           0       0.84      0.95      0.90      1377\n",
            "           1       0.75      0.44      0.55       433\n",
            "\n",
            "    accuracy                           0.83      1810\n",
            "   macro avg       0.80      0.70      0.72      1810\n",
            "weighted avg       0.82      0.83      0.81      1810\n",
            " \n",
            "\n",
            "Confusion Matrix      : \n",
            " <sklearn.metrics._plot.confusion_matrix.ConfusionMatrixDisplay object at 0x7f8a5f667100>\n"
          ]
        },
        {
          "output_type": "display_data",
          "data": {
            "text/plain": [
              "<Figure size 432x288 with 2 Axes>"
            ],
            "image/png": "[encoded data removed]"
          },
          "metadata": {
            "needs_background": "light"
          }
        }
      ]
    },
    {
      "cell_type": "markdown",
      "source": [
        "> Hasil evaluasi train menggunakan KNN menghasilkan nilai f1-score sebesar 0.55 dengan akurasi 0.83%."
      ],
      "metadata": {
        "id": "1GC-SnMCDvb9"
      }
    },
    {
      "cell_type": "code",
      "source": [
        "# Cross Validation using `cross_val_score`\n",
        "\n",
        "%%time\n",
        "f1_score_train_cross_val_knn = cross_val_score(knn, \n",
        "                                           X_train_final, \n",
        "                                           y_train_trim, \n",
        "                                           cv=3, \n",
        "                                           scoring='f1')\n",
        "\n",
        "print('F1 Score - All - Cross Validation  : ', f1_score_train_cross_val_knn)\n",
        "print('F1 Score - Mean - Cross Validation : ', f1_score_train_cross_val_knn.mean())\n",
        "print('F1 Score - Std - Cross Validation  : ', f1_score_train_cross_val_knn.std())\n",
        "print('F1 Score - Range of Test-Set       : ', (f1_score_train_cross_val_knn.mean()-f1_score_train_cross_val_knn.std()) , '-', (f1_score_train_cross_val_knn.mean()+f1_score_train_cross_val_knn.std()))"
      ],
      "metadata": {
        "outputId": "81eeef5b-37fe-4ede-f791-1ad4dc2f703b",
        "colab": {
          "base_uri": "https://localhost:8080/"
        },
        "id": "1qsVgwX5UVkD"
      },
      "execution_count": 108,
      "outputs": [
        {
          "output_type": "stream",
          "name": "stdout",
          "text": [
            "F1 Score - All - Cross Validation  :  [0.38655462 0.4017094  0.3853211 ]\n",
            "F1 Score - Mean - Cross Validation :  0.39119504149185746\n",
            "F1 Score - Std - Cross Validation  :  0.007451810588047317\n",
            "F1 Score - Range of Test-Set       :  0.38374323090381013 - 0.3986468520799048\n",
            "CPU times: user 175 ms, sys: 0 ns, total: 175 ms\n",
            "Wall time: 110 ms\n"
          ]
        }
      ]
    },
    {
      "cell_type": "code",
      "source": [
        "# Cek Performa Model\n",
        "\n",
        "y_pred_test_knn = knn.predict(X_test_final)\n",
        "\n",
        "print('F1 Score - Test Set   : ', f1_score(y_test, y_pred_test_knn), '\\n')\n",
        "print('Classification Report : \\n', classification_report(y_test, y_pred_test_knn), '\\n')\n",
        "print('Confusion Matrix      : \\n', ConfusionMatrixDisplay.from_estimator(knn, X_test_final, y_test, cmap='Reds'))"
      ],
      "metadata": {
        "outputId": "9d868495-4410-47bb-ca9e-3f27a5e8974b",
        "colab": {
          "base_uri": "https://localhost:8080/",
          "height": 539
        },
        "id": "_ERF6SWRUVkD"
      },
      "execution_count": 109,
      "outputs": [
        {
          "output_type": "stream",
          "name": "stdout",
          "text": [
            "F1 Score - Test Set   :  0.4270833333333333 \n",
            "\n",
            "Classification Report : \n",
            "               precision    recall  f1-score   support\n",
            "\n",
            "           0       0.84      0.94      0.89       468\n",
            "           1       0.61      0.33      0.43       125\n",
            "\n",
            "    accuracy                           0.81       593\n",
            "   macro avg       0.73      0.64      0.66       593\n",
            "weighted avg       0.79      0.81      0.79       593\n",
            " \n",
            "\n",
            "Confusion Matrix      : \n",
            " <sklearn.metrics._plot.confusion_matrix.ConfusionMatrixDisplay object at 0x7f8a5f36c5e0>\n"
          ]
        },
        {
          "output_type": "display_data",
          "data": {
            "text/plain": [
              "<Figure size 432x288 with 2 Axes>"
            ],
            "image/png": "[encoded data removed]"
          },
          "metadata": {
            "needs_background": "light"
          }
        }
      ]
    },
    {
      "cell_type": "markdown",
      "source": [
        "> Pada evaluasi data test diketahui nilai f1-score test bernilai 0.43 dengan akurasi 0.81 dengan menggunakan baseline hyperparameter."
      ],
      "metadata": {
        "id": "3PKpRES6D7qj"
      }
    },
    {
      "cell_type": "code",
      "source": [
        "# Tampilkan Hasil Uji Model\n",
        "\n",
        "all_reports = {}\n",
        "score_reports = {\n",
        "    'train - precision' : precision_score(y_train_trim, y_pred_train_knn),\n",
        "    'train - recall' : recall_score(y_train_trim, y_pred_train_knn),\n",
        "    'train - accuracy' : accuracy_score(y_train_trim, y_pred_train_knn),\n",
        "    'train - f1_score' : f1_score(y_train_trim, y_pred_train_knn),\n",
        "    'test - precision' : precision_score(y_test, y_pred_test_knn),\n",
        "    'test - recall' : recall_score(y_test, y_pred_test_knn),\n",
        "    'test - accuracy_score' : accuracy_score(y_test, y_pred_test_knn),\n",
        "    'test - f1_score' : f1_score(y_test, y_pred_test_knn),\n",
        "}\n",
        "all_reports['Baseline (Default Hyperparameter)'] = score_reports\n",
        "pd.DataFrame(all_reports)"
      ],
      "metadata": {
        "outputId": "3f14919d-f905-4961-942e-8a5b457a43c9",
        "colab": {
          "base_uri": "https://localhost:8080/",
          "height": 300
        },
        "id": "PA7pJqmEUVkD"
      },
      "execution_count": 110,
      "outputs": [
        {
          "output_type": "execute_result",
          "data": {
            "text/plain": [
              "                       Baseline (Default Hyperparameter)\n",
              "test - accuracy_score                           0.814503\n",
              "test - f1_score                                 0.427083\n",
              "test - precision                                0.611940\n",
              "test - recall                                   0.328000\n",
              "train - accuracy                                0.829834\n",
              "train - f1_score                                0.551020\n",
              "train - precision                               0.747036\n",
              "train - recall                                  0.436490"
            ],
            "text/html": [
              "\n",
              "  <div id=\"df-204a8424-674a-4f09-8a3a-998bce77405e\">\n",
              "    <div class=\"colab-df-container\">\n",
              "      <div>\n",
              "<style scoped>\n",
              "    .dataframe tbody tr th:only-of-type {\n",
              "        vertical-align: middle;\n",
              "    }\n",
              "\n",
              "    .dataframe tbody tr th {\n",
              "        vertical-align: top;\n",
              "    }\n",
              "\n",
              "    .dataframe thead th {\n",
              "        text-align: right;\n",
              "    }\n",
              "</style>\n",
              "<table border=\"1\" class=\"dataframe\">\n",
              "  <thead>\n",
              "    <tr style=\"text-align: right;\">\n",
              "      <th></th>\n",
              "      <th>Baseline (Default Hyperparameter)</th>\n",
              "    </tr>\n",
              "  </thead>\n",
              "  <tbody>\n",
              "    <tr>\n",
              "      <th>test - accuracy_score</th>\n",
              "      <td>0.814503</td>\n",
              "    </tr>\n",
              "    <tr>\n",
              "      <th>test - f1_score</th>\n",
              "      <td>0.427083</td>\n",
              "    </tr>\n",
              "    <tr>\n",
              "      <th>test - precision</th>\n",
              "      <td>0.611940</td>\n",
              "    </tr>\n",
              "    <tr>\n",
              "      <th>test - recall</th>\n",
              "      <td>0.328000</td>\n",
              "    </tr>\n",
              "    <tr>\n",
              "      <th>train - accuracy</th>\n",
              "      <td>0.829834</td>\n",
              "    </tr>\n",
              "    <tr>\n",
              "      <th>train - f1_score</th>\n",
              "      <td>0.551020</td>\n",
              "    </tr>\n",
              "    <tr>\n",
              "      <th>train - precision</th>\n",
              "      <td>0.747036</td>\n",
              "    </tr>\n",
              "    <tr>\n",
              "      <th>train - recall</th>\n",
              "      <td>0.436490</td>\n",
              "    </tr>\n",
              "  </tbody>\n",
              "</table>\n",
              "</div>\n",
              "      <button class=\"colab-df-convert\" onclick=\"convertToInteractive('df-204a8424-674a-4f09-8a3a-998bce77405e')\"\n",
              "              title=\"Convert this dataframe to an interactive table.\"\n",
              "              style=\"display:none;\">\n",
              "        \n",
              "  <svg xmlns=\"http://www.w3.org/2000/svg\" height=\"24px\"viewBox=\"0 0 24 24\"\n",
              "       width=\"24px\">\n",
              "    <path d=\"M0 0h24v24H0V0z\" fill=\"none\"/>\n",
              "    <path d=\"M18.56 5.44l.94 2.06.94-2.06 2.06-.94-2.06-.94-.94-2.06-.94 2.06-2.06.94zm-11 1L8.5 8.5l.94-2.06 2.06-.94-2.06-.94L8.5 2.5l-.94 2.06-2.06.94zm10 10l.94 2.06.94-2.06 2.06-.94-2.06-.94-.94-2.06-.94 2.06-2.06.94z\"/><path d=\"M17.41 7.96l-1.37-1.37c-.4-.4-.92-.59-1.43-.59-.52 0-1.04.2-1.43.59L10.3 9.45l-7.72 7.72c-.78.78-.78 2.05 0 2.83L4 21.41c.39.39.9.59 1.41.59.51 0 1.02-.2 1.41-.59l7.78-7.78 2.81-2.81c.8-.78.8-2.07 0-2.86zM5.41 20L4 18.59l7.72-7.72 1.47 1.35L5.41 20z\"/>\n",
              "  </svg>\n",
              "      </button>\n",
              "      \n",
              "  <style>\n",
              "    .colab-df-container {\n",
              "      display:flex;\n",
              "      flex-wrap:wrap;\n",
              "      gap: 12px;\n",
              "    }\n",
              "\n",
              "    .colab-df-convert {\n",
              "      background-color: #E8F0FE;\n",
              "      border: none;\n",
              "      border-radius: 50%;\n",
              "      cursor: pointer;\n",
              "      display: none;\n",
              "      fill: #1967D2;\n",
              "      height: 32px;\n",
              "      padding: 0 0 0 0;\n",
              "      width: 32px;\n",
              "    }\n",
              "\n",
              "    .colab-df-convert:hover {\n",
              "      background-color: #E2EBFA;\n",
              "      box-shadow: 0px 1px 2px rgba(60, 64, 67, 0.3), 0px 1px 3px 1px rgba(60, 64, 67, 0.15);\n",
              "      fill: #174EA6;\n",
              "    }\n",
              "\n",
              "    [theme=dark] .colab-df-convert {\n",
              "      background-color: #3B4455;\n",
              "      fill: #D2E3FC;\n",
              "    }\n",
              "\n",
              "    [theme=dark] .colab-df-convert:hover {\n",
              "      background-color: #434B5C;\n",
              "      box-shadow: 0px 1px 3px 1px rgba(0, 0, 0, 0.15);\n",
              "      filter: drop-shadow(0px 1px 2px rgba(0, 0, 0, 0.3));\n",
              "      fill: #FFFFFF;\n",
              "    }\n",
              "  </style>\n",
              "\n",
              "      <script>\n",
              "        const buttonEl =\n",
              "          document.querySelector('#df-204a8424-674a-4f09-8a3a-998bce77405e button.colab-df-convert');\n",
              "        buttonEl.style.display =\n",
              "          google.colab.kernel.accessAllowed ? 'block' : 'none';\n",
              "\n",
              "        async function convertToInteractive(key) {\n",
              "          const element = document.querySelector('#df-204a8424-674a-4f09-8a3a-998bce77405e');\n",
              "          const dataTable =\n",
              "            await google.colab.kernel.invokeFunction('convertToInteractive',\n",
              "                                                     [key], {});\n",
              "          if (!dataTable) return;\n",
              "\n",
              "          const docLinkHtml = 'Like what you see? Visit the ' +\n",
              "            '<a target=\"_blank\" href=https://colab.research.google.com/notebooks/data_table.ipynb>data table notebook</a>'\n",
              "            + ' to learn more about interactive tables.';\n",
              "          element.innerHTML = '';\n",
              "          dataTable['output_type'] = 'display_data';\n",
              "          await google.colab.output.renderOutput(dataTable, element);\n",
              "          const docLink = document.createElement('div');\n",
              "          docLink.innerHTML = docLinkHtml;\n",
              "          element.appendChild(docLink);\n",
              "        }\n",
              "      </script>\n",
              "    </div>\n",
              "  </div>\n",
              "  "
            ]
          },
          "metadata": {},
          "execution_count": 110
        }
      ]
    },
    {
      "cell_type": "markdown",
      "source": [
        "> Dari informasi yang didapat diketahui bahwa f1-score train bernilai 0.55 dan test 0.42, model dikatakan overfit meskipun rentangnya tidak terlalu jauh.\n",
        "\n",
        "> akurasi pada train bernilai 0.83 dan pada test 0.814."
      ],
      "metadata": {
        "id": "HVqg_qmQEIzH"
      }
    },
    {
      "cell_type": "markdown",
      "source": [
        "### Model Training Grid Search"
      ],
      "metadata": {
        "id": "8cdPZY_-UVkD"
      }
    },
    {
      "cell_type": "code",
      "source": [
        "# Latih Dengan Grid Search Untuk Menentukan Hyperparameter Terbaik\n",
        "%%time\n",
        "# Mennetukan parameter grid\n",
        "\n",
        "param_grid = {\n",
        "              'algorithm' : ['auto', 'ball_tree', 'kd_tree', 'brute'],\n",
        "              'weights' : ['uniform', 'distance'],\n",
        "              'n_neighbors': [3, 6, 9],\n",
        "              'leaf_size': [3, 6, 9]\n",
        "              }\n",
        "\n",
        "knn_gridcv = GridSearchCV(estimator=knn, \n",
        "                           param_grid=param_grid, \n",
        "                           cv=3, n_jobs=-1, verbose=2, scoring = \"f1\")\n",
        "\n",
        "\n",
        "knn_gridcv.fit(X_train_final, y_train_trim)\n"
      ],
      "metadata": {
        "outputId": "2fbdfed4-0032-4a39-b573-0ad82a69ec01",
        "colab": {
          "base_uri": "https://localhost:8080/",
          "height": 170
        },
        "id": "0j2SIFDHUVkD"
      },
      "execution_count": 111,
      "outputs": [
        {
          "output_type": "stream",
          "name": "stdout",
          "text": [
            "Fitting 3 folds for each of 72 candidates, totalling 216 fits\n",
            "CPU times: user 225 ms, sys: 17 ms, total: 242 ms\n",
            "Wall time: 7.66 s\n"
          ]
        },
        {
          "output_type": "execute_result",
          "data": {
            "text/plain": [
              "GridSearchCV(cv=3, estimator=KNeighborsClassifier(), n_jobs=-1,\n",
              "             param_grid={'algorithm': ['auto', 'ball_tree', 'kd_tree', 'brute'],\n",
              "                         'leaf_size': [3, 6, 9], 'n_neighbors': [3, 6, 9],\n",
              "                         'weights': ['uniform', 'distance']},\n",
              "             scoring='f1', verbose=2)"
            ],
            "text/html": [
              "<style>#sk-container-id-22 {color: black;background-color: white;}#sk-container-id-22 pre{padding: 0;}#sk-container-id-22 div.sk-toggleable {background-color: white;}#sk-container-id-22 label.sk-toggleable__label {cursor: pointer;display: block;width: 100%;margin-bottom: 0;padding: 0.3em;box-sizing: border-box;text-align: center;}#sk-container-id-22 label.sk-toggleable__label-arrow:before {content: \"▸\";float: left;margin-right: 0.25em;color: #696969;}#sk-container-id-22 label.sk-toggleable__label-arrow:hover:before {color: black;}#sk-container-id-22 div.sk-estimator:hover label.sk-toggleable__label-arrow:before {color: black;}#sk-container-id-22 div.sk-toggleable__content {max-height: 0;max-width: 0;overflow: hidden;text-align: left;background-color: #f0f8ff;}#sk-container-id-22 div.sk-toggleable__content pre {margin: 0.2em;color: black;border-radius: 0.25em;background-color: #f0f8ff;}#sk-container-id-22 input.sk-toggleable__control:checked~div.sk-toggleable__content {max-height: 200px;max-width: 100%;overflow: auto;}#sk-container-id-22 input.sk-toggleable__control:checked~label.sk-toggleable__label-arrow:before {content: \"▾\";}#sk-container-id-22 div.sk-estimator input.sk-toggleable__control:checked~label.sk-toggleable__label {background-color: #d4ebff;}#sk-container-id-22 div.sk-label input.sk-toggleable__control:checked~label.sk-toggleable__label {background-color: #d4ebff;}#sk-container-id-22 input.sk-hidden--visually {border: 0;clip: rect(1px 1px 1px 1px);clip: rect(1px, 1px, 1px, 1px);height: 1px;margin: -1px;overflow: hidden;padding: 0;position: absolute;width: 1px;}#sk-container-id-22 div.sk-estimator {font-family: monospace;background-color: #f0f8ff;border: 1px dotted black;border-radius: 0.25em;box-sizing: border-box;margin-bottom: 0.5em;}#sk-container-id-22 div.sk-estimator:hover {background-color: #d4ebff;}#sk-container-id-22 div.sk-parallel-item::after {content: \"\";width: 100%;border-bottom: 1px solid gray;flex-grow: 1;}#sk-container-id-22 div.sk-label:hover label.sk-toggleable__label {background-color: #d4ebff;}#sk-container-id-22 div.sk-serial::before {content: \"\";position: absolute;border-left: 1px solid gray;box-sizing: border-box;top: 0;bottom: 0;left: 50%;z-index: 0;}#sk-container-id-22 div.sk-serial {display: flex;flex-direction: column;align-items: center;background-color: white;padding-right: 0.2em;padding-left: 0.2em;position: relative;}#sk-container-id-22 div.sk-item {position: relative;z-index: 1;}#sk-container-id-22 div.sk-parallel {display: flex;align-items: stretch;justify-content: center;background-color: white;position: relative;}#sk-container-id-22 div.sk-item::before, #sk-container-id-22 div.sk-parallel-item::before {content: \"\";position: absolute;border-left: 1px solid gray;box-sizing: border-box;top: 0;bottom: 0;left: 50%;z-index: -1;}#sk-container-id-22 div.sk-parallel-item {display: flex;flex-direction: column;z-index: 1;position: relative;background-color: white;}#sk-container-id-22 div.sk-parallel-item:first-child::after {align-self: flex-end;width: 50%;}#sk-container-id-22 div.sk-parallel-item:last-child::after {align-self: flex-start;width: 50%;}#sk-container-id-22 div.sk-parallel-item:only-child::after {width: 0;}#sk-container-id-22 div.sk-dashed-wrapped {border: 1px dashed gray;margin: 0 0.4em 0.5em 0.4em;box-sizing: border-box;padding-bottom: 0.4em;background-color: white;}#sk-container-id-22 div.sk-label label {font-family: monospace;font-weight: bold;display: inline-block;line-height: 1.2em;}#sk-container-id-22 div.sk-label-container {text-align: center;}#sk-container-id-22 div.sk-container {/* jupyter's `normalize.less` sets `[hidden] { display: none; }` but bootstrap.min.css set `[hidden] { display: none !important; }` so we also need the `!important` here to be able to override the default hidden behavior on the sphinx rendered scikit-learn.org. See: https://github.com/scikit-learn/scikit-learn/issues/21755 */display: inline-block !important;position: relative;}#sk-container-id-22 div.sk-text-repr-fallback {display: none;}</style><div id=\"sk-container-id-22\" class=\"sk-top-container\"><div class=\"sk-text-repr-fallback\"><pre>GridSearchCV(cv=3, estimator=KNeighborsClassifier(), n_jobs=-1,\n",
              "             param_grid={&#x27;algorithm&#x27;: [&#x27;auto&#x27;, &#x27;ball_tree&#x27;, &#x27;kd_tree&#x27;, &#x27;brute&#x27;],\n",
              "                         &#x27;leaf_size&#x27;: [3, 6, 9], &#x27;n_neighbors&#x27;: [3, 6, 9],\n",
              "                         &#x27;weights&#x27;: [&#x27;uniform&#x27;, &#x27;distance&#x27;]},\n",
              "             scoring=&#x27;f1&#x27;, verbose=2)</pre><b>In a Jupyter environment, please rerun this cell to show the HTML representation or trust the notebook. <br />On GitHub, the HTML representation is unable to render, please try loading this page with nbviewer.org.</b></div><div class=\"sk-container\" hidden><div class=\"sk-item sk-dashed-wrapped\"><div class=\"sk-label-container\"><div class=\"sk-label sk-toggleable\"><input class=\"sk-toggleable__control sk-hidden--visually\" id=\"sk-estimator-id-38\" type=\"checkbox\" ><label for=\"sk-estimator-id-38\" class=\"sk-toggleable__label sk-toggleable__label-arrow\">GridSearchCV</label><div class=\"sk-toggleable__content\"><pre>GridSearchCV(cv=3, estimator=KNeighborsClassifier(), n_jobs=-1,\n",
              "             param_grid={&#x27;algorithm&#x27;: [&#x27;auto&#x27;, &#x27;ball_tree&#x27;, &#x27;kd_tree&#x27;, &#x27;brute&#x27;],\n",
              "                         &#x27;leaf_size&#x27;: [3, 6, 9], &#x27;n_neighbors&#x27;: [3, 6, 9],\n",
              "                         &#x27;weights&#x27;: [&#x27;uniform&#x27;, &#x27;distance&#x27;]},\n",
              "             scoring=&#x27;f1&#x27;, verbose=2)</pre></div></div></div><div class=\"sk-parallel\"><div class=\"sk-parallel-item\"><div class=\"sk-item\"><div class=\"sk-label-container\"><div class=\"sk-label sk-toggleable\"><input class=\"sk-toggleable__control sk-hidden--visually\" id=\"sk-estimator-id-39\" type=\"checkbox\" ><label for=\"sk-estimator-id-39\" class=\"sk-toggleable__label sk-toggleable__label-arrow\">estimator: KNeighborsClassifier</label><div class=\"sk-toggleable__content\"><pre>KNeighborsClassifier()</pre></div></div></div><div class=\"sk-serial\"><div class=\"sk-item\"><div class=\"sk-estimator sk-toggleable\"><input class=\"sk-toggleable__control sk-hidden--visually\" id=\"sk-estimator-id-40\" type=\"checkbox\" ><label for=\"sk-estimator-id-40\" class=\"sk-toggleable__label sk-toggleable__label-arrow\">KNeighborsClassifier</label><div class=\"sk-toggleable__content\"><pre>KNeighborsClassifier()</pre></div></div></div></div></div></div></div></div></div></div>"
            ]
          },
          "metadata": {},
          "execution_count": 111
        }
      ]
    },
    {
      "cell_type": "code",
      "source": [
        "# Menampilkan Hyperparameters Terbaik Pada knn\n",
        "knn_gridcv.best_estimator_"
      ],
      "metadata": {
        "outputId": "c3ae0280-484b-43a5-c012-95749f23b519",
        "colab": {
          "base_uri": "https://localhost:8080/",
          "height": 75
        },
        "id": "O-dh0ODrUVkD"
      },
      "execution_count": 112,
      "outputs": [
        {
          "output_type": "execute_result",
          "data": {
            "text/plain": [
              "KNeighborsClassifier(leaf_size=3, n_neighbors=3)"
            ],
            "text/html": [
              "<style>#sk-container-id-23 {color: black;background-color: white;}#sk-container-id-23 pre{padding: 0;}#sk-container-id-23 div.sk-toggleable {background-color: white;}#sk-container-id-23 label.sk-toggleable__label {cursor: pointer;display: block;width: 100%;margin-bottom: 0;padding: 0.3em;box-sizing: border-box;text-align: center;}#sk-container-id-23 label.sk-toggleable__label-arrow:before {content: \"▸\";float: left;margin-right: 0.25em;color: #696969;}#sk-container-id-23 label.sk-toggleable__label-arrow:hover:before {color: black;}#sk-container-id-23 div.sk-estimator:hover label.sk-toggleable__label-arrow:before {color: black;}#sk-container-id-23 div.sk-toggleable__content {max-height: 0;max-width: 0;overflow: hidden;text-align: left;background-color: #f0f8ff;}#sk-container-id-23 div.sk-toggleable__content pre {margin: 0.2em;color: black;border-radius: 0.25em;background-color: #f0f8ff;}#sk-container-id-23 input.sk-toggleable__control:checked~div.sk-toggleable__content {max-height: 200px;max-width: 100%;overflow: auto;}#sk-container-id-23 input.sk-toggleable__control:checked~label.sk-toggleable__label-arrow:before {content: \"▾\";}#sk-container-id-23 div.sk-estimator input.sk-toggleable__control:checked~label.sk-toggleable__label {background-color: #d4ebff;}#sk-container-id-23 div.sk-label input.sk-toggleable__control:checked~label.sk-toggleable__label {background-color: #d4ebff;}#sk-container-id-23 input.sk-hidden--visually {border: 0;clip: rect(1px 1px 1px 1px);clip: rect(1px, 1px, 1px, 1px);height: 1px;margin: -1px;overflow: hidden;padding: 0;position: absolute;width: 1px;}#sk-container-id-23 div.sk-estimator {font-family: monospace;background-color: #f0f8ff;border: 1px dotted black;border-radius: 0.25em;box-sizing: border-box;margin-bottom: 0.5em;}#sk-container-id-23 div.sk-estimator:hover {background-color: #d4ebff;}#sk-container-id-23 div.sk-parallel-item::after {content: \"\";width: 100%;border-bottom: 1px solid gray;flex-grow: 1;}#sk-container-id-23 div.sk-label:hover label.sk-toggleable__label {background-color: #d4ebff;}#sk-container-id-23 div.sk-serial::before {content: \"\";position: absolute;border-left: 1px solid gray;box-sizing: border-box;top: 0;bottom: 0;left: 50%;z-index: 0;}#sk-container-id-23 div.sk-serial {display: flex;flex-direction: column;align-items: center;background-color: white;padding-right: 0.2em;padding-left: 0.2em;position: relative;}#sk-container-id-23 div.sk-item {position: relative;z-index: 1;}#sk-container-id-23 div.sk-parallel {display: flex;align-items: stretch;justify-content: center;background-color: white;position: relative;}#sk-container-id-23 div.sk-item::before, #sk-container-id-23 div.sk-parallel-item::before {content: \"\";position: absolute;border-left: 1px solid gray;box-sizing: border-box;top: 0;bottom: 0;left: 50%;z-index: -1;}#sk-container-id-23 div.sk-parallel-item {display: flex;flex-direction: column;z-index: 1;position: relative;background-color: white;}#sk-container-id-23 div.sk-parallel-item:first-child::after {align-self: flex-end;width: 50%;}#sk-container-id-23 div.sk-parallel-item:last-child::after {align-self: flex-start;width: 50%;}#sk-container-id-23 div.sk-parallel-item:only-child::after {width: 0;}#sk-container-id-23 div.sk-dashed-wrapped {border: 1px dashed gray;margin: 0 0.4em 0.5em 0.4em;box-sizing: border-box;padding-bottom: 0.4em;background-color: white;}#sk-container-id-23 div.sk-label label {font-family: monospace;font-weight: bold;display: inline-block;line-height: 1.2em;}#sk-container-id-23 div.sk-label-container {text-align: center;}#sk-container-id-23 div.sk-container {/* jupyter's `normalize.less` sets `[hidden] { display: none; }` but bootstrap.min.css set `[hidden] { display: none !important; }` so we also need the `!important` here to be able to override the default hidden behavior on the sphinx rendered scikit-learn.org. See: https://github.com/scikit-learn/scikit-learn/issues/21755 */display: inline-block !important;position: relative;}#sk-container-id-23 div.sk-text-repr-fallback {display: none;}</style><div id=\"sk-container-id-23\" class=\"sk-top-container\"><div class=\"sk-text-repr-fallback\"><pre>KNeighborsClassifier(leaf_size=3, n_neighbors=3)</pre><b>In a Jupyter environment, please rerun this cell to show the HTML representation or trust the notebook. <br />On GitHub, the HTML representation is unable to render, please try loading this page with nbviewer.org.</b></div><div class=\"sk-container\" hidden><div class=\"sk-item\"><div class=\"sk-estimator sk-toggleable\"><input class=\"sk-toggleable__control sk-hidden--visually\" id=\"sk-estimator-id-41\" type=\"checkbox\" checked><label for=\"sk-estimator-id-41\" class=\"sk-toggleable__label sk-toggleable__label-arrow\">KNeighborsClassifier</label><div class=\"sk-toggleable__content\"><pre>KNeighborsClassifier(leaf_size=3, n_neighbors=3)</pre></div></div></div></div></div>"
            ]
          },
          "metadata": {},
          "execution_count": 112
        }
      ]
    },
    {
      "cell_type": "code",
      "source": [
        "knn_gridcv.best_params_"
      ],
      "metadata": {
        "outputId": "7a833a13-9123-4a06-d9a6-43e74145c429",
        "colab": {
          "base_uri": "https://localhost:8080/"
        },
        "id": "JmvjvtloUVkD"
      },
      "execution_count": 113,
      "outputs": [
        {
          "output_type": "execute_result",
          "data": {
            "text/plain": [
              "{'algorithm': 'auto', 'leaf_size': 3, 'n_neighbors': 3, 'weights': 'uniform'}"
            ]
          },
          "metadata": {},
          "execution_count": 113
        }
      ]
    },
    {
      "cell_type": "markdown",
      "source": [
        "> Hasil latih pada data train menunjukkan hyperparameter terbaik yaitu algorithm': 'auto', 'leaf_size': 3, 'n_neighbors': 3, 'weights': 'uniform'"
      ],
      "metadata": {
        "id": "HLlle4W1EjGy"
      }
    },
    {
      "cell_type": "code",
      "source": [
        "# Menyimpan Hyperparameter terbaik Untuk Uji Untuk Uji Data pada Variabel knn_gridcv_best\n",
        "\n",
        "knn_gridcv_best = knn_gridcv.best_estimator_"
      ],
      "metadata": {
        "id": "0IftB0cmUVkD"
      },
      "execution_count": 114,
      "outputs": []
    },
    {
      "cell_type": "markdown",
      "source": [
        "### Model Evaluation Grid Search"
      ],
      "metadata": {
        "id": "cxJdTe4uUVkD"
      }
    },
    {
      "cell_type": "code",
      "source": [
        "# Cek Performa Model Menggunakan Hyperparameter Terbaik\n",
        "\n",
        "y_pred_test_knn_grid = knn_gridcv_best.predict(X_test_final)\n",
        "\n",
        "print('F1 Score - Test Set   : ', f1_score(y_test, y_pred_test_knn_grid), '\\n')\n",
        "print('Classification Report : \\n', classification_report(y_test, y_pred_test_knn_grid), '\\n')\n",
        "print('Confusion Matrix      : \\n', ConfusionMatrixDisplay.from_estimator(knn_gridcv_best, X_test_final, y_test, cmap='Reds'))"
      ],
      "metadata": {
        "outputId": "b5a86de6-bf55-4059-9955-3fd9b82258ba",
        "colab": {
          "base_uri": "https://localhost:8080/",
          "height": 539
        },
        "id": "acxwpV6xUVkD"
      },
      "execution_count": 115,
      "outputs": [
        {
          "output_type": "stream",
          "name": "stdout",
          "text": [
            "F1 Score - Test Set   :  0.44549763033175355 \n",
            "\n",
            "Classification Report : \n",
            "               precision    recall  f1-score   support\n",
            "\n",
            "           0       0.85      0.92      0.88       468\n",
            "           1       0.55      0.38      0.45       125\n",
            "\n",
            "    accuracy                           0.80       593\n",
            "   macro avg       0.70      0.65      0.66       593\n",
            "weighted avg       0.78      0.80      0.79       593\n",
            " \n",
            "\n",
            "Confusion Matrix      : \n",
            " <sklearn.metrics._plot.confusion_matrix.ConfusionMatrixDisplay object at 0x7f8a6444a7c0>\n"
          ]
        },
        {
          "output_type": "display_data",
          "data": {
            "text/plain": [
              "<Figure size 432x288 with 2 Axes>"
            ],
            "image/png": "[encoded data removed]"
          },
          "metadata": {
            "needs_background": "light"
          }
        }
      ]
    },
    {
      "cell_type": "markdown",
      "source": [
        "> Dari evaluasi model menggunakan grid search yang dilakukan, dikatahui nilai f1-score test bernilai 0.445 dengan akurasi 80%."
      ],
      "metadata": {
        "id": "V6Y3IyZvEx1s"
      }
    },
    {
      "cell_type": "code",
      "source": [
        "# Save Classification Report into a Dictionary\n",
        "\n",
        "score_reports = {\n",
        "    'train - precision' : precision_score(y_train_trim, y_pred_train_knn),\n",
        "    'train - recall' : recall_score(y_train_trim, y_pred_train_knn),\n",
        "    'train - accuracy' : accuracy_score(y_train_trim, y_pred_train_knn),\n",
        "    'train - f1_score' : f1_score(y_train_trim, y_pred_train_knn),\n",
        "    'test - precision' : precision_score(y_test, y_pred_test_knn_grid),\n",
        "    'test - recall' : recall_score(y_test, y_pred_test_knn_grid),\n",
        "    'test - accuracy_score' : accuracy_score(y_test, y_pred_test_knn_grid),\n",
        "    'test - f1_score' : f1_score(y_test, y_pred_test_knn_grid),\n",
        "}\n",
        "all_reports['Grid Search'] = score_reports\n",
        "pd.DataFrame(all_reports)"
      ],
      "metadata": {
        "outputId": "c70c8d4e-ebf9-4306-8620-2317ef9c5425",
        "colab": {
          "base_uri": "https://localhost:8080/",
          "height": 300
        },
        "id": "6LmkzKurUVkD"
      },
      "execution_count": 116,
      "outputs": [
        {
          "data": {
            "text/html": [
              "\n",
              "  <div id=\"df-79b852c0-fb6d-4d6f-bd2d-785e749e15aa\">\n",
              "    <div class=\"colab-df-container\">\n",
              "      <div>\n",
              "<style scoped>\n",
              "    .dataframe tbody tr th:only-of-type {\n",
              "        vertical-align: middle;\n",
              "    }\n",
              "\n",
              "    .dataframe tbody tr th {\n",
              "        vertical-align: top;\n",
              "    }\n",
              "\n",
              "    .dataframe thead th {\n",
              "        text-align: right;\n",
              "    }\n",
              "</style>\n",
              "<table border=\"1\" class=\"dataframe\">\n",
              "  <thead>\n",
              "    <tr style=\"text-align: right;\">\n",
              "      <th></th>\n",
              "      <th>Baseline (Default Hyperparameter)</th>\n",
              "      <th>Grid Search</th>\n",
              "    </tr>\n",
              "  </thead>\n",
              "  <tbody>\n",
              "    <tr>\n",
              "      <th>train - precision</th>\n",
              "      <td>0.747036</td>\n",
              "      <td>0.747036</td>\n",
              "    </tr>\n",
              "    <tr>\n",
              "      <th>train - recall</th>\n",
              "      <td>0.436490</td>\n",
              "      <td>0.436490</td>\n",
              "    </tr>\n",
              "    <tr>\n",
              "      <th>train - accuracy</th>\n",
              "      <td>0.829834</td>\n",
              "      <td>0.829834</td>\n",
              "    </tr>\n",
              "    <tr>\n",
              "      <th>train - f1_score</th>\n",
              "      <td>0.551020</td>\n",
              "      <td>0.551020</td>\n",
              "    </tr>\n",
              "    <tr>\n",
              "      <th>test - precision</th>\n",
              "      <td>0.611940</td>\n",
              "      <td>0.546512</td>\n",
              "    </tr>\n",
              "    <tr>\n",
              "      <th>test - recall</th>\n",
              "      <td>0.328000</td>\n",
              "      <td>0.376000</td>\n",
              "    </tr>\n",
              "    <tr>\n",
              "      <th>test - accuracy_score</th>\n",
              "      <td>0.814503</td>\n",
              "      <td>0.802698</td>\n",
              "    </tr>\n",
              "    <tr>\n",
              "      <th>test - f1_score</th>\n",
              "      <td>0.427083</td>\n",
              "      <td>0.445498</td>\n",
              "    </tr>\n",
              "  </tbody>\n",
              "</table>\n",
              "</div>\n",
              "      <button class=\"colab-df-convert\" onclick=\"convertToInteractive('df-79b852c0-fb6d-4d6f-bd2d-785e749e15aa')\"\n",
              "              title=\"Convert this dataframe to an interactive table.\"\n",
              "              style=\"display:none;\">\n",
              "        \n",
              "  <svg xmlns=\"http://www.w3.org/2000/svg\" height=\"24px\"viewBox=\"0 0 24 24\"\n",
              "       width=\"24px\">\n",
              "    <path d=\"M0 0h24v24H0V0z\" fill=\"none\"/>\n",
              "    <path d=\"M18.56 5.44l.94 2.06.94-2.06 2.06-.94-2.06-.94-.94-2.06-.94 2.06-2.06.94zm-11 1L8.5 8.5l.94-2.06 2.06-.94-2.06-.94L8.5 2.5l-.94 2.06-2.06.94zm10 10l.94 2.06.94-2.06 2.06-.94-2.06-.94-.94-2.06-.94 2.06-2.06.94z\"/><path d=\"M17.41 7.96l-1.37-1.37c-.4-.4-.92-.59-1.43-.59-.52 0-1.04.2-1.43.59L10.3 9.45l-7.72 7.72c-.78.78-.78 2.05 0 2.83L4 21.41c.39.39.9.59 1.41.59.51 0 1.02-.2 1.41-.59l7.78-7.78 2.81-2.81c.8-.78.8-2.07 0-2.86zM5.41 20L4 18.59l7.72-7.72 1.47 1.35L5.41 20z\"/>\n",
              "  </svg>\n",
              "      </button>\n",
              "      \n",
              "  <style>\n",
              "    .colab-df-container {\n",
              "      display:flex;\n",
              "      flex-wrap:wrap;\n",
              "      gap: 12px;\n",
              "    }\n",
              "\n",
              "    .colab-df-convert {\n",
              "      background-color: #E8F0FE;\n",
              "      border: none;\n",
              "      border-radius: 50%;\n",
              "      cursor: pointer;\n",
              "      display: none;\n",
              "      fill: #1967D2;\n",
              "      height: 32px;\n",
              "      padding: 0 0 0 0;\n",
              "      width: 32px;\n",
              "    }\n",
              "\n",
              "    .colab-df-convert:hover {\n",
              "      background-color: #E2EBFA;\n",
              "      box-shadow: 0px 1px 2px rgba(60, 64, 67, 0.3), 0px 1px 3px 1px rgba(60, 64, 67, 0.15);\n",
              "      fill: #174EA6;\n",
              "    }\n",
              "\n",
              "    [theme=dark] .colab-df-convert {\n",
              "      background-color: #3B4455;\n",
              "      fill: #D2E3FC;\n",
              "    }\n",
              "\n",
              "    [theme=dark] .colab-df-convert:hover {\n",
              "      background-color: #434B5C;\n",
              "      box-shadow: 0px 1px 3px 1px rgba(0, 0, 0, 0.15);\n",
              "      filter: drop-shadow(0px 1px 2px rgba(0, 0, 0, 0.3));\n",
              "      fill: #FFFFFF;\n",
              "    }\n",
              "  </style>\n",
              "\n",
              "      <script>\n",
              "        const buttonEl =\n",
              "          document.querySelector('#df-79b852c0-fb6d-4d6f-bd2d-785e749e15aa button.colab-df-convert');\n",
              "        buttonEl.style.display =\n",
              "          google.colab.kernel.accessAllowed ? 'block' : 'none';\n",
              "\n",
              "        async function convertToInteractive(key) {\n",
              "          const element = document.querySelector('#df-79b852c0-fb6d-4d6f-bd2d-785e749e15aa');\n",
              "          const dataTable =\n",
              "            await google.colab.kernel.invokeFunction('convertToInteractive',\n",
              "                                                     [key], {});\n",
              "          if (!dataTable) return;\n",
              "\n",
              "          const docLinkHtml = 'Like what you see? Visit the ' +\n",
              "            '<a target=\"_blank\" href=https://colab.research.google.com/notebooks/data_table.ipynb>data table notebook</a>'\n",
              "            + ' to learn more about interactive tables.';\n",
              "          element.innerHTML = '';\n",
              "          dataTable['output_type'] = 'display_data';\n",
              "          await google.colab.output.renderOutput(dataTable, element);\n",
              "          const docLink = document.createElement('div');\n",
              "          docLink.innerHTML = docLinkHtml;\n",
              "          element.appendChild(docLink);\n",
              "        }\n",
              "      </script>\n",
              "    </div>\n",
              "  </div>\n",
              "  "
            ],
            "text/plain": [
              "                       Baseline (Default Hyperparameter)  Grid Search\n",
              "train - precision                               0.747036     0.747036\n",
              "train - recall                                  0.436490     0.436490\n",
              "train - accuracy                                0.829834     0.829834\n",
              "train - f1_score                                0.551020     0.551020\n",
              "test - precision                                0.611940     0.546512\n",
              "test - recall                                   0.328000     0.376000\n",
              "test - accuracy_score                           0.814503     0.802698\n",
              "test - f1_score                                 0.427083     0.445498"
            ]
          },
          "execution_count": 116,
          "metadata": {},
          "output_type": "execute_result"
        }
      ]
    },
    {
      "cell_type": "markdown",
      "source": [
        "> Dari informasi yang didapat, f1-score train menggunakan grid search memiliki nilai 0.551 dan fi-score test memiliki nilai 0.445, data dapat dikategorikan overfit. Akurasi train adalah 83% dan test adalah 80% pada saat menggunkan grid search."
      ],
      "metadata": {
        "id": "ngyD9SUtFCaK"
      }
    },
    {
      "cell_type": "markdown",
      "source": [
        "### Model Training Random Search"
      ],
      "metadata": {
        "id": "4uCiwfFSUVkD"
      }
    },
    {
      "cell_type": "code",
      "source": [
        "random_grid_knn = {'algorithm' : ['auto', 'ball_tree', 'kd_tree', 'brute'],\n",
        "                  'weights' : ['uniform', 'distance'],\n",
        "                  'n_neighbors': [3, 6, 9],\n",
        "                  'leaf_size': [3, 6, 9]\n",
        "                  }\n",
        "random_grid_knn"
      ],
      "metadata": {
        "outputId": "90885983-cd13-49ec-8777-b3c9a70e9d14",
        "colab": {
          "base_uri": "https://localhost:8080/"
        },
        "id": "I9vAP-51UVkE"
      },
      "execution_count": 117,
      "outputs": [
        {
          "output_type": "execute_result",
          "data": {
            "text/plain": [
              "{'algorithm': ['auto', 'ball_tree', 'kd_tree', 'brute'],\n",
              " 'weights': ['uniform', 'distance'],\n",
              " 'n_neighbors': [3, 6, 9],\n",
              " 'leaf_size': [3, 6, 9]}"
            ]
          },
          "metadata": {},
          "execution_count": 117
        }
      ]
    },
    {
      "cell_type": "markdown",
      "source": [
        "> Melakukan training menggunakan random search pada datat train knn."
      ],
      "metadata": {
        "id": "VoQlmzX4F5Xw"
      }
    },
    {
      "cell_type": "code",
      "source": [
        "# Train with Random Search\n",
        "%%time\n",
        "\n",
        "knn_randomcv = RandomizedSearchCV(estimator=knn,\n",
        "                         param_distributions=random_grid_knn,\n",
        "                         cv=3,\n",
        "                         n_jobs=-1,\n",
        "                         verbose=2, \n",
        "                         scoring='f1')\n",
        "knn_randomcv.fit(X_train_final, y_train_trim)"
      ],
      "metadata": {
        "outputId": "c211e9f7-f7b9-4c25-daf5-b28ae10ade34",
        "colab": {
          "base_uri": "https://localhost:8080/",
          "height": 170
        },
        "id": "ZWQ-5OMLUVkE"
      },
      "execution_count": 118,
      "outputs": [
        {
          "output_type": "stream",
          "name": "stdout",
          "text": [
            "Fitting 3 folds for each of 10 candidates, totalling 30 fits\n",
            "CPU times: user 64.6 ms, sys: 7.25 ms, total: 71.8 ms\n",
            "Wall time: 1.13 s\n"
          ]
        },
        {
          "output_type": "execute_result",
          "data": {
            "text/plain": [
              "RandomizedSearchCV(cv=3, estimator=KNeighborsClassifier(), n_jobs=-1,\n",
              "                   param_distributions={'algorithm': ['auto', 'ball_tree',\n",
              "                                                      'kd_tree', 'brute'],\n",
              "                                        'leaf_size': [3, 6, 9],\n",
              "                                        'n_neighbors': [3, 6, 9],\n",
              "                                        'weights': ['uniform', 'distance']},\n",
              "                   scoring='f1', verbose=2)"
            ],
            "text/html": [
              "<style>#sk-container-id-24 {color: black;background-color: white;}#sk-container-id-24 pre{padding: 0;}#sk-container-id-24 div.sk-toggleable {background-color: white;}#sk-container-id-24 label.sk-toggleable__label {cursor: pointer;display: block;width: 100%;margin-bottom: 0;padding: 0.3em;box-sizing: border-box;text-align: center;}#sk-container-id-24 label.sk-toggleable__label-arrow:before {content: \"▸\";float: left;margin-right: 0.25em;color: #696969;}#sk-container-id-24 label.sk-toggleable__label-arrow:hover:before {color: black;}#sk-container-id-24 div.sk-estimator:hover label.sk-toggleable__label-arrow:before {color: black;}#sk-container-id-24 div.sk-toggleable__content {max-height: 0;max-width: 0;overflow: hidden;text-align: left;background-color: #f0f8ff;}#sk-container-id-24 div.sk-toggleable__content pre {margin: 0.2em;color: black;border-radius: 0.25em;background-color: #f0f8ff;}#sk-container-id-24 input.sk-toggleable__control:checked~div.sk-toggleable__content {max-height: 200px;max-width: 100%;overflow: auto;}#sk-container-id-24 input.sk-toggleable__control:checked~label.sk-toggleable__label-arrow:before {content: \"▾\";}#sk-container-id-24 div.sk-estimator input.sk-toggleable__control:checked~label.sk-toggleable__label {background-color: #d4ebff;}#sk-container-id-24 div.sk-label input.sk-toggleable__control:checked~label.sk-toggleable__label {background-color: #d4ebff;}#sk-container-id-24 input.sk-hidden--visually {border: 0;clip: rect(1px 1px 1px 1px);clip: rect(1px, 1px, 1px, 1px);height: 1px;margin: -1px;overflow: hidden;padding: 0;position: absolute;width: 1px;}#sk-container-id-24 div.sk-estimator {font-family: monospace;background-color: #f0f8ff;border: 1px dotted black;border-radius: 0.25em;box-sizing: border-box;margin-bottom: 0.5em;}#sk-container-id-24 div.sk-estimator:hover {background-color: #d4ebff;}#sk-container-id-24 div.sk-parallel-item::after {content: \"\";width: 100%;border-bottom: 1px solid gray;flex-grow: 1;}#sk-container-id-24 div.sk-label:hover label.sk-toggleable__label {background-color: #d4ebff;}#sk-container-id-24 div.sk-serial::before {content: \"\";position: absolute;border-left: 1px solid gray;box-sizing: border-box;top: 0;bottom: 0;left: 50%;z-index: 0;}#sk-container-id-24 div.sk-serial {display: flex;flex-direction: column;align-items: center;background-color: white;padding-right: 0.2em;padding-left: 0.2em;position: relative;}#sk-container-id-24 div.sk-item {position: relative;z-index: 1;}#sk-container-id-24 div.sk-parallel {display: flex;align-items: stretch;justify-content: center;background-color: white;position: relative;}#sk-container-id-24 div.sk-item::before, #sk-container-id-24 div.sk-parallel-item::before {content: \"\";position: absolute;border-left: 1px solid gray;box-sizing: border-box;top: 0;bottom: 0;left: 50%;z-index: -1;}#sk-container-id-24 div.sk-parallel-item {display: flex;flex-direction: column;z-index: 1;position: relative;background-color: white;}#sk-container-id-24 div.sk-parallel-item:first-child::after {align-self: flex-end;width: 50%;}#sk-container-id-24 div.sk-parallel-item:last-child::after {align-self: flex-start;width: 50%;}#sk-container-id-24 div.sk-parallel-item:only-child::after {width: 0;}#sk-container-id-24 div.sk-dashed-wrapped {border: 1px dashed gray;margin: 0 0.4em 0.5em 0.4em;box-sizing: border-box;padding-bottom: 0.4em;background-color: white;}#sk-container-id-24 div.sk-label label {font-family: monospace;font-weight: bold;display: inline-block;line-height: 1.2em;}#sk-container-id-24 div.sk-label-container {text-align: center;}#sk-container-id-24 div.sk-container {/* jupyter's `normalize.less` sets `[hidden] { display: none; }` but bootstrap.min.css set `[hidden] { display: none !important; }` so we also need the `!important` here to be able to override the default hidden behavior on the sphinx rendered scikit-learn.org. See: https://github.com/scikit-learn/scikit-learn/issues/21755 */display: inline-block !important;position: relative;}#sk-container-id-24 div.sk-text-repr-fallback {display: none;}</style><div id=\"sk-container-id-24\" class=\"sk-top-container\"><div class=\"sk-text-repr-fallback\"><pre>RandomizedSearchCV(cv=3, estimator=KNeighborsClassifier(), n_jobs=-1,\n",
              "                   param_distributions={&#x27;algorithm&#x27;: [&#x27;auto&#x27;, &#x27;ball_tree&#x27;,\n",
              "                                                      &#x27;kd_tree&#x27;, &#x27;brute&#x27;],\n",
              "                                        &#x27;leaf_size&#x27;: [3, 6, 9],\n",
              "                                        &#x27;n_neighbors&#x27;: [3, 6, 9],\n",
              "                                        &#x27;weights&#x27;: [&#x27;uniform&#x27;, &#x27;distance&#x27;]},\n",
              "                   scoring=&#x27;f1&#x27;, verbose=2)</pre><b>In a Jupyter environment, please rerun this cell to show the HTML representation or trust the notebook. <br />On GitHub, the HTML representation is unable to render, please try loading this page with nbviewer.org.</b></div><div class=\"sk-container\" hidden><div class=\"sk-item sk-dashed-wrapped\"><div class=\"sk-label-container\"><div class=\"sk-label sk-toggleable\"><input class=\"sk-toggleable__control sk-hidden--visually\" id=\"sk-estimator-id-42\" type=\"checkbox\" ><label for=\"sk-estimator-id-42\" class=\"sk-toggleable__label sk-toggleable__label-arrow\">RandomizedSearchCV</label><div class=\"sk-toggleable__content\"><pre>RandomizedSearchCV(cv=3, estimator=KNeighborsClassifier(), n_jobs=-1,\n",
              "                   param_distributions={&#x27;algorithm&#x27;: [&#x27;auto&#x27;, &#x27;ball_tree&#x27;,\n",
              "                                                      &#x27;kd_tree&#x27;, &#x27;brute&#x27;],\n",
              "                                        &#x27;leaf_size&#x27;: [3, 6, 9],\n",
              "                                        &#x27;n_neighbors&#x27;: [3, 6, 9],\n",
              "                                        &#x27;weights&#x27;: [&#x27;uniform&#x27;, &#x27;distance&#x27;]},\n",
              "                   scoring=&#x27;f1&#x27;, verbose=2)</pre></div></div></div><div class=\"sk-parallel\"><div class=\"sk-parallel-item\"><div class=\"sk-item\"><div class=\"sk-label-container\"><div class=\"sk-label sk-toggleable\"><input class=\"sk-toggleable__control sk-hidden--visually\" id=\"sk-estimator-id-43\" type=\"checkbox\" ><label for=\"sk-estimator-id-43\" class=\"sk-toggleable__label sk-toggleable__label-arrow\">estimator: KNeighborsClassifier</label><div class=\"sk-toggleable__content\"><pre>KNeighborsClassifier()</pre></div></div></div><div class=\"sk-serial\"><div class=\"sk-item\"><div class=\"sk-estimator sk-toggleable\"><input class=\"sk-toggleable__control sk-hidden--visually\" id=\"sk-estimator-id-44\" type=\"checkbox\" ><label for=\"sk-estimator-id-44\" class=\"sk-toggleable__label sk-toggleable__label-arrow\">KNeighborsClassifier</label><div class=\"sk-toggleable__content\"><pre>KNeighborsClassifier()</pre></div></div></div></div></div></div></div></div></div></div>"
            ]
          },
          "metadata": {},
          "execution_count": 118
        }
      ]
    },
    {
      "cell_type": "code",
      "source": [
        "# Menampilkan Hyperparameters Terbaik Pada knn\n",
        "knn_randomcv.best_estimator_"
      ],
      "metadata": {
        "outputId": "f9d0e6ec-d711-4f76-a8e2-c8227d010c32",
        "colab": {
          "base_uri": "https://localhost:8080/",
          "height": 92
        },
        "id": "l6oY9_TWUVkE"
      },
      "execution_count": 119,
      "outputs": [
        {
          "data": {
            "text/html": [
              "<style>#sk-container-id-25 {color: black;background-color: white;}#sk-container-id-25 pre{padding: 0;}#sk-container-id-25 div.sk-toggleable {background-color: white;}#sk-container-id-25 label.sk-toggleable__label {cursor: pointer;display: block;width: 100%;margin-bottom: 0;padding: 0.3em;box-sizing: border-box;text-align: center;}#sk-container-id-25 label.sk-toggleable__label-arrow:before {content: \"▸\";float: left;margin-right: 0.25em;color: #696969;}#sk-container-id-25 label.sk-toggleable__label-arrow:hover:before {color: black;}#sk-container-id-25 div.sk-estimator:hover label.sk-toggleable__label-arrow:before {color: black;}#sk-container-id-25 div.sk-toggleable__content {max-height: 0;max-width: 0;overflow: hidden;text-align: left;background-color: #f0f8ff;}#sk-container-id-25 div.sk-toggleable__content pre {margin: 0.2em;color: black;border-radius: 0.25em;background-color: #f0f8ff;}#sk-container-id-25 input.sk-toggleable__control:checked~div.sk-toggleable__content {max-height: 200px;max-width: 100%;overflow: auto;}#sk-container-id-25 input.sk-toggleable__control:checked~label.sk-toggleable__label-arrow:before {content: \"▾\";}#sk-container-id-25 div.sk-estimator input.sk-toggleable__control:checked~label.sk-toggleable__label {background-color: #d4ebff;}#sk-container-id-25 div.sk-label input.sk-toggleable__control:checked~label.sk-toggleable__label {background-color: #d4ebff;}#sk-container-id-25 input.sk-hidden--visually {border: 0;clip: rect(1px 1px 1px 1px);clip: rect(1px, 1px, 1px, 1px);height: 1px;margin: -1px;overflow: hidden;padding: 0;position: absolute;width: 1px;}#sk-container-id-25 div.sk-estimator {font-family: monospace;background-color: #f0f8ff;border: 1px dotted black;border-radius: 0.25em;box-sizing: border-box;margin-bottom: 0.5em;}#sk-container-id-25 div.sk-estimator:hover {background-color: #d4ebff;}#sk-container-id-25 div.sk-parallel-item::after {content: \"\";width: 100%;border-bottom: 1px solid gray;flex-grow: 1;}#sk-container-id-25 div.sk-label:hover label.sk-toggleable__label {background-color: #d4ebff;}#sk-container-id-25 div.sk-serial::before {content: \"\";position: absolute;border-left: 1px solid gray;box-sizing: border-box;top: 0;bottom: 0;left: 50%;z-index: 0;}#sk-container-id-25 div.sk-serial {display: flex;flex-direction: column;align-items: center;background-color: white;padding-right: 0.2em;padding-left: 0.2em;position: relative;}#sk-container-id-25 div.sk-item {position: relative;z-index: 1;}#sk-container-id-25 div.sk-parallel {display: flex;align-items: stretch;justify-content: center;background-color: white;position: relative;}#sk-container-id-25 div.sk-item::before, #sk-container-id-25 div.sk-parallel-item::before {content: \"\";position: absolute;border-left: 1px solid gray;box-sizing: border-box;top: 0;bottom: 0;left: 50%;z-index: -1;}#sk-container-id-25 div.sk-parallel-item {display: flex;flex-direction: column;z-index: 1;position: relative;background-color: white;}#sk-container-id-25 div.sk-parallel-item:first-child::after {align-self: flex-end;width: 50%;}#sk-container-id-25 div.sk-parallel-item:last-child::after {align-self: flex-start;width: 50%;}#sk-container-id-25 div.sk-parallel-item:only-child::after {width: 0;}#sk-container-id-25 div.sk-dashed-wrapped {border: 1px dashed gray;margin: 0 0.4em 0.5em 0.4em;box-sizing: border-box;padding-bottom: 0.4em;background-color: white;}#sk-container-id-25 div.sk-label label {font-family: monospace;font-weight: bold;display: inline-block;line-height: 1.2em;}#sk-container-id-25 div.sk-label-container {text-align: center;}#sk-container-id-25 div.sk-container {/* jupyter's `normalize.less` sets `[hidden] { display: none; }` but bootstrap.min.css set `[hidden] { display: none !important; }` so we also need the `!important` here to be able to override the default hidden behavior on the sphinx rendered scikit-learn.org. See: https://github.com/scikit-learn/scikit-learn/issues/21755 */display: inline-block !important;position: relative;}#sk-container-id-25 div.sk-text-repr-fallback {display: none;}</style><div id=\"sk-container-id-25\" class=\"sk-top-container\"><div class=\"sk-text-repr-fallback\"><pre>KNeighborsClassifier(algorithm=&#x27;kd_tree&#x27;, leaf_size=3, n_neighbors=9,\n",
              "                     weights=&#x27;distance&#x27;)</pre><b>In a Jupyter environment, please rerun this cell to show the HTML representation or trust the notebook. <br />On GitHub, the HTML representation is unable to render, please try loading this page with nbviewer.org.</b></div><div class=\"sk-container\" hidden><div class=\"sk-item\"><div class=\"sk-estimator sk-toggleable\"><input class=\"sk-toggleable__control sk-hidden--visually\" id=\"sk-estimator-id-45\" type=\"checkbox\" checked><label for=\"sk-estimator-id-45\" class=\"sk-toggleable__label sk-toggleable__label-arrow\">KNeighborsClassifier</label><div class=\"sk-toggleable__content\"><pre>KNeighborsClassifier(algorithm=&#x27;kd_tree&#x27;, leaf_size=3, n_neighbors=9,\n",
              "                     weights=&#x27;distance&#x27;)</pre></div></div></div></div></div>"
            ],
            "text/plain": [
              "KNeighborsClassifier(algorithm='kd_tree', leaf_size=3, n_neighbors=9,\n",
              "                     weights='distance')"
            ]
          },
          "execution_count": 119,
          "metadata": {},
          "output_type": "execute_result"
        }
      ]
    },
    {
      "cell_type": "code",
      "source": [
        "knn_randomcv.best_params_"
      ],
      "metadata": {
        "colab": {
          "base_uri": "https://localhost:8080/"
        },
        "outputId": "d0cfd617-d94d-4c69-cb5b-1bc294fd926b",
        "id": "Wkp9Y29GUVkE"
      },
      "execution_count": 120,
      "outputs": [
        {
          "data": {
            "text/plain": [
              "{'weights': 'distance',\n",
              " 'n_neighbors': 9,\n",
              " 'leaf_size': 3,\n",
              " 'algorithm': 'kd_tree'}"
            ]
          },
          "execution_count": 120,
          "metadata": {},
          "output_type": "execute_result"
        }
      ]
    },
    {
      "cell_type": "markdown",
      "source": [
        "> Setelah dilakuka trin data knn, ditemukan hyperparameter terbaik untuk knn menggunakan random search yaitu dengan hyperparameter `KNeighborsClassifier(algorithm='kd_tree', leaf_size=3, n_neighbors=9, weights='distance')` yang nantinya akan diujikan pada data test."
      ],
      "metadata": {
        "id": "YIb_bCToGFDW"
      }
    },
    {
      "cell_type": "code",
      "source": [
        "# Menyimpan Hyperparameter terbaik Untuk Uji Untuk Uji Data pada Variabel knn_randomcv_best\n",
        "\n",
        "knn_randomcv_best = knn_randomcv.best_estimator_"
      ],
      "metadata": {
        "id": "wMA7IDB2UVkE"
      },
      "execution_count": 121,
      "outputs": []
    },
    {
      "cell_type": "markdown",
      "source": [
        "### Model Evaluation Random Search"
      ],
      "metadata": {
        "id": "k-9IZENyUVkE"
      }
    },
    {
      "cell_type": "code",
      "source": [
        "# Cek Performa Model Menggunakan Hyperparameter Terbaik\n",
        "\n",
        "y_pred_test_knn_rand = knn_randomcv_best.predict(X_test_final)\n",
        "\n",
        "print('F1 Score - Test Set   : ', f1_score(y_test, y_pred_test_knn_rand), '\\n')\n",
        "print('Classification Report : \\n', classification_report(y_test, y_pred_test_knn_rand), '\\n')\n",
        "print('Confusion Matrix      : \\n', ConfusionMatrixDisplay.from_estimator(knn_randomcv_best, X_test_final, y_test, cmap='Reds'))"
      ],
      "metadata": {
        "outputId": "f4e22461-1946-4e9c-af3d-d1ad1a3e1eb9",
        "colab": {
          "base_uri": "https://localhost:8080/",
          "height": 539
        },
        "id": "xvQhQDg2UVkE"
      },
      "execution_count": 122,
      "outputs": [
        {
          "output_type": "stream",
          "name": "stdout",
          "text": [
            "F1 Score - Test Set   :  0.3867403314917127 \n",
            "\n",
            "Classification Report : \n",
            "               precision    recall  f1-score   support\n",
            "\n",
            "           0       0.83      0.96      0.89       468\n",
            "           1       0.62      0.28      0.39       125\n",
            "\n",
            "    accuracy                           0.81       593\n",
            "   macro avg       0.73      0.62      0.64       593\n",
            "weighted avg       0.79      0.81      0.78       593\n",
            " \n",
            "\n",
            "Confusion Matrix      : \n",
            " <sklearn.metrics._plot.confusion_matrix.ConfusionMatrixDisplay object at 0x7f8a5f588d90>\n"
          ]
        },
        {
          "output_type": "display_data",
          "data": {
            "text/plain": [
              "<Figure size 432x288 with 2 Axes>"
            ],
            "image/png": "[encoded data removed]"
          },
          "metadata": {
            "needs_background": "light"
          }
        }
      ]
    },
    {
      "cell_type": "markdown",
      "source": [
        "> Evaluasi model data test, diketahui bahwa nilai f1-score test bernilai 0.39 dan akurasinya sebesar 81%."
      ],
      "metadata": {
        "id": "svQE3vO4GdC7"
      }
    },
    {
      "cell_type": "code",
      "source": [
        "# Save Classification Report into a Dictionary\n",
        "\n",
        "score_reports = {\n",
        "    'train - precision' : precision_score(y_train_trim, y_pred_train_knn),\n",
        "    'train - recall' : recall_score(y_train_trim, y_pred_train_knn),\n",
        "    'train - accuracy' : accuracy_score(y_train_trim, y_pred_train_knn),\n",
        "    'train - f1_score' : f1_score(y_train_trim, y_pred_train_knn),\n",
        "    'test - precision' : precision_score(y_test, y_pred_test_knn_rand),\n",
        "    'test - recall' : recall_score(y_test, y_pred_test_knn_rand),\n",
        "    'test - accuracy_score' : accuracy_score(y_test, y_pred_test_knn_rand),\n",
        "    'test - f1_score' : f1_score(y_test, y_pred_test_knn_rand),\n",
        "}\n",
        "all_reports['Random Search'] = score_reports\n",
        "pd.DataFrame(all_reports)"
      ],
      "metadata": {
        "outputId": "4901e4b0-fd59-49aa-f5fe-fae71b16cc4d",
        "colab": {
          "base_uri": "https://localhost:8080/",
          "height": 300
        },
        "id": "DP-ErjC8UVkE"
      },
      "execution_count": 123,
      "outputs": [
        {
          "output_type": "execute_result",
          "data": {
            "text/plain": [
              "                       Baseline (Default Hyperparameter)  Grid Search  \\\n",
              "train - precision                               0.747036     0.747036   \n",
              "train - recall                                  0.436490     0.436490   \n",
              "train - accuracy                                0.829834     0.829834   \n",
              "train - f1_score                                0.551020     0.551020   \n",
              "test - precision                                0.611940     0.546512   \n",
              "test - recall                                   0.328000     0.376000   \n",
              "test - accuracy_score                           0.814503     0.802698   \n",
              "test - f1_score                                 0.427083     0.445498   \n",
              "\n",
              "                       Random Search  \n",
              "train - precision           0.747036  \n",
              "train - recall              0.436490  \n",
              "train - accuracy            0.829834  \n",
              "train - f1_score            0.551020  \n",
              "test - precision            0.625000  \n",
              "test - recall               0.280000  \n",
              "test - accuracy_score       0.812816  \n",
              "test - f1_score             0.386740  "
            ],
            "text/html": [
              "\n",
              "  <div id=\"df-d0f77726-f445-4433-9540-0c1dc93565b8\">\n",
              "    <div class=\"colab-df-container\">\n",
              "      <div>\n",
              "<style scoped>\n",
              "    .dataframe tbody tr th:only-of-type {\n",
              "        vertical-align: middle;\n",
              "    }\n",
              "\n",
              "    .dataframe tbody tr th {\n",
              "        vertical-align: top;\n",
              "    }\n",
              "\n",
              "    .dataframe thead th {\n",
              "        text-align: right;\n",
              "    }\n",
              "</style>\n",
              "<table border=\"1\" class=\"dataframe\">\n",
              "  <thead>\n",
              "    <tr style=\"text-align: right;\">\n",
              "      <th></th>\n",
              "      <th>Baseline (Default Hyperparameter)</th>\n",
              "      <th>Grid Search</th>\n",
              "      <th>Random Search</th>\n",
              "    </tr>\n",
              "  </thead>\n",
              "  <tbody>\n",
              "    <tr>\n",
              "      <th>train - precision</th>\n",
              "      <td>0.747036</td>\n",
              "      <td>0.747036</td>\n",
              "      <td>0.747036</td>\n",
              "    </tr>\n",
              "    <tr>\n",
              "      <th>train - recall</th>\n",
              "      <td>0.436490</td>\n",
              "      <td>0.436490</td>\n",
              "      <td>0.436490</td>\n",
              "    </tr>\n",
              "    <tr>\n",
              "      <th>train - accuracy</th>\n",
              "      <td>0.829834</td>\n",
              "      <td>0.829834</td>\n",
              "      <td>0.829834</td>\n",
              "    </tr>\n",
              "    <tr>\n",
              "      <th>train - f1_score</th>\n",
              "      <td>0.551020</td>\n",
              "      <td>0.551020</td>\n",
              "      <td>0.551020</td>\n",
              "    </tr>\n",
              "    <tr>\n",
              "      <th>test - precision</th>\n",
              "      <td>0.611940</td>\n",
              "      <td>0.546512</td>\n",
              "      <td>0.625000</td>\n",
              "    </tr>\n",
              "    <tr>\n",
              "      <th>test - recall</th>\n",
              "      <td>0.328000</td>\n",
              "      <td>0.376000</td>\n",
              "      <td>0.280000</td>\n",
              "    </tr>\n",
              "    <tr>\n",
              "      <th>test - accuracy_score</th>\n",
              "      <td>0.814503</td>\n",
              "      <td>0.802698</td>\n",
              "      <td>0.812816</td>\n",
              "    </tr>\n",
              "    <tr>\n",
              "      <th>test - f1_score</th>\n",
              "      <td>0.427083</td>\n",
              "      <td>0.445498</td>\n",
              "      <td>0.386740</td>\n",
              "    </tr>\n",
              "  </tbody>\n",
              "</table>\n",
              "</div>\n",
              "      <button class=\"colab-df-convert\" onclick=\"convertToInteractive('df-d0f77726-f445-4433-9540-0c1dc93565b8')\"\n",
              "              title=\"Convert this dataframe to an interactive table.\"\n",
              "              style=\"display:none;\">\n",
              "        \n",
              "  <svg xmlns=\"http://www.w3.org/2000/svg\" height=\"24px\"viewBox=\"0 0 24 24\"\n",
              "       width=\"24px\">\n",
              "    <path d=\"M0 0h24v24H0V0z\" fill=\"none\"/>\n",
              "    <path d=\"M18.56 5.44l.94 2.06.94-2.06 2.06-.94-2.06-.94-.94-2.06-.94 2.06-2.06.94zm-11 1L8.5 8.5l.94-2.06 2.06-.94-2.06-.94L8.5 2.5l-.94 2.06-2.06.94zm10 10l.94 2.06.94-2.06 2.06-.94-2.06-.94-.94-2.06-.94 2.06-2.06.94z\"/><path d=\"M17.41 7.96l-1.37-1.37c-.4-.4-.92-.59-1.43-.59-.52 0-1.04.2-1.43.59L10.3 9.45l-7.72 7.72c-.78.78-.78 2.05 0 2.83L4 21.41c.39.39.9.59 1.41.59.51 0 1.02-.2 1.41-.59l7.78-7.78 2.81-2.81c.8-.78.8-2.07 0-2.86zM5.41 20L4 18.59l7.72-7.72 1.47 1.35L5.41 20z\"/>\n",
              "  </svg>\n",
              "      </button>\n",
              "      \n",
              "  <style>\n",
              "    .colab-df-container {\n",
              "      display:flex;\n",
              "      flex-wrap:wrap;\n",
              "      gap: 12px;\n",
              "    }\n",
              "\n",
              "    .colab-df-convert {\n",
              "      background-color: #E8F0FE;\n",
              "      border: none;\n",
              "      border-radius: 50%;\n",
              "      cursor: pointer;\n",
              "      display: none;\n",
              "      fill: #1967D2;\n",
              "      height: 32px;\n",
              "      padding: 0 0 0 0;\n",
              "      width: 32px;\n",
              "    }\n",
              "\n",
              "    .colab-df-convert:hover {\n",
              "      background-color: #E2EBFA;\n",
              "      box-shadow: 0px 1px 2px rgba(60, 64, 67, 0.3), 0px 1px 3px 1px rgba(60, 64, 67, 0.15);\n",
              "      fill: #174EA6;\n",
              "    }\n",
              "\n",
              "    [theme=dark] .colab-df-convert {\n",
              "      background-color: #3B4455;\n",
              "      fill: #D2E3FC;\n",
              "    }\n",
              "\n",
              "    [theme=dark] .colab-df-convert:hover {\n",
              "      background-color: #434B5C;\n",
              "      box-shadow: 0px 1px 3px 1px rgba(0, 0, 0, 0.15);\n",
              "      filter: drop-shadow(0px 1px 2px rgba(0, 0, 0, 0.3));\n",
              "      fill: #FFFFFF;\n",
              "    }\n",
              "  </style>\n",
              "\n",
              "      <script>\n",
              "        const buttonEl =\n",
              "          document.querySelector('#df-d0f77726-f445-4433-9540-0c1dc93565b8 button.colab-df-convert');\n",
              "        buttonEl.style.display =\n",
              "          google.colab.kernel.accessAllowed ? 'block' : 'none';\n",
              "\n",
              "        async function convertToInteractive(key) {\n",
              "          const element = document.querySelector('#df-d0f77726-f445-4433-9540-0c1dc93565b8');\n",
              "          const dataTable =\n",
              "            await google.colab.kernel.invokeFunction('convertToInteractive',\n",
              "                                                     [key], {});\n",
              "          if (!dataTable) return;\n",
              "\n",
              "          const docLinkHtml = 'Like what you see? Visit the ' +\n",
              "            '<a target=\"_blank\" href=https://colab.research.google.com/notebooks/data_table.ipynb>data table notebook</a>'\n",
              "            + ' to learn more about interactive tables.';\n",
              "          element.innerHTML = '';\n",
              "          dataTable['output_type'] = 'display_data';\n",
              "          await google.colab.output.renderOutput(dataTable, element);\n",
              "          const docLink = document.createElement('div');\n",
              "          docLink.innerHTML = docLinkHtml;\n",
              "          element.appendChild(docLink);\n",
              "        }\n",
              "      </script>\n",
              "    </div>\n",
              "  </div>\n",
              "  "
            ]
          },
          "metadata": {},
          "execution_count": 123
        }
      ]
    },
    {
      "cell_type": "markdown",
      "source": [
        "> Dari hasil pengujian terhadap hyperparameter baseline, terbaik menurut grid search dan random search ditemukan bahwa Hyperparameter grid Search merupakan yang terbaik meskipun hasil f1-score train dan f1-score test cenderung overvit.\n",
        "\n",
        ">  Hyperparameter dari hasil pencarian grid search akan digunakan pada pemodelan.\n",
        "\n",
        "> Hyperparameternya adalah `KNeighborsClassifier(leaf_size=3, n_neighbors=3)`"
      ],
      "metadata": {
        "id": "TpjV2tf3GnOX"
      }
    },
    {
      "cell_type": "markdown",
      "source": [
        "## Naive Bayes"
      ],
      "metadata": {
        "id": "b1o2UPggXtQ4"
      }
    },
    {
      "cell_type": "markdown",
      "source": [
        "### Model Definition"
      ],
      "metadata": {
        "id": "fBr67Lq1XtQ8"
      }
    },
    {
      "cell_type": "code",
      "source": [
        "# Pendefinisian Model Naive Bayes\n",
        "\n",
        "nb = GaussianNB()"
      ],
      "metadata": {
        "id": "JhHuGK3tXtQ8"
      },
      "execution_count": 124,
      "outputs": []
    },
    {
      "cell_type": "markdown",
      "source": [
        "### Model Training Baseline"
      ],
      "metadata": {
        "id": "pPn9EsjXXtQ8"
      }
    },
    {
      "cell_type": "code",
      "source": [
        "# Training Model Naive Bayes\n",
        "\n",
        "nb.fit(X_train_final, y_train_trim)"
      ],
      "metadata": {
        "colab": {
          "base_uri": "https://localhost:8080/",
          "height": 75
        },
        "outputId": "872faf80-c474-48ec-9bc9-cf184906ea99",
        "id": "YD7W2gHDXtQ8"
      },
      "execution_count": 125,
      "outputs": [
        {
          "output_type": "execute_result",
          "data": {
            "text/plain": [
              "GaussianNB()"
            ],
            "text/html": [
              "<style>#sk-container-id-26 {color: black;background-color: white;}#sk-container-id-26 pre{padding: 0;}#sk-container-id-26 div.sk-toggleable {background-color: white;}#sk-container-id-26 label.sk-toggleable__label {cursor: pointer;display: block;width: 100%;margin-bottom: 0;padding: 0.3em;box-sizing: border-box;text-align: center;}#sk-container-id-26 label.sk-toggleable__label-arrow:before {content: \"▸\";float: left;margin-right: 0.25em;color: #696969;}#sk-container-id-26 label.sk-toggleable__label-arrow:hover:before {color: black;}#sk-container-id-26 div.sk-estimator:hover label.sk-toggleable__label-arrow:before {color: black;}#sk-container-id-26 div.sk-toggleable__content {max-height: 0;max-width: 0;overflow: hidden;text-align: left;background-color: #f0f8ff;}#sk-container-id-26 div.sk-toggleable__content pre {margin: 0.2em;color: black;border-radius: 0.25em;background-color: #f0f8ff;}#sk-container-id-26 input.sk-toggleable__control:checked~div.sk-toggleable__content {max-height: 200px;max-width: 100%;overflow: auto;}#sk-container-id-26 input.sk-toggleable__control:checked~label.sk-toggleable__label-arrow:before {content: \"▾\";}#sk-container-id-26 div.sk-estimator input.sk-toggleable__control:checked~label.sk-toggleable__label {background-color: #d4ebff;}#sk-container-id-26 div.sk-label input.sk-toggleable__control:checked~label.sk-toggleable__label {background-color: #d4ebff;}#sk-container-id-26 input.sk-hidden--visually {border: 0;clip: rect(1px 1px 1px 1px);clip: rect(1px, 1px, 1px, 1px);height: 1px;margin: -1px;overflow: hidden;padding: 0;position: absolute;width: 1px;}#sk-container-id-26 div.sk-estimator {font-family: monospace;background-color: #f0f8ff;border: 1px dotted black;border-radius: 0.25em;box-sizing: border-box;margin-bottom: 0.5em;}#sk-container-id-26 div.sk-estimator:hover {background-color: #d4ebff;}#sk-container-id-26 div.sk-parallel-item::after {content: \"\";width: 100%;border-bottom: 1px solid gray;flex-grow: 1;}#sk-container-id-26 div.sk-label:hover label.sk-toggleable__label {background-color: #d4ebff;}#sk-container-id-26 div.sk-serial::before {content: \"\";position: absolute;border-left: 1px solid gray;box-sizing: border-box;top: 0;bottom: 0;left: 50%;z-index: 0;}#sk-container-id-26 div.sk-serial {display: flex;flex-direction: column;align-items: center;background-color: white;padding-right: 0.2em;padding-left: 0.2em;position: relative;}#sk-container-id-26 div.sk-item {position: relative;z-index: 1;}#sk-container-id-26 div.sk-parallel {display: flex;align-items: stretch;justify-content: center;background-color: white;position: relative;}#sk-container-id-26 div.sk-item::before, #sk-container-id-26 div.sk-parallel-item::before {content: \"\";position: absolute;border-left: 1px solid gray;box-sizing: border-box;top: 0;bottom: 0;left: 50%;z-index: -1;}#sk-container-id-26 div.sk-parallel-item {display: flex;flex-direction: column;z-index: 1;position: relative;background-color: white;}#sk-container-id-26 div.sk-parallel-item:first-child::after {align-self: flex-end;width: 50%;}#sk-container-id-26 div.sk-parallel-item:last-child::after {align-self: flex-start;width: 50%;}#sk-container-id-26 div.sk-parallel-item:only-child::after {width: 0;}#sk-container-id-26 div.sk-dashed-wrapped {border: 1px dashed gray;margin: 0 0.4em 0.5em 0.4em;box-sizing: border-box;padding-bottom: 0.4em;background-color: white;}#sk-container-id-26 div.sk-label label {font-family: monospace;font-weight: bold;display: inline-block;line-height: 1.2em;}#sk-container-id-26 div.sk-label-container {text-align: center;}#sk-container-id-26 div.sk-container {/* jupyter's `normalize.less` sets `[hidden] { display: none; }` but bootstrap.min.css set `[hidden] { display: none !important; }` so we also need the `!important` here to be able to override the default hidden behavior on the sphinx rendered scikit-learn.org. See: https://github.com/scikit-learn/scikit-learn/issues/21755 */display: inline-block !important;position: relative;}#sk-container-id-26 div.sk-text-repr-fallback {display: none;}</style><div id=\"sk-container-id-26\" class=\"sk-top-container\"><div class=\"sk-text-repr-fallback\"><pre>GaussianNB()</pre><b>In a Jupyter environment, please rerun this cell to show the HTML representation or trust the notebook. <br />On GitHub, the HTML representation is unable to render, please try loading this page with nbviewer.org.</b></div><div class=\"sk-container\" hidden><div class=\"sk-item\"><div class=\"sk-estimator sk-toggleable\"><input class=\"sk-toggleable__control sk-hidden--visually\" id=\"sk-estimator-id-46\" type=\"checkbox\" checked><label for=\"sk-estimator-id-46\" class=\"sk-toggleable__label sk-toggleable__label-arrow\">GaussianNB</label><div class=\"sk-toggleable__content\"><pre>GaussianNB()</pre></div></div></div></div></div>"
            ]
          },
          "metadata": {},
          "execution_count": 125
        }
      ]
    },
    {
      "cell_type": "markdown",
      "source": [
        "### Model Evaluation Baseline"
      ],
      "metadata": {
        "id": "h-A3YibPXtQ9"
      }
    },
    {
      "cell_type": "code",
      "source": [
        "# Evaluasi Performa Model Naive Bayes\n",
        "\n",
        "y_pred_train_nb = nb.predict(X_train_final)\n",
        "\n",
        "print('F1 Score - Train Set  : ', f1_score(y_train_trim, y_pred_train_nb), '\\n')\n",
        "print('Classification Report : \\n', classification_report(y_train_trim, y_pred_train_nb), '\\n')\n",
        "print('Confusion Matrix      : \\n', ConfusionMatrixDisplay.from_estimator(nb, X_train_final, y_train_trim, cmap='Reds'))"
      ],
      "metadata": {
        "outputId": "72a6ce48-61b1-4d68-fa6b-2fbf1ca6124c",
        "colab": {
          "base_uri": "https://localhost:8080/",
          "height": 539
        },
        "id": "2VusCeXdXtQ9"
      },
      "execution_count": 126,
      "outputs": [
        {
          "output_type": "stream",
          "name": "stdout",
          "text": [
            "F1 Score - Train Set  :  0.5272727272727273 \n",
            "\n",
            "Classification Report : \n",
            "               precision    recall  f1-score   support\n",
            "\n",
            "           0       0.85      0.84      0.85      1377\n",
            "           1       0.52      0.54      0.53       433\n",
            "\n",
            "    accuracy                           0.77      1810\n",
            "   macro avg       0.69      0.69      0.69      1810\n",
            "weighted avg       0.77      0.77      0.77      1810\n",
            " \n",
            "\n",
            "Confusion Matrix      : \n",
            " <sklearn.metrics._plot.confusion_matrix.ConfusionMatrixDisplay object at 0x7f8a5f588460>\n"
          ]
        },
        {
          "output_type": "display_data",
          "data": {
            "text/plain": [
              "<Figure size 432x288 with 2 Axes>"
            ],
            "image/png": "[encoded data removed]"
          },
          "metadata": {
            "needs_background": "light"
          }
        }
      ]
    },
    {
      "cell_type": "markdown",
      "source": [
        "> Dari hasil train menggunakan baseline naive bayes ditunjukkan bahwa f1-score train bernilai 0.53 dengan akurasi 77%."
      ],
      "metadata": {
        "id": "CTwNs9yPHGwk"
      }
    },
    {
      "cell_type": "code",
      "source": [
        "# Cross Validation using `cross_val_score`\n",
        "\n",
        "%%time\n",
        "f1_score_train_cross_val_nb = cross_val_score(nb, \n",
        "                                           X_train_final, \n",
        "                                           y_train_trim, \n",
        "                                           cv=3, \n",
        "                                           scoring='f1')\n",
        "\n",
        "print('F1 Score - All - Cross Validation  : ', f1_score_train_cross_val_nb)\n",
        "print('F1 Score - Mean - Cross Validation : ', f1_score_train_cross_val_nb.mean())\n",
        "print('F1 Score - Std - Cross Validation  : ', f1_score_train_cross_val_nb.std())\n",
        "print('F1 Score - Range of Test-Set       : ', (f1_score_train_cross_val_nb.mean()-f1_score_train_cross_val_nb.std()) , '-', (f1_score_train_cross_val_nb.mean()+f1_score_train_cross_val_nb.std()))"
      ],
      "metadata": {
        "outputId": "a73f9816-9d8c-410a-9ad3-e2d2c95262ea",
        "colab": {
          "base_uri": "https://localhost:8080/"
        },
        "id": "EZk7Sn3jXtQ9"
      },
      "execution_count": 127,
      "outputs": [
        {
          "output_type": "stream",
          "name": "stdout",
          "text": [
            "F1 Score - All - Cross Validation  :  [0.53146853 0.50344828 0.50803859]\n",
            "F1 Score - Mean - Cross Validation :  0.5143184641798678\n",
            "F1 Score - Std - Cross Validation  :  0.01227086905315204\n",
            "F1 Score - Range of Test-Set       :  0.5020475951267158 - 0.5265893332330198\n",
            "CPU times: user 27.2 ms, sys: 6 µs, total: 27.2 ms\n",
            "Wall time: 30.4 ms\n"
          ]
        }
      ]
    },
    {
      "cell_type": "code",
      "source": [
        "# Cek Performa Model\n",
        "\n",
        "y_pred_test_nb = nb.predict(X_test_final)\n",
        "\n",
        "print('F1 Score - Test Set   : ', f1_score(y_test, y_pred_test_nb), '\\n')\n",
        "print('Classification Report : \\n', classification_report(y_test, y_pred_test_nb), '\\n')\n",
        "print('Confusion Matrix      : \\n', ConfusionMatrixDisplay.from_estimator(nb, X_test_final, y_test, cmap='Reds'))"
      ],
      "metadata": {
        "outputId": "1f35dde8-319d-4038-c80e-3db7f2de2c20",
        "colab": {
          "base_uri": "https://localhost:8080/",
          "height": 539
        },
        "id": "LEBfJokQXtQ9"
      },
      "execution_count": 128,
      "outputs": [
        {
          "output_type": "stream",
          "name": "stdout",
          "text": [
            "F1 Score - Test Set   :  0.5185185185185185 \n",
            "\n",
            "Classification Report : \n",
            "               precision    recall  f1-score   support\n",
            "\n",
            "           0       0.87      0.88      0.88       468\n",
            "           1       0.53      0.50      0.52       125\n",
            "\n",
            "    accuracy                           0.80       593\n",
            "   macro avg       0.70      0.69      0.70       593\n",
            "weighted avg       0.80      0.80      0.80       593\n",
            " \n",
            "\n",
            "Confusion Matrix      : \n",
            " <sklearn.metrics._plot.confusion_matrix.ConfusionMatrixDisplay object at 0x7f8a5f588100>\n"
          ]
        },
        {
          "output_type": "display_data",
          "data": {
            "text/plain": [
              "<Figure size 432x288 with 2 Axes>"
            ],
            "image/png": "[encoded data removed]"
          },
          "metadata": {
            "needs_background": "light"
          }
        }
      ]
    },
    {
      "cell_type": "markdown",
      "source": [
        ">"
      ],
      "metadata": {
        "id": "uyU7DODqHWLm"
      }
    },
    {
      "cell_type": "markdown",
      "source": [
        "> Dari hasil train menggunakan baseline naive bayes pada data test ditunjukkan bahwa f1-score test bernilai 0.52 dengan akurasi 80%."
      ],
      "metadata": {
        "id": "N409T2osHbNR"
      }
    },
    {
      "cell_type": "code",
      "source": [
        "# Tampilkan Hasil Uji Model\n",
        "\n",
        "all_reports = {}\n",
        "score_reports = {\n",
        "    'train - precision' : precision_score(y_train_trim, y_pred_train_nb),\n",
        "    'train - recall' : recall_score(y_train_trim, y_pred_train_nb),\n",
        "    'train - accuracy' : accuracy_score(y_train_trim, y_pred_train_nb),\n",
        "    'train - f1_score' : f1_score(y_train_trim, y_pred_train_nb),\n",
        "    'test - precision' : precision_score(y_test, y_pred_test_nb),\n",
        "    'test - recall' : recall_score(y_test, y_pred_test_nb),\n",
        "    'test - accuracy_score' : accuracy_score(y_test, y_pred_test_nb),\n",
        "    'test - f1_score' : f1_score(y_test, y_pred_test_nb),\n",
        "}\n",
        "all_reports['Baseline (Default Hyperparameter)'] = score_reports\n",
        "pd.DataFrame(all_reports)"
      ],
      "metadata": {
        "outputId": "433a8318-9eb5-4912-e169-c59e2ed74985",
        "colab": {
          "base_uri": "https://localhost:8080/",
          "height": 300
        },
        "id": "Qzib_KZ8XtQ9"
      },
      "execution_count": 129,
      "outputs": [
        {
          "data": {
            "text/html": [
              "\n",
              "  <div id=\"df-2cd7726c-d41e-454d-86d0-decaae21928e\">\n",
              "    <div class=\"colab-df-container\">\n",
              "      <div>\n",
              "<style scoped>\n",
              "    .dataframe tbody tr th:only-of-type {\n",
              "        vertical-align: middle;\n",
              "    }\n",
              "\n",
              "    .dataframe tbody tr th {\n",
              "        vertical-align: top;\n",
              "    }\n",
              "\n",
              "    .dataframe thead th {\n",
              "        text-align: right;\n",
              "    }\n",
              "</style>\n",
              "<table border=\"1\" class=\"dataframe\">\n",
              "  <thead>\n",
              "    <tr style=\"text-align: right;\">\n",
              "      <th></th>\n",
              "      <th>Baseline (Default Hyperparameter)</th>\n",
              "    </tr>\n",
              "  </thead>\n",
              "  <tbody>\n",
              "    <tr>\n",
              "      <th>test - accuracy_score</th>\n",
              "      <td>0.802698</td>\n",
              "    </tr>\n",
              "    <tr>\n",
              "      <th>test - f1_score</th>\n",
              "      <td>0.518519</td>\n",
              "    </tr>\n",
              "    <tr>\n",
              "      <th>test - precision</th>\n",
              "      <td>0.533898</td>\n",
              "    </tr>\n",
              "    <tr>\n",
              "      <th>test - recall</th>\n",
              "      <td>0.504000</td>\n",
              "    </tr>\n",
              "    <tr>\n",
              "      <th>train - accuracy</th>\n",
              "      <td>0.770166</td>\n",
              "    </tr>\n",
              "    <tr>\n",
              "      <th>train - f1_score</th>\n",
              "      <td>0.527273</td>\n",
              "    </tr>\n",
              "    <tr>\n",
              "      <th>train - precision</th>\n",
              "      <td>0.519016</td>\n",
              "    </tr>\n",
              "    <tr>\n",
              "      <th>train - recall</th>\n",
              "      <td>0.535797</td>\n",
              "    </tr>\n",
              "  </tbody>\n",
              "</table>\n",
              "</div>\n",
              "      <button class=\"colab-df-convert\" onclick=\"convertToInteractive('df-2cd7726c-d41e-454d-86d0-decaae21928e')\"\n",
              "              title=\"Convert this dataframe to an interactive table.\"\n",
              "              style=\"display:none;\">\n",
              "        \n",
              "  <svg xmlns=\"http://www.w3.org/2000/svg\" height=\"24px\"viewBox=\"0 0 24 24\"\n",
              "       width=\"24px\">\n",
              "    <path d=\"M0 0h24v24H0V0z\" fill=\"none\"/>\n",
              "    <path d=\"M18.56 5.44l.94 2.06.94-2.06 2.06-.94-2.06-.94-.94-2.06-.94 2.06-2.06.94zm-11 1L8.5 8.5l.94-2.06 2.06-.94-2.06-.94L8.5 2.5l-.94 2.06-2.06.94zm10 10l.94 2.06.94-2.06 2.06-.94-2.06-.94-.94-2.06-.94 2.06-2.06.94z\"/><path d=\"M17.41 7.96l-1.37-1.37c-.4-.4-.92-.59-1.43-.59-.52 0-1.04.2-1.43.59L10.3 9.45l-7.72 7.72c-.78.78-.78 2.05 0 2.83L4 21.41c.39.39.9.59 1.41.59.51 0 1.02-.2 1.41-.59l7.78-7.78 2.81-2.81c.8-.78.8-2.07 0-2.86zM5.41 20L4 18.59l7.72-7.72 1.47 1.35L5.41 20z\"/>\n",
              "  </svg>\n",
              "      </button>\n",
              "      \n",
              "  <style>\n",
              "    .colab-df-container {\n",
              "      display:flex;\n",
              "      flex-wrap:wrap;\n",
              "      gap: 12px;\n",
              "    }\n",
              "\n",
              "    .colab-df-convert {\n",
              "      background-color: #E8F0FE;\n",
              "      border: none;\n",
              "      border-radius: 50%;\n",
              "      cursor: pointer;\n",
              "      display: none;\n",
              "      fill: #1967D2;\n",
              "      height: 32px;\n",
              "      padding: 0 0 0 0;\n",
              "      width: 32px;\n",
              "    }\n",
              "\n",
              "    .colab-df-convert:hover {\n",
              "      background-color: #E2EBFA;\n",
              "      box-shadow: 0px 1px 2px rgba(60, 64, 67, 0.3), 0px 1px 3px 1px rgba(60, 64, 67, 0.15);\n",
              "      fill: #174EA6;\n",
              "    }\n",
              "\n",
              "    [theme=dark] .colab-df-convert {\n",
              "      background-color: #3B4455;\n",
              "      fill: #D2E3FC;\n",
              "    }\n",
              "\n",
              "    [theme=dark] .colab-df-convert:hover {\n",
              "      background-color: #434B5C;\n",
              "      box-shadow: 0px 1px 3px 1px rgba(0, 0, 0, 0.15);\n",
              "      filter: drop-shadow(0px 1px 2px rgba(0, 0, 0, 0.3));\n",
              "      fill: #FFFFFF;\n",
              "    }\n",
              "  </style>\n",
              "\n",
              "      <script>\n",
              "        const buttonEl =\n",
              "          document.querySelector('#df-2cd7726c-d41e-454d-86d0-decaae21928e button.colab-df-convert');\n",
              "        buttonEl.style.display =\n",
              "          google.colab.kernel.accessAllowed ? 'block' : 'none';\n",
              "\n",
              "        async function convertToInteractive(key) {\n",
              "          const element = document.querySelector('#df-2cd7726c-d41e-454d-86d0-decaae21928e');\n",
              "          const dataTable =\n",
              "            await google.colab.kernel.invokeFunction('convertToInteractive',\n",
              "                                                     [key], {});\n",
              "          if (!dataTable) return;\n",
              "\n",
              "          const docLinkHtml = 'Like what you see? Visit the ' +\n",
              "            '<a target=\"_blank\" href=https://colab.research.google.com/notebooks/data_table.ipynb>data table notebook</a>'\n",
              "            + ' to learn more about interactive tables.';\n",
              "          element.innerHTML = '';\n",
              "          dataTable['output_type'] = 'display_data';\n",
              "          await google.colab.output.renderOutput(dataTable, element);\n",
              "          const docLink = document.createElement('div');\n",
              "          docLink.innerHTML = docLinkHtml;\n",
              "          element.appendChild(docLink);\n",
              "        }\n",
              "      </script>\n",
              "    </div>\n",
              "  </div>\n",
              "  "
            ],
            "text/plain": [
              "                       Baseline (Default Hyperparameter)\n",
              "test - accuracy_score                           0.802698\n",
              "test - f1_score                                 0.518519\n",
              "test - precision                                0.533898\n",
              "test - recall                                   0.504000\n",
              "train - accuracy                                0.770166\n",
              "train - f1_score                                0.527273\n",
              "train - precision                               0.519016\n",
              "train - recall                                  0.535797"
            ]
          },
          "execution_count": 129,
          "metadata": {},
          "output_type": "execute_result"
        }
      ]
    },
    {
      "cell_type": "markdown",
      "source": [
        "> Dari informasi yang didapat diatas, naive bayes dengan baseline hyperparameter memiliki model yang goodfit karena nilai f1-score train bernilai 0.53 dan f1-score test bernilai 0.52."
      ],
      "metadata": {
        "id": "fR1M3lx-HiA3"
      }
    },
    {
      "cell_type": "markdown",
      "source": [
        "### Model Training Grid Search"
      ],
      "metadata": {
        "id": "s0HEPQRkXtQ9"
      }
    },
    {
      "cell_type": "code",
      "source": [
        "# Latih Dengan Grid Search Untuk Menentukan Hyperparameter Terbaik\n",
        "%%time\n",
        "# Mennetukan parameter grid\n",
        "\n",
        "param_grid = {\n",
        "              'var_smoothing': np.logspace(0,-9, num=100)\n",
        "              }\n",
        "\n",
        "nb_gridcv = GridSearchCV(estimator=nb, \n",
        "                           param_grid=param_grid, \n",
        "                           cv=3, n_jobs=-1, verbose=2, scoring = \"f1\")\n",
        "\n",
        "\n",
        "nb_gridcv.fit(X_train_final, y_train_trim)\n"
      ],
      "metadata": {
        "outputId": "37757780-6c81-4f4f-9345-71d0b2e0d13e",
        "colab": {
          "base_uri": "https://localhost:8080/",
          "height": 170
        },
        "id": "kwqhcihSXtQ9"
      },
      "execution_count": 130,
      "outputs": [
        {
          "output_type": "stream",
          "name": "stdout",
          "text": [
            "Fitting 3 folds for each of 100 candidates, totalling 300 fits\n",
            "CPU times: user 163 ms, sys: 13.1 ms, total: 176 ms\n",
            "Wall time: 1.82 s\n"
          ]
        },
        {
          "output_type": "execute_result",
          "data": {
            "text/plain": [
              "GridSearchCV(cv=3, estimator=GaussianNB(), n_jobs=-1,\n",
              "             param_grid={'var_smoothing': array([1.00000000e+00, 8.11130831e-01, 6.57933225e-01, 5.33669923e-01,\n",
              "       4.32876128e-01, 3.51119173e-01, 2.84803587e-01, 2.31012970e-01,\n",
              "       1.87381742e-01, 1.51991108e-01, 1.23284674e-01, 1.00000000e-01,\n",
              "       8.11130831e-02, 6.57933225e-02, 5.33669923e-02, 4.32876128e-02,\n",
              "       3.51119173e-02, 2.8480358...\n",
              "       1.23284674e-07, 1.00000000e-07, 8.11130831e-08, 6.57933225e-08,\n",
              "       5.33669923e-08, 4.32876128e-08, 3.51119173e-08, 2.84803587e-08,\n",
              "       2.31012970e-08, 1.87381742e-08, 1.51991108e-08, 1.23284674e-08,\n",
              "       1.00000000e-08, 8.11130831e-09, 6.57933225e-09, 5.33669923e-09,\n",
              "       4.32876128e-09, 3.51119173e-09, 2.84803587e-09, 2.31012970e-09,\n",
              "       1.87381742e-09, 1.51991108e-09, 1.23284674e-09, 1.00000000e-09])},\n",
              "             scoring='f1', verbose=2)"
            ],
            "text/html": [
              "<style>#sk-container-id-27 {color: black;background-color: white;}#sk-container-id-27 pre{padding: 0;}#sk-container-id-27 div.sk-toggleable {background-color: white;}#sk-container-id-27 label.sk-toggleable__label {cursor: pointer;display: block;width: 100%;margin-bottom: 0;padding: 0.3em;box-sizing: border-box;text-align: center;}#sk-container-id-27 label.sk-toggleable__label-arrow:before {content: \"▸\";float: left;margin-right: 0.25em;color: #696969;}#sk-container-id-27 label.sk-toggleable__label-arrow:hover:before {color: black;}#sk-container-id-27 div.sk-estimator:hover label.sk-toggleable__label-arrow:before {color: black;}#sk-container-id-27 div.sk-toggleable__content {max-height: 0;max-width: 0;overflow: hidden;text-align: left;background-color: #f0f8ff;}#sk-container-id-27 div.sk-toggleable__content pre {margin: 0.2em;color: black;border-radius: 0.25em;background-color: #f0f8ff;}#sk-container-id-27 input.sk-toggleable__control:checked~div.sk-toggleable__content {max-height: 200px;max-width: 100%;overflow: auto;}#sk-container-id-27 input.sk-toggleable__control:checked~label.sk-toggleable__label-arrow:before {content: \"▾\";}#sk-container-id-27 div.sk-estimator input.sk-toggleable__control:checked~label.sk-toggleable__label {background-color: #d4ebff;}#sk-container-id-27 div.sk-label input.sk-toggleable__control:checked~label.sk-toggleable__label {background-color: #d4ebff;}#sk-container-id-27 input.sk-hidden--visually {border: 0;clip: rect(1px 1px 1px 1px);clip: rect(1px, 1px, 1px, 1px);height: 1px;margin: -1px;overflow: hidden;padding: 0;position: absolute;width: 1px;}#sk-container-id-27 div.sk-estimator {font-family: monospace;background-color: #f0f8ff;border: 1px dotted black;border-radius: 0.25em;box-sizing: border-box;margin-bottom: 0.5em;}#sk-container-id-27 div.sk-estimator:hover {background-color: #d4ebff;}#sk-container-id-27 div.sk-parallel-item::after {content: \"\";width: 100%;border-bottom: 1px solid gray;flex-grow: 1;}#sk-container-id-27 div.sk-label:hover label.sk-toggleable__label {background-color: #d4ebff;}#sk-container-id-27 div.sk-serial::before {content: \"\";position: absolute;border-left: 1px solid gray;box-sizing: border-box;top: 0;bottom: 0;left: 50%;z-index: 0;}#sk-container-id-27 div.sk-serial {display: flex;flex-direction: column;align-items: center;background-color: white;padding-right: 0.2em;padding-left: 0.2em;position: relative;}#sk-container-id-27 div.sk-item {position: relative;z-index: 1;}#sk-container-id-27 div.sk-parallel {display: flex;align-items: stretch;justify-content: center;background-color: white;position: relative;}#sk-container-id-27 div.sk-item::before, #sk-container-id-27 div.sk-parallel-item::before {content: \"\";position: absolute;border-left: 1px solid gray;box-sizing: border-box;top: 0;bottom: 0;left: 50%;z-index: -1;}#sk-container-id-27 div.sk-parallel-item {display: flex;flex-direction: column;z-index: 1;position: relative;background-color: white;}#sk-container-id-27 div.sk-parallel-item:first-child::after {align-self: flex-end;width: 50%;}#sk-container-id-27 div.sk-parallel-item:last-child::after {align-self: flex-start;width: 50%;}#sk-container-id-27 div.sk-parallel-item:only-child::after {width: 0;}#sk-container-id-27 div.sk-dashed-wrapped {border: 1px dashed gray;margin: 0 0.4em 0.5em 0.4em;box-sizing: border-box;padding-bottom: 0.4em;background-color: white;}#sk-container-id-27 div.sk-label label {font-family: monospace;font-weight: bold;display: inline-block;line-height: 1.2em;}#sk-container-id-27 div.sk-label-container {text-align: center;}#sk-container-id-27 div.sk-container {/* jupyter's `normalize.less` sets `[hidden] { display: none; }` but bootstrap.min.css set `[hidden] { display: none !important; }` so we also need the `!important` here to be able to override the default hidden behavior on the sphinx rendered scikit-learn.org. See: https://github.com/scikit-learn/scikit-learn/issues/21755 */display: inline-block !important;position: relative;}#sk-container-id-27 div.sk-text-repr-fallback {display: none;}</style><div id=\"sk-container-id-27\" class=\"sk-top-container\"><div class=\"sk-text-repr-fallback\"><pre>GridSearchCV(cv=3, estimator=GaussianNB(), n_jobs=-1,\n",
              "             param_grid={&#x27;var_smoothing&#x27;: array([1.00000000e+00, 8.11130831e-01, 6.57933225e-01, 5.33669923e-01,\n",
              "       4.32876128e-01, 3.51119173e-01, 2.84803587e-01, 2.31012970e-01,\n",
              "       1.87381742e-01, 1.51991108e-01, 1.23284674e-01, 1.00000000e-01,\n",
              "       8.11130831e-02, 6.57933225e-02, 5.33669923e-02, 4.32876128e-02,\n",
              "       3.51119173e-02, 2.8480358...\n",
              "       1.23284674e-07, 1.00000000e-07, 8.11130831e-08, 6.57933225e-08,\n",
              "       5.33669923e-08, 4.32876128e-08, 3.51119173e-08, 2.84803587e-08,\n",
              "       2.31012970e-08, 1.87381742e-08, 1.51991108e-08, 1.23284674e-08,\n",
              "       1.00000000e-08, 8.11130831e-09, 6.57933225e-09, 5.33669923e-09,\n",
              "       4.32876128e-09, 3.51119173e-09, 2.84803587e-09, 2.31012970e-09,\n",
              "       1.87381742e-09, 1.51991108e-09, 1.23284674e-09, 1.00000000e-09])},\n",
              "             scoring=&#x27;f1&#x27;, verbose=2)</pre><b>In a Jupyter environment, please rerun this cell to show the HTML representation or trust the notebook. <br />On GitHub, the HTML representation is unable to render, please try loading this page with nbviewer.org.</b></div><div class=\"sk-container\" hidden><div class=\"sk-item sk-dashed-wrapped\"><div class=\"sk-label-container\"><div class=\"sk-label sk-toggleable\"><input class=\"sk-toggleable__control sk-hidden--visually\" id=\"sk-estimator-id-47\" type=\"checkbox\" ><label for=\"sk-estimator-id-47\" class=\"sk-toggleable__label sk-toggleable__label-arrow\">GridSearchCV</label><div class=\"sk-toggleable__content\"><pre>GridSearchCV(cv=3, estimator=GaussianNB(), n_jobs=-1,\n",
              "             param_grid={&#x27;var_smoothing&#x27;: array([1.00000000e+00, 8.11130831e-01, 6.57933225e-01, 5.33669923e-01,\n",
              "       4.32876128e-01, 3.51119173e-01, 2.84803587e-01, 2.31012970e-01,\n",
              "       1.87381742e-01, 1.51991108e-01, 1.23284674e-01, 1.00000000e-01,\n",
              "       8.11130831e-02, 6.57933225e-02, 5.33669923e-02, 4.32876128e-02,\n",
              "       3.51119173e-02, 2.8480358...\n",
              "       1.23284674e-07, 1.00000000e-07, 8.11130831e-08, 6.57933225e-08,\n",
              "       5.33669923e-08, 4.32876128e-08, 3.51119173e-08, 2.84803587e-08,\n",
              "       2.31012970e-08, 1.87381742e-08, 1.51991108e-08, 1.23284674e-08,\n",
              "       1.00000000e-08, 8.11130831e-09, 6.57933225e-09, 5.33669923e-09,\n",
              "       4.32876128e-09, 3.51119173e-09, 2.84803587e-09, 2.31012970e-09,\n",
              "       1.87381742e-09, 1.51991108e-09, 1.23284674e-09, 1.00000000e-09])},\n",
              "             scoring=&#x27;f1&#x27;, verbose=2)</pre></div></div></div><div class=\"sk-parallel\"><div class=\"sk-parallel-item\"><div class=\"sk-item\"><div class=\"sk-label-container\"><div class=\"sk-label sk-toggleable\"><input class=\"sk-toggleable__control sk-hidden--visually\" id=\"sk-estimator-id-48\" type=\"checkbox\" ><label for=\"sk-estimator-id-48\" class=\"sk-toggleable__label sk-toggleable__label-arrow\">estimator: GaussianNB</label><div class=\"sk-toggleable__content\"><pre>GaussianNB()</pre></div></div></div><div class=\"sk-serial\"><div class=\"sk-item\"><div class=\"sk-estimator sk-toggleable\"><input class=\"sk-toggleable__control sk-hidden--visually\" id=\"sk-estimator-id-49\" type=\"checkbox\" ><label for=\"sk-estimator-id-49\" class=\"sk-toggleable__label sk-toggleable__label-arrow\">GaussianNB</label><div class=\"sk-toggleable__content\"><pre>GaussianNB()</pre></div></div></div></div></div></div></div></div></div></div>"
            ]
          },
          "metadata": {},
          "execution_count": 130
        }
      ]
    },
    {
      "cell_type": "markdown",
      "source": [
        "> Dilakukan train pada data train menggunakan hyperparameter grid search."
      ],
      "metadata": {
        "id": "05c56UiUH-nt"
      }
    },
    {
      "cell_type": "code",
      "source": [
        "# Menampilkan Hyperparameters Terbaik Pada gausianNB\n",
        "nb_gridcv.best_estimator_"
      ],
      "metadata": {
        "outputId": "e61a8f7e-2eda-4988-968b-5c9bd0663055",
        "colab": {
          "base_uri": "https://localhost:8080/",
          "height": 75
        },
        "id": "ypiYSdLJXtQ9"
      },
      "execution_count": 131,
      "outputs": [
        {
          "output_type": "execute_result",
          "data": {
            "text/plain": [
              "GaussianNB(var_smoothing=0.004328761281083057)"
            ],
            "text/html": [
              "<style>#sk-container-id-28 {color: black;background-color: white;}#sk-container-id-28 pre{padding: 0;}#sk-container-id-28 div.sk-toggleable {background-color: white;}#sk-container-id-28 label.sk-toggleable__label {cursor: pointer;display: block;width: 100%;margin-bottom: 0;padding: 0.3em;box-sizing: border-box;text-align: center;}#sk-container-id-28 label.sk-toggleable__label-arrow:before {content: \"▸\";float: left;margin-right: 0.25em;color: #696969;}#sk-container-id-28 label.sk-toggleable__label-arrow:hover:before {color: black;}#sk-container-id-28 div.sk-estimator:hover label.sk-toggleable__label-arrow:before {color: black;}#sk-container-id-28 div.sk-toggleable__content {max-height: 0;max-width: 0;overflow: hidden;text-align: left;background-color: #f0f8ff;}#sk-container-id-28 div.sk-toggleable__content pre {margin: 0.2em;color: black;border-radius: 0.25em;background-color: #f0f8ff;}#sk-container-id-28 input.sk-toggleable__control:checked~div.sk-toggleable__content {max-height: 200px;max-width: 100%;overflow: auto;}#sk-container-id-28 input.sk-toggleable__control:checked~label.sk-toggleable__label-arrow:before {content: \"▾\";}#sk-container-id-28 div.sk-estimator input.sk-toggleable__control:checked~label.sk-toggleable__label {background-color: #d4ebff;}#sk-container-id-28 div.sk-label input.sk-toggleable__control:checked~label.sk-toggleable__label {background-color: #d4ebff;}#sk-container-id-28 input.sk-hidden--visually {border: 0;clip: rect(1px 1px 1px 1px);clip: rect(1px, 1px, 1px, 1px);height: 1px;margin: -1px;overflow: hidden;padding: 0;position: absolute;width: 1px;}#sk-container-id-28 div.sk-estimator {font-family: monospace;background-color: #f0f8ff;border: 1px dotted black;border-radius: 0.25em;box-sizing: border-box;margin-bottom: 0.5em;}#sk-container-id-28 div.sk-estimator:hover {background-color: #d4ebff;}#sk-container-id-28 div.sk-parallel-item::after {content: \"\";width: 100%;border-bottom: 1px solid gray;flex-grow: 1;}#sk-container-id-28 div.sk-label:hover label.sk-toggleable__label {background-color: #d4ebff;}#sk-container-id-28 div.sk-serial::before {content: \"\";position: absolute;border-left: 1px solid gray;box-sizing: border-box;top: 0;bottom: 0;left: 50%;z-index: 0;}#sk-container-id-28 div.sk-serial {display: flex;flex-direction: column;align-items: center;background-color: white;padding-right: 0.2em;padding-left: 0.2em;position: relative;}#sk-container-id-28 div.sk-item {position: relative;z-index: 1;}#sk-container-id-28 div.sk-parallel {display: flex;align-items: stretch;justify-content: center;background-color: white;position: relative;}#sk-container-id-28 div.sk-item::before, #sk-container-id-28 div.sk-parallel-item::before {content: \"\";position: absolute;border-left: 1px solid gray;box-sizing: border-box;top: 0;bottom: 0;left: 50%;z-index: -1;}#sk-container-id-28 div.sk-parallel-item {display: flex;flex-direction: column;z-index: 1;position: relative;background-color: white;}#sk-container-id-28 div.sk-parallel-item:first-child::after {align-self: flex-end;width: 50%;}#sk-container-id-28 div.sk-parallel-item:last-child::after {align-self: flex-start;width: 50%;}#sk-container-id-28 div.sk-parallel-item:only-child::after {width: 0;}#sk-container-id-28 div.sk-dashed-wrapped {border: 1px dashed gray;margin: 0 0.4em 0.5em 0.4em;box-sizing: border-box;padding-bottom: 0.4em;background-color: white;}#sk-container-id-28 div.sk-label label {font-family: monospace;font-weight: bold;display: inline-block;line-height: 1.2em;}#sk-container-id-28 div.sk-label-container {text-align: center;}#sk-container-id-28 div.sk-container {/* jupyter's `normalize.less` sets `[hidden] { display: none; }` but bootstrap.min.css set `[hidden] { display: none !important; }` so we also need the `!important` here to be able to override the default hidden behavior on the sphinx rendered scikit-learn.org. See: https://github.com/scikit-learn/scikit-learn/issues/21755 */display: inline-block !important;position: relative;}#sk-container-id-28 div.sk-text-repr-fallback {display: none;}</style><div id=\"sk-container-id-28\" class=\"sk-top-container\"><div class=\"sk-text-repr-fallback\"><pre>GaussianNB(var_smoothing=0.004328761281083057)</pre><b>In a Jupyter environment, please rerun this cell to show the HTML representation or trust the notebook. <br />On GitHub, the HTML representation is unable to render, please try loading this page with nbviewer.org.</b></div><div class=\"sk-container\" hidden><div class=\"sk-item\"><div class=\"sk-estimator sk-toggleable\"><input class=\"sk-toggleable__control sk-hidden--visually\" id=\"sk-estimator-id-50\" type=\"checkbox\" checked><label for=\"sk-estimator-id-50\" class=\"sk-toggleable__label sk-toggleable__label-arrow\">GaussianNB</label><div class=\"sk-toggleable__content\"><pre>GaussianNB(var_smoothing=0.004328761281083057)</pre></div></div></div></div></div>"
            ]
          },
          "metadata": {},
          "execution_count": 131
        }
      ]
    },
    {
      "cell_type": "markdown",
      "source": [
        ">"
      ],
      "metadata": {
        "id": "cpJ-8XTDH8JB"
      }
    },
    {
      "cell_type": "markdown",
      "source": [
        "> Dari hasil train naive bayes dengan grid search diketahui bahwa hyperparameter terbaik menggunakan nilai var-smoothing = 0.004328761281083057.\n",
        "\n",
        "> Hyperparameter tersebut akan diggunakan pada saat training data test."
      ],
      "metadata": {
        "id": "E-SD3fLDIG75"
      }
    },
    {
      "cell_type": "code",
      "source": [
        "nb_gridcv.best_params_"
      ],
      "metadata": {
        "outputId": "4e874149-f760-4ca7-d70d-c467b241e396",
        "colab": {
          "base_uri": "https://localhost:8080/"
        },
        "id": "wbJleyTNXtQ9"
      },
      "execution_count": 132,
      "outputs": [
        {
          "data": {
            "text/plain": [
              "{'var_smoothing': 0.004328761281083057}"
            ]
          },
          "execution_count": 132,
          "metadata": {},
          "output_type": "execute_result"
        }
      ]
    },
    {
      "cell_type": "code",
      "source": [
        "# Menyimpan Hyperparameter terbaik Untuk Uji Untuk Uji Data pada Variabel logreg_gridcv_best\n",
        "\n",
        "nb_gridcv_best = nb_gridcv.best_estimator_"
      ],
      "metadata": {
        "id": "aZbax1aCXtQ9"
      },
      "execution_count": 133,
      "outputs": []
    },
    {
      "cell_type": "markdown",
      "source": [
        "### Model Evaluation Grid Search"
      ],
      "metadata": {
        "id": "3HzVAmplXtQ9"
      }
    },
    {
      "cell_type": "code",
      "source": [
        "# Cek Performa Model Menggunakan Hyperparameter Terbaik\n",
        "\n",
        "y_pred_test_nb_grid = nb_gridcv_best.predict(X_test_final)\n",
        "\n",
        "print('F1 Score - Test Set   : ', f1_score(y_test, y_pred_test_nb_grid), '\\n')\n",
        "print('Classification Report : \\n', classification_report(y_test, y_pred_test_nb_grid), '\\n')\n",
        "print('Confusion Matrix      : \\n', ConfusionMatrixDisplay.from_estimator(nb_gridcv_best, X_test_final, y_test, cmap='Reds'))"
      ],
      "metadata": {
        "outputId": "3fd3753a-ad2a-4e99-e2e4-ad7625344205",
        "colab": {
          "base_uri": "https://localhost:8080/",
          "height": 539
        },
        "id": "8k2LE_oxXtQ9"
      },
      "execution_count": 134,
      "outputs": [
        {
          "output_type": "stream",
          "name": "stdout",
          "text": [
            "F1 Score - Test Set   :  0.5228215767634855 \n",
            "\n",
            "Classification Report : \n",
            "               precision    recall  f1-score   support\n",
            "\n",
            "           0       0.87      0.89      0.88       468\n",
            "           1       0.54      0.50      0.52       125\n",
            "\n",
            "    accuracy                           0.81       593\n",
            "   macro avg       0.71      0.70      0.70       593\n",
            "weighted avg       0.80      0.81      0.80       593\n",
            " \n",
            "\n",
            "Confusion Matrix      : \n",
            " <sklearn.metrics._plot.confusion_matrix.ConfusionMatrixDisplay object at 0x7f8a5f431df0>\n"
          ]
        },
        {
          "output_type": "display_data",
          "data": {
            "text/plain": [
              "<Figure size 432x288 with 2 Axes>"
            ],
            "image/png": "[encoded data removed]"
          },
          "metadata": {
            "needs_background": "light"
          }
        }
      ]
    },
    {
      "cell_type": "markdown",
      "source": [
        "> Nilai f1-score test pada gid search naive bayer memiliki nilai 0.52 dengan nilai akurasi 81%"
      ],
      "metadata": {
        "id": "Y39f1jK9IeDX"
      }
    },
    {
      "cell_type": "code",
      "source": [
        "# Save Classification Report into a Dictionary\n",
        "\n",
        "score_reports = {\n",
        "    'train - precision' : precision_score(y_train_trim, y_pred_train_nb),\n",
        "    'train - recall' : recall_score(y_train_trim, y_pred_train_nb),\n",
        "    'train - accuracy' : accuracy_score(y_train_trim, y_pred_train_nb),\n",
        "    'train - f1_score' : f1_score(y_train_trim, y_pred_train_nb),\n",
        "    'test - precision' : precision_score(y_test, y_pred_test_nb_grid),\n",
        "    'test - recall' : recall_score(y_test, y_pred_test_nb_grid),\n",
        "    'test - accuracy_score' : accuracy_score(y_test, y_pred_test_nb_grid),\n",
        "    'test - f1_score' : f1_score(y_test, y_pred_test_nb_grid),\n",
        "}\n",
        "all_reports['Grid Search'] = score_reports\n",
        "pd.DataFrame(all_reports)"
      ],
      "metadata": {
        "outputId": "a5ddf100-d728-4a7e-e300-3694c8591935",
        "colab": {
          "base_uri": "https://localhost:8080/",
          "height": 300
        },
        "id": "sZ_q9Pw2XtQ9"
      },
      "execution_count": 135,
      "outputs": [
        {
          "output_type": "execute_result",
          "data": {
            "text/plain": [
              "                       Baseline (Default Hyperparameter)  Grid Search\n",
              "train - precision                               0.519016     0.519016\n",
              "train - recall                                  0.535797     0.535797\n",
              "train - accuracy                                0.770166     0.770166\n",
              "train - f1_score                                0.527273     0.527273\n",
              "test - precision                                0.533898     0.543103\n",
              "test - recall                                   0.504000     0.504000\n",
              "test - accuracy_score                           0.802698     0.806071\n",
              "test - f1_score                                 0.518519     0.522822"
            ],
            "text/html": [
              "\n",
              "  <div id=\"df-73d763d6-891a-47a5-be7a-f0e7f4149e3d\">\n",
              "    <div class=\"colab-df-container\">\n",
              "      <div>\n",
              "<style scoped>\n",
              "    .dataframe tbody tr th:only-of-type {\n",
              "        vertical-align: middle;\n",
              "    }\n",
              "\n",
              "    .dataframe tbody tr th {\n",
              "        vertical-align: top;\n",
              "    }\n",
              "\n",
              "    .dataframe thead th {\n",
              "        text-align: right;\n",
              "    }\n",
              "</style>\n",
              "<table border=\"1\" class=\"dataframe\">\n",
              "  <thead>\n",
              "    <tr style=\"text-align: right;\">\n",
              "      <th></th>\n",
              "      <th>Baseline (Default Hyperparameter)</th>\n",
              "      <th>Grid Search</th>\n",
              "    </tr>\n",
              "  </thead>\n",
              "  <tbody>\n",
              "    <tr>\n",
              "      <th>train - precision</th>\n",
              "      <td>0.519016</td>\n",
              "      <td>0.519016</td>\n",
              "    </tr>\n",
              "    <tr>\n",
              "      <th>train - recall</th>\n",
              "      <td>0.535797</td>\n",
              "      <td>0.535797</td>\n",
              "    </tr>\n",
              "    <tr>\n",
              "      <th>train - accuracy</th>\n",
              "      <td>0.770166</td>\n",
              "      <td>0.770166</td>\n",
              "    </tr>\n",
              "    <tr>\n",
              "      <th>train - f1_score</th>\n",
              "      <td>0.527273</td>\n",
              "      <td>0.527273</td>\n",
              "    </tr>\n",
              "    <tr>\n",
              "      <th>test - precision</th>\n",
              "      <td>0.533898</td>\n",
              "      <td>0.543103</td>\n",
              "    </tr>\n",
              "    <tr>\n",
              "      <th>test - recall</th>\n",
              "      <td>0.504000</td>\n",
              "      <td>0.504000</td>\n",
              "    </tr>\n",
              "    <tr>\n",
              "      <th>test - accuracy_score</th>\n",
              "      <td>0.802698</td>\n",
              "      <td>0.806071</td>\n",
              "    </tr>\n",
              "    <tr>\n",
              "      <th>test - f1_score</th>\n",
              "      <td>0.518519</td>\n",
              "      <td>0.522822</td>\n",
              "    </tr>\n",
              "  </tbody>\n",
              "</table>\n",
              "</div>\n",
              "      <button class=\"colab-df-convert\" onclick=\"convertToInteractive('df-73d763d6-891a-47a5-be7a-f0e7f4149e3d')\"\n",
              "              title=\"Convert this dataframe to an interactive table.\"\n",
              "              style=\"display:none;\">\n",
              "        \n",
              "  <svg xmlns=\"http://www.w3.org/2000/svg\" height=\"24px\"viewBox=\"0 0 24 24\"\n",
              "       width=\"24px\">\n",
              "    <path d=\"M0 0h24v24H0V0z\" fill=\"none\"/>\n",
              "    <path d=\"M18.56 5.44l.94 2.06.94-2.06 2.06-.94-2.06-.94-.94-2.06-.94 2.06-2.06.94zm-11 1L8.5 8.5l.94-2.06 2.06-.94-2.06-.94L8.5 2.5l-.94 2.06-2.06.94zm10 10l.94 2.06.94-2.06 2.06-.94-2.06-.94-.94-2.06-.94 2.06-2.06.94z\"/><path d=\"M17.41 7.96l-1.37-1.37c-.4-.4-.92-.59-1.43-.59-.52 0-1.04.2-1.43.59L10.3 9.45l-7.72 7.72c-.78.78-.78 2.05 0 2.83L4 21.41c.39.39.9.59 1.41.59.51 0 1.02-.2 1.41-.59l7.78-7.78 2.81-2.81c.8-.78.8-2.07 0-2.86zM5.41 20L4 18.59l7.72-7.72 1.47 1.35L5.41 20z\"/>\n",
              "  </svg>\n",
              "      </button>\n",
              "      \n",
              "  <style>\n",
              "    .colab-df-container {\n",
              "      display:flex;\n",
              "      flex-wrap:wrap;\n",
              "      gap: 12px;\n",
              "    }\n",
              "\n",
              "    .colab-df-convert {\n",
              "      background-color: #E8F0FE;\n",
              "      border: none;\n",
              "      border-radius: 50%;\n",
              "      cursor: pointer;\n",
              "      display: none;\n",
              "      fill: #1967D2;\n",
              "      height: 32px;\n",
              "      padding: 0 0 0 0;\n",
              "      width: 32px;\n",
              "    }\n",
              "\n",
              "    .colab-df-convert:hover {\n",
              "      background-color: #E2EBFA;\n",
              "      box-shadow: 0px 1px 2px rgba(60, 64, 67, 0.3), 0px 1px 3px 1px rgba(60, 64, 67, 0.15);\n",
              "      fill: #174EA6;\n",
              "    }\n",
              "\n",
              "    [theme=dark] .colab-df-convert {\n",
              "      background-color: #3B4455;\n",
              "      fill: #D2E3FC;\n",
              "    }\n",
              "\n",
              "    [theme=dark] .colab-df-convert:hover {\n",
              "      background-color: #434B5C;\n",
              "      box-shadow: 0px 1px 3px 1px rgba(0, 0, 0, 0.15);\n",
              "      filter: drop-shadow(0px 1px 2px rgba(0, 0, 0, 0.3));\n",
              "      fill: #FFFFFF;\n",
              "    }\n",
              "  </style>\n",
              "\n",
              "      <script>\n",
              "        const buttonEl =\n",
              "          document.querySelector('#df-73d763d6-891a-47a5-be7a-f0e7f4149e3d button.colab-df-convert');\n",
              "        buttonEl.style.display =\n",
              "          google.colab.kernel.accessAllowed ? 'block' : 'none';\n",
              "\n",
              "        async function convertToInteractive(key) {\n",
              "          const element = document.querySelector('#df-73d763d6-891a-47a5-be7a-f0e7f4149e3d');\n",
              "          const dataTable =\n",
              "            await google.colab.kernel.invokeFunction('convertToInteractive',\n",
              "                                                     [key], {});\n",
              "          if (!dataTable) return;\n",
              "\n",
              "          const docLinkHtml = 'Like what you see? Visit the ' +\n",
              "            '<a target=\"_blank\" href=https://colab.research.google.com/notebooks/data_table.ipynb>data table notebook</a>'\n",
              "            + ' to learn more about interactive tables.';\n",
              "          element.innerHTML = '';\n",
              "          dataTable['output_type'] = 'display_data';\n",
              "          await google.colab.output.renderOutput(dataTable, element);\n",
              "          const docLink = document.createElement('div');\n",
              "          docLink.innerHTML = docLinkHtml;\n",
              "          element.appendChild(docLink);\n",
              "        }\n",
              "      </script>\n",
              "    </div>\n",
              "  </div>\n",
              "  "
            ]
          },
          "metadata": {},
          "execution_count": 135
        }
      ]
    },
    {
      "cell_type": "markdown",
      "source": [
        "> Dari hasil f1-score train grid search diketahui nilainya 0.77 dan f1-score test bernilai 0.52 yang manandakan model yang dibuat overfit."
      ],
      "metadata": {
        "id": "YlSfLElPIt0-"
      }
    },
    {
      "cell_type": "markdown",
      "source": [
        "### Model Training Random Search"
      ],
      "metadata": {
        "id": "PcItJ8GRXtQ9"
      }
    },
    {
      "cell_type": "code",
      "source": [
        "random_grid_nb = {'var_smoothing': np.logspace(0,-9, num=100)\n",
        "                  }\n",
        "random_grid_nb"
      ],
      "metadata": {
        "outputId": "a1145934-bb54-44ad-ee4c-121fe711c40d",
        "colab": {
          "base_uri": "https://localhost:8080/"
        },
        "id": "WaiIG9EOXtQ9"
      },
      "execution_count": 136,
      "outputs": [
        {
          "output_type": "execute_result",
          "data": {
            "text/plain": [
              "{'var_smoothing': array([1.00000000e+00, 8.11130831e-01, 6.57933225e-01, 5.33669923e-01,\n",
              "        4.32876128e-01, 3.51119173e-01, 2.84803587e-01, 2.31012970e-01,\n",
              "        1.87381742e-01, 1.51991108e-01, 1.23284674e-01, 1.00000000e-01,\n",
              "        8.11130831e-02, 6.57933225e-02, 5.33669923e-02, 4.32876128e-02,\n",
              "        3.51119173e-02, 2.84803587e-02, 2.31012970e-02, 1.87381742e-02,\n",
              "        1.51991108e-02, 1.23284674e-02, 1.00000000e-02, 8.11130831e-03,\n",
              "        6.57933225e-03, 5.33669923e-03, 4.32876128e-03, 3.51119173e-03,\n",
              "        2.84803587e-03, 2.31012970e-03, 1.87381742e-03, 1.51991108e-03,\n",
              "        1.23284674e-03, 1.00000000e-03, 8.11130831e-04, 6.57933225e-04,\n",
              "        5.33669923e-04, 4.32876128e-04, 3.51119173e-04, 2.84803587e-04,\n",
              "        2.31012970e-04, 1.87381742e-04, 1.51991108e-04, 1.23284674e-04,\n",
              "        1.00000000e-04, 8.11130831e-05, 6.57933225e-05, 5.33669923e-05,\n",
              "        4.32876128e-05, 3.51119173e-05, 2.84803587e-05, 2.31012970e-05,\n",
              "        1.87381742e-05, 1.51991108e-05, 1.23284674e-05, 1.00000000e-05,\n",
              "        8.11130831e-06, 6.57933225e-06, 5.33669923e-06, 4.32876128e-06,\n",
              "        3.51119173e-06, 2.84803587e-06, 2.31012970e-06, 1.87381742e-06,\n",
              "        1.51991108e-06, 1.23284674e-06, 1.00000000e-06, 8.11130831e-07,\n",
              "        6.57933225e-07, 5.33669923e-07, 4.32876128e-07, 3.51119173e-07,\n",
              "        2.84803587e-07, 2.31012970e-07, 1.87381742e-07, 1.51991108e-07,\n",
              "        1.23284674e-07, 1.00000000e-07, 8.11130831e-08, 6.57933225e-08,\n",
              "        5.33669923e-08, 4.32876128e-08, 3.51119173e-08, 2.84803587e-08,\n",
              "        2.31012970e-08, 1.87381742e-08, 1.51991108e-08, 1.23284674e-08,\n",
              "        1.00000000e-08, 8.11130831e-09, 6.57933225e-09, 5.33669923e-09,\n",
              "        4.32876128e-09, 3.51119173e-09, 2.84803587e-09, 2.31012970e-09,\n",
              "        1.87381742e-09, 1.51991108e-09, 1.23284674e-09, 1.00000000e-09])}"
            ]
          },
          "metadata": {},
          "execution_count": 136
        }
      ]
    },
    {
      "cell_type": "code",
      "source": [
        "# Train with Random Search\n",
        "%%time\n",
        "\n",
        "nb_randomcv = RandomizedSearchCV(estimator=nb,\n",
        "                         param_distributions=random_grid_nb,\n",
        "                         cv=3,\n",
        "                         n_jobs=-1,\n",
        "                         verbose=2, \n",
        "                         scoring='f1')\n",
        "nb_randomcv.fit(X_train_final, y_train_trim)"
      ],
      "metadata": {
        "outputId": "2bc06d23-f136-4ffa-c8e9-60f123edaa35",
        "colab": {
          "base_uri": "https://localhost:8080/",
          "height": 170
        },
        "id": "f0vhQoOEXtQ9"
      },
      "execution_count": 137,
      "outputs": [
        {
          "output_type": "stream",
          "name": "stdout",
          "text": [
            "Fitting 3 folds for each of 10 candidates, totalling 30 fits\n",
            "CPU times: user 234 ms, sys: 12.2 ms, total: 246 ms\n",
            "Wall time: 390 ms\n"
          ]
        },
        {
          "output_type": "execute_result",
          "data": {
            "text/plain": [
              "RandomizedSearchCV(cv=3, estimator=GaussianNB(), n_jobs=-1,\n",
              "                   param_distributions={'var_smoothing': array([1.00000000e+00, 8.11130831e-01, 6.57933225e-01, 5.33669923e-01,\n",
              "       4.32876128e-01, 3.51119173e-01, 2.84803587e-01, 2.31012970e-01,\n",
              "       1.87381742e-01, 1.51991108e-01, 1.23284674e-01, 1.00000000e-01,\n",
              "       8.11130831e-02, 6.57933225e-02, 5.33669923e-02, 4.32876128e-02,\n",
              "       3.5111917...\n",
              "       1.23284674e-07, 1.00000000e-07, 8.11130831e-08, 6.57933225e-08,\n",
              "       5.33669923e-08, 4.32876128e-08, 3.51119173e-08, 2.84803587e-08,\n",
              "       2.31012970e-08, 1.87381742e-08, 1.51991108e-08, 1.23284674e-08,\n",
              "       1.00000000e-08, 8.11130831e-09, 6.57933225e-09, 5.33669923e-09,\n",
              "       4.32876128e-09, 3.51119173e-09, 2.84803587e-09, 2.31012970e-09,\n",
              "       1.87381742e-09, 1.51991108e-09, 1.23284674e-09, 1.00000000e-09])},\n",
              "                   scoring='f1', verbose=2)"
            ],
            "text/html": [
              "<style>#sk-container-id-29 {color: black;background-color: white;}#sk-container-id-29 pre{padding: 0;}#sk-container-id-29 div.sk-toggleable {background-color: white;}#sk-container-id-29 label.sk-toggleable__label {cursor: pointer;display: block;width: 100%;margin-bottom: 0;padding: 0.3em;box-sizing: border-box;text-align: center;}#sk-container-id-29 label.sk-toggleable__label-arrow:before {content: \"▸\";float: left;margin-right: 0.25em;color: #696969;}#sk-container-id-29 label.sk-toggleable__label-arrow:hover:before {color: black;}#sk-container-id-29 div.sk-estimator:hover label.sk-toggleable__label-arrow:before {color: black;}#sk-container-id-29 div.sk-toggleable__content {max-height: 0;max-width: 0;overflow: hidden;text-align: left;background-color: #f0f8ff;}#sk-container-id-29 div.sk-toggleable__content pre {margin: 0.2em;color: black;border-radius: 0.25em;background-color: #f0f8ff;}#sk-container-id-29 input.sk-toggleable__control:checked~div.sk-toggleable__content {max-height: 200px;max-width: 100%;overflow: auto;}#sk-container-id-29 input.sk-toggleable__control:checked~label.sk-toggleable__label-arrow:before {content: \"▾\";}#sk-container-id-29 div.sk-estimator input.sk-toggleable__control:checked~label.sk-toggleable__label {background-color: #d4ebff;}#sk-container-id-29 div.sk-label input.sk-toggleable__control:checked~label.sk-toggleable__label {background-color: #d4ebff;}#sk-container-id-29 input.sk-hidden--visually {border: 0;clip: rect(1px 1px 1px 1px);clip: rect(1px, 1px, 1px, 1px);height: 1px;margin: -1px;overflow: hidden;padding: 0;position: absolute;width: 1px;}#sk-container-id-29 div.sk-estimator {font-family: monospace;background-color: #f0f8ff;border: 1px dotted black;border-radius: 0.25em;box-sizing: border-box;margin-bottom: 0.5em;}#sk-container-id-29 div.sk-estimator:hover {background-color: #d4ebff;}#sk-container-id-29 div.sk-parallel-item::after {content: \"\";width: 100%;border-bottom: 1px solid gray;flex-grow: 1;}#sk-container-id-29 div.sk-label:hover label.sk-toggleable__label {background-color: #d4ebff;}#sk-container-id-29 div.sk-serial::before {content: \"\";position: absolute;border-left: 1px solid gray;box-sizing: border-box;top: 0;bottom: 0;left: 50%;z-index: 0;}#sk-container-id-29 div.sk-serial {display: flex;flex-direction: column;align-items: center;background-color: white;padding-right: 0.2em;padding-left: 0.2em;position: relative;}#sk-container-id-29 div.sk-item {position: relative;z-index: 1;}#sk-container-id-29 div.sk-parallel {display: flex;align-items: stretch;justify-content: center;background-color: white;position: relative;}#sk-container-id-29 div.sk-item::before, #sk-container-id-29 div.sk-parallel-item::before {content: \"\";position: absolute;border-left: 1px solid gray;box-sizing: border-box;top: 0;bottom: 0;left: 50%;z-index: -1;}#sk-container-id-29 div.sk-parallel-item {display: flex;flex-direction: column;z-index: 1;position: relative;background-color: white;}#sk-container-id-29 div.sk-parallel-item:first-child::after {align-self: flex-end;width: 50%;}#sk-container-id-29 div.sk-parallel-item:last-child::after {align-self: flex-start;width: 50%;}#sk-container-id-29 div.sk-parallel-item:only-child::after {width: 0;}#sk-container-id-29 div.sk-dashed-wrapped {border: 1px dashed gray;margin: 0 0.4em 0.5em 0.4em;box-sizing: border-box;padding-bottom: 0.4em;background-color: white;}#sk-container-id-29 div.sk-label label {font-family: monospace;font-weight: bold;display: inline-block;line-height: 1.2em;}#sk-container-id-29 div.sk-label-container {text-align: center;}#sk-container-id-29 div.sk-container {/* jupyter's `normalize.less` sets `[hidden] { display: none; }` but bootstrap.min.css set `[hidden] { display: none !important; }` so we also need the `!important` here to be able to override the default hidden behavior on the sphinx rendered scikit-learn.org. See: https://github.com/scikit-learn/scikit-learn/issues/21755 */display: inline-block !important;position: relative;}#sk-container-id-29 div.sk-text-repr-fallback {display: none;}</style><div id=\"sk-container-id-29\" class=\"sk-top-container\"><div class=\"sk-text-repr-fallback\"><pre>RandomizedSearchCV(cv=3, estimator=GaussianNB(), n_jobs=-1,\n",
              "                   param_distributions={&#x27;var_smoothing&#x27;: array([1.00000000e+00, 8.11130831e-01, 6.57933225e-01, 5.33669923e-01,\n",
              "       4.32876128e-01, 3.51119173e-01, 2.84803587e-01, 2.31012970e-01,\n",
              "       1.87381742e-01, 1.51991108e-01, 1.23284674e-01, 1.00000000e-01,\n",
              "       8.11130831e-02, 6.57933225e-02, 5.33669923e-02, 4.32876128e-02,\n",
              "       3.5111917...\n",
              "       1.23284674e-07, 1.00000000e-07, 8.11130831e-08, 6.57933225e-08,\n",
              "       5.33669923e-08, 4.32876128e-08, 3.51119173e-08, 2.84803587e-08,\n",
              "       2.31012970e-08, 1.87381742e-08, 1.51991108e-08, 1.23284674e-08,\n",
              "       1.00000000e-08, 8.11130831e-09, 6.57933225e-09, 5.33669923e-09,\n",
              "       4.32876128e-09, 3.51119173e-09, 2.84803587e-09, 2.31012970e-09,\n",
              "       1.87381742e-09, 1.51991108e-09, 1.23284674e-09, 1.00000000e-09])},\n",
              "                   scoring=&#x27;f1&#x27;, verbose=2)</pre><b>In a Jupyter environment, please rerun this cell to show the HTML representation or trust the notebook. <br />On GitHub, the HTML representation is unable to render, please try loading this page with nbviewer.org.</b></div><div class=\"sk-container\" hidden><div class=\"sk-item sk-dashed-wrapped\"><div class=\"sk-label-container\"><div class=\"sk-label sk-toggleable\"><input class=\"sk-toggleable__control sk-hidden--visually\" id=\"sk-estimator-id-51\" type=\"checkbox\" ><label for=\"sk-estimator-id-51\" class=\"sk-toggleable__label sk-toggleable__label-arrow\">RandomizedSearchCV</label><div class=\"sk-toggleable__content\"><pre>RandomizedSearchCV(cv=3, estimator=GaussianNB(), n_jobs=-1,\n",
              "                   param_distributions={&#x27;var_smoothing&#x27;: array([1.00000000e+00, 8.11130831e-01, 6.57933225e-01, 5.33669923e-01,\n",
              "       4.32876128e-01, 3.51119173e-01, 2.84803587e-01, 2.31012970e-01,\n",
              "       1.87381742e-01, 1.51991108e-01, 1.23284674e-01, 1.00000000e-01,\n",
              "       8.11130831e-02, 6.57933225e-02, 5.33669923e-02, 4.32876128e-02,\n",
              "       3.5111917...\n",
              "       1.23284674e-07, 1.00000000e-07, 8.11130831e-08, 6.57933225e-08,\n",
              "       5.33669923e-08, 4.32876128e-08, 3.51119173e-08, 2.84803587e-08,\n",
              "       2.31012970e-08, 1.87381742e-08, 1.51991108e-08, 1.23284674e-08,\n",
              "       1.00000000e-08, 8.11130831e-09, 6.57933225e-09, 5.33669923e-09,\n",
              "       4.32876128e-09, 3.51119173e-09, 2.84803587e-09, 2.31012970e-09,\n",
              "       1.87381742e-09, 1.51991108e-09, 1.23284674e-09, 1.00000000e-09])},\n",
              "                   scoring=&#x27;f1&#x27;, verbose=2)</pre></div></div></div><div class=\"sk-parallel\"><div class=\"sk-parallel-item\"><div class=\"sk-item\"><div class=\"sk-label-container\"><div class=\"sk-label sk-toggleable\"><input class=\"sk-toggleable__control sk-hidden--visually\" id=\"sk-estimator-id-52\" type=\"checkbox\" ><label for=\"sk-estimator-id-52\" class=\"sk-toggleable__label sk-toggleable__label-arrow\">estimator: GaussianNB</label><div class=\"sk-toggleable__content\"><pre>GaussianNB()</pre></div></div></div><div class=\"sk-serial\"><div class=\"sk-item\"><div class=\"sk-estimator sk-toggleable\"><input class=\"sk-toggleable__control sk-hidden--visually\" id=\"sk-estimator-id-53\" type=\"checkbox\" ><label for=\"sk-estimator-id-53\" class=\"sk-toggleable__label sk-toggleable__label-arrow\">GaussianNB</label><div class=\"sk-toggleable__content\"><pre>GaussianNB()</pre></div></div></div></div></div></div></div></div></div></div>"
            ]
          },
          "metadata": {},
          "execution_count": 137
        }
      ]
    },
    {
      "cell_type": "code",
      "source": [
        "# Menampilkan Hyperparameters Terbaik Pada Logritic Regression\n",
        "nb_randomcv.best_estimator_"
      ],
      "metadata": {
        "outputId": "203ae893-8252-4b5e-f9a7-5f7ea206616a",
        "colab": {
          "base_uri": "https://localhost:8080/",
          "height": 75
        },
        "id": "GJtZbiYMXtQ9"
      },
      "execution_count": 138,
      "outputs": [
        {
          "output_type": "execute_result",
          "data": {
            "text/plain": [
              "GaussianNB(var_smoothing=0.02310129700083159)"
            ],
            "text/html": [
              "<style>#sk-container-id-30 {color: black;background-color: white;}#sk-container-id-30 pre{padding: 0;}#sk-container-id-30 div.sk-toggleable {background-color: white;}#sk-container-id-30 label.sk-toggleable__label {cursor: pointer;display: block;width: 100%;margin-bottom: 0;padding: 0.3em;box-sizing: border-box;text-align: center;}#sk-container-id-30 label.sk-toggleable__label-arrow:before {content: \"▸\";float: left;margin-right: 0.25em;color: #696969;}#sk-container-id-30 label.sk-toggleable__label-arrow:hover:before {color: black;}#sk-container-id-30 div.sk-estimator:hover label.sk-toggleable__label-arrow:before {color: black;}#sk-container-id-30 div.sk-toggleable__content {max-height: 0;max-width: 0;overflow: hidden;text-align: left;background-color: #f0f8ff;}#sk-container-id-30 div.sk-toggleable__content pre {margin: 0.2em;color: black;border-radius: 0.25em;background-color: #f0f8ff;}#sk-container-id-30 input.sk-toggleable__control:checked~div.sk-toggleable__content {max-height: 200px;max-width: 100%;overflow: auto;}#sk-container-id-30 input.sk-toggleable__control:checked~label.sk-toggleable__label-arrow:before {content: \"▾\";}#sk-container-id-30 div.sk-estimator input.sk-toggleable__control:checked~label.sk-toggleable__label {background-color: #d4ebff;}#sk-container-id-30 div.sk-label input.sk-toggleable__control:checked~label.sk-toggleable__label {background-color: #d4ebff;}#sk-container-id-30 input.sk-hidden--visually {border: 0;clip: rect(1px 1px 1px 1px);clip: rect(1px, 1px, 1px, 1px);height: 1px;margin: -1px;overflow: hidden;padding: 0;position: absolute;width: 1px;}#sk-container-id-30 div.sk-estimator {font-family: monospace;background-color: #f0f8ff;border: 1px dotted black;border-radius: 0.25em;box-sizing: border-box;margin-bottom: 0.5em;}#sk-container-id-30 div.sk-estimator:hover {background-color: #d4ebff;}#sk-container-id-30 div.sk-parallel-item::after {content: \"\";width: 100%;border-bottom: 1px solid gray;flex-grow: 1;}#sk-container-id-30 div.sk-label:hover label.sk-toggleable__label {background-color: #d4ebff;}#sk-container-id-30 div.sk-serial::before {content: \"\";position: absolute;border-left: 1px solid gray;box-sizing: border-box;top: 0;bottom: 0;left: 50%;z-index: 0;}#sk-container-id-30 div.sk-serial {display: flex;flex-direction: column;align-items: center;background-color: white;padding-right: 0.2em;padding-left: 0.2em;position: relative;}#sk-container-id-30 div.sk-item {position: relative;z-index: 1;}#sk-container-id-30 div.sk-parallel {display: flex;align-items: stretch;justify-content: center;background-color: white;position: relative;}#sk-container-id-30 div.sk-item::before, #sk-container-id-30 div.sk-parallel-item::before {content: \"\";position: absolute;border-left: 1px solid gray;box-sizing: border-box;top: 0;bottom: 0;left: 50%;z-index: -1;}#sk-container-id-30 div.sk-parallel-item {display: flex;flex-direction: column;z-index: 1;position: relative;background-color: white;}#sk-container-id-30 div.sk-parallel-item:first-child::after {align-self: flex-end;width: 50%;}#sk-container-id-30 div.sk-parallel-item:last-child::after {align-self: flex-start;width: 50%;}#sk-container-id-30 div.sk-parallel-item:only-child::after {width: 0;}#sk-container-id-30 div.sk-dashed-wrapped {border: 1px dashed gray;margin: 0 0.4em 0.5em 0.4em;box-sizing: border-box;padding-bottom: 0.4em;background-color: white;}#sk-container-id-30 div.sk-label label {font-family: monospace;font-weight: bold;display: inline-block;line-height: 1.2em;}#sk-container-id-30 div.sk-label-container {text-align: center;}#sk-container-id-30 div.sk-container {/* jupyter's `normalize.less` sets `[hidden] { display: none; }` but bootstrap.min.css set `[hidden] { display: none !important; }` so we also need the `!important` here to be able to override the default hidden behavior on the sphinx rendered scikit-learn.org. See: https://github.com/scikit-learn/scikit-learn/issues/21755 */display: inline-block !important;position: relative;}#sk-container-id-30 div.sk-text-repr-fallback {display: none;}</style><div id=\"sk-container-id-30\" class=\"sk-top-container\"><div class=\"sk-text-repr-fallback\"><pre>GaussianNB(var_smoothing=0.02310129700083159)</pre><b>In a Jupyter environment, please rerun this cell to show the HTML representation or trust the notebook. <br />On GitHub, the HTML representation is unable to render, please try loading this page with nbviewer.org.</b></div><div class=\"sk-container\" hidden><div class=\"sk-item\"><div class=\"sk-estimator sk-toggleable\"><input class=\"sk-toggleable__control sk-hidden--visually\" id=\"sk-estimator-id-54\" type=\"checkbox\" checked><label for=\"sk-estimator-id-54\" class=\"sk-toggleable__label sk-toggleable__label-arrow\">GaussianNB</label><div class=\"sk-toggleable__content\"><pre>GaussianNB(var_smoothing=0.02310129700083159)</pre></div></div></div></div></div>"
            ]
          },
          "metadata": {},
          "execution_count": 138
        }
      ]
    },
    {
      "cell_type": "code",
      "source": [
        "nb_randomcv.best_params_"
      ],
      "metadata": {
        "colab": {
          "base_uri": "https://localhost:8080/"
        },
        "outputId": "9536e59d-336d-4c4c-b758-49cf0f4f273d",
        "id": "KZW3rk3zXtQ9"
      },
      "execution_count": 139,
      "outputs": [
        {
          "output_type": "execute_result",
          "data": {
            "text/plain": [
              "{'var_smoothing': 0.02310129700083159}"
            ]
          },
          "metadata": {},
          "execution_count": 139
        }
      ]
    },
    {
      "cell_type": "code",
      "source": [
        "# Menyimpan Hyperparameter terbaik Untuk Uji Untuk Uji Data pada Variabel logreg_gridcv_best\n",
        "\n",
        "nb_randomcv_best = nb_randomcv.best_estimator_"
      ],
      "metadata": {
        "id": "leZzQbr2XtQ-"
      },
      "execution_count": 140,
      "outputs": []
    },
    {
      "cell_type": "markdown",
      "source": [
        "### Model Evaluation Random Search"
      ],
      "metadata": {
        "id": "2An5EQfBXtQ-"
      }
    },
    {
      "cell_type": "code",
      "source": [
        "# Cek Performa Model Menggunakan Hyperparameter Terbaik\n",
        "\n",
        "y_pred_test_nb_rand = nb_randomcv_best.predict(X_test_final)\n",
        "\n",
        "print('F1 Score - Test Set   : ', f1_score(y_test, y_pred_test_nb_rand), '\\n')\n",
        "print('Classification Report : \\n', classification_report(y_test, y_pred_test_nb_rand), '\\n')\n",
        "print('Confusion Matrix      : \\n', ConfusionMatrixDisplay.from_estimator(knn_randomcv_best, X_test_final, y_test, cmap='Reds'))"
      ],
      "metadata": {
        "outputId": "bae4c759-b2e3-4887-bcef-51a9cf570960",
        "colab": {
          "base_uri": "https://localhost:8080/",
          "height": 539
        },
        "id": "whRqoKxWXtQ-"
      },
      "execution_count": 141,
      "outputs": [
        {
          "output_type": "stream",
          "name": "stdout",
          "text": [
            "F1 Score - Test Set   :  0.5294117647058824 \n",
            "\n",
            "Classification Report : \n",
            "               precision    recall  f1-score   support\n",
            "\n",
            "           0       0.87      0.89      0.88       468\n",
            "           1       0.56      0.50      0.53       125\n",
            "\n",
            "    accuracy                           0.81       593\n",
            "   macro avg       0.71      0.70      0.71       593\n",
            "weighted avg       0.80      0.81      0.81       593\n",
            " \n",
            "\n",
            "Confusion Matrix      : \n",
            " <sklearn.metrics._plot.confusion_matrix.ConfusionMatrixDisplay object at 0x7f8a5f308460>\n"
          ]
        },
        {
          "output_type": "display_data",
          "data": {
            "text/plain": [
              "<Figure size 432x288 with 2 Axes>"
            ],
            "image/png": "[encoded data removed]"
          },
          "metadata": {
            "needs_background": "light"
          }
        }
      ]
    },
    {
      "cell_type": "code",
      "source": [
        "# Save Classification Report into a Dictionary\n",
        "\n",
        "score_reports = {\n",
        "    'train - precision' : precision_score(y_train_trim, y_pred_train_nb),\n",
        "    'train - recall' : recall_score(y_train_trim, y_pred_train_nb),\n",
        "    'train - accuracy' : accuracy_score(y_train_trim, y_pred_train_nb),\n",
        "    'train - f1_score' : f1_score(y_train_trim, y_pred_train_nb),\n",
        "    'test - precision' : precision_score(y_test, y_pred_test_nb_rand),\n",
        "    'test - recall' : recall_score(y_test, y_pred_test_nb_rand),\n",
        "    'test - accuracy_score' : accuracy_score(y_test, y_pred_test_nb_rand),\n",
        "    'test - f1_score' : f1_score(y_test, y_pred_test_nb_rand)\n",
        "}\n",
        "all_reports['Random Search'] = score_reports\n",
        "pd.DataFrame(all_reports)"
      ],
      "metadata": {
        "outputId": "fde74c8d-6126-4ccb-9c11-b30b1959e5ad",
        "colab": {
          "base_uri": "https://localhost:8080/",
          "height": 300
        },
        "id": "nh-qMyWFXtQ-"
      },
      "execution_count": 142,
      "outputs": [
        {
          "output_type": "execute_result",
          "data": {
            "text/plain": [
              "                       Baseline (Default Hyperparameter)  Grid Search  \\\n",
              "train - precision                               0.519016     0.519016   \n",
              "train - recall                                  0.535797     0.535797   \n",
              "train - accuracy                                0.770166     0.770166   \n",
              "train - f1_score                                0.527273     0.527273   \n",
              "test - precision                                0.533898     0.543103   \n",
              "test - recall                                   0.504000     0.504000   \n",
              "test - accuracy_score                           0.802698     0.806071   \n",
              "test - f1_score                                 0.518519     0.522822   \n",
              "\n",
              "                       Random Search  \n",
              "train - precision           0.519016  \n",
              "train - recall              0.535797  \n",
              "train - accuracy            0.770166  \n",
              "train - f1_score            0.527273  \n",
              "test - precision            0.557522  \n",
              "test - recall               0.504000  \n",
              "test - accuracy_score       0.811130  \n",
              "test - f1_score             0.529412  "
            ],
            "text/html": [
              "\n",
              "  <div id=\"df-ecd41bec-ad03-4296-a3ca-2bc15cd9bab1\">\n",
              "    <div class=\"colab-df-container\">\n",
              "      <div>\n",
              "<style scoped>\n",
              "    .dataframe tbody tr th:only-of-type {\n",
              "        vertical-align: middle;\n",
              "    }\n",
              "\n",
              "    .dataframe tbody tr th {\n",
              "        vertical-align: top;\n",
              "    }\n",
              "\n",
              "    .dataframe thead th {\n",
              "        text-align: right;\n",
              "    }\n",
              "</style>\n",
              "<table border=\"1\" class=\"dataframe\">\n",
              "  <thead>\n",
              "    <tr style=\"text-align: right;\">\n",
              "      <th></th>\n",
              "      <th>Baseline (Default Hyperparameter)</th>\n",
              "      <th>Grid Search</th>\n",
              "      <th>Random Search</th>\n",
              "    </tr>\n",
              "  </thead>\n",
              "  <tbody>\n",
              "    <tr>\n",
              "      <th>train - precision</th>\n",
              "      <td>0.519016</td>\n",
              "      <td>0.519016</td>\n",
              "      <td>0.519016</td>\n",
              "    </tr>\n",
              "    <tr>\n",
              "      <th>train - recall</th>\n",
              "      <td>0.535797</td>\n",
              "      <td>0.535797</td>\n",
              "      <td>0.535797</td>\n",
              "    </tr>\n",
              "    <tr>\n",
              "      <th>train - accuracy</th>\n",
              "      <td>0.770166</td>\n",
              "      <td>0.770166</td>\n",
              "      <td>0.770166</td>\n",
              "    </tr>\n",
              "    <tr>\n",
              "      <th>train - f1_score</th>\n",
              "      <td>0.527273</td>\n",
              "      <td>0.527273</td>\n",
              "      <td>0.527273</td>\n",
              "    </tr>\n",
              "    <tr>\n",
              "      <th>test - precision</th>\n",
              "      <td>0.533898</td>\n",
              "      <td>0.543103</td>\n",
              "      <td>0.557522</td>\n",
              "    </tr>\n",
              "    <tr>\n",
              "      <th>test - recall</th>\n",
              "      <td>0.504000</td>\n",
              "      <td>0.504000</td>\n",
              "      <td>0.504000</td>\n",
              "    </tr>\n",
              "    <tr>\n",
              "      <th>test - accuracy_score</th>\n",
              "      <td>0.802698</td>\n",
              "      <td>0.806071</td>\n",
              "      <td>0.811130</td>\n",
              "    </tr>\n",
              "    <tr>\n",
              "      <th>test - f1_score</th>\n",
              "      <td>0.518519</td>\n",
              "      <td>0.522822</td>\n",
              "      <td>0.529412</td>\n",
              "    </tr>\n",
              "  </tbody>\n",
              "</table>\n",
              "</div>\n",
              "      <button class=\"colab-df-convert\" onclick=\"convertToInteractive('df-ecd41bec-ad03-4296-a3ca-2bc15cd9bab1')\"\n",
              "              title=\"Convert this dataframe to an interactive table.\"\n",
              "              style=\"display:none;\">\n",
              "        \n",
              "  <svg xmlns=\"http://www.w3.org/2000/svg\" height=\"24px\"viewBox=\"0 0 24 24\"\n",
              "       width=\"24px\">\n",
              "    <path d=\"M0 0h24v24H0V0z\" fill=\"none\"/>\n",
              "    <path d=\"M18.56 5.44l.94 2.06.94-2.06 2.06-.94-2.06-.94-.94-2.06-.94 2.06-2.06.94zm-11 1L8.5 8.5l.94-2.06 2.06-.94-2.06-.94L8.5 2.5l-.94 2.06-2.06.94zm10 10l.94 2.06.94-2.06 2.06-.94-2.06-.94-.94-2.06-.94 2.06-2.06.94z\"/><path d=\"M17.41 7.96l-1.37-1.37c-.4-.4-.92-.59-1.43-.59-.52 0-1.04.2-1.43.59L10.3 9.45l-7.72 7.72c-.78.78-.78 2.05 0 2.83L4 21.41c.39.39.9.59 1.41.59.51 0 1.02-.2 1.41-.59l7.78-7.78 2.81-2.81c.8-.78.8-2.07 0-2.86zM5.41 20L4 18.59l7.72-7.72 1.47 1.35L5.41 20z\"/>\n",
              "  </svg>\n",
              "      </button>\n",
              "      \n",
              "  <style>\n",
              "    .colab-df-container {\n",
              "      display:flex;\n",
              "      flex-wrap:wrap;\n",
              "      gap: 12px;\n",
              "    }\n",
              "\n",
              "    .colab-df-convert {\n",
              "      background-color: #E8F0FE;\n",
              "      border: none;\n",
              "      border-radius: 50%;\n",
              "      cursor: pointer;\n",
              "      display: none;\n",
              "      fill: #1967D2;\n",
              "      height: 32px;\n",
              "      padding: 0 0 0 0;\n",
              "      width: 32px;\n",
              "    }\n",
              "\n",
              "    .colab-df-convert:hover {\n",
              "      background-color: #E2EBFA;\n",
              "      box-shadow: 0px 1px 2px rgba(60, 64, 67, 0.3), 0px 1px 3px 1px rgba(60, 64, 67, 0.15);\n",
              "      fill: #174EA6;\n",
              "    }\n",
              "\n",
              "    [theme=dark] .colab-df-convert {\n",
              "      background-color: #3B4455;\n",
              "      fill: #D2E3FC;\n",
              "    }\n",
              "\n",
              "    [theme=dark] .colab-df-convert:hover {\n",
              "      background-color: #434B5C;\n",
              "      box-shadow: 0px 1px 3px 1px rgba(0, 0, 0, 0.15);\n",
              "      filter: drop-shadow(0px 1px 2px rgba(0, 0, 0, 0.3));\n",
              "      fill: #FFFFFF;\n",
              "    }\n",
              "  </style>\n",
              "\n",
              "      <script>\n",
              "        const buttonEl =\n",
              "          document.querySelector('#df-ecd41bec-ad03-4296-a3ca-2bc15cd9bab1 button.colab-df-convert');\n",
              "        buttonEl.style.display =\n",
              "          google.colab.kernel.accessAllowed ? 'block' : 'none';\n",
              "\n",
              "        async function convertToInteractive(key) {\n",
              "          const element = document.querySelector('#df-ecd41bec-ad03-4296-a3ca-2bc15cd9bab1');\n",
              "          const dataTable =\n",
              "            await google.colab.kernel.invokeFunction('convertToInteractive',\n",
              "                                                     [key], {});\n",
              "          if (!dataTable) return;\n",
              "\n",
              "          const docLinkHtml = 'Like what you see? Visit the ' +\n",
              "            '<a target=\"_blank\" href=https://colab.research.google.com/notebooks/data_table.ipynb>data table notebook</a>'\n",
              "            + ' to learn more about interactive tables.';\n",
              "          element.innerHTML = '';\n",
              "          dataTable['output_type'] = 'display_data';\n",
              "          await google.colab.output.renderOutput(dataTable, element);\n",
              "          const docLink = document.createElement('div');\n",
              "          docLink.innerHTML = docLinkHtml;\n",
              "          element.appendChild(docLink);\n",
              "        }\n",
              "      </script>\n",
              "    </div>\n",
              "  </div>\n",
              "  "
            ]
          },
          "metadata": {},
          "execution_count": 142
        }
      ]
    },
    {
      "cell_type": "markdown",
      "source": [
        "> Dari hasil f1-score train menggunakan random search diketahui nilainya 0.53 dan f1-score test bernilai 0.53 yang menandakan model menggunakna hyperparameter tuning menggunakan random search goodfit.\n",
        "\n",
        "> Pada Naive bayes, hyperparameter dari random search akan digunakan pada pemodelan.\n",
        "\n",
        "> Hyperparameternya adalah `GaussianNB(var_smoothing=0.02310129700083159)`"
      ],
      "metadata": {
        "id": "wcSyaSgTJG7r"
      }
    },
    {
      "cell_type": "markdown",
      "source": [
        "# Model Saving"
      ],
      "metadata": {
        "id": "XUsZhOnWKFJh"
      }
    },
    {
      "cell_type": "markdown",
      "source": [
        "> Dari seluruh Algoritme yang diujikan dan melihat nilai standar deviasi hasil cross validation saya memilih KNN untuk dijadikan inference karena nilai standar deviasinya paling rendah.\n",
        "```\n",
        "F1 Score - All - Cross Validation  :  [0.38655462 0.4017094  0.3853211]`\n",
        "F1 Score - Mean - Cross Validation :  0.39119504149185746\n",
        "F1 Score - Std - Cross Validation  :  0.007451810588047317\n",
        "F1 Score - Range of Test-Set       :  0.38374323090381013 - 0.3986468520799048\n",
        "```\n",
        "> Nilai standar deviasi yang semakin kecil menandakan data lebih terkonsentrasi atau homogen dalam rentang nilai yang lebih kecil.\n",
        "\n",
        "> Nilai rataan juga berada dalam rentang yang tidak terlalu jauh dari range data yang ada."
      ],
      "metadata": {
        "id": "KKTxE3qUKNVs"
      }
    },
    {
      "cell_type": "code",
      "source": [
        "# Simpan model\n",
        "\n",
        "with open('knn.pkl', 'wb') as file_1:\n",
        "  joblib.dump(knn, file_1)\n",
        "\n",
        "with open('scaler.pkl', 'wb') as file_2:\n",
        "  joblib.dump(scaler, file_2)\n",
        "\n",
        "with open('num_column.txt', 'w') as file_3:\n",
        "  json.dump(num_columns, file_3)\n"
      ],
      "metadata": {
        "id": "3UkuUvDkPYsr"
      },
      "execution_count": 145,
      "outputs": []
    },
    {
      "cell_type": "markdown",
      "source": [
        "# Conceptual Problem"
      ],
      "metadata": {
        "id": "Urzk0FEVR0C7"
      }
    },
    {
      "cell_type": "markdown",
      "source": [
        "1. Apa yang dimaksud dengan criterion pada Decision Tree ? Jelaskan criterion yang kalian pakai dalam kasus ini !\n",
        "\n",
        "> Metode pada decision tree yang digunakan untuk a memilih variabel mana yang akan dipilih sebagai node pemisah untuk membagi himpunan data menjadi dua bagian. Disini saya menggunakan criterion gini, yang mana criterion gini digunkan untuk mengecek impurity agar data yang dipisah sesuai dengan labelnya atau data bisa homogen.\n",
        "\n",
        "2. Jelaskan apa yang dimaksud dengan pruning pada Tree-based model (alasan, definisi, jenis, dll) !\n",
        "\n",
        "> Pruning digunakan untuk mengurangi kompleksitas model agar tidak terjadi overfit pada model yang dibuat.\n",
        "\n",
        "> Pre-pruning: proses penghentian pembentukan tree sebelum mencapai kondisi overfitting dengan cara mengatur beberapa aturan pruning di awal proses.\n",
        "\n",
        "> Post-pruning: proses pengurangan kompleksitas pada tre.\n",
        "\n",
        "> Minimal cost complexity pruning: teknik pruning yang digunakan untuk mencari nilai alpha terbaik agar model decision tree memiliki error terendah. Alpha merupakan nilai trade-off antara jumlah cabang dalam tree dan error dalam model.\n",
        "\n",
        "3. Bagaimana cara memilih K yang optimal pada KNN ?\n",
        "\n",
        "> yang saya lakukan dengan mencoba imputasinilai k, namum beberapa literatur menunjukkan untuk menggunkan elbow method dan cross validation untuk menentukannilai K yang optimal.\n",
        "\n",
        "4. Jelaskan apa yang dimaksud dengan Cross Validation !\n",
        "\n",
        "> Cross validation bertujuan untuk memperkirakan performa model pada data yang belum pernah dilihat sebelumnya (data tets) dengan menggunakan data yang tersedia (data train) untuk melatih model.\n",
        "\n",
        "5. Apa yang dimaksud dengan metrics-metrics berikut : Accuracy, Precision, Recall, F1 Score, dan kapan waktu yang tepat untuk menggunakannya ?\n",
        "\n",
        "> Accuracy digunakan untuk mengukur seberapa banyak prediksi model yang benar dari total prediksi yang dilakukan. Accuracy cocok digunakan pada dataset yang memiliki keseimbangan antara kelas positif dan negatif.\n",
        "\n",
        "> Precision digunakan untuk mengukur seberapa banyak prediksi positif yang benar dari total prediksi positif yang dilakukan. Precision cocok digunakan pada kasus di mana kita ingin menghindari prediksi positif yang salah.\n",
        "\n",
        "> Recall digunakan untuk mengukur seberapa banyak prediksi positif yang benar dari total jumlah kasus positif yang sebenarnya. Recall digunakan pada kasus di mana kita ingin menghindari kasus positif yang terlewat.\n",
        "\n",
        ">F1 Score digunakan untuk menggabungkan nilai precision dan recall menjadi satu nilai. Nilai ini berguna ketika kita ingin mempertimbangkan keduanya secara bersamaan. F1 score digunakan untuk mengkombinasikan precision dan recall menjadi satu skor pada kasus data imbalance."
      ],
      "metadata": {
        "id": "KWvoRvJoRF0K"
      }
    },
    {
      "cell_type": "markdown",
      "source": [
        "# Kesimpulan"
      ],
      "metadata": {
        "id": "EYPxXclnZVJ2"
      }
    },
    {
      "cell_type": "markdown",
      "source": [
        "> Membantu menyelesaikan masalah yang ada yaitu mengklasifikasikan apakah nasabah dapt membayar cicilan kartu kredit bulan selanjutnya atau tidak.\n",
        "\n",
        "> Pengguna kartu kredit didominasi wanita dengan rentang usia 24 sampai 36 tahun dengan latar belakang pendidikan lulusan universitas.\n",
        "\n",
        "> Dari 6 algoritme yang dilakukan pengujian ternyata KNN dapat dikatakan memberi hasil terbaik dimana data train dan data test good fit dan pengujian menggunakan cross validation pada f1 menunjukkan bahwa standar deviasainya kecil yang berarti datanya homogen dan berada pada rentang data yang kecil.\n",
        "\n",
        "> KNN memiliki kelemahan dalam handling data yang banyak, sangat terpengaruh outliers dan kta harus menetukan nilai K, baik dengan elbow method maupun dengan cara lain seperti cross validation.\n"
      ],
      "metadata": {
        "id": "waex87BNZYLo"
      }
    }
  ]
}